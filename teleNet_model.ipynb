{
 "cells": [
  {
   "cell_type": "code",
   "execution_count": 1,
   "id": "2b493789-d1e7-4dd7-b10f-2e7bb1aa8891",
   "metadata": {},
   "outputs": [
    {
     "ename": "SyntaxError",
     "evalue": "(unicode error) 'unicodeescape' codec can't decode bytes in position 12-13: truncated \\UXXXXXXXX escape (3871931398.py, line 2)",
     "output_type": "error",
     "traceback": [
      "\u001b[1;36m  Cell \u001b[1;32mIn[1], line 2\u001b[1;36m\u001b[0m\n\u001b[1;33m    plans = pd.read_csv('‪C:\\Users\\HP\\megaline_plans.csv')\u001b[0m\n\u001b[1;37m                        ^\u001b[0m\n\u001b[1;31mSyntaxError\u001b[0m\u001b[1;31m:\u001b[0m (unicode error) 'unicodeescape' codec can't decode bytes in position 12-13: truncated \\UXXXXXXXX escape\n"
     ]
    }
   ],
   "source": [
    "# Load the data files into different DataFrames\n",
    "plans = pd.read_csv('‪C:\\Users\\HP\\megaline_plans.csv')\n",
    "users = pd.read_csv('/C:\\Users\\HP\\megaline_users.csv')\n",
    "calls = pd.read_csv('/C:\\Users\\HP\\megaline_calls.csv')\n",
    "messages = pd.read_csv('/C:\\Users\\HP\\megaline_messages.csv')\n",
    "internet = pd.read_csv('C:\\Users\\HP\\megaline_internet.csv')"
   ]
  },
  {
   "cell_type": "code",
   "execution_count": null,
   "id": "fcf6599e-6e8c-48b7-8ab5-c32e20acf004",
   "metadata": {},
   "outputs": [],
   "source": []
  }
 ],
 "metadata": {
  "kernelspec": {
   "display_name": "Python 3 (ipykernel)",
   "language": "python",
   "name": "python3"
  },
  "language_info": {
   "codemirror_mode": {
    "name": "ipython",
    "version": 3
   },
   "file_extension": ".py",
   "mimetype": "text/x-python",
   "name": "python",
   "nbconvert_exporter": "python",
   "pygments_lexer": "ipython3",
   "version": "3.12.1"
  }
 },
 "nbformat": 4,
 "nbformat_minor": 5
}
