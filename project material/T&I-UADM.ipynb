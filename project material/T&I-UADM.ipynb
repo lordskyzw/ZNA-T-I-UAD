{
 "cells": [
  {
   "cell_type": "code",
   "execution_count": 1,
   "id": "b770d4f0-0270-4d0a-a1ba-02200045f270",
   "metadata": {},
   "outputs": [
    {
     "data": {
      "text/plain": [
       "'C:\\\\Users\\\\HP'"
      ]
     },
     "execution_count": 1,
     "metadata": {},
     "output_type": "execute_result"
    }
   ],
   "source": [
    "pwd"
   ]
  },
  {
   "cell_type": "markdown",
   "id": "5a2f2f9e-84e6-4853-90a2-f7b53a314505",
   "metadata": {},
   "source": [
    "<div style=\"padding:20px;\r\n",
    "            color:black;\r\n",
    "            margin:10;\r\n",
    "            font-size:200%;\r\n",
    "            text-align:center;\r\n",
    "            display:fill;\r\n",
    "            border-radius:5px;\r\n",
    "            background-color:#C9E4DE;\r\n",
    "            overflow:hidden;\r\n",
    "            font-weight:700\">ZNA's Telephone-intenet Usage Anomaly Detection Model </div>"
   ]
  },
  {
   "cell_type": "markdown",
   "id": "466f9c3b-dcf8-453e-9692-a92b8179d421",
   "metadata": {},
   "source": [
    "![Bill_image.jpg](attachment:\"‪C:\\Users\\HP\\Bill.jpg\")"
   ]
  },
  {
   "cell_type": "markdown",
   "id": "3c93620f-966c-4fc1-97f6-16a8db449b3a",
   "metadata": {},
   "source": [
    "<div style=\"padding:20px;\n",
    "            color:black;\n",
    "            margin:10;\n",
    "            font-size:170%;\n",
    "            text-align:left;\n",
    "            display:fill;\n",
    "            border-radius:5px;\n",
    "            background-color:#C9E4DE;\n",
    "            overflow:hidden;\n",
    "            font-weight:700\"><span style=\"color:#276FBF\">|</span> Table of Contents</div>"
   ]
  },
  {
   "cell_type": "markdown",
   "id": "8eb542c3-f341-4bd9-8b31-435bdee2460f",
   "metadata": {},
   "source": [
    "- [1. Introduction](#1)          \n",
    "- [2. Setup](#2)\n",
    "  - [2.1 Importing Libraries](#2.1)\n",
    "  - [2.2 Importing Data](#2.2)\n",
    "  - [2.3 Dataset Information](#2.3)\n",
    "- [3. Dataset Cleaning](#3)\n",
    "  - [3.1 Dropping Customer ID Column](#3.1)\n",
    "  - [3.2 Converting 'TotalCharges' Data Type to Float](#3.2)\n",
    "  - [3.3 Checking for Missing Values](#3.3)\n",
    "  - [3.4 Handling Missing Values](#3.4)\n",
    "  - [3.5 Converting Categorical Features Into Binary Features](#3.5)\n",
    "- [4. Exploratory Data Analysis](#4)\n",
    "  - [4.1 Unique Values in Each Column](#4.1)\n",
    "  - [4.2 Target Variable (Churn)](#4.2)\n",
    "  - [4.3 Numerical Features](#4.3)\n",
    "    - [4.3.1 KDE for Tenure](#4.3.1)\n",
    "    - [4.3.2 KDE for Monthly Charges](#4.3.2)\n",
    "    - [4.3.3 KDE for Total Charges](#4.3.3)\n",
    "    - [4.3.4 Numerical Features Summary](#4.3.4)\n",
    "  - [4.4 Categorical Features](#4.4)\n",
    "    - [4.4.1 Customer Information](#4.4.1)\n",
    "    - [4.4.2 General Services](#4.4.2)\n",
    "    - [4.4.3 Support Services](#4.4.3)\n",
    "    - [4.4.4 Payments](#4.4.4)\n",
    "    - [4.4.5 Categorical Features Summary](#4.4.5)\n",
    "  - [4.5 Correlation Heatmap](#4.5)\n",
    "- [5. Feature Engineering](#5)\n",
    "  - [5.1 Define Features and Target Variable](#5.1)\n",
    "  - [5.2 Train Test Split](#5.2)\n",
    "  - [5.3 Feature Scaling](#5.3)\n",
    "- [6. Model Selection](#6)\n",
    "  - [6.1 Base Models](#6.1)\n",
    "    - [6.1.1 Base Model - Random Forest Classifier](#6.1.1)\n",
    "    - [6.1.2 Base Model - K Neighbors Classifier](#6.1.2)\n",
    "    - [6.1.3 Base Model - Decision Tree Classifier](#6.1.3)\n",
    "    - [6.1.4 Base Model - SVC](#6.1.4)\n",
    "    - [6.1.5 Base Model - Naive Bayes](#6.1.5)\n",
    "    - [6.1.6 Base Model - Gradient Boosting Classifier](#6.1.6)\n",
    "  - [6.2 Base Models Result Comparison](#6.2)\n",
    "  - [6.3 K-Fold](#6.3)\n",
    "  - [6.4 Hyperparameter Tuning Selected Models](#6.4)\n",
    "    - [6.4.1 Hyperparameter Tunning SVC](#6.4.1)\n",
    "    - [6.4.2 Hyperparameter Tunning Gradient Boosting Classifier](#6.4.2)\n",
    "- [7. Final Model](#7)\n",
    "  - [7.1 Instantiate Final Gradient Boosting Classifier Model](#7.1)\n",
    "- [8. Final Model Evaluation](#8)\n",
    "  - [8.1 Accuracy](#8.1)\n",
    "  - [8.2 Classification Report](#8.2)\n",
    "  - [8.3 Confusion Matrix](#8.3)\n",
    "  - [8.4 ROC Curve](#8.4)\n",
    "  - [8.5 Testing for Overfitting and Underfitting](#8.5)\n",
    "  - [8.6 Comparing to Dummy Classifier](#8.6)\n",
    "  - [8.7 Important Predictors](#8.7)\n",
    "- [9. Conclusions](#9)"
   ]
  },
  {
   "cell_type": "markdown",
   "id": "14e51c70-9a34-411a-a708-da8b02813d22",
   "metadata": {},
   "source": [
    "<p><a id = 1></a></p>\n",
    "<div style=\"padding:20px;\n",
    "            color:black;\n",
    "            margin:10;\n",
    "            font-size:170%;\n",
    "            text-align:left;\n",
    "            display:fill;\n",
    "            border-radius:5px;\n",
    "            background-color:#C9E4DE;\n",
    "            overflow:hidden;\n",
    "            font-weight:700\"><span style = 'color:black'>1</span> <span style=\"color:#276FBF\">|</span> Introduction</div>"
   ]
  },
  {
   "cell_type": "markdown",
   "id": "209091d1-53c4-4c39-a5b4-34a2f35b63cf",
   "metadata": {},
   "source": [
    "__What is Telephone-internet Excessive Abuse __\n",
    "\n",
    "Misuse is the term for the overuse of telephone and internet services beyond what is considered appropriate, as well as when individuals or clients violate established policies and guidelines about ethical usage.\n",
    "\n",
    "__Why is Telephone-internet usage important in the ZNA__\n",
    "\n",
    "1. It enables a more comprehensive understanding of user behavior and network activity\n",
    "2. Improves security and facilitates better risk management.\n",
    "\n",
    "__Prediction Task & Objective__\n",
    "\n",
    "1. Predict whether an individual clients  will abuse telephone-internet usage or not\n",
    "2. Find out the cause of telephone-internet usage"
   ]
  },
  {
   "cell_type": "markdown",
   "id": "552e0660-76a9-43f3-80f6-fe686fb77032",
   "metadata": {},
   "source": [
    "<p><a id = 2></a></p>\n",
    "<div style=\"padding:20px;\n",
    "            color:black;\n",
    "            margin:10;\n",
    "            font-size:170%;\n",
    "            text-align:left;\n",
    "            display:fill;\n",
    "            border-radius:5px;\n",
    "            background-color:#C9E4DE;\n",
    "            overflow:hidden;\n",
    "            font-weight:700\"><span style = 'color:black'>2</span> <span style=\"color:#276FBF\">|</span> Set Up</div>\n"
   ]
  },
  {
   "cell_type": "markdown",
   "id": "56e9852d-56ff-4ce5-8f39-78c2f1a0dbcb",
   "metadata": {},
   "source": [
    "<p><a id = 2.1></a></p>\n",
    "<h3><b>2.1 | <span style=\"color:#276FBF\">Importing Libraries</span></b></h3>"
   ]
  },
  {
   "cell_type": "code",
   "execution_count": 2,
   "id": "ea9dadd8-59a8-4044-9dc8-03c01ff0102f",
   "metadata": {},
   "outputs": [
    {
     "ename": "ImportError",
     "evalue": "cannot import name '_get_column_indices' from 'sklearn.utils' (C:\\Users\\HP\\Anaconda3\\envs\\myenv\\Lib\\site-packages\\sklearn\\utils\\__init__.py)",
     "output_type": "error",
     "traceback": [
      "\u001b[1;31m---------------------------------------------------------------------------\u001b[0m",
      "\u001b[1;31mImportError\u001b[0m                               Traceback (most recent call last)",
      "Cell \u001b[1;32mIn[2], line 19\u001b[0m\n\u001b[0;32m     16\u001b[0m \u001b[38;5;28;01mfrom\u001b[39;00m \u001b[38;5;21;01msklearn\u001b[39;00m\u001b[38;5;21;01m.\u001b[39;00m\u001b[38;5;21;01mensemble\u001b[39;00m \u001b[38;5;28;01mimport\u001b[39;00m GradientBoostingClassifier\n\u001b[0;32m     18\u001b[0m \u001b[38;5;66;03m#Pre-Processing Libraries\u001b[39;00m\n\u001b[1;32m---> 19\u001b[0m \u001b[38;5;28;01mfrom\u001b[39;00m \u001b[38;5;21;01mimblearn\u001b[39;00m\u001b[38;5;21;01m.\u001b[39;00m\u001b[38;5;21;01mcombine\u001b[39;00m \u001b[38;5;28;01mimport\u001b[39;00m SMOTEENN\n\u001b[0;32m     20\u001b[0m \u001b[38;5;28;01mfrom\u001b[39;00m \u001b[38;5;21;01msklearn\u001b[39;00m\u001b[38;5;21;01m.\u001b[39;00m\u001b[38;5;21;01mmodel_selection\u001b[39;00m \u001b[38;5;28;01mimport\u001b[39;00m train_test_split\n\u001b[0;32m     21\u001b[0m \u001b[38;5;28;01mfrom\u001b[39;00m \u001b[38;5;21;01msklearn\u001b[39;00m\u001b[38;5;21;01m.\u001b[39;00m\u001b[38;5;21;01mpreprocessing\u001b[39;00m \u001b[38;5;28;01mimport\u001b[39;00m StandardScaler\n",
      "File \u001b[1;32m~\\Anaconda3\\envs\\myenv\\Lib\\site-packages\\imblearn\\__init__.py:52\u001b[0m\n\u001b[0;32m     48\u001b[0m     sys\u001b[38;5;241m.\u001b[39mstderr\u001b[38;5;241m.\u001b[39mwrite(\u001b[38;5;124m\"\u001b[39m\u001b[38;5;124mPartial import of imblearn during the build process.\u001b[39m\u001b[38;5;130;01m\\n\u001b[39;00m\u001b[38;5;124m\"\u001b[39m)\n\u001b[0;32m     49\u001b[0m     \u001b[38;5;66;03m# We are not importing the rest of scikit-learn during the build\u001b[39;00m\n\u001b[0;32m     50\u001b[0m     \u001b[38;5;66;03m# process, as it may not be compiled yet\u001b[39;00m\n\u001b[0;32m     51\u001b[0m \u001b[38;5;28;01melse\u001b[39;00m:\n\u001b[1;32m---> 52\u001b[0m     \u001b[38;5;28;01mfrom\u001b[39;00m \u001b[38;5;21;01m.\u001b[39;00m \u001b[38;5;28;01mimport\u001b[39;00m (\n\u001b[0;32m     53\u001b[0m         combine,\n\u001b[0;32m     54\u001b[0m         ensemble,\n\u001b[0;32m     55\u001b[0m         exceptions,\n\u001b[0;32m     56\u001b[0m         metrics,\n\u001b[0;32m     57\u001b[0m         over_sampling,\n\u001b[0;32m     58\u001b[0m         pipeline,\n\u001b[0;32m     59\u001b[0m         tensorflow,\n\u001b[0;32m     60\u001b[0m         under_sampling,\n\u001b[0;32m     61\u001b[0m         utils,\n\u001b[0;32m     62\u001b[0m     )\n\u001b[0;32m     63\u001b[0m     \u001b[38;5;28;01mfrom\u001b[39;00m \u001b[38;5;21;01m.\u001b[39;00m\u001b[38;5;21;01m_version\u001b[39;00m \u001b[38;5;28;01mimport\u001b[39;00m __version__\n\u001b[0;32m     64\u001b[0m     \u001b[38;5;28;01mfrom\u001b[39;00m \u001b[38;5;21;01m.\u001b[39;00m\u001b[38;5;21;01mbase\u001b[39;00m \u001b[38;5;28;01mimport\u001b[39;00m FunctionSampler\n",
      "File \u001b[1;32m~\\Anaconda3\\envs\\myenv\\Lib\\site-packages\\imblearn\\combine\\__init__.py:5\u001b[0m\n\u001b[0;32m      1\u001b[0m \u001b[38;5;124;03m\"\"\"The :mod:`imblearn.combine` provides methods which combine\u001b[39;00m\n\u001b[0;32m      2\u001b[0m \u001b[38;5;124;03mover-sampling and under-sampling.\u001b[39;00m\n\u001b[0;32m      3\u001b[0m \u001b[38;5;124;03m\"\"\"\u001b[39;00m\n\u001b[1;32m----> 5\u001b[0m \u001b[38;5;28;01mfrom\u001b[39;00m \u001b[38;5;21;01m.\u001b[39;00m\u001b[38;5;21;01m_smote_enn\u001b[39;00m \u001b[38;5;28;01mimport\u001b[39;00m SMOTEENN\n\u001b[0;32m      6\u001b[0m \u001b[38;5;28;01mfrom\u001b[39;00m \u001b[38;5;21;01m.\u001b[39;00m\u001b[38;5;21;01m_smote_tomek\u001b[39;00m \u001b[38;5;28;01mimport\u001b[39;00m SMOTETomek\n\u001b[0;32m      8\u001b[0m __all__ \u001b[38;5;241m=\u001b[39m [\u001b[38;5;124m\"\u001b[39m\u001b[38;5;124mSMOTEENN\u001b[39m\u001b[38;5;124m\"\u001b[39m, \u001b[38;5;124m\"\u001b[39m\u001b[38;5;124mSMOTETomek\u001b[39m\u001b[38;5;124m\"\u001b[39m]\n",
      "File \u001b[1;32m~\\Anaconda3\\envs\\myenv\\Lib\\site-packages\\imblearn\\combine\\_smote_enn.py:13\u001b[0m\n\u001b[0;32m     10\u001b[0m \u001b[38;5;28;01mfrom\u001b[39;00m \u001b[38;5;21;01msklearn\u001b[39;00m\u001b[38;5;21;01m.\u001b[39;00m\u001b[38;5;21;01mutils\u001b[39;00m \u001b[38;5;28;01mimport\u001b[39;00m check_X_y\n\u001b[0;32m     12\u001b[0m \u001b[38;5;28;01mfrom\u001b[39;00m \u001b[38;5;21;01m.\u001b[39;00m\u001b[38;5;21;01m.\u001b[39;00m\u001b[38;5;21;01mbase\u001b[39;00m \u001b[38;5;28;01mimport\u001b[39;00m BaseSampler\n\u001b[1;32m---> 13\u001b[0m \u001b[38;5;28;01mfrom\u001b[39;00m \u001b[38;5;21;01m.\u001b[39;00m\u001b[38;5;21;01m.\u001b[39;00m\u001b[38;5;21;01mover_sampling\u001b[39;00m \u001b[38;5;28;01mimport\u001b[39;00m SMOTE\n\u001b[0;32m     14\u001b[0m \u001b[38;5;28;01mfrom\u001b[39;00m \u001b[38;5;21;01m.\u001b[39;00m\u001b[38;5;21;01m.\u001b[39;00m\u001b[38;5;21;01mover_sampling\u001b[39;00m\u001b[38;5;21;01m.\u001b[39;00m\u001b[38;5;21;01mbase\u001b[39;00m \u001b[38;5;28;01mimport\u001b[39;00m BaseOverSampler\n\u001b[0;32m     15\u001b[0m \u001b[38;5;28;01mfrom\u001b[39;00m \u001b[38;5;21;01m.\u001b[39;00m\u001b[38;5;21;01m.\u001b[39;00m\u001b[38;5;21;01munder_sampling\u001b[39;00m \u001b[38;5;28;01mimport\u001b[39;00m EditedNearestNeighbours\n",
      "File \u001b[1;32m~\\Anaconda3\\envs\\myenv\\Lib\\site-packages\\imblearn\\over_sampling\\__init__.py:8\u001b[0m\n\u001b[0;32m      6\u001b[0m \u001b[38;5;28;01mfrom\u001b[39;00m \u001b[38;5;21;01m.\u001b[39;00m\u001b[38;5;21;01m_adasyn\u001b[39;00m \u001b[38;5;28;01mimport\u001b[39;00m ADASYN\n\u001b[0;32m      7\u001b[0m \u001b[38;5;28;01mfrom\u001b[39;00m \u001b[38;5;21;01m.\u001b[39;00m\u001b[38;5;21;01m_random_over_sampler\u001b[39;00m \u001b[38;5;28;01mimport\u001b[39;00m RandomOverSampler\n\u001b[1;32m----> 8\u001b[0m \u001b[38;5;28;01mfrom\u001b[39;00m \u001b[38;5;21;01m.\u001b[39;00m\u001b[38;5;21;01m_smote\u001b[39;00m \u001b[38;5;28;01mimport\u001b[39;00m SMOTE, SMOTEN, SMOTENC, SVMSMOTE, BorderlineSMOTE, KMeansSMOTE\n\u001b[0;32m     10\u001b[0m __all__ \u001b[38;5;241m=\u001b[39m [\n\u001b[0;32m     11\u001b[0m     \u001b[38;5;124m\"\u001b[39m\u001b[38;5;124mADASYN\u001b[39m\u001b[38;5;124m\"\u001b[39m,\n\u001b[0;32m     12\u001b[0m     \u001b[38;5;124m\"\u001b[39m\u001b[38;5;124mRandomOverSampler\u001b[39m\u001b[38;5;124m\"\u001b[39m,\n\u001b[1;32m   (...)\u001b[0m\n\u001b[0;32m     18\u001b[0m     \u001b[38;5;124m\"\u001b[39m\u001b[38;5;124mSMOTEN\u001b[39m\u001b[38;5;124m\"\u001b[39m,\n\u001b[0;32m     19\u001b[0m ]\n",
      "File \u001b[1;32m~\\Anaconda3\\envs\\myenv\\Lib\\site-packages\\imblearn\\over_sampling\\_smote\\__init__.py:1\u001b[0m\n\u001b[1;32m----> 1\u001b[0m \u001b[38;5;28;01mfrom\u001b[39;00m \u001b[38;5;21;01m.\u001b[39;00m\u001b[38;5;21;01mbase\u001b[39;00m \u001b[38;5;28;01mimport\u001b[39;00m SMOTE, SMOTEN, SMOTENC\n\u001b[0;32m      2\u001b[0m \u001b[38;5;28;01mfrom\u001b[39;00m \u001b[38;5;21;01m.\u001b[39;00m\u001b[38;5;21;01mcluster\u001b[39;00m \u001b[38;5;28;01mimport\u001b[39;00m KMeansSMOTE\n\u001b[0;32m      3\u001b[0m \u001b[38;5;28;01mfrom\u001b[39;00m \u001b[38;5;21;01m.\u001b[39;00m\u001b[38;5;21;01mfilter\u001b[39;00m \u001b[38;5;28;01mimport\u001b[39;00m SVMSMOTE, BorderlineSMOTE\n",
      "File \u001b[1;32m~\\Anaconda3\\envs\\myenv\\Lib\\site-packages\\imblearn\\over_sampling\\_smote\\base.py:18\u001b[0m\n\u001b[0;32m     16\u001b[0m \u001b[38;5;28;01mfrom\u001b[39;00m \u001b[38;5;21;01msklearn\u001b[39;00m\u001b[38;5;21;01m.\u001b[39;00m\u001b[38;5;21;01mexceptions\u001b[39;00m \u001b[38;5;28;01mimport\u001b[39;00m DataConversionWarning\n\u001b[0;32m     17\u001b[0m \u001b[38;5;28;01mfrom\u001b[39;00m \u001b[38;5;21;01msklearn\u001b[39;00m\u001b[38;5;21;01m.\u001b[39;00m\u001b[38;5;21;01mpreprocessing\u001b[39;00m \u001b[38;5;28;01mimport\u001b[39;00m OneHotEncoder, OrdinalEncoder\n\u001b[1;32m---> 18\u001b[0m \u001b[38;5;28;01mfrom\u001b[39;00m \u001b[38;5;21;01msklearn\u001b[39;00m\u001b[38;5;21;01m.\u001b[39;00m\u001b[38;5;21;01mutils\u001b[39;00m \u001b[38;5;28;01mimport\u001b[39;00m (\n\u001b[0;32m     19\u001b[0m     _get_column_indices,\n\u001b[0;32m     20\u001b[0m     _safe_indexing,\n\u001b[0;32m     21\u001b[0m     check_array,\n\u001b[0;32m     22\u001b[0m     check_random_state,\n\u001b[0;32m     23\u001b[0m )\n\u001b[0;32m     24\u001b[0m \u001b[38;5;28;01mfrom\u001b[39;00m \u001b[38;5;21;01msklearn\u001b[39;00m\u001b[38;5;21;01m.\u001b[39;00m\u001b[38;5;21;01mutils\u001b[39;00m\u001b[38;5;21;01m.\u001b[39;00m\u001b[38;5;21;01msparsefuncs_fast\u001b[39;00m \u001b[38;5;28;01mimport\u001b[39;00m (\n\u001b[0;32m     25\u001b[0m     csr_mean_variance_axis0,\n\u001b[0;32m     26\u001b[0m )\n\u001b[0;32m     27\u001b[0m \u001b[38;5;28;01mfrom\u001b[39;00m \u001b[38;5;21;01msklearn\u001b[39;00m\u001b[38;5;21;01m.\u001b[39;00m\u001b[38;5;21;01mutils\u001b[39;00m\u001b[38;5;21;01m.\u001b[39;00m\u001b[38;5;21;01mvalidation\u001b[39;00m \u001b[38;5;28;01mimport\u001b[39;00m _num_features\n",
      "\u001b[1;31mImportError\u001b[0m: cannot import name '_get_column_indices' from 'sklearn.utils' (C:\\Users\\HP\\Anaconda3\\envs\\myenv\\Lib\\site-packages\\sklearn\\utils\\__init__.py)"
     ]
    }
   ],
   "source": [
    "#Basic Libraries\n",
    "import pandas as pd\n",
    "import numpy as np\n",
    "\n",
    "#Visualizations Libraries\n",
    "import matplotlib.pyplot as plt\n",
    "import seaborn as sns\n",
    "\n",
    "#Model Libraries\n",
    "from sklearn.svm import SVC\n",
    "from sklearn.linear_model import LogisticRegression\n",
    "from sklearn.neighbors import KNeighborsClassifier\n",
    "from sklearn.tree import DecisionTreeClassifier\n",
    "from sklearn.naive_bayes import GaussianNB\n",
    "from sklearn.ensemble import RandomForestClassifier\n",
    "from sklearn.ensemble import GradientBoostingClassifier\n",
    "\n",
    "#Pre-Processing Libraries\n",
    "from imblearn.combine import SMOTEENN\n",
    "from sklearn.model_selection import train_test_split\n",
    "from sklearn.preprocessing import StandardScaler\n",
    "from sklearn.preprocessing import MinMaxScaler\n",
    "from sklearn.impute import SimpleImputer\n",
    "\n",
    "#Evaluation Libraies\n",
    "from sklearn.model_selection import cross_val_score, cross_val_predict\n",
    "from sklearn.model_selection import KFold\n",
    "from sklearn.model_selection import GridSearchCV\n",
    "from sklearn.model_selection import RandomizedSearchCV\n",
    "from sklearn.metrics import confusion_matrix, ConfusionMatrixDisplay\n",
    "from sklearn.metrics import classification_report\n",
    "from sklearn.metrics import roc_curve, auc, roc_auc_score\n",
    "from sklearn.dummy import DummyClassifier\n",
    "from sklearn.inspection import permutation_importance\n",
    "\n",
    "#Warnings\n",
    "import warnings\n",
    "warnings.filterwarnings(\"ignore\", category=FutureWarning)"
   ]
  },
  {
   "cell_type": "markdown",
   "id": "884f502c-b391-4ea4-824e-34478993e41c",
   "metadata": {},
   "source": [
    "<p><a id = 2.2></a></p>\n",
    "<h3 tabindex=\"0\"><b>2.2 | <span style=\"color:#276FBF\">Importing Data</span></b></h3>"
   ]
  },
  {
   "cell_type": "code",
   "execution_count": null,
   "id": "fcc7e0c2-8a55-4625-aec5-602ee4d258c9",
   "metadata": {},
   "outputs": [],
   "source": [
    "#Importing the dataset\n",
    "usage = pd.read_csv('usage.csv')\n",
    "usage.head()"
   ]
  },
  {
   "cell_type": "code",
   "execution_count": null,
   "id": "07f5c52d-bff9-426f-9ea2-35dc43016cae",
   "metadata": {},
   "outputs": [],
   "source": [
    "usage.tail"
   ]
  },
  {
   "cell_type": "markdown",
   "id": "3c64d5a4-68cf-43e6-82e5-560934fb04e5",
   "metadata": {},
   "source": [
    "<p><a id = 2.3></a></p>\n",
    "<h3 tabindex=\"0\"><b>2.3 | <span style=\"color:#276FBF\">Dataset Information</span></b></h3>"
   ]
  },
  {
   "cell_type": "code",
   "execution_count": null,
   "id": "f42ed50d-c3d5-4242-abdf-d5bf10ab64d2",
   "metadata": {},
   "outputs": [],
   "source": [
    "usage.info()"
   ]
  },
  {
   "cell_type": "markdown",
   "id": "8b489720-b1eb-44b1-8acd-7df0f51305ab",
   "metadata": {},
   "source": [
    "This dataset contains 7043 Rows and 21 Columns\n",
    "\n",
    "1. __Customers usage pattens within the last month__ – the column is called Prediction\n",
    "2. __Services that each customer has signed up for__ – phone, multiple lines, internet, online security, online backup, device protection, tech support, and streaming TV and movies\n",
    "3. __Customer account information__ – how long they’ve been a customer, contract, payment method, paperless billing, monthly charges, and total charges\n",
    "Demographic info about customers – gender, age range, and if they have partners and dependents"
   ]
  },
  {
   "cell_type": "markdown",
   "id": "f85713dc-2751-4d6f-abb3-096f0288d8f0",
   "metadata": {},
   "source": [
    "<p><a id = 3></a></p>\n",
    "<div style=\"padding:20px;\n",
    "            color:black;\n",
    "            margin:10;\n",
    "            font-size:170%;\n",
    "            text-align:left;\n",
    "            display:fill;\n",
    "            border-radius:5px;\n",
    "            background-color:#C9E4DE;\n",
    "            overflow:hidden;\n",
    "            font-weight:700\"><span style = 'color:black'>3</span> <span style=\"color:#276FBF\">|</span> Dataset Cleaning</div>"
   ]
  },
  {
   "cell_type": "markdown",
   "id": "0964ce2d-76b1-423b-8fd3-dcca7ded761c",
   "metadata": {},
   "source": [
    "<p><a id = 3.1></a></p>\n",
    "<h3 tabindex=\"0\"><b>3.1 | <span style=\"color:#276FBF\">Dropping Customer ID Column</span></b></h3>"
   ]
  },
  {
   "cell_type": "code",
   "execution_count": null,
   "id": "ad7eef64-5a10-4930-8589-8753b3b0187b",
   "metadata": {},
   "outputs": [],
   "source": [
    "usage.drop('customerID', axis = 1, inplace = True)"
   ]
  },
  {
   "cell_type": "markdown",
   "id": "46f20185-304f-4ffe-846d-2fed93a6c2c3",
   "metadata": {},
   "source": [
    "<p><a id = 3.2></a></p>\n",
    "<h3 tabindex=\"0\"><b>3.2 | <span style=\"color:#276FBF\">Converting 'TotalCharges' Data Type to Float</span></b></h3>"
   ]
  },
  {
   "cell_type": "code",
   "execution_count": null,
   "id": "539bca84-5de8-43cb-8aa6-723b73c04369",
   "metadata": {},
   "outputs": [],
   "source": [
    "usage['TotalCharges'] = pd.to_numeric(usage['TotalCharges'], errors='coerce')"
   ]
  },
  {
   "cell_type": "markdown",
   "id": "e097b400-f3be-4022-881a-29fac3289c2d",
   "metadata": {},
   "source": [
    "<p><a id = 3.3></a></p>\n",
    "<h3 tabindex=\"0\"><b>3.3 | <span style=\"color:#276FBF\">Checking for Missing Values</span></b></h3>"
   ]
  },
  {
   "cell_type": "code",
   "execution_count": null,
   "id": "5cb75ee1-8cb8-49c7-9833-3f375a82ef81",
   "metadata": {},
   "outputs": [],
   "source": [
    "print(f'Number of NaN in each row:\\n\\n{usage.isna().sum()}')"
   ]
  },
  {
   "cell_type": "markdown",
   "id": "9148df34-4ec5-4c9d-8ee3-57d25f47485a",
   "metadata": {},
   "source": [
    "<p><a id = 3.5></a></p>\n",
    "<h3 tabindex=\"0\"><b>3.5 | <span style=\"color:#276FBF\">Converting Categorical Features Into Binary Features</span></b></h3>"
   ]
  },
  {
   "cell_type": "code",
   "execution_count": null,
   "id": "eeb2bf6b-527a-4740-91fe-de4317222cca",
   "metadata": {},
   "outputs": [],
   "source": [
    "#Convert categorial features to binary matrix (dummy variable)\n",
    "usage_dummies = pd.get_dummies(usage, drop_first = True)\n",
    "\n",
    "# Rename Churn_yes to Churn\n",
    "usage_dummies.rename(columns = {'Churn_Yes': 'Churn'}, inplace = True)"
   ]
  },
  {
   "cell_type": "markdown",
   "id": "419426da-f6d5-489b-ac58-e15038cb5736",
   "metadata": {},
   "source": [
    "<p><a id = 4></a></p>\n",
    "<div style=\"padding:20px;\n",
    "            color:black;\n",
    "            margin:10;\n",
    "            font-size:170%;\n",
    "            text-align:left;\n",
    "            display:fill;\n",
    "            border-radius:5px;\n",
    "            background-color:#C9E4DE;\n",
    "            overflow:hidden;\n",
    "            font-weight:700\"><span style = 'color:black'>4</span> <span style=\"color:#276FBF\">|</span> Exploratory Data Analysis</div>"
   ]
  },
  {
   "cell_type": "markdown",
   "id": "47d15ba8-f641-4cdb-9d01-4a4c2f42dbdd",
   "metadata": {},
   "source": [
    "0px;\n",
    "            color:black;\n",
    "            margin:10;\n",
    "            font-size:170%;\n",
    "            text-align:left;\n",
    "            display:fill;\n",
    "            border-radius:5px;\n",
    "            background-color:#C9E4DE;\n",
    "            overflow:hidden;\n",
    "            font-weight:700\"><span style = 'color:black'>4</span> <span style=\"color:#276FBF\">|</span> Exploratory"
   ]
  },
  {
   "cell_type": "markdown",
   "id": "1be36df3-53ac-40bd-a9fc-c7b31ad2edc0",
   "metadata": {},
   "source": [
    "<p><a id = 4.2></a></p>\n",
    "<h3 tabindex=\"0\"><b>4.2 | <span style=\"color:#276FBF\">Target Variable (Churn)</span></b></h3>"
   ]
  },
  {
   "cell_type": "code",
   "execution_count": null,
   "id": "5a530b73-ecfd-41df-9231-fe22c28c5fd7",
   "metadata": {},
   "outputs": [],
   "source": [
    "for usage_churn.columns:\n",
    "    if usage_churn[col].dtype != 'int64' and usage_churn[col].dtype != 'float64':\n",
    "        print(f'{col}: {usage_churn[col].unique()}')"
   ]
  },
  {
   "cell_type": "code",
   "execution_count": null,
   "id": "4b5a5abe-6202-4cda-97c9-037a9ee9f193",
   "metadata": {},
   "outputs": [],
   "source": []
  }
 ],
 "metadata": {
  "kernelspec": {
   "display_name": "Python 3 (ipykernel)",
   "language": "python",
   "name": "python3"
  },
  "language_info": {
   "codemirror_mode": {
    "name": "ipython",
    "version": 3
   },
   "file_extension": ".py",
   "mimetype": "text/x-python",
   "name": "python",
   "nbconvert_exporter": "python",
   "pygments_lexer": "ipython3",
   "version": "3.12.1"
  }
 },
 "nbformat": 4,
 "nbformat_minor": 5
}
