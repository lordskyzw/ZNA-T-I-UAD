{
 "cells": [
  {
   "cell_type": "markdown",
   "metadata": {},
   "source": [
    "<div style=\"text-align: center; margin: 40px 20px;\">\n",
    "    <div style=\"margin: 20px 0; border-top: 1px solid #B0E0E6; border-bottom:1px solid #B0E0E6; background-color:  #F0EDEE;\">\n",
    " <font style=\"color: #058EE1; font-size:40px; font-weight: 700; text-align:center; text-transform: uppercase; letter-spacing: 1px; line-height:1.2;\"> 📈 Statistical Data Analysis</font>\n",
    "    </div>\n",
    " <font style=\"font-size:26px; font-weight: 700; text-align:center;\"> ZNA📱 - Which one is a better plan?</font>\n",
    "</div>"
   ]
  },
  {
   "cell_type": "markdown",
   "metadata": {},
   "source": [
    "# Contents ⬇️ <a id='contents'></a>\n",
    "\n",
    "[1. Contents ⬇️](#contents)   \n",
    "[2. Introduction 📓](#introduction)  \n",
    "[3. Project Goal 🎯](#project_goal)  \n",
    "[4. Data Analysis 📊](#data-analysis)    \n",
    "- [4.1 Initialization](#initialization)  \n",
    "- [4.2 Load data](#load-data)  \n",
    "- [4.3 Prepare the data](#prepare-the-data)    \n",
    "- [4.4 Study plan conditions](#study-plan-conditions)  \n",
    "- [4.5 Aggregate data per user](#aggregate-data-per-user)  \n",
    "- [4.6 Study user behaviour](#study-user-behaviour)  \n",
    "- [4.7 Study Revenue](#study-Revenue)  \n",
    "- [4.8 Test statistical hypotheses](#test-statistical-hypotheses)  \n",
    "- [4.9 General conclusion](#general-conclusion)  "
   ]
  },
  {
   "cell_type": "markdown",
   "metadata": {},
   "source": [
    "<div style=\"border-bottom:2px solid #058EE1;\"></div>"
   ]
  },
  {
   "cell_type": "markdown",
   "metadata": {},
   "source": [
    "# Introduction 📓 <a id='introduction'></a> \n",
    "[Back to Contents](#contents)"
   ]
  },
  {
   "cell_type": "markdown",
   "metadata": {},
   "source": [
    "**Megaline** is a telecom operator and it offers its clients two prepaid plans, **Surf** and **Ultimate**.  \n",
    "\n",
    "**Surf**\n",
    "- Monthly charge: &dollar;20\n",
    "- 500 monthly minutes, 50 texts, and 15 GB of data\n",
    "- After exceeding the package limits:\n",
    "    - 1 minute: 3 cents\n",
    "    - 1 text message: 3 cents\n",
    "    - 1 GB of data: &dollar;10  \n",
    "\n",
    "**Ultimate**\n",
    "- Monthly charge: &dollar;70\n",
    "- 3000 monthly minutes, 1000 text messages, and 30 GB of data\n",
    "- After exceeding the package limits:\n",
    "    - 1 minute: 1 cent\n",
    "    - 1 text message: 1 cent\n",
    "    - 1 GB of data: &dollar;7  \n",
    "    \n",
    "The commercial department wants to know which of the plans brings in more revenue in order to adjust the advertising budget. We have the data on 500 Megaline clients: who the clients are, where they're from, which plan they use, and the number of calls they made and text messages they sent in 2018.  "
   ]
  },
  {
   "cell_type": "markdown",
   "metadata": {},
   "source": [
    "<div style=\"border-bottom:2px solid #058EE1;\"></div>"
   ]
  },
  {
   "cell_type": "markdown",
   "metadata": {},
   "source": [
    "# Project Goal 🎯 <a id='project_goal'></a>  \n",
    "[Back to Contents](#contents)\n",
    "\n",
    "We have the information related to 500 customers of **Megaline** which includes their identity, web sessions, plan type and the number of calls and text messages they made during the year 2018. We have 5 distinct files of data available:  \n",
    "\n",
    "`megaline_calls.csv` - contains details about calls made by the customers.  \n",
    "`megaline_internet.csv` - provides information on web sessions.  \n",
    "`megaline_messages.csv` - contains data about text messages sent by the customers.  \n",
    "`megaline_plans.csv` - includes details about the plans used by the customers.  \n",
    "`megaline_users.csv` - contains information on the customers themselves.  \n",
    "\n",
    "The ask is to analyze clients' behavior and **determine which prepaid plan brings in more revenue**."
   ]
  },
  {
   "cell_type": "markdown",
   "metadata": {},
   "source": [
    "<div style=\"border-bottom:2px solid #058EE1;\"></div>"
   ]
  },
  {
   "cell_type": "markdown",
   "metadata": {},
   "source": [
    "# Data Analysis 📊 <a id='data-analysis'></a>  \n",
    "[Back to Contents](#contents)"
   ]
  },
  {
   "cell_type": "markdown",
   "metadata": {},
   "source": [
    "## Initialization <a id='initialization'></a>  \n",
    "[Back to Contents](#contents)"
   ]
  },
  {
   "cell_type": "markdown",
   "metadata": {},
   "source": [
    "To begin with, we need a few libraries for our statistical analysis - `scipy`, `matplotlib`, `pandas`, `math` and `numpy`. We'll import all of them so that we can use the functions or methodds provided by them in our analysis:  \n",
    "1. **NumPy**: It is a numerical computing library that provides support for arrays and matrices and mathematical operations that can be performed on them.  \n",
    "\n",
    "2. **Pandas**: It is a data manipulation library that provides functions to read, write and manipulate data in various formats.  \n",
    "\n",
    "3. **SciPy**: It is a library that provides scientific computing functions such as statistical analysis, integration, optimization, and signal processing.  \n",
    "\n",
    "4. **Matplotlib**: It is a plotting library that is used to visualize data in various formats.  \n",
    "\n",
    "5. **Math**: It is a library that provides mathematical functions such as trigonometric functions, logarithmic functions, etc.\n",
    "\n",
    "6. **Seaborn**: It is a Python data visualization library based on matplotlib. It provides a high-level interface for drawing attractive and informative statistical graphics."
   ]
  },
  {
   "cell_type": "code",
   "execution_count": 1,
   "metadata": {},
   "outputs": [],
   "source": [
    "# Loading all the libraries\n",
    "import math as mt\n",
    "import pandas as pd\n",
    "import numpy as np\n",
    "from matplotlib import pyplot as plt\n",
    "from scipy import stats as st\n",
    "import seaborn as sns"
   ]
  },
  {
   "cell_type": "markdown",
   "metadata": {},
   "source": [
    "<div style=\"border-bottom:2px solid #058EE1;\"></div>"
   ]
  },
  {
   "cell_type": "code",
   "execution_count": 2,
   "metadata": {},
   "outputs": [
    {
     "ename": "SyntaxError",
     "evalue": "invalid syntax. Perhaps you forgot a comma? (3297685715.py, line 2)",
     "output_type": "error",
     "traceback": [
      "\u001b[1;36m  Cell \u001b[1;32mIn[2], line 2\u001b[1;36m\u001b[0m\n\u001b[1;33m    [Back to Contents](#contents)\u001b[0m\n\u001b[1;37m     ^\u001b[0m\n\u001b[1;31mSyntaxError\u001b[0m\u001b[1;31m:\u001b[0m invalid syntax. Perhaps you forgot a comma?\n"
     ]
    }
   ],
   "source": [
    "## Load data <a id='load-data'></a>  \n",
    "[Back to Contents](#contents)"
   ]
  },
  {
   "cell_type": "code",
   "execution_count": null,
   "metadata": {},
   "outputs": [],
   "source": [
    "# We have been given 5 distinct files of data in the 'C:\\\\Users\\\\HP' directory in CSV format with a comma as the field separator:  \n",
    "`megaline_calls.csv` - contains details about calls made by the customers.  \n",
    "`megaline_internet.csv` - provides information on web sessions.  \n",
    "`megaline_messages.csv` - contains data about text messages sent by the customers.  \n",
    "`megaline_plans.csv` - includes details about the plans used by the customers.  \n",
    "`megaline_users.csv` - contains information on the customers themselves.  \n",
    "We need to read the data files and load the data into DataFrames using `read_csv()` method provided by `pandas`."
   ]
  },
  {
   "cell_type": "code",
   "execution_count": null,
   "metadata": {},
   "outputs": [],
   "source": [
    "# Load the data files into different DataFrames\n",
    "plans = pd.read_csv(r'C:\\Users\\HP\\megaline_plans.csv')\n",
    "users = pd.read_csv(r'C:\\Users\\HP\\megaline_users.csv')\n",
    "calls = pd.read_csv(r'C:\\Users\\HP\\megaline_calls.csv')\n",
    "plans = pd.read_csv(r'C:\\Users\\HP\\megaline_messages.csv')\n",
    "users = pd.read_csv(r'C:\\Users\\HP\\megaline_internet.csv')"
   ]
  },
  {
   "cell_type": "markdown",
   "metadata": {},
   "source": [
    "<div style=\"border-bottom:2px solid #058EE1;\"></div>"
   ]
  },
  {
   "cell_type": "markdown",
   "metadata": {},
   "source": [
    "## Prepare the data <a id='prepare-the-data'></a>  \n",
    "[Back to Contents](#contents)"
   ]
  },
  {
   "cell_type": "markdown",
   "metadata": {},
   "source": [
    "The data for this project is split into several tables. We'll explore each one to get an initial understanding of the data and do necessary corrections to each table if necessary."
   ]
  },
  {
   "cell_type": "markdown",
   "metadata": {},
   "source": [
    "<div style=\"border-bottom:2px solid #058EE1;\"></div>"
   ]
  },
  {
   "cell_type": "markdown",
   "metadata": {},
   "source": [
    "### Plans"
   ]
  },
  {
   "cell_type": "markdown",
   "metadata": {},
   "source": [
    "`plans` Dataframe includes details about the plans used by the customers.  \n",
    "\n",
    "Get the general information of the data in the DataFrame - `plans`:"
   ]
  },
  {
   "cell_type": "code",
   "execution_count": null,
   "metadata": {},
   "outputs": [],
   "source": [
    "# Print the general/summary information about the plans' DataFrame\n",
    "plans.info()"
   ]
  },
  {
   "cell_type": "markdown",
   "metadata": {},
   "source": [
    "The Dataframe - `plans` has a total of **2 rows and 8 columns**.\n",
    "\n",
    "The **columns description** are as follows:\n",
    "- `plan_name` — calling plan name\n",
    "- `minutes_included` — monthly minute allowance\n",
    "- `messages_included` — monthly text allowance\n",
    "- `mb_per_month_included` — data volume allowance (in megabytes)\n",
    "- `usd_per_minute` — price per minute after exceeding the package limits (e.g., if the package includes 100 minutes, the 101st minute will be charged)\n",
    "- `usd_per_message` — price per text after exceeding the package limits\n",
    "- `usd_per_gb` — price per extra gigabyte of data after exceeding the package limits (1 GB = 1024 megabytes)  \n",
    "\n",
    "In the Data Description, it is given that there is a column - `usd_monthly_fee` that holds monthly charge in US dollars, but in the information above, we don't have a column with the exact name. Instead, we have `usd_monthly_pay`. It seems there is a slight mismatch in name. We can rename the column - `usd_monthly_pay` to `usd_monthly_fee` in order to be consistent with the data description provided.  "
   ]
  },
  {
   "cell_type": "code",
   "execution_count": null,
   "metadata": {},
   "outputs": [],
   "source": [
    "# Rename existing column to new name keeping it in sync with data description\n",
    "plans = plans.rename(columns={'usd_monthly_pay': 'usd_monthly_fee'})"
   ]
  },
  {
   "cell_type": "markdown",
   "metadata": {},
   "source": [
    "Let's check the column names again using the `columns` attribute."
   ]
  },
  {
   "cell_type": "code",
   "execution_count": null,
   "metadata": {},
   "outputs": [],
   "source": [
    "# Get the list of columns names\n",
    "plans.columns"
   ]
  },
  {
   "cell_type": "markdown",
   "metadata": {},
   "source": [
    "It is also evident from the information we got from `info()` above that **we have no null values in the Dataframe - `plans`**."
   ]
  },
  {
   "cell_type": "markdown",
   "metadata": {},
   "source": [
    "Since, the Dataframe has only 2 rows, let's print all the rows from the Dataframe:"
   ]
  },
  {
   "cell_type": "code",
   "execution_count": null,
   "metadata": {},
   "outputs": [],
   "source": [
    "# Print data for plans\n",
    "plans"
   ]
  },
  {
   "cell_type": "markdown",
   "metadata": {},
   "source": [
    " "
   ]
  },
  {
   "cell_type": "markdown",
   "metadata": {},
   "source": [
    "<div style=\"border-bottom:2px solid #058EE1;\"></div>"
   ]
  },
  {
   "cell_type": "markdown",
   "metadata": {},
   "source": [
    "#### Enrich data"
   ]
  },
  {
   "cell_type": "markdown",
   "metadata": {},
   "source": [
    "Since Megaline rounds megabytes to gigabytes but we have data volume allowance in megabytes, we can derive a new column - `gb_per_month_included` using `mb_per_month_included`:"
   ]
  },
  {
   "cell_type": "code",
   "execution_count": null,
   "metadata": {},
   "outputs": [],
   "source": [
    "# Calculate data volume allowance from mbs to gbs - 1 GB = 1024 megabytes\n",
    "plans['gb_per_month_included'] = plans['mb_per_month_included'] / 1024"
   ]
  },
  {
   "cell_type": "markdown",
   "metadata": {},
   "source": [
    "Let's check the general information of the `plans` Dataframe again:"
   ]
  },
  {
   "cell_type": "code",
   "execution_count": null,
   "metadata": {
    "scrolled": true
   },
   "outputs": [],
   "source": [
    "plans.info()"
   ]
  },
  {
   "cell_type": "markdown",
   "metadata": {},
   "source": [
    "Let's see the data again:"
   ]
  },
  {
   "cell_type": "code",
   "execution_count": null,
   "metadata": {},
   "outputs": [],
   "source": [
    "plans"
   ]
  },
  {
   "cell_type": "markdown",
   "metadata": {},
   "source": [
    "<div style=\"border-bottom:2px solid #058EE1;\"></div>"
   ]
  },
  {
   "cell_type": "markdown",
   "metadata": {},
   "source": [
    "### Users"
   ]
  },
  {
   "cell_type": "markdown",
   "metadata": {},
   "source": [
    "`users` Dataframe contains information on the customers themselves.  \n",
    "\n",
    "Get the general information of the data in the DataFrame - `users`:"
   ]
  },
  {
   "cell_type": "code",
   "execution_count": null,
   "metadata": {
    "scrolled": true
   },
   "outputs": [],
   "source": [
    "# Print the general/summary information about the users' DataFrame\n",
    "users.info()"
   ]
  },
  {
   "cell_type": "markdown",
   "metadata": {},
   "source": [
    "The Dataframe - `users` has a total of **500 rows and 8 columns**.\n",
    "\n",
    "The **columns description** are as follows:  \n",
    "- `user_id` — unique user identifier\n",
    "- `first_name` — user's name\n",
    "- `last_name` — user's last name\n",
    "- `age` — user's age (years)\n",
    "- `reg_date` — subscription date (dd, mm, yy)\n",
    "- `churn_date` — the date the user stopped using the service (if the value is missing, the calling plan was being used when this database was extracted)\n",
    "- `city` — user's city of residence\n",
    "- `plan` — calling plan name"
   ]
  },
  {
   "cell_type": "markdown",
   "metadata": {},
   "source": [
    "It is evident from the information we got from `info()` above that **we have no null values in the Dataframe - `users` expect in `churn_date` column**. But, as per the description,if the value in `churn_data` column is missing, the calling plan was being used when this database was extracted."
   ]
  },
  {
   "cell_type": "markdown",
   "metadata": {},
   "source": [
    "Let's get a sample of 10 rows from the Dataframe:"
   ]
  },
  {
   "cell_type": "code",
   "execution_count": null,
   "metadata": {
    "scrolled": true
   },
   "outputs": [],
   "source": [
    "# Print a sample of data for users\n",
    "users.sample(n=10, random_state=100)"
   ]
  },
  {
   "cell_type": "markdown",
   "metadata": {},
   "source": [
    "We can see from the output of `info()`  and `sample()` that **`reg_date` and `churn_date` columns are DateTime columns** of the format - `YYYY-MM-DD` but it's been stored as a String type in the DataFrame. It would be great to convert them both to the appropriate data types. We'll fix them in a while."
   ]
  },
  {
   "cell_type": "markdown",
   "metadata": {},
   "source": [
    "We can use the `duplicated()` method together with `sum()` to **check if we have any duplicate rows in the DataFrame - `users`**. `duplicated()` method returns a boolean Series (True/False) denoting duplicate rows. So, we could apply `sum()` over that series to get a summation of all the True(s) - and False(s)."
   ]
  },
  {
   "cell_type": "code",
   "execution_count": null,
   "metadata": {},
   "outputs": [],
   "source": [
    "# Checking for duplicated user records\n",
    "users.duplicated().sum()"
   ]
  },
  {
   "cell_type": "markdown",
   "metadata": {},
   "source": [
    "**We don't have any duplicate rows in the `users` Dataframe**.  \n",
    "\n",
    "Let's check for just duplicate user IDs using `duplicated()` method together with `sum()`. Since, this time we want to find out if we have any duplicate user IDs, we will first get a Series of data for `user_id` column and then, apply `dupliacted()` method along with `sum()` on it."
   ]
  },
  {
   "cell_type": "code",
   "execution_count": null,
   "metadata": {},
   "outputs": [],
   "source": [
    "# Checking for just duplicate user IDs\n",
    "users['user_id'].duplicated().sum()"
   ]
  },
  {
   "cell_type": "markdown",
   "metadata": {},
   "source": [
    "**We don't have any duplicate user IDs in the `users` Dataframe**."
   ]
  },
  {
   "cell_type": "markdown",
   "metadata": {},
   "source": [
    "Let's verify that the `plan` column contains only the two specified plans - **surf** and **ultimate**:"
   ]
  },
  {
   "cell_type": "code",
   "execution_count": null,
   "metadata": {},
   "outputs": [],
   "source": [
    "# Check plan column only contains the two specified plans\n",
    "users['plan'].unique()"
   ]
  },
  {
   "cell_type": "markdown",
   "metadata": {},
   "source": [
    "**The `plan` column has correct values and contains only the two specified plans - surf and ultimate**:"
   ]
  },
  {
   "cell_type": "markdown",
   "metadata": {},
   "source": [
    "Let's verify that the `city` column doesn't have any duplicates because of differences in spellings and cases:"
   ]
  },
  {
   "cell_type": "code",
   "execution_count": null,
   "metadata": {},
   "outputs": [],
   "source": [
    "# Check if city column has any duplicate values\n",
    "sorted(users['city'].unique())"
   ]
  },
  {
   "cell_type": "markdown",
   "metadata": {},
   "source": [
    " **The `city` column doesn't have any duplicates because of differences in spellings and cases**."
   ]
  },
  {
   "cell_type": "markdown",
   "metadata": {},
   "source": [
    "#### Fix Data"
   ]
  },
  {
   "cell_type": "markdown",
   "metadata": {},
   "source": [
    "Let's convert the types of `reg_date` and `churn_date` columns to DateTime of the format - `YYYY-MM-DD`:"
   ]
  },
  {
   "cell_type": "code",
   "execution_count": null,
   "metadata": {},
   "outputs": [],
   "source": [
    "# Convert reg_date to datetime format\n",
    "users['reg_date'] = pd.to_datetime(users['reg_date'], format='%Y-%m-%d')"
   ]
  },
  {
   "cell_type": "code",
   "execution_count": null,
   "metadata": {},
   "outputs": [],
   "source": [
    "# Convert churn_date to datetime format\n",
    "users['churn_date'] = pd.to_datetime(users['churn_date'], format='%Y-%m-%d')"
   ]
  },
  {
   "cell_type": "markdown",
   "metadata": {},
   "source": [
    "Let's check the data types of the Dataframe - `users` again using `dtypes` attribute:"
   ]
  },
  {
   "cell_type": "code",
   "execution_count": null,
   "metadata": {},
   "outputs": [],
   "source": [
    "users.dtypes"
   ]
  },
  {
   "cell_type": "markdown",
   "metadata": {},
   "source": [
    "Let's get a sample of 10 rows from the Dataframe:"
   ]
  },
  {
   "cell_type": "code",
   "execution_count": null,
   "metadata": {},
   "outputs": [],
   "source": [
    "# Print a sample of data for users\n",
    "users.sample(n=10, random_state=100)"
   ]
  },
  {
   "cell_type": "markdown",
   "metadata": {},
   "source": [
    "#### Enrich Data"
   ]
  },
  {
   "cell_type": "markdown",
   "metadata": {},
   "source": [
    "Let's create a column - `full_name` by concatenating the first name and last name of the user."
   ]
  },
  {
   "cell_type": "code",
   "execution_count": null,
   "metadata": {},
   "outputs": [],
   "source": [
    "users['full_name'] = users['first_name'] + ' ' + users['last_name']"
   ]
  },
  {
   "cell_type": "markdown",
   "metadata": {},
   "source": [
    "Let's get a sample of 10 rows from the Dataframe:"
   ]
  },
  {
   "cell_type": "code",
   "execution_count": null,
   "metadata": {},
   "outputs": [],
   "source": [
    "# Print a sample of data for users\n",
    "users.sample(n=10, random_state=100)"
   ]
  },
  {
   "cell_type": "markdown",
   "metadata": {},
   "source": [
    "<div style=\"border-bottom:2px solid #058EE1;\"></div>"
   ]
  },
  {
   "cell_type": "markdown",
   "metadata": {},
   "source": [
    "### Calls"
   ]
  },
  {
   "cell_type": "markdown",
   "metadata": {},
   "source": [
    "`calls` Dataframe contains details about calls made by the customers."
   ]
  },
  {
   "cell_type": "markdown",
   "metadata": {},
   "source": [
    "Get the general information of the data in the DataFrame - `calls`:"
   ]
  },
  {
   "cell_type": "code",
   "execution_count": null,
   "metadata": {
    "scrolled": true
   },
   "outputs": [],
   "source": [
    "# Print the general/summary information about the calls' DataFrame\n",
    "calls.info()"
   ]
  },
  {
   "cell_type": "markdown",
   "metadata": {},
   "source": [
    "The Dataframe - `calls` has a total of **137735 rows and 4 columns**.\n",
    "\n",
    "The **columns description** are as follows:  \n",
    "- `id` — unique call identifier\n",
    "- `call_date` — call date\n",
    "- `duration` — call duration (in minutes)\n",
    "- `user_id` — the identifier of the user making the call  \n",
    "\n",
    "It is evident from the information we got from `info()` above that **we have no null values in the Dataframe - `calls`**.  \n",
    "\n",
    "Also, we have `call_date` column of String data type. **We need to convert the data type of this column to DateTime.**"
   ]
  },
  {
   "cell_type": "markdown",
   "metadata": {},
   "source": [
    "Let's get a sample of 10 rows from the Dataframe:"
   ]
  },
  {
   "cell_type": "code",
   "execution_count": null,
   "metadata": {},
   "outputs": [],
   "source": [
    "# Print a sample of data for calls\n",
    "calls.sample(n=10, random_state=100)"
   ]
  },
  {
   "cell_type": "markdown",
   "metadata": {},
   "source": [
    "We can use the `duplicated()` method together with `sum()` to **check if we have any duplicate rows in the DataFrame - `calls`**. `duplicated()` method returns a boolean Series (True/False) denoting duplicate rows. So, we could apply `sum()` over that series to get a summation of all the True(s) - and False(s)."
   ]
  },
  {
   "cell_type": "code",
   "execution_count": null,
   "metadata": {},
   "outputs": [],
   "source": [
    "# Checking for duplicated call records\n",
    "calls.duplicated().sum()"
   ]
  },
  {
   "cell_type": "markdown",
   "metadata": {},
   "source": [
    "**We don't have any duplicate rows in the `calls` Dataframe**.  \n",
    "\n",
    "Let's check for just duplicate call IDs using `duplicated()` method together with `sum()`. Since, this time we want to find out if we have any duplicate user IDs, we will first get a Series of data for `id` column and then, apply `dupliacted()` method along with `sum()` on it."
   ]
  },
  {
   "cell_type": "code",
   "execution_count": null,
   "metadata": {},
   "outputs": [],
   "source": [
    "# Checking for just duplicate call IDs\n",
    "calls['id'].duplicated().sum()"
   ]
  },
  {
   "cell_type": "markdown",
   "metadata": {},
   "source": [
    "**We don't have any duplicate call IDs in the `calls` Dataframe**."
   ]
  },
  {
   "cell_type": "markdown",
   "metadata": {},
   "source": [
    "#### Fix data"
   ]
  },
  {
   "cell_type": "markdown",
   "metadata": {},
   "source": [
    "Let's convert the type of `call_date` column to DateTime of the format - `YYYY-MM-DD`:"
   ]
  },
  {
   "cell_type": "code",
   "execution_count": null,
   "metadata": {},
   "outputs": [],
   "source": [
    "# Convert call_date to datetime format\n",
    "calls['call_date'] = pd.to_datetime(calls['call_date'], format='%Y-%m-%d')"
   ]
  },
  {
   "cell_type": "markdown",
   "metadata": {},
   "source": [
    "Let's check the data types of the Dataframe - `calls` again using `dtypes` attribute:"
   ]
  },
  {
   "cell_type": "code",
   "execution_count": null,
   "metadata": {
    "scrolled": true
   },
   "outputs": [],
   "source": [
    "calls.dtypes"
   ]
  },
  {
   "cell_type": "markdown",
   "metadata": {},
   "source": [
    "Let's get a sample of 10 rows from the Dataframe:"
   ]
  },
  {
   "cell_type": "code",
   "execution_count": null,
   "metadata": {
    "scrolled": true
   },
   "outputs": [],
   "source": [
    "# Print a sample of data for calls\n",
    "calls.sample(n=10, random_state=100)"
   ]
  },
  {
   "cell_type": "markdown",
   "metadata": {},
   "source": [
    "Now, since we have converted the `call_date` column to DateTime, we can easily verify if all the records are from year 2018 - "
   ]
  },
  {
   "cell_type": "code",
   "execution_count": null,
   "metadata": {},
   "outputs": [],
   "source": [
    "# Check if all the records are from year 2018\n",
    "calls['call_date'].dt.year.unique()"
   ]
  },
  {
   "cell_type": "markdown",
   "metadata": {},
   "source": [
    "**All the records are indeed from the year 2018. There are no odd records**."
   ]
  },
  {
   "cell_type": "markdown",
   "metadata": {},
   "source": [
    "#### Enrich data"
   ]
  },
  {
   "cell_type": "markdown",
   "metadata": {},
   "source": [
    "As per description, for `calls`, each individual call is rounded up: even if the call lasted just one second, it will be counted as one minute. So, let's create a new column - `rounded_up_duration` from `duration` column by rounding off the values:"
   ]
  },
  {
   "cell_type": "code",
   "execution_count": null,
   "metadata": {},
   "outputs": [],
   "source": [
    "calls['rounded_up_duration'] = np.ceil(calls['duration'])"
   ]
  },
  {
   "cell_type": "markdown",
   "metadata": {},
   "source": [
    "Let's also create a column - `call_month` that has only month and year portion of the `call_date`:"
   ]
  },
  {
   "cell_type": "code",
   "execution_count": null,
   "metadata": {},
   "outputs": [],
   "source": [
    "calls['call_month'] = calls['call_date'].dt.strftime('%b-%Y')"
   ]
  },
  {
   "cell_type": "markdown",
   "metadata": {},
   "source": [
    "Let's get a sample of 10 rows from the Dataframe:"
   ]
  },
  {
   "cell_type": "code",
   "execution_count": null,
   "metadata": {},
   "outputs": [],
   "source": [
    "# Print a sample of data for calls\n",
    "calls.sample(n=10, random_state=100)"
   ]
  },
  {
   "cell_type": "markdown",
   "metadata": {},
   "source": [
    "<div style=\"border-bottom:2px solid #058EE1;\"></div>"
   ]
  },
  {
   "cell_type": "markdown",
   "metadata": {},
   "source": [
    "### Messages"
   ]
  },
  {
   "cell_type": "markdown",
   "metadata": {},
   "source": [
    "`messages` Dataframe contains data about text messages sent by the customers."
   ]
  },
  {
   "cell_type": "markdown",
   "metadata": {},
   "source": [
    "Get the general information of the data in the DataFrame - `messages`:"
   ]
  },
  {
   "cell_type": "code",
   "execution_count": null,
   "metadata": {
    "scrolled": true
   },
   "outputs": [],
   "source": [
    "# Print the general/summary information about the messages' DataFrame\n",
    "messages.info()"
   ]
  },
  {
   "cell_type": "markdown",
   "metadata": {},
   "source": [
    "The Dataframe - `messages` has a total of **76051 rows and 3 columns**.\n",
    "\n",
    "The **columns description** are as follows:  \n",
    "- `id` — unique text message identifier\n",
    "- `message_date` — text message date\n",
    "- `user_id` — the identifier of the user sending the text \n",
    "\n",
    "It is evident from the information we got from `info()` above that **we have no null values in the Dataframe - `messages`**.  \n",
    "\n",
    "Also, we have `message_date` column of String data type. **We need to convert the data type of this column to DateTime.**"
   ]
  },
  {
   "cell_type": "markdown",
   "metadata": {},
   "source": [
    "Let's get a sample of 10 rows from the Dataframe:"
   ]
  },
  {
   "cell_type": "code",
   "execution_count": null,
   "metadata": {
    "scrolled": true
   },
   "outputs": [],
   "source": [
    "# Print a sample of data for messages\n",
    "messages.sample(n=10, random_state=100)"
   ]
  },
  {
   "cell_type": "markdown",
   "metadata": {},
   "source": [
    "We can use the `duplicated()` method together with `sum()` to **check if we have any duplicate rows in the DataFrame - `messages`**. `duplicated()` method returns a boolean Series (True/False) denoting duplicate rows. So, we could apply `sum()` over that series to get a summation of all the True(s) - and False(s)."
   ]
  },
  {
   "cell_type": "code",
   "execution_count": null,
   "metadata": {},
   "outputs": [],
   "source": [
    "# Checking for duplicated message records\n",
    "messages.duplicated().sum()"
   ]
  },
  {
   "cell_type": "markdown",
   "metadata": {},
   "source": [
    "**We don't have any duplicate rows in the `messages` Dataframe**.  \n",
    "\n",
    "Let's check for just duplicate text message IDs using `duplicated()` method together with `sum()`. Since, this time we want to find out if we have any duplicate user IDs, we will first get a Series of data for `id` column and then, apply `dupliacted()` method along with `sum()` on it."
   ]
  },
  {
   "cell_type": "code",
   "execution_count": null,
   "metadata": {},
   "outputs": [],
   "source": [
    "# Checking for just duplicate text message IDs\n",
    "messages['id'].duplicated().sum()"
   ]
  },
  {
   "cell_type": "markdown",
   "metadata": {},
   "source": [
    "**We don't have any duplicate message IDs in the messages Dataframe.**"
   ]
  },
  {
   "cell_type": "markdown",
   "metadata": {},
   "source": [
    "#### Fix data"
   ]
  },
  {
   "cell_type": "markdown",
   "metadata": {},
   "source": [
    "Let's convert the type of `message_date` column to DateTime of the format - `YYYY-MM-DD`:"
   ]
  },
  {
   "cell_type": "code",
   "execution_count": null,
   "metadata": {},
   "outputs": [],
   "source": [
    "# Convert message_date to datetime format\n",
    "messages['message_date'] = pd.to_datetime(messages['message_date'], format='%Y-%m-%d')"
   ]
  },
  {
   "cell_type": "markdown",
   "metadata": {},
   "source": [
    "Let's check the data types of the Dataframe - `messages` again using `dtypes` attribute:"
   ]
  },
  {
   "cell_type": "code",
   "execution_count": null,
   "metadata": {},
   "outputs": [],
   "source": [
    "messages.dtypes"
   ]
  },
  {
   "cell_type": "markdown",
   "metadata": {},
   "source": [
    "Let's get a sample of 10 rows from the Dataframe:"
   ]
  },
  {
   "cell_type": "code",
   "execution_count": null,
   "metadata": {},
   "outputs": [],
   "source": [
    "# Print a sample of data for messages\n",
    "messages.sample(n=10, random_state=100)"
   ]
  },
  {
   "cell_type": "markdown",
   "metadata": {},
   "source": [
    "Now, since we have converted the `message_date` column to DateTime, we can easily verify if all the records are from year 2018 - "
   ]
  },
  {
   "cell_type": "code",
   "execution_count": null,
   "metadata": {},
   "outputs": [],
   "source": [
    "# Check if all the records are from year 2018\n",
    "messages['message_date'].dt.year.unique()"
   ]
  },
  {
   "cell_type": "markdown",
   "metadata": {},
   "source": [
    "**All the records are indeed from the year 2018. There are no odd records**."
   ]
  },
  {
   "cell_type": "markdown",
   "metadata": {},
   "source": [
    "#### Enrich data"
   ]
  },
  {
   "cell_type": "markdown",
   "metadata": {},
   "source": [
    "Let's also create a column - `message_month` that has only month and year portion of the `message_date`:"
   ]
  },
  {
   "cell_type": "code",
   "execution_count": null,
   "metadata": {},
   "outputs": [],
   "source": [
    "messages['message_month'] = messages['message_date'].dt.strftime('%b-%Y')"
   ]
  },
  {
   "cell_type": "markdown",
   "metadata": {},
   "source": [
    "Let's get a sample of 10 rows from the Dataframe:"
   ]
  },
  {
   "cell_type": "code",
   "execution_count": null,
   "metadata": {},
   "outputs": [],
   "source": [
    "# Print a sample of data for messages\n",
    "messages.sample(n=10, random_state=100)"
   ]
  },
  {
   "cell_type": "markdown",
   "metadata": {},
   "source": [
    "<div style=\"border-bottom:2px solid #058EE1;\"></div>"
   ]
  },
  {
   "cell_type": "markdown",
   "metadata": {},
   "source": [
    "### Internet"
   ]
  },
  {
   "cell_type": "markdown",
   "metadata": {},
   "source": [
    "`internet` Dataframe provides information on web sessions."
   ]
  },
  {
   "cell_type": "markdown",
   "metadata": {},
   "source": [
    "Get the general information of the data in the DataFrame - `internet`:"
   ]
  },
  {
   "cell_type": "code",
   "execution_count": null,
   "metadata": {
    "scrolled": true
   },
   "outputs": [],
   "source": [
    "# Print the general/summary information about the internet DataFrame\n",
    "internet.info()"
   ]
  },
  {
   "cell_type": "markdown",
   "metadata": {},
   "source": [
    "The Dataframe - `internet` has a total of **104825 rows and 4 columns**.\n",
    "\n",
    "The **columns description** are as follows:  \n",
    "- `id` — unique session identifier\n",
    "- `mb_used` — the volume of data spent during the session (in megabytes)\n",
    "- `session_date` — web session date\n",
    "- `user_id` — user identifier  \n",
    "\n",
    "It is evident from the information we got from `info()` above that **we have no null values in the Dataframe - `internet`**.  \n",
    "\n",
    "Also, we have `session_date` column of String data type. **We need to convert the data type of this column to DateTime.**"
   ]
  },
  {
   "cell_type": "markdown",
   "metadata": {},
   "source": [
    "Let's get a sample of 10 rows from the Dataframe:"
   ]
  },
  {
   "cell_type": "code",
   "execution_count": null,
   "metadata": {
    "scrolled": true
   },
   "outputs": [],
   "source": [
    "# Print a sample of data for the internet traffic\n",
    "internet.sample(n=10, random_state=100)"
   ]
  },
  {
   "cell_type": "markdown",
   "metadata": {},
   "source": [
    "We can use the `duplicated()` method together with `sum()` to **check if we have any duplicate rows in the DataFrame - `internet`**. `duplicated()` method returns a boolean Series (True/False) denoting duplicate rows. So, we could apply `sum()` over that series to get a summation of all the True(s) - and False(s)."
   ]
  },
  {
   "cell_type": "code",
   "execution_count": null,
   "metadata": {},
   "outputs": [],
   "source": [
    "# Checking for duplicated internet records\n",
    "internet.duplicated().sum()"
   ]
  },
  {
   "cell_type": "markdown",
   "metadata": {},
   "source": [
    "**We don't have any duplicate rows in the `internet` Dataframe**.  \n",
    "\n",
    "Let's check for just duplicate session IDs using `duplicated()` method together with `sum()`. Since, this time we want to find out if we have any duplicate user IDs, we will first get a Series of data for `id` column and then, apply `dupliacted()` method along with `sum()` on it."
   ]
  },
  {
   "cell_type": "code",
   "execution_count": null,
   "metadata": {},
   "outputs": [],
   "source": [
    "# Checking for just duplicate internet IDs\n",
    "internet['id'].duplicated().sum()"
   ]
  },
  {
   "cell_type": "markdown",
   "metadata": {},
   "source": [
    "**We don't have any duplicate session IDs in the internet Dataframe.**"
   ]
  },
  {
   "cell_type": "markdown",
   "metadata": {},
   "source": [
    "#### Fix data"
   ]
  },
  {
   "cell_type": "markdown",
   "metadata": {},
   "source": [
    "Let's convert the type of `session_date` column to DateTime of the format - `YYYY-MM-DD`:"
   ]
  },
  {
   "cell_type": "code",
   "execution_count": null,
   "metadata": {},
   "outputs": [],
   "source": [
    "# Convert session_date to datetime format\n",
    "internet['session_date'] = pd.to_datetime(internet['session_date'], format='%Y-%m-%d')"
   ]
  },
  {
   "cell_type": "markdown",
   "metadata": {},
   "source": [
    "Let's check the data types of the Dataframe - `internet` again using `dtypes` attribute:"
   ]
  },
  {
   "cell_type": "code",
   "execution_count": null,
   "metadata": {},
   "outputs": [],
   "source": [
    "internet.dtypes"
   ]
  },
  {
   "cell_type": "markdown",
   "metadata": {},
   "source": [
    "Let's get a sample of 10 rows from the Dataframe:"
   ]
  },
  {
   "cell_type": "code",
   "execution_count": null,
   "metadata": {},
   "outputs": [],
   "source": [
    "# Print a sample of data for internet traffic\n",
    "internet.sample(n=10, random_state=100)"
   ]
  },
  {
   "cell_type": "markdown",
   "metadata": {},
   "source": [
    "Now, since we have converted the `session_date` column to DateTime, we can easily verify if all the records are from year 2018 - "
   ]
  },
  {
   "cell_type": "code",
   "execution_count": null,
   "metadata": {},
   "outputs": [],
   "source": [
    "# Check if all the records are from year 2018\n",
    "internet['session_date'].dt.year.unique()"
   ]
  },
  {
   "cell_type": "markdown",
   "metadata": {},
   "source": [
    "**All the records are indeed from the year 2018. There are no odd records**."
   ]
  },
  {
   "cell_type": "markdown",
   "metadata": {},
   "source": [
    "#### Enrich data"
   ]
  },
  {
   "cell_type": "markdown",
   "metadata": {},
   "source": [
    "Since Megaline rounds megabytes to gigabytes but we have the volume of data spent during the session in megabytes, we can derive a new column - `gb_used` using `mb_used`:"
   ]
  },
  {
   "cell_type": "code",
   "execution_count": null,
   "metadata": {},
   "outputs": [],
   "source": [
    "# Calculate the volume of data spent during the session from mbs to gbs - 1 GB = 1024 megabytes\n",
    "internet['gb_used'] = internet['mb_used'] / 1024"
   ]
  },
  {
   "cell_type": "markdown",
   "metadata": {},
   "source": [
    "Let's also create a column - `session_month` that has only month and year portion of the `session_date`:"
   ]
  },
  {
   "cell_type": "code",
   "execution_count": null,
   "metadata": {},
   "outputs": [],
   "source": [
    "internet['session_month'] = internet['session_date'].dt.strftime('%b-%Y')"
   ]
  },
  {
   "cell_type": "markdown",
   "metadata": {},
   "source": [
    "Now, let's see the list of columns again in `internet` Dataframe"
   ]
  },
  {
   "cell_type": "code",
   "execution_count": null,
   "metadata": {},
   "outputs": [],
   "source": [
    "# Get list of colums\n",
    "internet.columns"
   ]
  },
  {
   "cell_type": "markdown",
   "metadata": {},
   "source": [
    "Let's get a sample of 10 rows from the Dataframe:"
   ]
  },
  {
   "cell_type": "code",
   "execution_count": null,
   "metadata": {},
   "outputs": [],
   "source": [
    "# Print a sample of data for internet traffic\n",
    "internet.sample(n=10, random_state=100)"
   ]
  },
  {
   "cell_type": "markdown",
   "metadata": {},
   "source": [
    "<div style=\"border-bottom:2px solid #058EE1;\"></div>"
   ]
  },
  {
   "cell_type": "markdown",
   "metadata": {},
   "source": [
    "## Study plan conditions <a id='study-plan-conditions'></a>  \n",
    "[Back to Contents](#contents)"
   ]
  },
  {
   "cell_type": "markdown",
   "metadata": {},
   "source": [
    "It is critical to understand how the plans work, how users are charged based on their plan subscription. So, let's print out the plan information to view their conditions once again."
   ]
  },
  {
   "cell_type": "code",
   "execution_count": null,
   "metadata": {},
   "outputs": [],
   "source": [
    "# Print out the plan conditions\n",
    "plans"
   ]
  },
  {
   "cell_type": "markdown",
   "metadata": {},
   "source": [
    "<div style=\"border-bottom:2px solid #058EE1;\"></div>"
   ]
  },
  {
   "cell_type": "markdown",
   "metadata": {},
   "source": [
    "## Aggregate data per user <a id='aggregate-data-per-user'></a>  \n",
    "[Back to Contents](#contents)"
   ]
  },
  {
   "cell_type": "markdown",
   "metadata": {},
   "source": [
    "### Number of calls made by each user per month"
   ]
  },
  {
   "cell_type": "markdown",
   "metadata": {},
   "source": [
    "In order to calculate the number of calls made by each user per month, we need data from both `users` and `calls` Dataframes. Let's create a new Dataframe - `users_calls` by merging the two of them."
   ]
  },
  {
   "cell_type": "code",
   "execution_count": null,
   "metadata": {},
   "outputs": [],
   "source": [
    "# Merge the users and calls Dataframes and print first 10 records\n",
    "users_calls = users.merge(calls, on='user_id')\n",
    "users_calls.head(10)"
   ]
  },
  {
   "cell_type": "markdown",
   "metadata": {},
   "source": [
    "Great! Let's create a pivot table with `user_id`, `full_name` and `call_month` as indices and apply `count()` on unique call identifiers - `id`, to get the number of calls made by each user per month:"
   ]
  },
  {
   "cell_type": "code",
   "execution_count": null,
   "metadata": {},
   "outputs": [],
   "source": [
    "# Calculate the number of calls made by each user per month. Save the result.\n",
    "\n",
    "# Create a pivot table on user_id, full_name and call_month and count no. of unique call identifier - id\n",
    "calls_per_user = users_calls.pivot_table(index=['user_id', 'full_name', 'call_month'], aggfunc={'id': 'count'})\n",
    "\n",
    "# Give names to the columns of the the pivot table\n",
    "calls_per_user.columns = ['number_of_calls']"
   ]
  },
  {
   "cell_type": "markdown",
   "metadata": {},
   "source": [
    "Awesome! So, now we have the required data. Let's print the first 20 and last 20 records to view the results:"
   ]
  },
  {
   "cell_type": "code",
   "execution_count": null,
   "metadata": {},
   "outputs": [],
   "source": [
    "# Print first 20 records\n",
    "calls_per_user.head(20)"
   ]
  },
  {
   "cell_type": "code",
   "execution_count": null,
   "metadata": {},
   "outputs": [],
   "source": [
    "# Print last 20 records\n",
    "calls_per_user.tail(20)"
   ]
  },
  {
   "cell_type": "markdown",
   "metadata": {},
   "source": [
    "### Amount of minutes spent by each user per month"
   ]
  },
  {
   "cell_type": "markdown",
   "metadata": {},
   "source": [
    "We already have `users_calls` Dataframe that we created by merging `users` and `calls` Dataframes. We will use the same Dataframe here. Let's print first 10 rows to peek into the data:"
   ]
  },
  {
   "cell_type": "code",
   "execution_count": null,
   "metadata": {},
   "outputs": [],
   "source": [
    "users_calls.head(10)"
   ]
  },
  {
   "cell_type": "markdown",
   "metadata": {},
   "source": [
    "Great! Let's create a pivot table with `user_id`, `full_name` and `call_month` as indices and apply `sum()` on `duration` to get total actual minutes spent by the users and on `rounded_up_duration` to get the rounded up minutes calculated for users, to get the amount of minutes spent by each user per month:"
   ]
  },
  {
   "cell_type": "code",
   "execution_count": null,
   "metadata": {},
   "outputs": [],
   "source": [
    "# Calculate the amount of minutes spent by each user per month. Save the result.\n",
    "\n",
    "# Create a pivot table on user_id, full_name and call_month and sum duration and rounded_up_duration\n",
    "minutes_per_user = users_calls.pivot_table(index=['user_id', 'full_name', 'call_month'], aggfunc={'duration': 'sum', 'rounded_up_duration': 'sum'})\n",
    "\n",
    "# Give names to the columns of the the pivot table\n",
    "minutes_per_user.columns = ['amount_of_actual_mins', 'amount_of_rounded_up_mins']"
   ]
  },
  {
   "cell_type": "markdown",
   "metadata": {},
   "source": [
    "Awesome! So, now we have the required data. Let's print the first 20 and last 20 records to view the results:"
   ]
  },
  {
   "cell_type": "code",
   "execution_count": null,
   "metadata": {},
   "outputs": [],
   "source": [
    "minutes_per_user.head(20)"
   ]
  },
  {
   "cell_type": "code",
   "execution_count": null,
   "metadata": {},
   "outputs": [],
   "source": [
    "minutes_per_user.tail(20)"
   ]
  },
  {
   "cell_type": "markdown",
   "metadata": {},
   "source": [
    "### Number of messages sent by each user per month"
   ]
  },
  {
   "cell_type": "markdown",
   "metadata": {},
   "source": [
    "In order to calculate the number of messages sent by each user per month, we need data from both `users` and `messages` Dataframes. Let's create a new Dataframe - `users_messages` by merging the two of them."
   ]
  },
  {
   "cell_type": "code",
   "execution_count": null,
   "metadata": {},
   "outputs": [],
   "source": [
    "# Merge the users and messages Dataframes and print first 10 records\n",
    "users_messages = users.merge(messages, on='user_id')\n",
    "users_messages.head(10)"
   ]
  },
  {
   "cell_type": "markdown",
   "metadata": {},
   "source": [
    "Great! Let's create a pivot table with `user_id`, `full_name` and `message_month` as indices and apply `count()` on unique text message identifiers - `id`, to get the number of messages sent by each user per month:"
   ]
  },
  {
   "cell_type": "code",
   "execution_count": null,
   "metadata": {},
   "outputs": [],
   "source": [
    "# Calculate the number of messages sent by each user per month. Save the result.\n",
    "\n",
    "# Create a pivot table on user_id, full_name and message_month and count no. of unique text message identifier - id\n",
    "messages_per_user = users_messages.pivot_table(index=['user_id', 'full_name', 'message_month'], aggfunc={'id': 'count'})\n",
    "\n",
    "# Give names to the columns of the the pivot table\n",
    "messages_per_user.columns = ['number_of_messages']"
   ]
  },
  {
   "cell_type": "markdown",
   "metadata": {},
   "source": [
    "Awesome! So, now we have the required data. Let's print the first 20 and last 20 records to view the results:"
   ]
  },
  {
   "cell_type": "code",
   "execution_count": null,
   "metadata": {},
   "outputs": [],
   "source": [
    "messages_per_user.head(20)"
   ]
  },
  {
   "cell_type": "code",
   "execution_count": null,
   "metadata": {},
   "outputs": [],
   "source": [
    "messages_per_user.tail(20)"
   ]
  },
  {
   "cell_type": "markdown",
   "metadata": {},
   "source": [
    "### Volume of internet traffic used by each user per month"
   ]
  },
  {
   "cell_type": "markdown",
   "metadata": {},
   "source": [
    "In order to calculate the volume of internet traffic used by each user per month, we need data from both `users` and `internet` Dataframes. Let's create a new Dataframe - `users_internet` by merging the two of them."
   ]
  },
  {
   "cell_type": "code",
   "execution_count": null,
   "metadata": {},
   "outputs": [],
   "source": [
    "# Merge the users and internet Dataframes and print first 10 records\n",
    "users_internet = users.merge(internet, on='user_id')\n",
    "users_internet.head(10)"
   ]
  },
  {
   "cell_type": "markdown",
   "metadata": {},
   "source": [
    "Great! Let's create a pivot table with `user_id`, `full_name` and `session_month` as indices and apply `sum()` on `gb_used` to get total actual gb used by the users each month, to get volume of internet traffic used by each user per month:"
   ]
  },
  {
   "cell_type": "code",
   "execution_count": null,
   "metadata": {},
   "outputs": [],
   "source": [
    "# Calculate the volume of internet traffic used by each user per month. Save the result.\n",
    "\n",
    "# Create a pivot table on user_id, full_name and session_month and apply sum on gb_used\n",
    "internet_traffic_per_user = users_internet.pivot_table(index=['user_id', 'full_name', 'session_month'], aggfunc={'gb_used': 'sum'})\n",
    "\n",
    "# Give names to the columns of the the pivot table\n",
    "internet_traffic_per_user.columns = ['actual_gb_used']"
   ]
  },
  {
   "cell_type": "markdown",
   "metadata": {},
   "source": [
    "Awesome! So, now we have the required data. Let's print the first 20 and last 20 records to view the results:"
   ]
  },
  {
   "cell_type": "code",
   "execution_count": null,
   "metadata": {},
   "outputs": [],
   "source": [
    "internet_traffic_per_user.head(10)"
   ]
  },
  {
   "cell_type": "code",
   "execution_count": null,
   "metadata": {},
   "outputs": [],
   "source": [
    "internet_traffic_per_user.tail(20)"
   ]
  },
  {
   "cell_type": "markdown",
   "metadata": {},
   "source": [
    "Wow! We are making a good progress. But, as per the Data Description, for web traffic, **individual web sessions are not rounded up. Instead, the total for the month is rounded up**. If someone uses 1025 megabytes this month, they will be charged for 2 gigabytes. So, let's create another column - `rounded_up_gb_used` where we can round up the total gb used for each month:"
   ]
  },
  {
   "cell_type": "code",
   "execution_count": null,
   "metadata": {},
   "outputs": [],
   "source": [
    "internet_traffic_per_user['rounded_up_gb_used'] = np.ceil(internet_traffic_per_user['actual_gb_used'])\n",
    "internet_traffic_per_user.head(20)"
   ]
  },
  {
   "cell_type": "markdown",
   "metadata": {},
   "source": [
    "### Combined data for calls, minutes, messages, internet for all the users"
   ]
  },
  {
   "cell_type": "markdown",
   "metadata": {},
   "source": [
    "Now, **let's put the aggregate data together into one DataFrame - `user_consumption_per_month` so that one record in it would represent what an unique user consumed in a given month**."
   ]
  },
  {
   "cell_type": "markdown",
   "metadata": {},
   "source": [
    "Let's first flatten the `calls_per_user` and `minutes_per_user` Dataframes so that we can merge them both on `user_id` and `call_month`."
   ]
  },
  {
   "cell_type": "code",
   "execution_count": null,
   "metadata": {},
   "outputs": [],
   "source": [
    "# Flatten calls_per_user Dataframe\n",
    "calls_per_user = calls_per_user.reset_index()\n",
    "calls_per_user.head(10)"
   ]
  },
  {
   "cell_type": "code",
   "execution_count": null,
   "metadata": {},
   "outputs": [],
   "source": [
    "# Flatten minutes_per_user Dataframe\n",
    "minutes_per_user = minutes_per_user.reset_index()\n",
    "minutes_per_user.head(10)"
   ]
  },
  {
   "cell_type": "code",
   "execution_count": null,
   "metadata": {},
   "outputs": [],
   "source": [
    "# Merge the data for calls and minutes based on user_id and month and save it in - user_consumption_per_month\n",
    "user_consumption_per_month = calls_per_user.merge(minutes_per_user, how='outer', on=['user_id', 'call_month'])"
   ]
  },
  {
   "cell_type": "code",
   "execution_count": null,
   "metadata": {},
   "outputs": [],
   "source": [
    "# Create a column - user_name and save value from full_name_x. If that is null, then get value from full_name_y\n",
    "user_consumption_per_month['user_name'] = user_consumption_per_month['full_name_x'].fillna(user_consumption_per_month['full_name_y'])\n",
    "\n",
    "# Get only the necessary columns from user_consumption_per_month\n",
    "user_consumption_per_month = user_consumption_per_month[['user_id', 'user_name', 'call_month', 'number_of_calls', 'amount_of_actual_mins', 'amount_of_rounded_up_mins']]\n",
    "user_consumption_per_month\n",
    "\n",
    "# Rename columns more meaningfully in user_consumption_per_month\n",
    "user_consumption_per_month = user_consumption_per_month.rename(columns={'call_month': 'month', 'amount_of_actual_mins': 'call_mins', 'amount_of_rounded_up_mins': 'rounded_up_call_mins' })"
   ]
  },
  {
   "cell_type": "code",
   "execution_count": null,
   "metadata": {},
   "outputs": [],
   "source": [
    "# Get a sample of 20 records\n",
    "user_consumption_per_month.sample(n=20, random_state=100)"
   ]
  },
  {
   "cell_type": "markdown",
   "metadata": {},
   "source": [
    "Now, let's flatten the `messages_per_user` Dataframe so that we can merge it with `user_consumption_per_month` on `user_id` and `message_month` or `month`."
   ]
  },
  {
   "cell_type": "code",
   "execution_count": null,
   "metadata": {},
   "outputs": [],
   "source": [
    "# Flatten messages_per_user Dataframe\n",
    "messages_per_user = messages_per_user.reset_index()\n",
    "messages_per_user.head(20)"
   ]
  },
  {
   "cell_type": "code",
   "execution_count": null,
   "metadata": {},
   "outputs": [],
   "source": [
    "# Merge the data for messages and user_consumption_per_month based on user_id and month and save it in - user_consumption_per_month\n",
    "user_consumption_per_month = user_consumption_per_month.merge(messages_per_user, how='outer', left_on=['user_id', 'month'], right_on=['user_id', 'message_month'])"
   ]
  },
  {
   "cell_type": "code",
   "execution_count": null,
   "metadata": {},
   "outputs": [],
   "source": [
    "# Save value from user_name. If that is null, then get value from full_name\n",
    "user_consumption_per_month['user_name'] = user_consumption_per_month['user_name'].fillna(user_consumption_per_month['full_name'])\n",
    "\n",
    "# Save value from month. If that is null, then get value from message_month\n",
    "user_consumption_per_month['month'] = user_consumption_per_month['month'].fillna(user_consumption_per_month['message_month'])\n",
    "\n",
    "# Get only the necessary columns from user_consumption_per_month\n",
    "user_consumption_per_month = user_consumption_per_month[['user_id', 'user_name', 'month', 'number_of_calls', 'call_mins', 'rounded_up_call_mins', 'number_of_messages']]"
   ]
  },
  {
   "cell_type": "code",
   "execution_count": null,
   "metadata": {},
   "outputs": [],
   "source": [
    "# Get a sample of 20 records\n",
    "user_consumption_per_month.sample(n=20, random_state=800)"
   ]
  },
  {
   "cell_type": "markdown",
   "metadata": {},
   "source": [
    "Now, let's flatten the `internet_traffic_per_user` Dataframe so that we can merge it with `user_consumption_per_month` on `user_id` and `session_month` or `month`."
   ]
  },
  {
   "cell_type": "code",
   "execution_count": null,
   "metadata": {},
   "outputs": [],
   "source": [
    "# Flatten internet_traffic_per_user Dataframe\n",
    "internet_traffic_per_user = internet_traffic_per_user.reset_index()\n",
    "internet_traffic_per_user.head(20)"
   ]
  },
  {
   "cell_type": "code",
   "execution_count": null,
   "metadata": {},
   "outputs": [],
   "source": [
    "# Merge the data for internet and user_consumption_per_month based on user_id and month and save it in - user_consumption_per_month\n",
    "user_consumption_per_month = user_consumption_per_month.merge(internet_traffic_per_user, how='outer', left_on=['user_id', 'month'], right_on=['user_id', 'session_month'])"
   ]
  },
  {
   "cell_type": "code",
   "execution_count": null,
   "metadata": {},
   "outputs": [],
   "source": [
    "# Save value from user_name. If that is null, then get value from full_name\n",
    "user_consumption_per_month['user_name'] = user_consumption_per_month['user_name'].fillna(user_consumption_per_month['full_name'])\n",
    "\n",
    "# Save value from month. If that is null, then get value from session_month\n",
    "user_consumption_per_month['month'] = user_consumption_per_month['month'].fillna(user_consumption_per_month['session_month'])\n",
    "\n",
    "# Get only the necessary columns from user_consumption_per_month\n",
    "user_consumption_per_month = user_consumption_per_month[['user_id', 'user_name', 'month', 'number_of_calls', 'call_mins', 'rounded_up_call_mins', 'number_of_messages', 'actual_gb_used', 'rounded_up_gb_used']]"
   ]
  },
  {
   "cell_type": "code",
   "execution_count": null,
   "metadata": {},
   "outputs": [],
   "source": [
    "# Get a sample of 20 records\n",
    "user_consumption_per_month.sample(n=20, random_state=989)"
   ]
  },
  {
   "cell_type": "markdown",
   "metadata": {},
   "source": [
    "Awesome! Finally, **we have combined data for calls, minutes, messages, internet for all the users in `user_consumption_per_month`**."
   ]
  },
  {
   "cell_type": "markdown",
   "metadata": {},
   "source": [
    "### Combined data for all the users along with plan information"
   ]
  },
  {
   "cell_type": "markdown",
   "metadata": {},
   "source": [
    "Won't it be great to have all the combined data for calls, minutes, messages, internet for all the users along with the information of plan they are subscribed to. Indeed it will be awesome!  \n",
    "\n",
    "Fisrt of all, let's create a `users_plans` Dataframe where we will merge `users` and `plans` dataframes:"
   ]
  },
  {
   "cell_type": "code",
   "execution_count": null,
   "metadata": {},
   "outputs": [],
   "source": [
    "# Merge users and plans dataframes on plan or plan_name\n",
    "users_plans = users[['user_id', 'plan']].merge(plans, left_on='plan', right_on='plan_name' )\n",
    "\n",
    "# Take out the redundant column for plan\n",
    "users_plans = users_plans.loc[:, users_plans.columns != 'plan_name']"
   ]
  },
  {
   "cell_type": "code",
   "execution_count": null,
   "metadata": {},
   "outputs": [],
   "source": [
    "# Get random 20 records from users_plans\n",
    "users_plans.sample(n=20, random_state=200)"
   ]
  },
  {
   "cell_type": "markdown",
   "metadata": {},
   "source": [
    "Now, since we have all the plan information for each user IDs in `users_plans`, **let's merge `users_plans` with `user_consumption_per_month` to add the plan information to the combined data for calls, minutes, messages, internet for all the users**:"
   ]
  },
  {
   "cell_type": "code",
   "execution_count": null,
   "metadata": {},
   "outputs": [],
   "source": [
    "# Add the plan information\n",
    "user_consumption_per_month = user_consumption_per_month.merge(users_plans, on='user_id')"
   ]
  },
  {
   "cell_type": "code",
   "execution_count": null,
   "metadata": {},
   "outputs": [],
   "source": [
    "# Get random 20 records from user_consumption_per_month\n",
    "user_consumption_per_month.sample(n=20, random_state=200)"
   ]
  },
  {
   "cell_type": "markdown",
   "metadata": {},
   "source": [
    "### Monthly revenue for each user"
   ]
  },
  {
   "cell_type": "markdown",
   "metadata": {},
   "source": [
    "Let's calculate the **monthly revenue from each user** (subtract the free package limit from the total number of calls, text messages, and data; multiply the result by the calling plan value; add the monthly charge depending on the calling plan). We can write a Python function that would be applied on each row and returns revenue for each user:"
   ]
  },
  {
   "cell_type": "code",
   "execution_count": null,
   "metadata": {},
   "outputs": [],
   "source": [
    "# Function that calculates the monthly revenue for each user\n",
    "# Input: Each row in the Dataframe\n",
    "# Output: Monthly revenue for the user\n",
    "def calulate_monthly_revenue(row):  \n",
    "    \n",
    "    \"\"\"\n",
    "    - The function is applied to each row in the `user_consumption_per_month` DataFrame.\n",
    "    - Revenue calculation involves adding the monthly charge and any additional expenses \n",
    "    incurred by the customer when they exceed usage limits.  \n",
    "    - The additional expenses are determined based on call length, number of messages, and amount of internet used.\n",
    "    - There are different code blocks for calculating and storing each of these possible expenses.\n",
    "    \n",
    "    Input: Each row in the Dataframe\n",
    "    Output: Monthly revenue for the user\n",
    "    \"\"\"\n",
    "    \n",
    "    # Store monthly payment of the plan that user has taken\n",
    "    plan_monthly_charge = row.usd_monthly_fee\n",
    "    \n",
    "    # Calculate revenue for calls, if user exceeded the limit covered by the plan\n",
    "    #-----------------------------------------------------------------------------\n",
    "    # rounded_up_call_mins: Total mins the user has spent in call in the particular month after rounding up\n",
    "    # minutes_included: Monthly minute allowance of the plan\n",
    "    # usd_per_minute: Price per minute after exceeding the package limits\n",
    "    extra_call_mins = row.rounded_up_call_mins - row.minutes_included\n",
    "    if extra_call_mins > 0:\n",
    "        call_revenue = extra_call_mins * row.usd_per_minute\n",
    "    else:\n",
    "        call_revenue = 0\n",
    "    \n",
    "    # Calculate revenue for messages, if user exceeded limit covered by the plan\n",
    "    #---------------------------------------------------------------------------\n",
    "    # number_of_messages: Total number of messages sent by the user in the particular month\n",
    "    # messages_included: Monthly text allowance of the plan\n",
    "    # usd_per_message: Price per text after exceeding the package limits\n",
    "    extra_messages = row.number_of_messages - row.messages_included\n",
    "    if extra_messages > 0:\n",
    "        message_revenue = extra_messages * row.usd_per_message\n",
    "    else:\n",
    "        message_revenue = 0\n",
    "    \n",
    "    # Calculate revenue for internet usage, if user exceeded limit covered by the plan\n",
    "    #----------------------------------------------------------------------------------\n",
    "    # rounded_up_gb_used: Total volume of internet traffic used by the user in the particular month\n",
    "    # gb_per_month_included: Data volume allowance (in gigabytes) of the plan\n",
    "    # usd_per_gb: Price per extra gigabyte of data after exceeding the package limits\n",
    "    extra_internet_gb = (row.rounded_up_gb_used - row.gb_per_month_included)\n",
    "    if extra_internet_gb > 0:\n",
    "        internet_revenue = extra_internet_gb * row.usd_per_gb\n",
    "    else:\n",
    "        internet_revenue = 0\n",
    "        \n",
    "    monthly_revenue = plan_monthly_charge + call_revenue + message_revenue + internet_revenue\n",
    "    \n",
    "    return monthly_revenue"
   ]
  },
  {
   "cell_type": "markdown",
   "metadata": {},
   "source": [
    "Woah! So, now we have a function - `calulate_monthly_revenue()` that when applied to each row in the `user_consumption_per_month` DataFrame, calculates the monthly revenue for each user. Let's apply the function to each row of the Dataframe and create a new a column - `usd_monthly_revenue`\""
   ]
  },
  {
   "cell_type": "code",
   "execution_count": null,
   "metadata": {},
   "outputs": [],
   "source": [
    "# Calculate the monthly revenue for each user\n",
    "user_consumption_per_month['usd_monthly_revenue'] = user_consumption_per_month.apply(calulate_monthly_revenue, axis=1)"
   ]
  },
  {
   "cell_type": "code",
   "execution_count": null,
   "metadata": {},
   "outputs": [],
   "source": [
    "# Get random 20 records from user_consumption_per_month\n",
    "user_consumption_per_month.sample(n=20, random_state=100)"
   ]
  },
  {
   "cell_type": "markdown",
   "metadata": {},
   "source": [
    "<div style=\"border-bottom:2px solid #058EE1;\"></div>"
   ]
  },
  {
   "cell_type": "markdown",
   "metadata": {},
   "source": [
    "## Study user behaviour <a id='study-user-behaviour'></a>  \n",
    "[Back to Contents](#contents)"
   ]
  },
  {
   "cell_type": "markdown",
   "metadata": {},
   "source": [
    "Let's calculate some useful descriptive statistics for the aggregated and merged data, which typically reveal an overall picture captured by the data. We'll draw useful plots to help the understanding. Given that the main task is to compare the plans and decide on which one is more profitable, the statistics and the plots will be calculated on a per-plan basis."
   ]
  },
  {
   "cell_type": "markdown",
   "metadata": {},
   "source": [
    "### Calls"
   ]
  },
  {
   "cell_type": "markdown",
   "metadata": {},
   "source": [
    "####  Compare average duration of calls per each plan per each distinct month"
   ]
  },
  {
   "cell_type": "markdown",
   "metadata": {},
   "source": [
    "Let's compare average duration of calls per each plan per each distinct month."
   ]
  },
  {
   "cell_type": "code",
   "execution_count": null,
   "metadata": {},
   "outputs": [],
   "source": [
    "# Compare average duration of calls per each plan per each distinct month.  \n",
    "mean_calls_duration = user_consumption_per_month.pivot_table(index='month', columns='plan', aggfunc='mean', values='rounded_up_call_mins')\n",
    "mean_calls_duration"
   ]
  },
  {
   "cell_type": "code",
   "execution_count": null,
   "metadata": {},
   "outputs": [],
   "source": [
    "# Plot a bar plot to visualize - mean_calls_duration\n",
    "mean_calls_duration.plot.bar(figsize=(16,8), rot=0, color=['CornflowerBlue', 'Tomato'])\n",
    "\n",
    "# Set the plot attributes\n",
    "plt.title('Average duration of calls per each plan per each distinct month')\n",
    "plt.ylabel('Minutes spent on calls')\n",
    "plt.xlabel('Months (sorted alphabetically)')\n",
    "\n",
    "plt.show()"
   ]
  },
  {
   "cell_type": "markdown",
   "metadata": {},
   "source": [
    "**Here are some possible conclusions that can be drawn from the data of the average duration of calls per month for Megaline's Surf and Ultimate prepaid plans**:\n",
    "\n",
    "- Overall, customers on the Ultimate plan tend to have longer average call durations than those on the Surf plan, as seen in most of the months where both plans have data available.\n",
    "\n",
    "- The difference in average call durations between the two plans varies from month to month, with some months having a larger gap (e.g., Feb-2018) and others having a smaller gap (e.g., May-2018).\n",
    "\n",
    "- Both plans show a general trend of increasing average call durations from January to December, which could indicate a seasonal effect or a trend in customer behavior.\n",
    "\n",
    "- The Surf plan appears to have more variation in its average call durations than the Ultimate plan.  \n",
    "\n",
    "- The highest average duration of calls for both plans was in December 2018.\n",
    "\n",
    "- It's worth noting that the data only shows the average duration of calls per month and doesn't account for other factors that could influence revenue, such as the number of calls made or the quality of the network."
   ]
  },
  {
   "cell_type": "markdown",
   "metadata": {},
   "source": [
    "#### Compare the number of minutes users of each plan require each month"
   ]
  },
  {
   "cell_type": "markdown",
   "metadata": {},
   "source": [
    "Let's compare the number of minutes users of each plan require each month. In order to do that, let's first separate out the records of the two plans from `user_consumption_per_month` and store them in separate dataframes:"
   ]
  },
  {
   "cell_type": "code",
   "execution_count": null,
   "metadata": {},
   "outputs": [],
   "source": [
    "# Separate out the records of the two plans and store separately\n",
    "surf_user_consumption_per_month = user_consumption_per_month[user_consumption_per_month['plan'] == 'surf']\n",
    "ultimate_user_consumption_per_month = user_consumption_per_month[user_consumption_per_month['plan'] == 'ultimate']"
   ]
  },
  {
   "cell_type": "markdown",
   "metadata": {},
   "source": [
    "Let's peek into the data of each of the new Dataframes:"
   ]
  },
  {
   "cell_type": "code",
   "execution_count": null,
   "metadata": {},
   "outputs": [],
   "source": [
    "# Get random 10 records from surf_user_consumption_per_month\n",
    "surf_user_consumption_per_month.sample(n=10, random_state=100)"
   ]
  },
  {
   "cell_type": "code",
   "execution_count": null,
   "metadata": {},
   "outputs": [],
   "source": [
    "# Get random 10 records from ultimate_user_consumption_per_month\n",
    "ultimate_user_consumption_per_month.sample(n=10, random_state=100)"
   ]
  },
  {
   "cell_type": "markdown",
   "metadata": {},
   "source": [
    "Awesome! So, now we are prepared to plot histograms to compare the number of minutes users of each plan require each month:"
   ]
  },
  {
   "cell_type": "code",
   "execution_count": null,
   "metadata": {},
   "outputs": [],
   "source": [
    "# Plot histograms to compare the number of minutes users of each plan require each month\n",
    "surf_user_consumption_per_month['rounded_up_call_mins'].plot.hist(figsize=(16,8), color='Teal')\n",
    "ultimate_user_consumption_per_month['rounded_up_call_mins'].plot.hist(color='Coral', alpha=0.8)\n",
    "\n",
    "# Set the plot attributes\n",
    "plt.legend(['Surf', 'Ultimate'])\n",
    "plt.xlabel('Number of minutes')\n",
    "plt.title('Number of minutes users of each plan require each month')\n",
    "\n",
    "plt.show()"
   ]
  },
  {
   "cell_type": "markdown",
   "metadata": {},
   "source": [
    "After seeing the histogram, we could obvisouly figure out that surf plan has more users. Also, the users of both the surf and ultimate plans tend to spend mostly 300 to 600 minutes per month. But it's the ultimate plan users (even though less in numbers) who spend more time in minutes that the surf plan users."
   ]
  },
  {
   "cell_type": "markdown",
   "metadata": {},
   "source": [
    "#### Check whether users on the different plans have different behaviours for their calls"
   ]
  },
  {
   "cell_type": "markdown",
   "metadata": {},
   "source": [
    "Let's calculate the mean and the variable of the call duration to reason on whether users on the different plans have different behaviours for their calls. Let's create a pivot table:"
   ]
  },
  {
   "cell_type": "code",
   "execution_count": null,
   "metadata": {
    "scrolled": true
   },
   "outputs": [],
   "source": [
    "# Calculate the mean and the variance of the monthly call duration\n",
    "monthly_call_duration_stats = user_consumption_per_month.pivot_table(index='plan', values='rounded_up_call_mins', aggfunc=['mean', 'var', 'std', 'median'])\n",
    "monthly_call_duration_stats.columns = ['mean_monthly_call_mins', 'var_monthly_call_mins', 'std_monthly_call_mins', 'median_monthly_call_mins']\n",
    "monthly_call_duration_stats"
   ]
  },
  {
   "cell_type": "markdown",
   "metadata": {},
   "source": [
    "**Here are some observations on users' behaviours based on the descriptive statistics data of Megaline's Surf and Ultimate plans**:\n",
    "\n",
    "- The Surf plan has a slightly higher mean monthly call duration (436.52 minutes) than the Ultimate plan (434.68 minutes).\n",
    "\n",
    "- The Surf plan has a slightly higher variance of monthly call duration (52,571.06 minutes) than the Ultimate plan (56,573.63 minutes).\n",
    "\n",
    "- The Ultimate plan has a slightly lower standard deviation of monthly call duration (237.85 minutes) compared to the Surf plan (229.28 minutes).\n",
    "\n",
    "- The median monthly call duration for both plans is relatively close, with Surf plan at 430.0 minutes and Ultimate plan at 425.0 minutes."
   ]
  },
  {
   "cell_type": "markdown",
   "metadata": {},
   "source": [
    "#### Visualize the distribution of the monthly call duration"
   ]
  },
  {
   "cell_type": "markdown",
   "metadata": {},
   "source": [
    "Let's plot a box plot to visualize the distribution of the monthly call duration. But, before that, let's have quick refresh of what data our Dataframe - `user_consumption_per_month` holds:"
   ]
  },
  {
   "cell_type": "code",
   "execution_count": null,
   "metadata": {},
   "outputs": [],
   "source": [
    "user_consumption_per_month.head(10)"
   ]
  },
  {
   "cell_type": "markdown",
   "metadata": {},
   "source": [
    "Now, let's get a subset of our data in the Dataframe - `user_consumption_per_month` that belongs to **Surf** plan users. We already have this data in `surf_user_consumption_per_month` Dataframe. So, let's see how the distribution looks for the monthly call distribution of the surf plan holders:"
   ]
  },
  {
   "cell_type": "code",
   "execution_count": null,
   "metadata": {},
   "outputs": [],
   "source": [
    "# Plot a boxplot to visualize the distribution of the monthly call distribution of the surf plan holders\n",
    "surf_user_consumption_per_month['rounded_up_call_mins'].plot.box(figsize=(16,10))\n",
    "\n",
    "# Set the plot attributes\n",
    "plt.ylabel('Monthly call duration (in mins)')\n",
    "plt.title('Distribution of the monthly call duration for Surf plan users')\n",
    "\n",
    "plt.show()"
   ]
  },
  {
   "cell_type": "markdown",
   "metadata": {},
   "source": [
    "Let's also get a descriptive statistics for the Series - `surf_user_consumption_per_month['rounded_up_call_mins']`:"
   ]
  },
  {
   "cell_type": "code",
   "execution_count": null,
   "metadata": {},
   "outputs": [],
   "source": [
    "surf_user_consumption_per_month['rounded_up_call_mins'].describe()"
   ]
  },
  {
   "cell_type": "markdown",
   "metadata": {},
   "source": [
    "Based on the given descriptive statistics data and the observations from the box plot, **we can conclude the following about the distribution of monthly call duration for Surf plan users**:\n",
    "\n",
    "- **Count**: There are **1545 data points** or monthly call duration values available for Surf plan users.\n",
    "\n",
    "- **Mean**: The average monthly call duration for Surf plan users is **436.52 minutes**.\n",
    "\n",
    "- **Standard Deviation**: The standard deviation of monthly call duration for Surf plan users is 229.28 minutes. This indicates that there is a significant variation in monthly call duration among Surf plan users.\n",
    "\n",
    "- **Minimum**: The minimum monthly call duration is **0 minutes**.\n",
    "\n",
    "- **Maximum**: The maximum monthly call duration is **1510 minutes**. This indicates that some Surf plan users made very long calls during the month.  \n",
    "\n",
    "- **Quartiles**: The 25th percentile of monthly call duration is 279 minutes, **the median (50th percentile) is 430 minutes**, and the 75th percentile is 579 minutes. These quartiles divide the data into four equal parts and provide insight into the distribution of monthly call duration for Surf plan users.  \n",
    "\n",
    "- There are outliers or anomalies in the data. **1510 minutes** being the extreme maximum.\n",
    "\n",
    "Overall, we can conclude that **the distribution of monthly call duration for Surf plan users is positively or slightly right skewed**, with a large range of variation in call duration. The majority of Surf plan users (50%) make calls that are less than 430 minutes per month, while some users make very long calls, up to a maximum of 1510 minutes per month."
   ]
  },
  {
   "cell_type": "markdown",
   "metadata": {},
   "source": [
    "Now, let's plot a box plot to viualize the monthwise distribution of the monthly call distribution of the surf plan holders:"
   ]
  },
  {
   "cell_type": "code",
   "execution_count": null,
   "metadata": {},
   "outputs": [],
   "source": [
    "# Plot a boxplot to visualize the monthwise distribution of the monthly call distribution of the surf plan holders\n",
    "surf_user_consumption_per_month.boxplot(by ='month', column =['rounded_up_call_mins'], grid = False, figsize=(16,10))\n",
    "\n",
    "# Set the plot attributes\n",
    "plt.ylabel('Call duration (in mins)')\n",
    "plt.xlabel('Months')\n",
    "plt.title('Monthwise distribution of the monthly call duration for Surf plan users')\n",
    "\n",
    "plt.show()"
   ]
  },
  {
   "cell_type": "markdown",
   "metadata": {},
   "source": [
    "Interesting! We can see that for Surf plan users:\n",
    "- **The most extreme outliers lie in the month of December**. It's when users have talked the maximum.\n",
    "- **There are no outliers in the month of January**. Also, the distribution for this month is symmetrical."
   ]
  },
  {
   "cell_type": "markdown",
   "metadata": {},
   "source": [
    "Now, let's get a subset of our data in the Dataframe - `user_consumption_per_month` that belongs to **Ultimate** plan users. We already have this data in `ultimate_user_consumption_per_month` Dataframe. So, let's see how the distribution looks for the monthly call distribution of the ultimate plan holders:"
   ]
  },
  {
   "cell_type": "code",
   "execution_count": null,
   "metadata": {},
   "outputs": [],
   "source": [
    "# Plot a boxplot to visualize the distribution of the monthly call distribution of the ultimate plan holders\n",
    "ultimate_user_consumption_per_month['rounded_up_call_mins'].plot.box(figsize=(16,10))\n",
    "\n",
    "# Set the plot attributes\n",
    "plt.ylabel('Monthly call duration (in mins)')\n",
    "plt.title('Distribution of the monthly call duration for Ultimate plan users')\n",
    "\n",
    "plt.show()"
   ]
  },
  {
   "cell_type": "markdown",
   "metadata": {},
   "source": [
    "Let's also get a descriptive statistics for the Series - `ultimate_user_consumption_per_month['rounded_up_call_mins']`:"
   ]
  },
  {
   "cell_type": "code",
   "execution_count": null,
   "metadata": {},
   "outputs": [],
   "source": [
    "ultimate_user_consumption_per_month['rounded_up_call_mins'].describe()"
   ]
  },
  {
   "cell_type": "markdown",
   "metadata": {},
   "source": [
    "Based on the given descriptive statistics data and observations from the box plot, **we can conclude the following about the distribution of monthly call duration for Ultimate plan users**:\n",
    "\n",
    "- **Count**: There are **713 data points** or monthly call duration values available.\n",
    "\n",
    "- **Mean**: The average monthly call duration for Ultimate plan users is **434.68 minutes**.\n",
    "\n",
    "- **Standard Deviation**: The standard deviation of monthly call duration for Ultimate plan users is **237.85 minutes**. This indicates that there is a significant variation in monthly call duration among Ultimate plan users.\n",
    "\n",
    "- **Minimum**: The minimum monthly call duration is **0 minutes**.  \n",
    "\n",
    "- **Maximum**: The maximum monthly call duration is **1369 minutes**. This indicates that some Ultimate plan users made very long calls during the month.\n",
    "\n",
    "- **Quartiles**: The 25th percentile of monthly call duration is 263 minutes, **the median (50th percentile) is 425 minutes**, and the 75th percentile is 566 minutes. These quartiles divide the data into four equal parts and provide insight into the distribution of monthly call duration for Ultimate plan users.  \n",
    "\n",
    "- There are outliers or anomalies in the data. **1369 minutes** being the extreme maximum.\n",
    "\n",
    "Overall, we can conclude that **the distribution of monthly call duration for Ultimate plan users is positively skewed or slightly right skewed**, with a large range of variation in call duration. The majority of Ultimate plan users (50%) make calls that are less than 425 minutes per month, while some users make very long calls, up to a maximum of 1369 minutes per month. The mean monthly call duration for Ultimate plan users is slightly higher than that of Surf plan users, but the difference is not significant."
   ]
  },
  {
   "cell_type": "code",
   "execution_count": null,
   "metadata": {},
   "outputs": [],
   "source": [
    "# Plot a boxplot to visualize the monthwise distribution of the monthly call distribution of the ultimate plan holders\n",
    "ultimate_user_consumption_per_month.boxplot(by ='month', column =['rounded_up_call_mins'], grid = False, figsize=(16,10))\n",
    "\n",
    "# Set the plot attributes\n",
    "plt.ylabel('Call duration (in mins)')\n",
    "plt.xlabel('Months')\n",
    "plt.title('Monthwise distribution of the monthly call duration for Ultimate plan users')\n",
    "\n",
    "plt.show()"
   ]
  },
  {
   "cell_type": "markdown",
   "metadata": {},
   "source": [
    "Interesting! We can see that for Ultimate plan users:\n",
    "\n",
    "- The most extreme outliers lie in the month of December. It's when users have talked the maximum. It's the same as for the Surf users.\n",
    "- There are no symmetrical distributions for any month though."
   ]
  },
  {
   "cell_type": "code",
   "execution_count": null,
   "metadata": {},
   "outputs": [],
   "source": [
    "# Plot a boxplot to visualize the distribution of the monthly call duration\n",
    "\n",
    "# Set the order in which months will be plotted on the graph\n",
    "months_order = ['Jan-2018', 'Feb-2018', 'Mar-2018', 'Apr-2018', 'May-2018', 'Jun-2018', 'Jul-2018', 'Aug-2018', 'Sep-2018', 'Oct-2018', 'Nov-2018', 'Dec-2018']\n",
    "\n",
    "# Customize the markers that show outliers in the data\n",
    "flierprops = dict(marker='o', markersize=10, markeredgecolor='black', markerfacecolor='darkgreen', alpha=0.6)\n",
    "\n",
    "# Customize the markers that show mean values\n",
    "meanprops = dict(marker='s', markerfacecolor='white', markeredgecolor='black')\n",
    "\n",
    "plt.figure(figsize=(20,20))\n",
    "my_plot = sns.boxplot(\n",
    "    data=user_consumption_per_month,\n",
    "    y='month',\n",
    "    x='rounded_up_call_mins',\n",
    "    hue='plan',\n",
    "    order=months_order,\n",
    "    showmeans=True,\n",
    "    orient='h',\n",
    "    linewidth=2,\n",
    "    flierprops=flierprops,\n",
    "    meanprops=meanprops,\n",
    "    palette='Set2')\n",
    "\n",
    "# Set the plot attributes\n",
    "my_plot.set_xlabel('Call duration (in mins)', fontsize= 14, fontweight='bold')\n",
    "my_plot.set_ylabel('Months', fontsize= 14, fontweight='bold')\n",
    "my_plot.set_title('Distribution of the monthly call duration for Surf & Ultimate plan users', fontsize= 16, fontweight='bold')\n",
    "\n",
    "plt.show()"
   ]
  },
  {
   "cell_type": "markdown",
   "metadata": {},
   "source": [
    "Wow! So, now we can compare the user behaviours between the two plans:\n",
    "- Mostly all the users regardless of the plan they are in, talk less in the starting of the year but they tend to talk more as we progess towards the end of the year.\n",
    "- In both the plans, December is the month when users have talked the most.\n",
    "- We could notice the mean of the distribution by white colored square in the graph. There was high variation between plans in average call durations at the beginning of the year. The mean/median call durations are generally quite different from months 1-5. From months 6-12, the means, medians, overall distributions look very similar."
   ]
  },
  {
   "cell_type": "markdown",
   "metadata": {},
   "source": [
    " "
   ]
  },
  {
   "cell_type": "markdown",
   "metadata": {},
   "source": [
    "### Messages"
   ]
  },
  {
   "cell_type": "markdown",
   "metadata": {},
   "source": [
    "Let's do some statistical study on the Messages. But, before proceeding, it will be great to refresh our memory with how the data under study looks like - `user_consumption_per_month`:"
   ]
  },
  {
   "cell_type": "code",
   "execution_count": null,
   "metadata": {},
   "outputs": [],
   "source": [
    "user_consumption_per_month.head(10)"
   ]
  },
  {
   "cell_type": "markdown",
   "metadata": {},
   "source": [
    "#### Compare average number of messages per each plan per each distinct month"
   ]
  },
  {
   "cell_type": "markdown",
   "metadata": {},
   "source": [
    "Let's compare average number of messages per each plan per each distinct month."
   ]
  },
  {
   "cell_type": "code",
   "execution_count": null,
   "metadata": {},
   "outputs": [],
   "source": [
    "# Compare average number of messages per each plan per each distinct month \n",
    "mean_no_of_messages = user_consumption_per_month.pivot_table(index='month', columns='plan', aggfunc='mean', values='number_of_messages')\n",
    "mean_no_of_messages"
   ]
  },
  {
   "cell_type": "markdown",
   "metadata": {},
   "source": [
    "That's good. But, the mean has calculated the average values for number of messages per month in float. Since that doesn't make sense for **Number of Messages** column, we'll round the values to the nearest integer."
   ]
  },
  {
   "cell_type": "code",
   "execution_count": null,
   "metadata": {},
   "outputs": [],
   "source": [
    "mean_no_of_messages['surf'] = mean_no_of_messages['surf'].round(0)\n",
    "mean_no_of_messages['ultimate'] = mean_no_of_messages['ultimate'].round(0)\n",
    "mean_no_of_messages"
   ]
  },
  {
   "cell_type": "code",
   "execution_count": null,
   "metadata": {},
   "outputs": [],
   "source": [
    "# Plot a bar plot to visualize - mean_no_of_messages\n",
    "mean_no_of_messages.plot.bar(figsize=(16,8), rot=0, color=['CornflowerBlue', 'Tomato'])\n",
    "\n",
    "# Set the plot attributes\n",
    "plt.title('Average number of messages per each plan per each distinct month')\n",
    "plt.ylabel('Number of messages')\n",
    "plt.xlabel('Months (sorted alphabetically)')\n",
    "\n",
    "plt.show()"
   ]
  },
  {
   "cell_type": "markdown",
   "metadata": {},
   "source": [
    "Based on the visualization about **the average number of messages per month for Megaline's Surf and Ultimate prepaid plans, we can analyze and conclude the following**:\n",
    "\n",
    "- In most months, **Ultimate plan users sent more average messages per month compared to Surf plan users**.\n",
    "- The average number of messages sent per month was relatively consistent for Surf plan users throughout the year, with little variation.\n",
    "- The average number of messages sent per month for Ultimate plan users had some fluctuations over time but showed an increasing trend overall.\n",
    "- **The highest average number of messages sent per month for both plans was in December 2018**.\n",
    "- There is a significant difference between the average number of messages sent per month by Surf and Ultimate plan users in some months (e.g., August 2018, May 2018, March 2018).\n",
    "- **The average number of messages sent by both Surf and Ultimate plan users is relatively low**, with most months having an average of fewer than 50 messages per month."
   ]
  },
  {
   "cell_type": "markdown",
   "metadata": {},
   "source": [
    "#### Compare the number of messages users of each plan require each month"
   ]
  },
  {
   "cell_type": "markdown",
   "metadata": {},
   "source": [
    "Let's compare the number of messages users of each plan require each month. We already have separated out the records of the two plans from `user_consumption_per_month` in `surf_user_consumption_per_month` and `ultimate_user_consumption_per_month`:"
   ]
  },
  {
   "cell_type": "code",
   "execution_count": null,
   "metadata": {},
   "outputs": [],
   "source": [
    "# Get first 10 records\n",
    "surf_user_consumption_per_month.head(10)"
   ]
  },
  {
   "cell_type": "code",
   "execution_count": null,
   "metadata": {},
   "outputs": [],
   "source": [
    "# Get first 10 records\n",
    "ultimate_user_consumption_per_month.head(10)"
   ]
  },
  {
   "cell_type": "markdown",
   "metadata": {},
   "source": [
    "Awesome! So, now we are prepared to plot histograms to compare the number of messages users of each plan require each month:"
   ]
  },
  {
   "cell_type": "code",
   "execution_count": null,
   "metadata": {},
   "outputs": [],
   "source": [
    "# Plot histograms to compare the number of minutes users of each plan require each month\n",
    "surf_user_consumption_per_month['number_of_messages'].plot.hist(figsize=(16,8), color='Teal')\n",
    "ultimate_user_consumption_per_month['number_of_messages'].plot.hist(color='Coral', alpha=0.8)\n",
    "\n",
    "# Set the plot attributes\n",
    "plt.legend(['Surf', 'Ultimate'])\n",
    "plt.xlabel('Number of messages')\n",
    "plt.title('Number of messages users of each plan require each month')\n",
    "\n",
    "plt.show()"
   ]
  },
  {
   "cell_type": "markdown",
   "metadata": {},
   "source": [
    "We can conclude that:\n",
    "- Users from both the plans don't need many messages per month.\n",
    "- Majority of the users use less number of messages.\n",
    "- The maximum number of messages needed by Surf plan users is close to 190.\n",
    "- The maximum number of messages needed by Ultimate plan users is close to 170."
   ]
  },
  {
   "cell_type": "markdown",
   "metadata": {},
   "source": [
    "#### Check whether users on the different plans have different behaviours for their text messages"
   ]
  },
  {
   "cell_type": "markdown",
   "metadata": {},
   "source": [
    "Let's calculate the mean and the variable of the number of messages to reason on whether users on the different plans have different behaviours for their calls. Let's create a pivot table:"
   ]
  },
  {
   "cell_type": "code",
   "execution_count": null,
   "metadata": {},
   "outputs": [],
   "source": [
    "# Calculate the mean and the variance of the monthly no of messages\n",
    "monthly_no_of_messages_stats = user_consumption_per_month.pivot_table(index='plan', values='number_of_messages', aggfunc=['mean', 'var', 'std', 'median'])\n",
    "monthly_no_of_messages_stats.columns = ['mean_monthly_no_of_messages', 'var_monthly_no_of_messages', 'std_monthly_no_of_messages', 'median_monthly_no_of_messages']\n",
    "monthly_no_of_messages_stats"
   ]
  },
  {
   "cell_type": "markdown",
   "metadata": {},
   "source": [
    "**The descriptive statistics data of Megaline's Surf and Ultimate plans for monthly number of messages reveals the following information** about users on the different plans and their behaviors for the number of messages they use each month:\n",
    "\n",
    "- The mean of the monthly number of messages is higher for Ultimate plan users than for Surf plan users, with Ultimate plan users sending an average of 46.30 messages per month compared to Surf plan users sending an average of 40.11 messages per month.\n",
    "- The variance of the monthly number of messages is similar for both plans, indicating that **there is a similar degree of variability in the number of messages used each month by both Surf and Ultimate plan users**.\n",
    "- The standard deviation of the monthly number of messages is similar for both plans, with Ultimate plan users having a slightly lower standard deviation than Surf plan users.\n",
    "- **The median of the monthly number of messages is higher for Ultimate plan users than for Surf plan users**, with Ultimate plan users having a median of 41 messages per month compared to Surf plan users having a median of 32 messages per month.  \n",
    "\n",
    "Based on the above statistics, **we can conclude that Ultimate plan users send more messages on average and have a higher median number of messages per month compared to Surf plan users**. Additionally, both plans have a similar degree of variability in the monthly number of messages sent, with Surf plan users having a slightly higher standard deviation."
   ]
  },
  {
   "cell_type": "markdown",
   "metadata": {},
   "source": [
    "#### Visualize the distribution of the monthly number of messages sent"
   ]
  },
  {
   "cell_type": "markdown",
   "metadata": {},
   "source": [
    "Let's plot a box plot to visualize the distribution of the monthly number of messages sent. But, before that, let's have quick refresh of what data our Dataframe - `user_consumption_per_month` holds:"
   ]
  },
  {
   "cell_type": "code",
   "execution_count": null,
   "metadata": {},
   "outputs": [],
   "source": [
    "user_consumption_per_month.head(10)"
   ]
  },
  {
   "cell_type": "markdown",
   "metadata": {},
   "source": [
    "Now, let's get a subset of our data in the Dataframe - `user_consumption_per_month` that belongs to **Surf** plan users. We already have this data in `surf_user_consumption_per_month` Dataframe. So, let's see how the distribution looks for the monthly number of messages sent for the surf plan holders:"
   ]
  },
  {
   "cell_type": "code",
   "execution_count": null,
   "metadata": {},
   "outputs": [],
   "source": [
    "# Plot a boxplot to visualize the distribution of the monthly no of messages sent for the surf plan holders\n",
    "surf_user_consumption_per_month['number_of_messages'].plot.box(figsize=(16,10))\n",
    "\n",
    "# Set the plot attributes\n",
    "plt.ylabel('Monthly no of messages')\n",
    "plt.title('Distribution of the monthly no of messages sent for Surf plan users')\n",
    "\n",
    "plt.show()"
   ]
  },
  {
   "cell_type": "markdown",
   "metadata": {},
   "source": [
    "Let's also get a descriptive statistics for the Series - `surf_user_consumption_per_month['number_of_messages']`:"
   ]
  },
  {
   "cell_type": "code",
   "execution_count": null,
   "metadata": {},
   "outputs": [],
   "source": [
    "surf_user_consumption_per_month['number_of_messages'].describe()"
   ]
  },
  {
   "cell_type": "markdown",
   "metadata": {},
   "source": [
    "**Based on the given descriptive statistics data and the observations from the box plot, we can conclude the following about the distribution of monthly number of messages for Surf plan users**:\n",
    "\n",
    "- **Count**: There are **1222 data points or monthly number of messages values** available.\n",
    "\n",
    "- **Mean**: The average monthly number of messages for Surf plan users is **40.11 or 40 approximately**.\n",
    "\n",
    "- **Standard Deviation**: The standard deviation of monthly number of messages for Surf plan users is **33.04**. This indicates that there is a significant variation in monthly number of messages among Surf plan users.\n",
    "\n",
    "- **Minimum**: The minimum monthly number of messages is **1**. This indicates that **some users sent only one message during the month**.\n",
    "\n",
    "- **Maximum**: The maximum monthly number of messages is **266**. This indicates that **some Surf plan users sent a large number of messages during the month**.\n",
    "\n",
    "- **Quartiles**: The 25th percentile of monthly number of messages is 16, **the median (50th percentile) is 32**, and the 75th percentile is 54.  \n",
    "\n",
    "- The distribution has many outliers, **266 being the maximum**.  \n",
    "\n",
    "Overall, we can conclude that **the distribution of monthly number of messages for Surf plan users is positively skewed or right skewed**, with a large range of variation in the number of messages sent. **The majority of Surf plan users (50%) sent 32 or fewer messages per month, while some users sent up to 266 messages per month**. "
   ]
  },
  {
   "cell_type": "markdown",
   "metadata": {},
   "source": [
    "Now, let's plot a box plot to viualize the monthwise distribution of the number of messages sent for the surf plan holders:"
   ]
  },
  {
   "cell_type": "code",
   "execution_count": null,
   "metadata": {},
   "outputs": [],
   "source": [
    "# Plot a boxplot to visualize the monthwise distribution of the number of messages sent for the surf plan holders\n",
    "surf_user_consumption_per_month.boxplot(by ='month', column =['number_of_messages'], grid = False, figsize=(16,10))\n",
    "\n",
    "# Set the plot attributes\n",
    "plt.ylabel('Number of messages sent')\n",
    "plt.xlabel('Months')\n",
    "plt.title('Monthwise distribution of the number of messages sent for the surf plan users')\n",
    "\n",
    "plt.show()"
   ]
  },
  {
   "cell_type": "markdown",
   "metadata": {},
   "source": [
    "Interesting! We can see that for Surf plan users:\n",
    "- **The most extreme outliers lie in the month of December**. It's when users have texted the maximum.\n",
    "- **There are no outliers in the months of January, February and March**."
   ]
  },
  {
   "cell_type": "markdown",
   "metadata": {},
   "source": [
    "Now, let's get a subset of our data in the Dataframe - `user_consumption_per_month` that belongs to **Ultimate** plan users. We already have this data in `ultimate_user_consumption_per_month` Dataframe. So, let's see how the distribution looks for the monthly number of messages sent for the ultimate plan holders:"
   ]
  },
  {
   "cell_type": "code",
   "execution_count": null,
   "metadata": {},
   "outputs": [],
   "source": [
    "# Plot a boxplot to visualize the distribution of the monthly no of messages sent for the ultimate plan holders\n",
    "ultimate_user_consumption_per_month['number_of_messages'].plot.box(figsize=(16,10))\n",
    "\n",
    "# Set the plot attributes\n",
    "plt.ylabel('Monthly no of messages')\n",
    "plt.title('Distribution of the monthly no of messages sent for Ultimate plan users')\n",
    "\n",
    "plt.show()"
   ]
  },
  {
   "cell_type": "markdown",
   "metadata": {},
   "source": [
    "Let's also get a descriptive statistics for the Series - `ultimate_user_consumption_per_month['number_of_messages']`:"
   ]
  },
  {
   "cell_type": "code",
   "execution_count": null,
   "metadata": {},
   "outputs": [],
   "source": [
    "ultimate_user_consumption_per_month['number_of_messages'].describe()"
   ]
  },
  {
   "cell_type": "markdown",
   "metadata": {},
   "source": [
    "**Based on the given descriptive statistics data and the observations from the box plot, we can conclude the following about the distribution of monthly number of messages for Ultimate plan users**:\n",
    "\n",
    "- **Count**: There are **584 data points or monthly number of messages values** available.\n",
    "\n",
    "- **Mean**: The average monthly number of messages for Ultimate plan users is **46.30 or 46 approximately**.\n",
    "\n",
    "- **Standard Deviation**: The standard deviation of monthly number of messages for Ultimate plan users is **32.94**. This indicates that there is a significant variation in monthly number of messages among Ultimate plan users.\n",
    "\n",
    "- **Minimum**: The minimum monthly number of messages is **1**. **This indicates that some users sent only one message during the month**.\n",
    "\n",
    "- **Maximum**: The maximum monthly number of messages is **166**. **This indicates that some Ultimate plan users sent a large number of messages during the month, but the maximum is lower than that of Surf plan users**.\n",
    "\n",
    "- **Quartiles**: The 25th percentile of monthly number of messages is 21, **the median (50th percentile) is 41**, and the 75th percentile is 66. These quartiles divide the data into four equal parts and provide insight into the distribution of monthly number of messages for Ultimate plan users.  \n",
    "\n",
    "- There are outliers in the distribution, **166** being the maximum.  \n",
    "\n",
    "Overall, we can conclude that **the distribution of monthly number of messages for Ultimate plan users is positively skewed or right skewed**, with a large range of variation in the number of messages sent. **The majority of Ultimate plan users (50%) sent 41 or fewer messages per month, while some users sent up to 166 messages per month. The mean monthly number of messages for Ultimate plan users is slightly higher than that of Surf plan users**. However, the maximum monthly number of messages is lower for Ultimate plan users compared to Surf plan users."
   ]
  },
  {
   "cell_type": "code",
   "execution_count": null,
   "metadata": {},
   "outputs": [],
   "source": [
    "# Plot a boxplot to visualize the monthwise distribution of the number of messages sent for the ultimate plan holders\n",
    "ultimate_user_consumption_per_month.boxplot(by ='month', column =['number_of_messages'], grid = False, figsize=(16,10))\n",
    "\n",
    "# Set the plot attributes\n",
    "plt.ylabel('Number of messages sent')\n",
    "plt.xlabel('Months')\n",
    "plt.title('Monthwise distribution of the number of messages sent for the Ultimate plan users')\n",
    "\n",
    "plt.show()"
   ]
  },
  {
   "cell_type": "markdown",
   "metadata": {},
   "source": [
    "Interesting! We can see that for Ultimate plan users:\n",
    "- **The most extreme outliers lie in the month of November**. It's when users have texted the maximum.\n",
    "- **There are no outliers in the months of January, March and December**."
   ]
  },
  {
   "cell_type": "code",
   "execution_count": null,
   "metadata": {},
   "outputs": [],
   "source": [
    "# Plot a boxplot to visualize the distribution of the monthly no of messages sent by users\n",
    "\n",
    "# Set the order in which months will be plotted on the graph\n",
    "months_order = ['Jan-2018', 'Feb-2018', 'Mar-2018', 'Apr-2018', 'May-2018', 'Jun-2018', 'Jul-2018', 'Aug-2018', 'Sep-2018', 'Oct-2018', 'Nov-2018', 'Dec-2018']\n",
    "\n",
    "# Customize the markers that show outliers in the data\n",
    "flierprops = dict(marker='o', markersize=10, markeredgecolor='black', markerfacecolor='darkgreen', alpha=0.6)\n",
    "\n",
    "# Customize the markers that show mean values\n",
    "meanprops = dict(marker='s', markerfacecolor='white', markeredgecolor='black')\n",
    "\n",
    "plt.figure(figsize=(20,20))\n",
    "my_plot = sns.boxplot(\n",
    "    data=user_consumption_per_month,\n",
    "    y='month',\n",
    "    x='number_of_messages',\n",
    "    hue='plan',\n",
    "    order=months_order,\n",
    "    showmeans=True,\n",
    "    orient='h',\n",
    "    linewidth=2,\n",
    "    flierprops=flierprops,\n",
    "    meanprops=meanprops,\n",
    "    palette='Set2')\n",
    "\n",
    "# Set the plot attributes\n",
    "my_plot.set_xlabel('Number of messages sent', fontsize= 14, fontweight='bold')\n",
    "my_plot.set_ylabel('Months', fontsize= 14, fontweight='bold')\n",
    "my_plot.set_title('Distribution of the monthly no of messages sent for Surf & Ultimate plan users', fontsize= 16, fontweight='bold')\n",
    "\n",
    "plt.show()"
   ]
  },
  {
   "cell_type": "markdown",
   "metadata": {},
   "source": [
    "Wow! So, now we can compare the user behaviours between the two plans:\n",
    "- Mostly all the users regardless of the plan they are in, message less in the starting of the year but they tend to message more as we progess towards the end of the year.\n",
    "- In the Surf plan, December is the month when users have messaged the most and in the Ultimate plan, November is the month when users have messaged the most."
   ]
  },
  {
   "cell_type": "markdown",
   "metadata": {},
   "source": [
    "### Internet"
   ]
  },
  {
   "cell_type": "markdown",
   "metadata": {},
   "source": [
    "Let's do some statistical study on the Internet. But, before proceeding, it will be great to refresh our memory with how the data under study looks like - `user_consumption_per_month`:"
   ]
  },
  {
   "cell_type": "code",
   "execution_count": null,
   "metadata": {},
   "outputs": [],
   "source": [
    "# Get first 10 records\n",
    "user_consumption_per_month.head(10)"
   ]
  },
  {
   "cell_type": "markdown",
   "metadata": {},
   "source": [
    "#### Compare average amount of internet traffic consumed by users per each plan per each distinct month"
   ]
  },
  {
   "cell_type": "markdown",
   "metadata": {},
   "source": [
    "Let's compare average amount of internet traffic consumed by users (in GBs) per each plan per each distinct month."
   ]
  },
  {
   "cell_type": "code",
   "execution_count": null,
   "metadata": {},
   "outputs": [],
   "source": [
    "# Compare average amount of internet traffic consumed by users per each plan per each distinct month  \n",
    "mean_internet_traffic_consumed = user_consumption_per_month.pivot_table(index='month', columns='plan', aggfunc='mean', values='rounded_up_gb_used')\n",
    "mean_internet_traffic_consumed"
   ]
  },
  {
   "cell_type": "code",
   "execution_count": null,
   "metadata": {},
   "outputs": [],
   "source": [
    "# Plot a bar plot to visualize - mean_internet_traffic_consumed\n",
    "mean_internet_traffic_consumed.plot.bar(figsize=(16,8), rot=0, color=['CornflowerBlue', 'Tomato'])\n",
    "\n",
    "# Set the plot attributes\n",
    "plt.title('Average amount of internet traffic consumed by users per each plan per each distinct month')\n",
    "plt.ylabel('Internet traffic consumed in Gigabytes (GBs)')\n",
    "plt.xlabel('Months (sorted alphabetically)')\n",
    "\n",
    "plt.show()"
   ]
  },
  {
   "cell_type": "markdown",
   "metadata": {},
   "source": [
    "**From the given data and the plot about the average amount of internet traffic consumed by users per each plan per each distinct month, we can conclude the following**:  \n",
    "- Both plans show a similar pattern in internet usage over time, with higher consumption during the later months of the year (Oct, Nov, Dec) and lower consumption during the early months (Jan, Feb, Mar).\n",
    "- January appears to be the month with the least amount of internet usage for both plans.\n",
    "- The difference in average internet usage between the two plans is not significant, with only about a 2-3 GB difference on average."
   ]
  },
  {
   "cell_type": "markdown",
   "metadata": {},
   "source": [
    "#### Compare the number of internet GBs users of each plan require each month"
   ]
  },
  {
   "cell_type": "markdown",
   "metadata": {},
   "source": [
    "Let's compare the number of internet GBs users of each plan require each month. We already have separated out the records of the two plans from `user_consumption_per_month` in `surf_user_consumption_per_month` and `ultimate_user_consumption_per_month`:"
   ]
  },
  {
   "cell_type": "code",
   "execution_count": null,
   "metadata": {},
   "outputs": [],
   "source": [
    "# Get first 10 records for surf users\n",
    "surf_user_consumption_per_month.head(10)"
   ]
  },
  {
   "cell_type": "code",
   "execution_count": null,
   "metadata": {},
   "outputs": [],
   "source": [
    "# Get first 10 records for ultimate users\n",
    "ultimate_user_consumption_per_month.head(10)"
   ]
  },
  {
   "cell_type": "markdown",
   "metadata": {},
   "source": [
    "Awesome! So, now we are prepared to plot histograms to compare the number of internet GBs users of each plan require each month:"
   ]
  },
  {
   "cell_type": "code",
   "execution_count": null,
   "metadata": {},
   "outputs": [],
   "source": [
    "# Plot histograms to compare the number of internet GBs users of each plan require each month\n",
    "surf_user_consumption_per_month['rounded_up_gb_used'].plot.hist(figsize=(16,8), color='Teal')\n",
    "ultimate_user_consumption_per_month['rounded_up_gb_used'].plot.hist(color='Coral', alpha=0.8)\n",
    "\n",
    "# Set the plot attributes\n",
    "plt.legend(['Surf', 'Ultimate'])\n",
    "plt.xlabel('Number of internet GBs')\n",
    "plt.title('Number of internet GBs users of each plan require each month')\n",
    "\n",
    "plt.show()"
   ]
  },
  {
   "cell_type": "markdown",
   "metadata": {},
   "source": [
    "We can conclude that:  \n",
    "- Majority of the users in both the plans use somewhere between 15 to 22 GBs of internet each month.\n",
    "- The maximum number of internet GBs needed by Surf plan users is close to 42.\n",
    "- The maximum number of internet GBs needed by Ultimate plan users is close to 46."
   ]
  },
  {
   "cell_type": "markdown",
   "metadata": {},
   "source": [
    "#### Check whether users on the different plans have different behaviours for their internet traffic consumption"
   ]
  },
  {
   "cell_type": "markdown",
   "metadata": {},
   "source": [
    "Let's calculate the mean and the variable of the number of internet GBs used to reason on whether users on the different plans have different behaviours for their internet traffic consumption. Let's create a pivot table:"
   ]
  },
  {
   "cell_type": "code",
   "execution_count": null,
   "metadata": {},
   "outputs": [],
   "source": [
    "# Calculate the mean and the variance of the monthly internet traffic consumption in GBs\n",
    "monthly_internet_traffic_stats = user_consumption_per_month.pivot_table(index='plan', values='rounded_up_gb_used', aggfunc=['mean', 'var', 'std', 'median'])\n",
    "monthly_internet_traffic_stats.columns = ['mean_monthly_internet_GBs', 'var_monthly_internet_GBs', 'std_monthly_internet_GBs', 'median_monthly_internet_GBs']\n",
    "monthly_internet_traffic_stats"
   ]
  },
  {
   "cell_type": "markdown",
   "metadata": {},
   "source": [
    "Based on the descriptive statistics data provided, we can conclude the following about the internet traffic consumption of users on the Surf and Ultimate plans:\n",
    "\n",
    "- The mean monthly internet traffic consumption for both plans is relatively similar, with Surf users consuming an average of 16.83 GBs and Ultimate users consuming an average of 17.33 GBs.\n",
    "- The variance and standard deviation for monthly internet traffic consumption are also quite similar for both plans.\n",
    "- The median monthly internet traffic consumption for both plans is identical at 17 GBs.\n",
    "- The standard deviation is relatively small for both plans, indicating that the data is clustered around the mean and there is not a large amount of variability in internet traffic consumption among users on each plan.  \n",
    "\n",
    "Overall, these statistics suggest that **users on both plans consume similar amounts of internet traffic on average, with relatively little variation among users within each plan**."
   ]
  },
  {
   "cell_type": "markdown",
   "metadata": {},
   "source": [
    "#### Visualize the distribution of the monthly internet traffic consumption by users"
   ]
  },
  {
   "cell_type": "markdown",
   "metadata": {},
   "source": [
    "Let's plot a box plot to visualize the distribution of the monthly internet traffic consumption by users. But, before that, let's have quick refresh of what data our Dataframe - `user_consumption_per_month` holds:"
   ]
  },
  {
   "cell_type": "code",
   "execution_count": null,
   "metadata": {},
   "outputs": [],
   "source": [
    "user_consumption_per_month.head(10)"
   ]
  },
  {
   "cell_type": "markdown",
   "metadata": {},
   "source": [
    "Now, let's get a subset of our data in the Dataframe - `user_consumption_per_month` that belongs to **Surf** plan users. We already have this data in `surf_user_consumption_per_month` Dataframe. So, let's see how the distribution looks for the monthly internet traffic consumption by the surf plan holders:"
   ]
  },
  {
   "cell_type": "code",
   "execution_count": null,
   "metadata": {},
   "outputs": [],
   "source": [
    "# Plot a boxplot to visualize the distribution of the monthly internet traffic consumption by the surf plan holders\n",
    "surf_user_consumption_per_month['rounded_up_gb_used'].plot.box(figsize=(16,10))\n",
    "\n",
    "# Set the plot attributes\n",
    "plt.ylabel('Internet Traffic in GBs')\n",
    "plt.title('Distribution of the monthly internet traffic consumption (in GBs) by the surf plan users')\n",
    "\n",
    "plt.show()"
   ]
  },
  {
   "cell_type": "markdown",
   "metadata": {},
   "source": [
    "Let's also get a descriptive statistics for the Series - `surf_user_consumption_per_month['rounded_up_gb_used']`:"
   ]
  },
  {
   "cell_type": "code",
   "execution_count": null,
   "metadata": {},
   "outputs": [],
   "source": [
    "surf_user_consumption_per_month['rounded_up_gb_used'].describe()"
   ]
  },
  {
   "cell_type": "markdown",
   "metadata": {},
   "source": [
    "**Based on the given descriptive statistics data and the observations from the box plot above, we can conclude the following about the distribution of monthly internet traffic consumption for Surf plan users**:\n",
    "\n",
    "- **Count**: There are **1558 data points** or monthly internet traffic consumption values available.\n",
    "\n",
    "- **Mean**: The average monthly internet traffic consumption for Surf plan users is **16.83 GB**.\n",
    "\n",
    "- **Standard Deviation**: The standard deviation of monthly internet traffic consumption for Surf plan users is **7.71 GB**. This indicates that there is a significant variation in monthly internet traffic consumption among Surf plan users.\n",
    "\n",
    "- **Minimum**: The minimum monthly internet traffic consumption is **1 GB**. This indicates that some users consumed very little internet traffic during the month.\n",
    "\n",
    "- **Maximum**: The maximum monthly internet traffic consumption is **70 GB**. This indicates that some Surf plan users consumed a large amount of internet traffic during the month.\n",
    "\n",
    "- **Quartiles**: The 25th percentile of monthly internet traffic consumption is 12 GB, **the median (50th percentile) is 17 GB**, and the 75th percentile is 21 GB.  \n",
    "\n",
    "- There are many outliers in the distribution, **70 GB** being the maximum.\n",
    "\n",
    "Overall, we can conclude that **the distribution of monthly internet traffic consumption for Surf plan users is positively skewed or right skewed**, with a large range of variation in the amount of internet traffic consumed. **The majority of Surf plan users (50%) consumed between 12 GB and 21 GB of internet traffic per month**, while some users consumed as little as 1 GB and as much as 70 GB. "
   ]
  },
  {
   "cell_type": "markdown",
   "metadata": {},
   "source": [
    "Now, let's plot a box plot to visualize the monthwise distribution of internet traffic consumption (in GBs) for the surf plan holders:"
   ]
  },
  {
   "cell_type": "code",
   "execution_count": null,
   "metadata": {},
   "outputs": [],
   "source": [
    "# Plot a boxplot to visualize the monthwise distribution of internet traffic consumption (in GBs) for the surf plan holders\n",
    "surf_user_consumption_per_month.boxplot(by ='month', column =['rounded_up_gb_used'], grid = False, figsize=(16,10))\n",
    "\n",
    "# Set the plot attributes\n",
    "plt.ylabel('Internet traffic (in GBs) consumed')\n",
    "plt.xlabel('Months')\n",
    "plt.title('Monthwise distribution of internet traffic consumption (in GBs) for the surf plan users')\n",
    "\n",
    "plt.show()"
   ]
  },
  {
   "cell_type": "markdown",
   "metadata": {},
   "source": [
    "Interesting! We can see that for Surf plan users:\n",
    "- **The most extreme outliers lie in the month of December**. It's when users have used internet the most.\n",
    "- **There are no outliers in the months of January, February, March and April**."
   ]
  },
  {
   "cell_type": "markdown",
   "metadata": {},
   "source": [
    "Now, let's get a subset of our data in the Dataframe - `user_consumption_per_month` that belongs to **Ultimate** plan users. We already have this data in `ultimate_user_consumption_per_month` Dataframe. So, let's see how the distribution looks for the monthly internet traffic consumption by the Ultimate plan holders::"
   ]
  },
  {
   "cell_type": "code",
   "execution_count": null,
   "metadata": {},
   "outputs": [],
   "source": [
    "# Plot a boxplot to visualize the distribution of the monthly internet traffic consumption by the ultimate plan holders\n",
    "ultimate_user_consumption_per_month['rounded_up_gb_used'].plot.box(figsize=(16,10))\n",
    "\n",
    "# Set the plot attributes\n",
    "plt.ylabel('Internet Traffic in GBs')\n",
    "plt.title('Distribution of the monthly internet traffic consumption (in GBs) by the ultimate plan users')\n",
    "\n",
    "plt.show()"
   ]
  },
  {
   "cell_type": "markdown",
   "metadata": {},
   "source": [
    "Let's also get a descriptive statistics for the Series - `ultimate_user_consumption_per_month['rounded_up_gb_used']`:"
   ]
  },
  {
   "cell_type": "code",
   "execution_count": null,
   "metadata": {},
   "outputs": [],
   "source": [
    "ultimate_user_consumption_per_month['rounded_up_gb_used'].describe()"
   ]
  },
  {
   "cell_type": "markdown",
   "metadata": {},
   "source": [
    "**Based on the given descriptive statistics data and the observations from the box plot, we can conclude the following about the distribution of monthly internet traffic consumption for Ultimate plan users**:\n",
    "\n",
    "- **Count**: There are **719 data points** or monthly internet traffic consumption values available.\n",
    "\n",
    "- **Mean**: The average monthly internet traffic consumption for Ultimate plan users is **17.33 GB**.\n",
    "\n",
    "- **Standard Deviation**: The standard deviation of monthly internet traffic consumption for Ultimate plan users is **7.65 GB**. This indicates that there is a significant variation in monthly internet traffic consumption among Ultimate plan users.\n",
    "\n",
    "- **Minimum**: The minimum monthly internet traffic consumption is **1 GB**. This indicates that some users consumed very little internet traffic during the month.\n",
    "\n",
    "- **Maximum**: The maximum monthly internet traffic consumption is **46 GB**. This indicates that some Ultimate plan users consumed a large amount of internet traffic during the month, but not as much as some Surf plan users.\n",
    "\n",
    "- **Quartiles**: The 25th percentile of monthly internet traffic consumption is 13 GB, **the median (50th percentile) is 17 GB**, and the 75th percentile is 21 GB. These quartiles divide the data into four equal parts and provide insight into the distribution of monthly internet traffic consumption for Ultimate plan users.  \n",
    "\n",
    "- There are many outliers in the distribution, **46GB** beign the maxixmum.  \n",
    "\n",
    "Overall, we can conclude that **the distribution of monthly internet traffic consumption for Ultimate plan users is also slightly positively skewed or very slighty right skewed (Mean - 17.33 GB > Median 17GB)**. **The majority of Ultimate plan users (50%) consumed between 13 GB and 21 GB of internet traffic per month, while some users consumed as little as 1 GB and as much as 46 GB**. The mean monthly internet traffic consumption for Ultimate plan users is 17.33 GB, which is slightly higher than the mean consumption for Surf plan users. However, the difference is not very significant."
   ]
  },
  {
   "cell_type": "code",
   "execution_count": null,
   "metadata": {},
   "outputs": [],
   "source": [
    "# Plot a boxplot to visualize the monthwise distribution of the internet traffic consumption (in GBs) by the ultimate plan holders\n",
    "ultimate_user_consumption_per_month.boxplot(by ='month', column =['rounded_up_gb_used'], grid = False, figsize=(16,10))\n",
    "\n",
    "# Set the plot attributes\n",
    "plt.ylabel('Internet traffic consumed (in GBs)')\n",
    "plt.xlabel('Months')\n",
    "plt.title('Monthwise distribution of the internet traffic consumption (in GBs) by the Ultimate plan users')\n",
    "\n",
    "plt.show()"
   ]
  },
  {
   "cell_type": "markdown",
   "metadata": {},
   "source": [
    "Interesting! We can see that for Ultimate plan users:\n",
    "\n",
    "- The most extreme outliers lie in the months of December and October. It's when users have used internet the most.\n",
    "- There are no outliers in the months of January, March and April."
   ]
  },
  {
   "cell_type": "code",
   "execution_count": null,
   "metadata": {},
   "outputs": [],
   "source": [
    "# Plot a boxplot to visualize the distribution of the monthly internet traffic consumption (in GBs) by users\n",
    "\n",
    "# Set the order in which months will be plotted on the graph\n",
    "months_order = ['Jan-2018', 'Feb-2018', 'Mar-2018', 'Apr-2018', 'May-2018', 'Jun-2018', 'Jul-2018', 'Aug-2018', 'Sep-2018', 'Oct-2018', 'Nov-2018', 'Dec-2018']\n",
    "\n",
    "# Customize the markers that show outliers in the data\n",
    "flierprops = dict(marker='o', markersize=10, markeredgecolor='black', markerfacecolor='darkgreen', alpha=0.6)\n",
    "\n",
    "# Customize the markers that show mean values\n",
    "meanprops = dict(marker='s', markerfacecolor='white', markeredgecolor='black')\n",
    "\n",
    "plt.figure(figsize=(20,20))\n",
    "my_plot = sns.boxplot(\n",
    "    data=user_consumption_per_month,\n",
    "    y='month',\n",
    "    x='rounded_up_gb_used',\n",
    "    hue='plan',\n",
    "    order=months_order,\n",
    "    showmeans=True,\n",
    "    orient='h',\n",
    "    linewidth=2,\n",
    "    flierprops=flierprops,\n",
    "    meanprops=meanprops,\n",
    "    palette='Set2')\n",
    "\n",
    "# Set the plot attributes\n",
    "my_plot.set_xlabel('Internet traffic consumed (in GBs)', fontsize= 14, fontweight='bold')\n",
    "my_plot.set_ylabel('Months', fontsize= 14, fontweight='bold')\n",
    "my_plot.set_title('Distribution of the monthly internet traffic consumption (in GBs) by Surf & Ultimate plan users', fontsize= 16, fontweight='bold')\n",
    "\n",
    "plt.show()"
   ]
  },
  {
   "cell_type": "markdown",
   "metadata": {},
   "source": [
    "Wow! So, now we can compare the user behaviours between the two plans:\n",
    "\n",
    "- Mostly all the users regardless of the plan they are in, the internet usage is less in the starting of the year but they tend to use internet more as we progess towards the end of the year.\n",
    "- In the Surf plan, December is the month when users have messaged the most and in the Ultimate plan, December and October are the month when users have used internet the most."
   ]
  },
  {
   "cell_type": "markdown",
   "metadata": {},
   "source": [
    "<div style=\"border-bottom:2px solid #058EE1;\"></div>"
   ]
  },
  {
   "cell_type": "markdown",
   "metadata": {},
   "source": [
    "## Study Revenue <a id='study-revenue'></a>  \n",
    "[Back to Contents](#contents)"
   ]
  },
  {
   "cell_type": "markdown",
   "metadata": {},
   "source": [
    "Let's do some statistical study on the Revenue. But, before proceeding, it will be great to refresh our memory with how the data under study looks like - `user_consumption_per_month`:"
   ]
  },
  {
   "cell_type": "code",
   "execution_count": null,
   "metadata": {},
   "outputs": [],
   "source": [
    "# Get the first 10 records\n",
    "user_consumption_per_month.head(10)"
   ]
  },
  {
   "cell_type": "markdown",
   "metadata": {},
   "source": [
    "#### Compare average revenue per each plan per each distinct month"
   ]
  },
  {
   "cell_type": "markdown",
   "metadata": {},
   "source": [
    "Let's compare average revenue per each plan per each distinct month."
   ]
  },
  {
   "cell_type": "code",
   "execution_count": null,
   "metadata": {},
   "outputs": [],
   "source": [
    "# Compare average revenue per each plan per each distinct month  \n",
    "mean_revenue = user_consumption_per_month.pivot_table(index='month', columns='plan', aggfunc='mean', values='usd_monthly_revenue')\n",
    "mean_revenue"
   ]
  },
  {
   "cell_type": "code",
   "execution_count": null,
   "metadata": {},
   "outputs": [],
   "source": [
    "# Plot a bar plot to visualize - mean_revenue\n",
    "mean_revenue.plot.bar(figsize=(16,8), rot=0, color=['CornflowerBlue', 'Tomato'])\n",
    "\n",
    "# Set the plot attributes\n",
    "plt.title('Average revenue per each plan per each distinct month')\n",
    "plt.ylabel('Amount in USD')\n",
    "plt.xlabel('Months (sorted alphabetically)')\n",
    "\n",
    "plt.show()"
   ]
  },
  {
   "cell_type": "markdown",
   "metadata": {},
   "source": [
    "**From the given data and the plot about the average revenue per each plan per each distinct month, we can conclude the following**:  \n",
    "- The average revenue for the Ultimate plan is consistently higher than that of the Surf plan across all months.\n",
    "\n",
    "- There is a general trend of increasing revenue over time for both plans, with higher revenue observed in the latter months of the year.\n",
    "\n",
    "- The difference in average revenue between the two plans is not as large as the difference in their monthly costs, indicating that customers on the Ultimate plan are likely using more of the additional features and services offered by the plan, such as higher data limits and more inclusive minutes and messages."
   ]
  },
  {
   "cell_type": "markdown",
   "metadata": {},
   "source": [
    "#### Check whether users on the different plans have different revenues"
   ]
  },
  {
   "cell_type": "markdown",
   "metadata": {},
   "source": [
    "Let's check whether users on the different plans have different revenues. Let's create a pivot table:"
   ]
  },
  {
   "cell_type": "code",
   "execution_count": null,
   "metadata": {},
   "outputs": [],
   "source": [
    "# Calculate the mean and the variance of the monthly revenues\n",
    "monthly_revenue_stats = user_consumption_per_month.pivot_table(index='plan', values='usd_monthly_revenue', aggfunc=['mean', 'var', 'std', 'median'])\n",
    "monthly_revenue_stats.columns = ['mean_monthly_revenue', 'var_monthly_revenue', 'std_monthly_revenue', 'median_monthly_revenue']\n",
    "monthly_revenue_stats"
   ]
  },
  {
   "cell_type": "markdown",
   "metadata": {},
   "source": [
    "Looking at the descriptive statistics data for monthly revenues of Megaline's Surf and Ultimate plans, we can conclude that:\n",
    "\n",
    "- On average, **customers on the Ultimate plan generate higher revenue per month compared to those on the Surf plan**. The mean monthly revenue for Ultimate is 72.31, which is significantly higher than the mean monthly revenue for Surf, which is 60.71.\n",
    "- The variance in monthly revenue for Surf is significantly higher than that for Ultimate, indicating that there is more variability in monthly revenue for the Surf plan compared to the Ultimate plan.\n",
    "- The standard deviation of monthly revenue for Surf is 55.39, which is higher than that of Ultimate (11.40). This means that revenue for the Surf plan is more spread out compared to that for the Ultimate plan.\n",
    "- The median monthly revenue for Ultimate is 70.00, while for Surf it is 40.36. **This indicates that at least half of the customers on the Ultimate plan generate revenue of 70.00 or more per month, while at least half of the customers on the Surf plan generate revenue of 40.36 or less per month**.  \n",
    "\n",
    "Overall, these statistics suggest that the **Ultimate plan is more profitable for Megaline, as customers on this plan generate higher revenue on average and revenue is more consistent compared to the Surf plan**."
   ]
  },
  {
   "cell_type": "markdown",
   "metadata": {},
   "source": [
    "#### Visualize the distribution of the monthly revenues"
   ]
  },
  {
   "cell_type": "markdown",
   "metadata": {},
   "source": [
    "Let's plot a box plot to visualize the distribution of the monthly revenues. But, before that, let's have quick refresh of what data our Dataframe - `user_consumption_per_month` holds:"
   ]
  },
  {
   "cell_type": "code",
   "execution_count": null,
   "metadata": {},
   "outputs": [],
   "source": [
    "user_consumption_per_month.head(10)"
   ]
  },
  {
   "cell_type": "markdown",
   "metadata": {},
   "source": [
    "Now, let's get a subset of our data in the Dataframe - `user_consumption_per_month` that belongs to **Surf** plan users. We already have this data in `surf_user_consumption_per_month` Dataframe. So, let's see how the distribution looks for the monthly revenues of the surf plan holders:"
   ]
  },
  {
   "cell_type": "code",
   "execution_count": null,
   "metadata": {},
   "outputs": [],
   "source": [
    "# Plot a boxplot to visualize the distribution of the monthly revenues of the surf plan holders\n",
    "surf_user_consumption_per_month['usd_monthly_revenue'].plot.box(figsize=(16,10))\n",
    "\n",
    "# Set the plot attributes\n",
    "plt.ylabel('Amount in USD')\n",
    "plt.title('Distribution of the monthly revenues (in USD) of the surf plan holders')\n",
    "\n",
    "plt.show()"
   ]
  },
  {
   "cell_type": "markdown",
   "metadata": {},
   "source": [
    "Let's also get a descriptive statistics for the Series - `surf_user_consumption_per_month['usd_monthly_revenue']`:"
   ]
  },
  {
   "cell_type": "code",
   "execution_count": null,
   "metadata": {},
   "outputs": [],
   "source": [
    "surf_user_consumption_per_month['usd_monthly_revenue'].describe()"
   ]
  },
  {
   "cell_type": "markdown",
   "metadata": {},
   "source": [
    "**Based on the given descriptive statistics data and the observations from the box plot, we can conclude the following about the distribution of monthly revenues for Surf plan users**:\n",
    "\n",
    "- **Count**: There are **1573 data points** or monthly revenue values available.\n",
    "\n",
    "- **Mean**: The average monthly revenue for Surf plan users is **60.71 dollars**.\n",
    "\n",
    "- **Standard Deviation**: The standard deviation of monthly revenue for Surf plan users is **55.39 dollars**. This indicates that there is a significant variation in monthly revenue among Surf plan users.\n",
    "\n",
    "- **Minimum**: The minimum monthly revenue is **20 dollars**. **This indicates that some users paid only the basic monthly charge**.\n",
    "\n",
    "- **Maximum**: The maximum monthly revenue is **590.37 dollars**. This indicates that some Surf plan users paid a much higher amount, possibly because of additional charges.\n",
    "\n",
    "- **Quartiles**: The 25th percentile of monthly revenue is 20 dollars, **the median (50th percentile) is 40.36 dollars**, and the 75th percentile is 80.36 dollars. These quartiles divide the data into four equal parts and provide insight into the distribution of monthly revenue for Surf plan users.  \n",
    "\n",
    "- There are outliers in the distribution, **590.37 dollars** being the maximum.  \n",
    "\n",
    "Overall, we can conclude that **the distribution of monthly revenues for Surf plan users is positively skewed or rightly skewed**. The majority of Surf plan users (50%) paid between 20 dollars and 40.36 dollars per month, while some users paid as little as the basic charge and some paid much more."
   ]
  },
  {
   "cell_type": "markdown",
   "metadata": {},
   "source": [
    "Now, let's plot a box plot to visualize the monthwise revenues (in USD) of the surf plan holders:"
   ]
  },
  {
   "cell_type": "code",
   "execution_count": null,
   "metadata": {},
   "outputs": [],
   "source": [
    "# Plot a boxplot to visualize the monthwise revenues (in USD) of the surf plan holders\n",
    "surf_user_consumption_per_month.boxplot(by ='month', column =['usd_monthly_revenue'], grid = False, figsize=(16,10))\n",
    "\n",
    "# Set the plot attributes\n",
    "plt.ylabel('Amount in USD')\n",
    "plt.xlabel('Months')\n",
    "plt.title('Monthwise revenues (in USD) of the Surf plan holders')\n",
    "\n",
    "plt.show()"
   ]
  },
  {
   "cell_type": "markdown",
   "metadata": {},
   "source": [
    "Interesting! We can see that for Surf plan users:\n",
    "- **The most extreme outliers lie in the month of December**.\n",
    "- **There are no outliers in the months of January**."
   ]
  },
  {
   "cell_type": "markdown",
   "metadata": {},
   "source": [
    "Now, let's get a subset of our data in the Dataframe - `user_consumption_per_month` that belongs to **Ultimate** plan users. We already have this data in `ultimate_user_consumption_per_month` Dataframe. So, let's see how the distribution looks for the monthly revenues of the ultimate plan holders:"
   ]
  },
  {
   "cell_type": "code",
   "execution_count": null,
   "metadata": {},
   "outputs": [],
   "source": [
    "# Plot a boxplot to visualize the distribution of the monthly revenues of the ultimate plan holders\n",
    "ultimate_user_consumption_per_month['usd_monthly_revenue'].plot.box(figsize=(16,10))\n",
    "\n",
    "# Set the plot attributes\n",
    "plt.ylabel('Amount in USD')\n",
    "plt.title('Distribution of the monthly revenues (in USD) of the ultimate plan holders')\n",
    "\n",
    "plt.show()"
   ]
  },
  {
   "cell_type": "markdown",
   "metadata": {},
   "source": [
    "Let's also get a descriptive statistics for the Series - `ultimate_user_consumption_per_month['usd_monthly_revenue']`:"
   ]
  },
  {
   "cell_type": "code",
   "execution_count": null,
   "metadata": {},
   "outputs": [],
   "source": [
    "ultimate_user_consumption_per_month['usd_monthly_revenue'].describe()"
   ]
  },
  {
   "cell_type": "markdown",
   "metadata": {},
   "source": [
    "**Based on the given descriptive statistics data and observations from the box plot, we can conclude the following about the distribution of monthly revenues for Ultimate plan users**:\n",
    "\n",
    "- **Count**: There are **720 data points** or monthly revenue values available.\n",
    "\n",
    "- **Mean**: The average monthly revenue for Ultimate plan users is **72.31 dollars**.\n",
    "\n",
    "- **Standard Deviation**: The standard deviation of monthly revenue for Ultimate plan users is **11.40 dollars**. This indicates that there is relatively low variation in monthly revenue among Ultimate plan users.\n",
    "\n",
    "- **Minimum**: The minimum monthly revenue is **70 dollars**. **This indicates that all Ultimate plan users paid the basic monthly charge of **70 dollars**.\n",
    "\n",
    "- **Maximum**: The maximum monthly revenue is **182 dollars**. This indicates that some Ultimate plan users paid more than the basic monthly charge, possibly because of additional charges or higher usage of services.\n",
    "\n",
    "- **Quartiles**: **The 25th, 50th, and 75th percentiles of monthly revenue are all 70 dollars**. This indicates that the majority of Ultimate plan users paid only the basic monthly charge, and very few users paid more than that.  \n",
    "\n",
    "Overall, **we can conclude that the distribution of monthly revenues for Ultimate plan users is very narrow and tightly centered around the basic monthly charge of 70 dollars**. There is very little variation in monthly revenue among Ultimate plan users, and the vast majority of them paid only the basic charge. The mean monthly revenue for Ultimate plan users is 72.31 dollars, which is slightly higher than the mean revenue for Surf plan users but still relatively low. "
   ]
  },
  {
   "cell_type": "code",
   "execution_count": null,
   "metadata": {},
   "outputs": [],
   "source": [
    "# Plot a boxplot to visualize the monthwise revenues (in USD) of the ultimate plan holders\n",
    "ultimate_user_consumption_per_month.boxplot(by ='month', column =['usd_monthly_revenue'], grid = False, figsize=(16,10))\n",
    "\n",
    "# Set the plot attributes\n",
    "plt.ylabel('Amount in USD')\n",
    "plt.xlabel('Months')\n",
    "plt.title('Monthwise revenues (in USD) of the Ultimate plan holders')\n",
    "\n",
    "plt.show()"
   ]
  },
  {
   "cell_type": "markdown",
   "metadata": {},
   "source": [
    "We can conclude that **the distribution of monthly revenues for Ultimate plan users is very narrow and tightly centered around the basic monthly charge of 70 dollars**. There are certain ouliers and the maximum being in October and December."
   ]
  },
  {
   "cell_type": "code",
   "execution_count": null,
   "metadata": {},
   "outputs": [],
   "source": [
    "# Plot a boxplot to visualize the distribution of the monthly revenues (in USD) by users\n",
    "\n",
    "# Set the order in which months will be plotted on the graph\n",
    "months_order = ['Jan-2018', 'Feb-2018', 'Mar-2018', 'Apr-2018', 'May-2018', 'Jun-2018', 'Jul-2018', 'Aug-2018', 'Sep-2018', 'Oct-2018', 'Nov-2018', 'Dec-2018']\n",
    "\n",
    "# Customize the markers that show outliers in the data\n",
    "flierprops = dict(marker='o', markersize=10, markeredgecolor='black', markerfacecolor='darkgreen', alpha=0.6)\n",
    "\n",
    "# Customize the markers that show mean values\n",
    "meanprops = dict(marker='s', markerfacecolor='white', markeredgecolor='black')\n",
    "\n",
    "plt.figure(figsize=(20,20))\n",
    "my_plot = sns.boxplot(\n",
    "    data=user_consumption_per_month,\n",
    "    y='month',\n",
    "    x='usd_monthly_revenue',\n",
    "    hue='plan',\n",
    "    order=months_order,\n",
    "    showmeans=True,\n",
    "    orient='h',\n",
    "    linewidth=2,\n",
    "    flierprops=flierprops,\n",
    "    meanprops=meanprops,\n",
    "    palette='Set2')\n",
    "\n",
    "# Set the plot attributes\n",
    "my_plot.set_xlabel('Amount in USD', fontsize= 14, fontweight='bold')\n",
    "my_plot.set_ylabel('Months', fontsize= 14, fontweight='bold')\n",
    "my_plot.set_title('Distribution of the monthly revenues (in USD) by Surf & Ultimate plan users', fontsize= 16, fontweight='bold')\n",
    "\n",
    "plt.show()"
   ]
  },
  {
   "cell_type": "markdown",
   "metadata": {},
   "source": [
    "We can compare the user behaviours between the two plans:\n",
    "\n",
    "- The distribution of monthly revenues for Ultimate plan users is very narrow and tightly centered around the basic monthly charge of 70 dollars. \n",
    "- There are outliers in both surf and ultimate plans. For Surf plan users, the outliers lie mostly in December and for Ultimate plan users, the outliers lie mostly in October and December months."
   ]
  },
  {
   "cell_type": "markdown",
   "metadata": {},
   "source": [
    "<div style=\"border-bottom:2px solid #058EE1;\"></div>"
   ]
  },
  {
   "cell_type": "markdown",
   "metadata": {},
   "source": [
    "## Test statistical hypotheses <a id='test-statistical-hypotheses'></a>  \n",
    "[Back to Contents](#contents)"
   ]
  },
  {
   "cell_type": "markdown",
   "metadata": {},
   "source": [
    "### Average revenue from users of the Ultimate and Surf calling plans differs"
   ]
  },
  {
   "cell_type": "markdown",
   "metadata": {},
   "source": [
    "Let's test the hypothesis that the average revenue from users of the Ultimate and Surf calling plans differs. For testing the hypothesis, let's formulate the null and the alternative hypotheses.  \n",
    "\n",
    "**Null Hypothesis**: Average revenue from users of the Ultimate and Surf calling plans are equal  \n",
    "**Alternative Hypothesis**: Average revenue from users of Surf calling plan is different than the Ultimate calling plan."
   ]
  },
  {
   "cell_type": "markdown",
   "metadata": {},
   "source": [
    "In order to test the above hypotheses, we need average user revenue for surf and ultimate plans. Let's calculate them first. We already have surf plan users data in - `surf_user_consumption_per_month` and ultimate plan users data in - `ultimate_user_consumption_per_month`:"
   ]
  },
  {
   "cell_type": "code",
   "execution_count": null,
   "metadata": {},
   "outputs": [],
   "source": [
    "# Average revenue from users of the Surf plan\n",
    "surf_mean_user_revenue = surf_user_consumption_per_month.groupby('user_id')['usd_monthly_revenue'].mean()\n",
    "surf_mean_user_revenue.head(10)"
   ]
  },
  {
   "cell_type": "code",
   "execution_count": null,
   "metadata": {},
   "outputs": [],
   "source": [
    "# Average revenue from users of the Ultimate plan\n",
    "ultimate_mean_user_revenue = ultimate_user_consumption_per_month.groupby('user_id')['usd_monthly_revenue'].mean()\n",
    "ultimate_mean_user_revenue.head(10)"
   ]
  },
  {
   "cell_type": "code",
   "execution_count": null,
   "metadata": {},
   "outputs": [],
   "source": [
    "# Test the hypotheses\n",
    "alpha = 0.05 # significance level\n",
    "\n",
    "results = st.ttest_ind(surf_mean_user_revenue, ultimate_mean_user_revenue)\n",
    "\n",
    "print('p-value:', results.pvalue)\n",
    "\n",
    "if (results.pvalue < alpha):\n",
    "    print(\"We reject the null hypothesis\")\n",
    "else:\n",
    "    print(\"We can't reject the null hypothesis\")"
   ]
  },
  {
   "cell_type": "markdown",
   "metadata": {},
   "source": [
    "**We can reject the null hypothesis that the 'average revenue from users of the Ultimate and Surf calling plans are equal' to a significance of less than 0.05.** We can say there is a significant difference between the average revenues between users of the Ultimate and Surf calling plans."
   ]
  },
  {
   "cell_type": "markdown",
   "metadata": {},
   "source": [
    "### Average revenue from users in the NY-NJ area is different from that of the users from the other regions"
   ]
  },
  {
   "cell_type": "markdown",
   "metadata": {},
   "source": [
    "Let's test the hypothesis that the aAverage revenue from users in the NY-NJ area is different from that of the users from the other regions. For testing the hypothesis, let's formulate the null and the alternative hypotheses.  \n",
    "\n",
    "**Null Hypothesis**: Average revenue from users in the NY-NJ area is equal to that of the users from the other regions.  \n",
    "**Alternative Hypothesis**: Average revenue from users in the NY-NJ area is different from that of the users from the other regions."
   ]
  },
  {
   "cell_type": "markdown",
   "metadata": {},
   "source": [
    "In order to test the above hypotheses, we need to prepare our dataset. Let's merge `user_consumption_per_month` Dataframe with `users` Dataframe's two columns - `user_id` and `city`:"
   ]
  },
  {
   "cell_type": "code",
   "execution_count": null,
   "metadata": {},
   "outputs": [],
   "source": [
    "# Merge user_consumption_per_month and users (required columns) on user_id\n",
    "all_cities_user_consumption_per_month = user_consumption_per_month.merge(users[['user_id', 'city']], on='user_id')\n",
    "all_cities_user_consumption_per_month.head(10)"
   ]
  },
  {
   "cell_type": "markdown",
   "metadata": {},
   "source": [
    "Let's now create two separate Dataframes to store users from the NY-NJ area and other users:"
   ]
  },
  {
   "cell_type": "code",
   "execution_count": null,
   "metadata": {},
   "outputs": [],
   "source": [
    "# Store data of users from the NY-NJ area \n",
    "ny_nj_user_consumption_per_month = all_cities_user_consumption_per_month[all_cities_user_consumption_per_month['city'].str.contains('NY-NJ')]\n",
    "ny_nj_user_consumption_per_month.head(10)"
   ]
  },
  {
   "cell_type": "code",
   "execution_count": null,
   "metadata": {},
   "outputs": [],
   "source": [
    "# Store data of users who are not from the NY-NJ area \n",
    "other_cities_user_consumption_per_month = all_cities_user_consumption_per_month[~all_cities_user_consumption_per_month['city'].str.contains('NY-NJ')]\n",
    "other_cities_user_consumption_per_month.head()"
   ]
  },
  {
   "cell_type": "markdown",
   "metadata": {},
   "source": [
    "In order to test the above hypotheses, we need average revenue from users in the NY-NJ area and other areas. Let's calculate them first. We already have the data of users in the NY-NJ area in - `ny_nj_user_consumption_per_month` and of other users in - `other_cities_user_consumption_per_month`:"
   ]
  },
  {
   "cell_type": "code",
   "execution_count": null,
   "metadata": {
    "scrolled": true
   },
   "outputs": [],
   "source": [
    "# Average revenue from users in the NY-NJ area\n",
    "ny_nj_mean_user_revenue = ny_nj_user_consumption_per_month.groupby('user_id')['usd_monthly_revenue'].mean()\n",
    "ny_nj_mean_user_revenue.head(10)"
   ]
  },
  {
   "cell_type": "code",
   "execution_count": null,
   "metadata": {},
   "outputs": [],
   "source": [
    "# Average revenue from users not in the NY-NJ area\n",
    "other_cities_mean_user_revenue = other_cities_user_consumption_per_month.groupby('user_id')['usd_monthly_revenue'].mean()\n",
    "other_cities_mean_user_revenue.head(10)"
   ]
  },
  {
   "cell_type": "code",
   "execution_count": null,
   "metadata": {
    "scrolled": true
   },
   "outputs": [],
   "source": [
    "# Test the hypotheses\n",
    "alpha = 0.05 # significance level\n",
    "\n",
    "results = st.ttest_ind(ny_nj_mean_user_revenue, other_cities_mean_user_revenue)\n",
    "\n",
    "print('p-value:', results.pvalue)\n",
    "\n",
    "if (results.pvalue < alpha):\n",
    "    print(\"We reject the null hypothesis\")\n",
    "else:\n",
    "    print(\"We can't reject the null hypothesis\")"
   ]
  },
  {
   "cell_type": "markdown",
   "metadata": {},
   "source": [
    "Awesome! **We cannot reject the null hypothesis that the average revenue from users in the NY-NJ area is equal to that of the users from the other regions**."
   ]
  },
  {
   "cell_type": "markdown",
   "metadata": {},
   "source": [
    "<div style=\"border-bottom:2px solid #058EE1;\"></div>"
   ]
  },
  {
   "cell_type": "markdown",
   "metadata": {},
   "source": [
    "## General conclusion <a id='general-conclusion'></a>  \n",
    "[Back to Contents](#contents)"
   ]
  },
  {
   "cell_type": "markdown",
   "metadata": {},
   "source": [
    "**Calls**\n",
    "- Customers on the Ultimate plan tend to have longer average call durations than those on the Surf plan.\n",
    "- Both plans show a general trend of increasing average call durations from January to December, which could indicate a seasonal effect or a trend in customer behavior.\n",
    "- The distribution of monthly call duration for Surf plan users is positively or slightly right skewed. The majority of Surf plan users (50%) make calls that are less than 430 minutes per month, while some users make very long calls, up to a maximum of 1510 minutes per month.\n",
    "- The distribution of monthly call duration for Ultimate plan users is positively skewed or slightly right skewed. The majority of Ultimate plan users (50%) make calls that are less than 425 minutes per month, while some users make very long calls, up to a maximum of 1369 minutes per month. The mean monthly call duration for Ultimate plan users is slightly higher than that of Surf plan users, but the difference is not significant.\n",
    "- Mostly all the users regardless of the plan they are in, talk less in the starting of the year but they tend to talk more as we progess towards the end of the year.   \n",
    "\n",
    "**Messages**\n",
    "- The average number of messages sent by both Surf and Ultimate plan users is relatively low, with most months having an average of fewer than 50 messages per month.\n",
    "- In most months, Ultimate plan users sent more average messages per month compared to Surf plan users.\n",
    "- The highest average number of messages sent per month for both plans was in December 2018.\n",
    "- The distribution of monthly number of messages for Surf plan users is positively skewed or right skewed. The majority of Surf plan users (50%) sent 32 or fewer messages per month, while some users sent up to 266 messages per month.\n",
    "- The distribution of monthly number of messages for Ultimate plan users is positively skewed or right skewed. The majority of Ultimate plan users (50%) sent 41 or fewer messages per month, while some users sent up to 166 messages per month. The mean monthly number of messages for Ultimate plan users is slightly higher than that of Surf plan users. However, the maximum monthly number of messages is lower for Ultimate plan users compared to Surf plan users.   \n",
    "\n",
    "**Internet**\n",
    "- Both plans show a similar pattern in internet usage over time, with higher consumption during the later months of the year (Oct, Nov, Dec) and lower consumption during the early months (Jan, Feb, Mar).\n",
    "- January appears to be the month with the least amount of internet usage for both plans.\n",
    "- The difference in average internet usage between the two plans is not significant, with only about a 2-3 GB difference on average.\n",
    "- The distribution of monthly internet traffic consumption for Surf plan users is positively skewed or right skewed. The majority of Surf plan users (50%) consumed between 12 GB and 21 GB of internet traffic per month, while some users consumed as little as 1 GB and as much as 70 GB.\n",
    "- The distribution of monthly internet traffic consumption for Ultimate plan users is also slightly positively skewed or very slighty right skewed (Mean - 17.33 GB > Median 17GB). The majority of Ultimate plan users (50%) consumed between 13 GB and 21 GB of internet traffic per month, while some users consumed as little as 1 GB and as much as 46 GB. The mean monthly internet traffic consumption for Ultimate plan users is 17.33 GB, which is slightly higher than the mean consumption for Surf plan users. However, the difference is not very significant.  \n",
    "\n",
    "**Revenue**\n",
    "- Ultimate plan is more profitable for Megaline, as customers on this plan generate higher revenue on average and revenue is more consistent compared to the Surf plan.\n",
    "- There is a general trend of increasing revenue over time for both plans, with higher revenue observed in the latter months of the year.\n",
    "- The difference in average revenue between the two plans is not as large as the difference in their monthly costs, indicating that customers on the Ultimate plan are likely using more of the additional features and services offered by the plan, such as higher data limits and more inclusive minutes and messages.\n",
    "- The distribution of monthly revenues for Surf plan users is positively skewed or rightly skewed. The majority of Surf plan users (50%) paid between 20 dollars and 40.36 dollars per month, while some users paid as little as the basic charge and some paid much more.\n",
    "- The distribution of monthly revenues for Ultimate plan users is very narrow and tightly centered around the basic monthly charge of 70 dollars. There is very little variation in monthly revenue among Ultimate plan users, and the vast majority of them paid only the basic charge. The mean monthly revenue for Ultimate plan users is 72.31 dollars, which is slightly higher than the mean revenue for Surf plan users but still relatively low.  \n",
    "\n",
    "**There is a significant difference between the average revenues between users of the Ultimate and Surf calling plans.**. \n",
    "\n",
    "**The average revenue from users in the NY-NJ area is equal to that of the users from the other regions.**"
   ]
  },
  {
   "cell_type": "markdown",
   "metadata": {},
   "source": [
    " "
   ]
  }
 ],
 "metadata": {
  "kaggle": {
   "accelerator": "none",
   "dataSources": [
    {
     "datasetId": 3194100,
     "sourceId": 5542329,
     "sourceType": "datasetVersion"
    }
   ],
   "dockerImageVersionId": 30474,
   "isGpuEnabled": false,
   "isInternetEnabled": true,
   "language": "python",
   "sourceType": "notebook"
  },
  "kernelspec": {
   "display_name": "Python 3 (ipykernel)",
   "language": "python",
   "name": "python3"
  },
  "language_info": {
   "codemirror_mode": {
    "name": "ipython",
    "version": 3
   },
   "file_extension": ".py",
   "mimetype": "text/x-python",
   "name": "python",
   "nbconvert_exporter": "python",
   "pygments_lexer": "ipython3",
   "version": "3.12.1"
  }
 },
 "nbformat": 4,
 "nbformat_minor": 4
}
