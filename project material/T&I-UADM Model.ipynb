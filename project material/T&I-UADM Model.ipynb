{
 "cells": [
  {
   "cell_type": "markdown",
   "id": "5a2f2f9e-84e6-4853-90a2-f7b53a314505",
   "metadata": {},
   "source": [
    "<div style=\"padding:20px;\r\n",
    "            color:black;\r\n",
    "            margin:10;\r\n",
    "            font-size:200%;\r\n",
    "            text-align:center;\r\n",
    "            display:fill;\r\n",
    "            border-radius:5px;\r\n",
    "            background-color:#C9E4DE;\r\n",
    "            overflow:hidden;\r\n",
    "            font-weight:700\">ZNA's Telephone-intenet Usage Anomaly Detection Model </div>"
   ]
  },
  {
   "cell_type": "markdown",
   "id": "56e9852d-56ff-4ce5-8f39-78c2f1a0dbcb",
   "metadata": {},
   "source": [
    "<p><a id = 2.1></a></p>\n",
    "<h3><b>2.1 | <span style=\"color:#276FBF\">Importing Libraries</span></b></h3>"
   ]
  },
  {
   "cell_type": "code",
   "execution_count": null,
   "id": "ea9dadd8-59a8-4044-9dc8-03c01ff0102f",
   "metadata": {},
   "outputs": [],
   "source": [
    "#Basic Libraries\n",
    "import pandas as pd\n",
    "import numpy as np\n",
    "\n",
    "#Visualizations Libraries\n",
    "import matplotlib.pyplot as plt\n",
    "import seaborn as sns\n",
    "\n",
    "#Model Libraries\n",
    "from sklearn.svm import SVC\n",
    "from sklearn.linear_model import LogisticRegression\n",
    "from sklearn.neighbors import KNeighborsClassifier\n",
    "from sklearn.tree import DecisionTreeClassifier\n",
    "from sklearn.naive_bayes import GaussianNB\n",
    "from sklearn.ensemble import RandomForestClassifier\n",
    "from sklearn.ensemble import GradientBoostingClassifier\n",
    "from scipy.cluster.hierarchy import dendrogram, linkage\n",
    "from sklearn.cluster import DBSCAN\n",
    "from minisom import MiniSom\n",
    "\n",
    "#Pre-Processing Libraries\n",
    "from imblearn.combine import SMOTEENN\n",
    "from imblearn.over_sampling import SMOTE, SMOTEN, SMOTENC, SVMSMOTE, BorderlineSMOTE, KMeansSMOTE\n",
    "from sklearn.model_selection import train_test_split\n",
    "from sklearn.preprocessing import StandardScaler\n",
    "from sklearn.preprocessing import MinMaxScaler\n",
    "from sklearn.impute import SimpleImputer\n",
    "from sklearn.decomposition import PCA\n",
    "\n",
    "#Evaluation Libraies\n",
    "from sklearn.model_selection import cross_val_score, cross_val_predict\n",
    "from sklearn.model_selection import KFold\n",
    "from sklearn.model_selection import GridSearchCV\n",
    "from sklearn.model_selection import RandomizedSearchCV\n",
    "from sklearn.metrics import confusion_matrix, ConfusionMatrixDisplay\n",
    "from sklearn.metrics import classification_report\n",
    "from sklearn.metrics import roc_curve, auc, roc_auc_score\n",
    "from sklearn.dummy import DummyClassifier\n",
    "from sklearn.inspection import permutation_importance\n",
    "from sklearn.cluster import MeanShift\n",
    "\n",
    "#Warnings\n",
    "import warnings\n",
    "warnings.filterwarnings(\"ignore\", category=FutureWarning)"
   ]
  },
  {
   "cell_type": "markdown",
   "id": "884f502c-b391-4ea4-824e-34478993e41c",
   "metadata": {},
   "source": [
    "<p><a id = 2.2></a></p>\n",
    "<h3 tabindex=\"0\"><b>2.2 | <span style=\"color:#276FBF\">Importing Data</span></b></h3>"
   ]
  },
  {
   "cell_type": "code",
   "execution_count": null,
   "id": "fcc7e0c2-8a55-4625-aec5-602ee4d258c9",
   "metadata": {},
   "outputs": [],
   "source": [
    "#Importing the dataset\n",
    "usage = pd.read_csv('usage.csv')\n",
    "usage.head()"
   ]
  },
  {
   "cell_type": "code",
   "execution_count": null,
   "id": "07f5c52d-bff9-426f-9ea2-35dc43016cae",
   "metadata": {},
   "outputs": [],
   "source": [
    "usage.tail"
   ]
  },
  {
   "cell_type": "markdown",
   "id": "3c64d5a4-68cf-43e6-82e5-560934fb04e5",
   "metadata": {},
   "source": [
    "<p><a id = 2.3></a></p>\n",
    "<h3 tabindex=\"0\"><b>2.3 | <span style=\"color:#276FBF\">Dataset Information</span></b></h3>"
   ]
  },
  {
   "cell_type": "code",
   "execution_count": null,
   "id": "f42ed50d-c3d5-4242-abdf-d5bf10ab64d2",
   "metadata": {},
   "outputs": [],
   "source": [
    "usage.info()"
   ]
  },
  {
   "cell_type": "markdown",
   "id": "8b489720-b1eb-44b1-8acd-7df0f51305ab",
   "metadata": {},
   "source": [
    "This dataset contains 7043 Rows and 21 Columns\n",
    "\n",
    "1. __Customers usage pattens within the last month__ – the column is called Prediction\n",
    "2. __Services that each customer has signed up for__ – phone, multiple lines, internet, online security, online backup, device protection, tech support, and streaming TV and movies\n",
    "3. __Customer account information__ – how long they’ve been a customer, contract, payment method, paperless billing, monthly charges, and total charges\n",
    "Demographic info about customers – gender, age range, and if they have partners and dependents"
   ]
  },
  {
   "cell_type": "markdown",
   "id": "f85713dc-2751-4d6f-abb3-096f0288d8f0",
   "metadata": {},
   "source": [
    "<p><a id = 3></a></p>\n",
    "<div style=\"padding:20px;\n",
    "            color:black;\n",
    "            margin:10;\n",
    "            font-size:170%;\n",
    "            text-align:left;\n",
    "            display:fill;\n",
    "            border-radius:5px;\n",
    "            background-color:#C9E4DE;\n",
    "            overflow:hidden;\n",
    "            font-weight:700\"><span style = 'color:black'>3</span> <span style=\"color:#276FBF\">|</span> Dataset Cleaning</div>"
   ]
  },
  {
   "cell_type": "markdown",
   "id": "0964ce2d-76b1-423b-8fd3-dcca7ded761c",
   "metadata": {},
   "source": [
    "<p><a id = 3.1></a></p>\n",
    "<h3 tabindex=\"0\"><b>3.1 | <span style=\"color:#276FBF\">Dropping Customer ID Column</span></b></h3>"
   ]
  },
  {
   "cell_type": "code",
   "execution_count": null,
   "id": "ad7eef64-5a10-4930-8589-8753b3b0187b",
   "metadata": {},
   "outputs": [],
   "source": [
    "usage.drop('customerID', axis = 1, inplace = True)"
   ]
  },
  {
   "cell_type": "markdown",
   "id": "46f20185-304f-4ffe-846d-2fed93a6c2c3",
   "metadata": {},
   "source": [
    "<p><a id = 3.2></a></p>\n",
    "<h3 tabindex=\"0\"><b>3.2 | <span style=\"color:#276FBF\">Converting 'TotalCharges' Data Type to Float</span></b></h3>"
   ]
  },
  {
   "cell_type": "code",
   "execution_count": null,
   "id": "539bca84-5de8-43cb-8aa6-723b73c04369",
   "metadata": {},
   "outputs": [],
   "source": [
    "usage['TotalCharges'] = pd.to_numeric(usage['TotalCharges'], errors='coerce')"
   ]
  },
  {
   "cell_type": "markdown",
   "id": "e097b400-f3be-4022-881a-29fac3289c2d",
   "metadata": {},
   "source": [
    "<p><a id = 3.3></a></p>\n",
    "<h3 tabindex=\"0\"><b>3.3 | <span style=\"color:#276FBF\">Checking for Missing Values</span></b></h3>"
   ]
  },
  {
   "cell_type": "code",
   "execution_count": null,
   "id": "5cb75ee1-8cb8-49c7-9833-3f375a82ef81",
   "metadata": {},
   "outputs": [],
   "source": [
    "print(f'Number of NaN in each row:\\n\\n{usage.isna().sum()}')"
   ]
  },
  {
   "cell_type": "code",
   "execution_count": null,
   "id": "7b29f837-1add-4645-996a-86ad49418861",
   "metadata": {},
   "outputs": [],
   "source": [
    "usage.isnull()"
   ]
  },
  {
   "cell_type": "code",
   "execution_count": null,
   "id": "880fdfdd-159d-4df1-8276-c1b1f4521707",
   "metadata": {},
   "outputs": [],
   "source": [
    "usage.dropna(inplace=True)"
   ]
  },
  {
   "cell_type": "markdown",
   "id": "9148df34-4ec5-4c9d-8ee3-57d25f47485a",
   "metadata": {},
   "source": [
    "<p><a id = 3.5></a></p>\n",
    "<h3 tabindex=\"0\"><b>3.5 | <span style=\"color:#276FBF\">Converting Categorical Features Into Binary Features</span></b></h3>"
   ]
  },
  {
   "cell_type": "code",
   "execution_count": null,
   "id": "eeb2bf6b-527a-4740-91fe-de4317222cca",
   "metadata": {},
   "outputs": [],
   "source": [
    "#Convert categorial features to binary matrix (dummy variable)\n",
    "usage_dummies = pd.get_dummies(usage, drop_first = True)\n",
    "\n",
    "# Rename Churn_yes to Churn\n",
    "usage_dummies.rename(columns = {'Churn_Yes': 'Churn'}, inplace = True)"
   ]
  },
  {
   "cell_type": "markdown",
   "id": "419426da-f6d5-489b-ac58-e15038cb5736",
   "metadata": {},
   "source": [
    "<p><a id = 4></a></p>\n",
    "<div style=\"padding:20px;\n",
    "            color:black;\n",
    "            margin:10;\n",
    "            font-size:170%;\n",
    "            text-align:left;\n",
    "            display:fill;\n",
    "            border-radius:5px;\n",
    "            background-color:#C9E4DE;\n",
    "            overflow:hidden;\n",
    "            font-weight:700\"><span style = 'color:black'>4</span> <span style=\"color:#276FBF\">|</span> Exploratory Data Analysis</div>"
   ]
  },
  {
   "cell_type": "markdown",
   "id": "47d15ba8-f641-4cdb-9d01-4a4c2f42dbdd",
   "metadata": {},
   "source": [
    "0px;\n",
    "            color:black;\n",
    "            margin:10;\n",
    "            font-size:170%;\n",
    "            text-align:left;\n",
    "            display:fill;\n",
    "            border-radius:5px;\n",
    "            background-color:#C9E4DE;\n",
    "            overflow:hidden;\n",
    "            font-weight:700\"><span style = 'color:black'>4</span> <span style=\"color:#276FBF\">|</span> Exploratory"
   ]
  },
  {
   "cell_type": "markdown",
   "id": "1be36df3-53ac-40bd-a9fc-c7b31ad2edc0",
   "metadata": {},
   "source": [
    "<p><a id = 4.2></a></p>\n",
    "<h3 tabindex=\"0\"><b>4.2 | <span style=\"color:#276FBF\">Target Variable (Churn)</span></b></h3>"
   ]
  }
 ],
 "metadata": {
  "kernelspec": {
   "display_name": "Python 3 (ipykernel)",
   "language": "python",
   "name": "python3"
  },
  "language_info": {
   "codemirror_mode": {
    "name": "ipython",
    "version": 3
   },
   "file_extension": ".py",
   "mimetype": "text/x-python",
   "name": "python",
   "nbconvert_exporter": "python",
   "pygments_lexer": "ipython3",
   "version": "3.12.1"
  }
 },
 "nbformat": 4,
 "nbformat_minor": 5
}
