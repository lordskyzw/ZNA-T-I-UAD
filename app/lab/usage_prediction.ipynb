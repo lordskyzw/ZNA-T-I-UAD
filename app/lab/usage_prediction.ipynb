{
 "cells": [
  {
   "cell_type": "markdown",
   "metadata": {},
   "source": [
    "## We Prepare The Raw Dataset First"
   ]
  },
  {
   "cell_type": "code",
   "execution_count": 4,
   "metadata": {},
   "outputs": [
    {
     "data": {
      "text/html": [
       "<div>\n",
       "<style scoped>\n",
       "    .dataframe tbody tr th:only-of-type {\n",
       "        vertical-align: middle;\n",
       "    }\n",
       "\n",
       "    .dataframe tbody tr th {\n",
       "        vertical-align: top;\n",
       "    }\n",
       "\n",
       "    .dataframe thead th {\n",
       "        text-align: right;\n",
       "    }\n",
       "</style>\n",
       "<table border=\"1\" class=\"dataframe\">\n",
       "  <thead>\n",
       "    <tr style=\"text-align: right;\">\n",
       "      <th></th>\n",
       "      <th>user_id</th>\n",
       "      <th>plan</th>\n",
       "      <th>session_date</th>\n",
       "      <th>mb_used</th>\n",
       "      <th>total_messages_used</th>\n",
       "      <th>total_minutes</th>\n",
       "    </tr>\n",
       "  </thead>\n",
       "  <tbody>\n",
       "    <tr>\n",
       "      <th>0</th>\n",
       "      <td>1000</td>\n",
       "      <td>ultimate</td>\n",
       "      <td>2018-12-26</td>\n",
       "      <td>270.99</td>\n",
       "      <td>1.0</td>\n",
       "      <td>14.36</td>\n",
       "    </tr>\n",
       "    <tr>\n",
       "      <th>1</th>\n",
       "      <td>1000</td>\n",
       "      <td>ultimate</td>\n",
       "      <td>2018-12-27</td>\n",
       "      <td>880.22</td>\n",
       "      <td>3.0</td>\n",
       "      <td>48.26</td>\n",
       "    </tr>\n",
       "    <tr>\n",
       "      <th>2</th>\n",
       "      <td>1000</td>\n",
       "      <td>ultimate</td>\n",
       "      <td>2018-12-28</td>\n",
       "      <td>660.40</td>\n",
       "      <td>1.0</td>\n",
       "      <td>29.00</td>\n",
       "    </tr>\n",
       "    <tr>\n",
       "      <th>3</th>\n",
       "      <td>1000</td>\n",
       "      <td>ultimate</td>\n",
       "      <td>2018-12-29</td>\n",
       "      <td>89.86</td>\n",
       "      <td>1.0</td>\n",
       "      <td>1.70</td>\n",
       "    </tr>\n",
       "    <tr>\n",
       "      <th>4</th>\n",
       "      <td>1000</td>\n",
       "      <td>ultimate</td>\n",
       "      <td>2018-12-31</td>\n",
       "      <td>0.00</td>\n",
       "      <td>3.0</td>\n",
       "      <td>19.29</td>\n",
       "    </tr>\n",
       "    <tr>\n",
       "      <th>5</th>\n",
       "      <td>1001</td>\n",
       "      <td>surf</td>\n",
       "      <td>2018-08-15</td>\n",
       "      <td>210.82</td>\n",
       "      <td>4.0</td>\n",
       "      <td>0.00</td>\n",
       "    </tr>\n",
       "    <tr>\n",
       "      <th>6</th>\n",
       "      <td>1001</td>\n",
       "      <td>surf</td>\n",
       "      <td>2018-08-16</td>\n",
       "      <td>82.78</td>\n",
       "      <td>2.0</td>\n",
       "      <td>23.46</td>\n",
       "    </tr>\n",
       "    <tr>\n",
       "      <th>7</th>\n",
       "      <td>1001</td>\n",
       "      <td>surf</td>\n",
       "      <td>2018-08-16</td>\n",
       "      <td>534.19</td>\n",
       "      <td>2.0</td>\n",
       "      <td>23.46</td>\n",
       "    </tr>\n",
       "    <tr>\n",
       "      <th>8</th>\n",
       "      <td>1001</td>\n",
       "      <td>surf</td>\n",
       "      <td>2018-08-17</td>\n",
       "      <td>173.39</td>\n",
       "      <td>2.0</td>\n",
       "      <td>8.11</td>\n",
       "    </tr>\n",
       "    <tr>\n",
       "      <th>9</th>\n",
       "      <td>1001</td>\n",
       "      <td>surf</td>\n",
       "      <td>2018-08-17</td>\n",
       "      <td>374.29</td>\n",
       "      <td>2.0</td>\n",
       "      <td>8.11</td>\n",
       "    </tr>\n",
       "  </tbody>\n",
       "</table>\n",
       "</div>"
      ],
      "text/plain": [
       "   user_id      plan session_date  mb_used  total_messages_used  total_minutes\n",
       "0     1000  ultimate   2018-12-26   270.99                  1.0          14.36\n",
       "1     1000  ultimate   2018-12-27   880.22                  3.0          48.26\n",
       "2     1000  ultimate   2018-12-28   660.40                  1.0          29.00\n",
       "3     1000  ultimate   2018-12-29    89.86                  1.0           1.70\n",
       "4     1000  ultimate   2018-12-31     0.00                  3.0          19.29\n",
       "5     1001      surf   2018-08-15   210.82                  4.0           0.00\n",
       "6     1001      surf   2018-08-16    82.78                  2.0          23.46\n",
       "7     1001      surf   2018-08-16   534.19                  2.0          23.46\n",
       "8     1001      surf   2018-08-17   173.39                  2.0           8.11\n",
       "9     1001      surf   2018-08-17   374.29                  2.0           8.11"
      ]
     },
     "execution_count": 4,
     "metadata": {},
     "output_type": "execute_result"
    }
   ],
   "source": [
    "import pandas as pd\n",
    "\n",
    "df = pd.read_csv('updated_merged_dataset2_with_calls.csv') #we load up the dataset \n",
    "df.head(10) "
   ]
  },
  {
   "cell_type": "markdown",
   "metadata": {},
   "source": [
    "## We want to predict the amount of data used so we drop the other columns"
   ]
  },
  {
   "cell_type": "code",
   "execution_count": 5,
   "metadata": {},
   "outputs": [
    {
     "name": "stderr",
     "output_type": "stream",
     "text": [
      "/Users/lordskyzw/Desktop/ZNA/app/zna/lib/python3.9/site-packages/tqdm/auto.py:21: TqdmWarning: IProgress not found. Please update jupyter and ipywidgets. See https://ipywidgets.readthedocs.io/en/stable/user_install.html\n",
      "  from .autonotebook import tqdm as notebook_tqdm\n"
     ]
    },
    {
     "data": {
      "text/html": [
       "<div>\n",
       "<style scoped>\n",
       "    .dataframe tbody tr th:only-of-type {\n",
       "        vertical-align: middle;\n",
       "    }\n",
       "\n",
       "    .dataframe tbody tr th {\n",
       "        vertical-align: top;\n",
       "    }\n",
       "\n",
       "    .dataframe thead th {\n",
       "        text-align: right;\n",
       "    }\n",
       "</style>\n",
       "<table border=\"1\" class=\"dataframe\">\n",
       "  <thead>\n",
       "    <tr style=\"text-align: right;\">\n",
       "      <th></th>\n",
       "      <th>user_id</th>\n",
       "      <th>session_date</th>\n",
       "      <th>mb_used</th>\n",
       "    </tr>\n",
       "  </thead>\n",
       "  <tbody>\n",
       "    <tr>\n",
       "      <th>0</th>\n",
       "      <td>1000</td>\n",
       "      <td>2018-12-26</td>\n",
       "      <td>270.99</td>\n",
       "    </tr>\n",
       "    <tr>\n",
       "      <th>1</th>\n",
       "      <td>1000</td>\n",
       "      <td>2018-12-27</td>\n",
       "      <td>880.22</td>\n",
       "    </tr>\n",
       "    <tr>\n",
       "      <th>2</th>\n",
       "      <td>1000</td>\n",
       "      <td>2018-12-28</td>\n",
       "      <td>660.40</td>\n",
       "    </tr>\n",
       "    <tr>\n",
       "      <th>3</th>\n",
       "      <td>1000</td>\n",
       "      <td>2018-12-29</td>\n",
       "      <td>89.86</td>\n",
       "    </tr>\n",
       "    <tr>\n",
       "      <th>4</th>\n",
       "      <td>1000</td>\n",
       "      <td>2018-12-31</td>\n",
       "      <td>0.00</td>\n",
       "    </tr>\n",
       "  </tbody>\n",
       "</table>\n",
       "</div>"
      ],
      "text/plain": [
       "   user_id session_date  mb_used\n",
       "0     1000   2018-12-26   270.99\n",
       "1     1000   2018-12-27   880.22\n",
       "2     1000   2018-12-28   660.40\n",
       "3     1000   2018-12-29    89.86\n",
       "4     1000   2018-12-31     0.00"
      ]
     },
     "execution_count": 5,
     "metadata": {},
     "output_type": "execute_result"
    }
   ],
   "source": [
    "df2 = df.drop(columns=['plan','total_messages_used', 'total_minutes'])\n",
    "df2.head()"
   ]
  },
  {
   "cell_type": "markdown",
   "metadata": {},
   "source": [
    "## We pick a specific user id since the model cannot discern between users\n",
    "\n",
    "```python"
   ]
  },
  {
   "cell_type": "code",
   "execution_count": 6,
   "metadata": {},
   "outputs": [
    {
     "data": {
      "text/html": [
       "<div>\n",
       "<style scoped>\n",
       "    .dataframe tbody tr th:only-of-type {\n",
       "        vertical-align: middle;\n",
       "    }\n",
       "\n",
       "    .dataframe tbody tr th {\n",
       "        vertical-align: top;\n",
       "    }\n",
       "\n",
       "    .dataframe thead th {\n",
       "        text-align: right;\n",
       "    }\n",
       "</style>\n",
       "<table border=\"1\" class=\"dataframe\">\n",
       "  <thead>\n",
       "    <tr style=\"text-align: right;\">\n",
       "      <th></th>\n",
       "      <th>user_id</th>\n",
       "      <th>session_date</th>\n",
       "      <th>mb_used</th>\n",
       "    </tr>\n",
       "  </thead>\n",
       "  <tbody>\n",
       "    <tr>\n",
       "      <th>250</th>\n",
       "      <td>1002</td>\n",
       "      <td>2018-10-22</td>\n",
       "      <td>686.01</td>\n",
       "    </tr>\n",
       "    <tr>\n",
       "      <th>251</th>\n",
       "      <td>1002</td>\n",
       "      <td>2018-10-22</td>\n",
       "      <td>939.47</td>\n",
       "    </tr>\n",
       "    <tr>\n",
       "      <th>252</th>\n",
       "      <td>1002</td>\n",
       "      <td>2018-10-22</td>\n",
       "      <td>295.50</td>\n",
       "    </tr>\n",
       "    <tr>\n",
       "      <th>253</th>\n",
       "      <td>1002</td>\n",
       "      <td>2018-10-23</td>\n",
       "      <td>0.00</td>\n",
       "    </tr>\n",
       "    <tr>\n",
       "      <th>254</th>\n",
       "      <td>1002</td>\n",
       "      <td>2018-10-23</td>\n",
       "      <td>668.82</td>\n",
       "    </tr>\n",
       "    <tr>\n",
       "      <th>...</th>\n",
       "      <td>...</td>\n",
       "      <td>...</td>\n",
       "      <td>...</td>\n",
       "    </tr>\n",
       "    <tr>\n",
       "      <th>369</th>\n",
       "      <td>1002</td>\n",
       "      <td>2018-12-27</td>\n",
       "      <td>0.00</td>\n",
       "    </tr>\n",
       "    <tr>\n",
       "      <th>370</th>\n",
       "      <td>1002</td>\n",
       "      <td>2018-12-29</td>\n",
       "      <td>0.00</td>\n",
       "    </tr>\n",
       "    <tr>\n",
       "      <th>371</th>\n",
       "      <td>1002</td>\n",
       "      <td>2018-12-29</td>\n",
       "      <td>849.56</td>\n",
       "    </tr>\n",
       "    <tr>\n",
       "      <th>372</th>\n",
       "      <td>1002</td>\n",
       "      <td>2018-12-30</td>\n",
       "      <td>743.31</td>\n",
       "    </tr>\n",
       "    <tr>\n",
       "      <th>373</th>\n",
       "      <td>1002</td>\n",
       "      <td>2018-12-31</td>\n",
       "      <td>338.81</td>\n",
       "    </tr>\n",
       "  </tbody>\n",
       "</table>\n",
       "<p>124 rows × 3 columns</p>\n",
       "</div>"
      ],
      "text/plain": [
       "     user_id session_date  mb_used\n",
       "250     1002   2018-10-22   686.01\n",
       "251     1002   2018-10-22   939.47\n",
       "252     1002   2018-10-22   295.50\n",
       "253     1002   2018-10-23     0.00\n",
       "254     1002   2018-10-23   668.82\n",
       "..       ...          ...      ...\n",
       "369     1002   2018-12-27     0.00\n",
       "370     1002   2018-12-29     0.00\n",
       "371     1002   2018-12-29   849.56\n",
       "372     1002   2018-12-30   743.31\n",
       "373     1002   2018-12-31   338.81\n",
       "\n",
       "[124 rows x 3 columns]"
      ]
     },
     "execution_count": 6,
     "metadata": {},
     "output_type": "execute_result"
    }
   ],
   "source": [
    "specific_user_id = 1002 \n",
    "filtered_df = df2[df2['user_id'] == specific_user_id]\n",
    "filtered_df"
   ]
  },
  {
   "cell_type": "markdown",
   "metadata": {},
   "source": [
    "## we drop the user_id column since the model only takes in a time series data"
   ]
  },
  {
   "cell_type": "code",
   "execution_count": 7,
   "metadata": {},
   "outputs": [
    {
     "data": {
      "text/html": [
       "<div>\n",
       "<style scoped>\n",
       "    .dataframe tbody tr th:only-of-type {\n",
       "        vertical-align: middle;\n",
       "    }\n",
       "\n",
       "    .dataframe tbody tr th {\n",
       "        vertical-align: top;\n",
       "    }\n",
       "\n",
       "    .dataframe thead th {\n",
       "        text-align: right;\n",
       "    }\n",
       "</style>\n",
       "<table border=\"1\" class=\"dataframe\">\n",
       "  <thead>\n",
       "    <tr style=\"text-align: right;\">\n",
       "      <th></th>\n",
       "      <th>session_date</th>\n",
       "      <th>mb_used</th>\n",
       "    </tr>\n",
       "  </thead>\n",
       "  <tbody>\n",
       "    <tr>\n",
       "      <th>250</th>\n",
       "      <td>2018-10-22</td>\n",
       "      <td>686.01</td>\n",
       "    </tr>\n",
       "    <tr>\n",
       "      <th>251</th>\n",
       "      <td>2018-10-22</td>\n",
       "      <td>939.47</td>\n",
       "    </tr>\n",
       "    <tr>\n",
       "      <th>252</th>\n",
       "      <td>2018-10-22</td>\n",
       "      <td>295.50</td>\n",
       "    </tr>\n",
       "    <tr>\n",
       "      <th>253</th>\n",
       "      <td>2018-10-23</td>\n",
       "      <td>0.00</td>\n",
       "    </tr>\n",
       "    <tr>\n",
       "      <th>254</th>\n",
       "      <td>2018-10-23</td>\n",
       "      <td>668.82</td>\n",
       "    </tr>\n",
       "    <tr>\n",
       "      <th>...</th>\n",
       "      <td>...</td>\n",
       "      <td>...</td>\n",
       "    </tr>\n",
       "    <tr>\n",
       "      <th>369</th>\n",
       "      <td>2018-12-27</td>\n",
       "      <td>0.00</td>\n",
       "    </tr>\n",
       "    <tr>\n",
       "      <th>370</th>\n",
       "      <td>2018-12-29</td>\n",
       "      <td>0.00</td>\n",
       "    </tr>\n",
       "    <tr>\n",
       "      <th>371</th>\n",
       "      <td>2018-12-29</td>\n",
       "      <td>849.56</td>\n",
       "    </tr>\n",
       "    <tr>\n",
       "      <th>372</th>\n",
       "      <td>2018-12-30</td>\n",
       "      <td>743.31</td>\n",
       "    </tr>\n",
       "    <tr>\n",
       "      <th>373</th>\n",
       "      <td>2018-12-31</td>\n",
       "      <td>338.81</td>\n",
       "    </tr>\n",
       "  </tbody>\n",
       "</table>\n",
       "<p>124 rows × 2 columns</p>\n",
       "</div>"
      ],
      "text/plain": [
       "    session_date  mb_used\n",
       "250   2018-10-22   686.01\n",
       "251   2018-10-22   939.47\n",
       "252   2018-10-22   295.50\n",
       "253   2018-10-23     0.00\n",
       "254   2018-10-23   668.82\n",
       "..           ...      ...\n",
       "369   2018-12-27     0.00\n",
       "370   2018-12-29     0.00\n",
       "371   2018-12-29   849.56\n",
       "372   2018-12-30   743.31\n",
       "373   2018-12-31   338.81\n",
       "\n",
       "[124 rows x 2 columns]"
      ]
     },
     "execution_count": 7,
     "metadata": {},
     "output_type": "execute_result"
    }
   ],
   "source": [
    "user_id10002 = filtered_df.drop(columns='user_id')\n",
    "user_id10002"
   ]
  },
  {
   "cell_type": "markdown",
   "metadata": {},
   "source": [
    "## now that we have the time series data, the model requires we rename the columns to 'ds' and 'y' for timestamp and target respectively"
   ]
  },
  {
   "cell_type": "code",
   "execution_count": 28,
   "metadata": {},
   "outputs": [
    {
     "data": {
      "text/plain": [
       "'2018-12-31'"
      ]
     },
     "execution_count": 28,
     "metadata": {},
     "output_type": "execute_result"
    }
   ],
   "source": [
    "user_id1k2 = user_id10002.rename(columns={'session_date': 'ds', 'mb_used': 'y'})\n",
    "\n",
    "df_aggregated = user_id1k2.groupby('ds').sum().reset_index()\n",
    "\n",
    "last_date = df_aggregated['ds'].max()\n",
    "last_date"
   ]
  },
  {
   "cell_type": "markdown",
   "metadata": {},
   "source": [
    "## here we import the model and train it"
   ]
  },
  {
   "cell_type": "code",
   "execution_count": 16,
   "metadata": {},
   "outputs": [
    {
     "name": "stderr",
     "output_type": "stream",
     "text": [
      "18:48:27 - cmdstanpy - INFO - Chain [1] start processing\n",
      "18:48:27 - cmdstanpy - INFO - Chain [1] done processing\n"
     ]
    },
    {
     "data": {
      "text/html": [
       "<div>\n",
       "<style scoped>\n",
       "    .dataframe tbody tr th:only-of-type {\n",
       "        vertical-align: middle;\n",
       "    }\n",
       "\n",
       "    .dataframe tbody tr th {\n",
       "        vertical-align: top;\n",
       "    }\n",
       "\n",
       "    .dataframe thead th {\n",
       "        text-align: right;\n",
       "    }\n",
       "</style>\n",
       "<table border=\"1\" class=\"dataframe\">\n",
       "  <thead>\n",
       "    <tr style=\"text-align: right;\">\n",
       "      <th></th>\n",
       "      <th>ds</th>\n",
       "    </tr>\n",
       "  </thead>\n",
       "  <tbody>\n",
       "    <tr>\n",
       "      <th>83</th>\n",
       "      <td>2019-01-26</td>\n",
       "    </tr>\n",
       "    <tr>\n",
       "      <th>84</th>\n",
       "      <td>2019-01-27</td>\n",
       "    </tr>\n",
       "    <tr>\n",
       "      <th>85</th>\n",
       "      <td>2019-01-28</td>\n",
       "    </tr>\n",
       "    <tr>\n",
       "      <th>86</th>\n",
       "      <td>2019-01-29</td>\n",
       "    </tr>\n",
       "    <tr>\n",
       "      <th>87</th>\n",
       "      <td>2019-01-30</td>\n",
       "    </tr>\n",
       "  </tbody>\n",
       "</table>\n",
       "</div>"
      ],
      "text/plain": [
       "           ds\n",
       "83 2019-01-26\n",
       "84 2019-01-27\n",
       "85 2019-01-28\n",
       "86 2019-01-29\n",
       "87 2019-01-30"
      ]
     },
     "execution_count": 16,
     "metadata": {},
     "output_type": "execute_result"
    }
   ],
   "source": [
    "from prophet import Prophet \n",
    "\n",
    "\n",
    "model = Prophet()\n",
    "model.fit(df_aggregated)\n",
    "future = model.make_future_dataframe(periods=30)\n",
    "future.tail()"
   ]
  },
  {
   "cell_type": "code",
   "execution_count": 30,
   "metadata": {},
   "outputs": [],
   "source": [
    "forecast = model.predict(future)\n",
    "forecast_from_last_date = forecast[forecast['ds'] >= last_date]\n",
    "real_forecast = forecast_from_last_date[['ds', 'yhat']]"
   ]
  },
  {
   "cell_type": "code",
   "execution_count": 32,
   "metadata": {},
   "outputs": [
    {
     "data": {
      "text/html": [
       "<div>\n",
       "<style scoped>\n",
       "    .dataframe tbody tr th:only-of-type {\n",
       "        vertical-align: middle;\n",
       "    }\n",
       "\n",
       "    .dataframe tbody tr th {\n",
       "        vertical-align: top;\n",
       "    }\n",
       "\n",
       "    .dataframe thead th {\n",
       "        text-align: right;\n",
       "    }\n",
       "</style>\n",
       "<table border=\"1\" class=\"dataframe\">\n",
       "  <thead>\n",
       "    <tr style=\"text-align: right;\">\n",
       "      <th></th>\n",
       "      <th>ds</th>\n",
       "      <th>yhat</th>\n",
       "    </tr>\n",
       "  </thead>\n",
       "  <tbody>\n",
       "    <tr>\n",
       "      <th>57</th>\n",
       "      <td>2018-12-31</td>\n",
       "      <td>529.547221</td>\n",
       "    </tr>\n",
       "    <tr>\n",
       "      <th>58</th>\n",
       "      <td>2019-01-01</td>\n",
       "      <td>1057.244981</td>\n",
       "    </tr>\n",
       "    <tr>\n",
       "      <th>59</th>\n",
       "      <td>2019-01-02</td>\n",
       "      <td>638.728562</td>\n",
       "    </tr>\n",
       "    <tr>\n",
       "      <th>60</th>\n",
       "      <td>2019-01-03</td>\n",
       "      <td>666.379171</td>\n",
       "    </tr>\n",
       "    <tr>\n",
       "      <th>61</th>\n",
       "      <td>2019-01-04</td>\n",
       "      <td>857.042679</td>\n",
       "    </tr>\n",
       "    <tr>\n",
       "      <th>62</th>\n",
       "      <td>2019-01-05</td>\n",
       "      <td>463.969471</td>\n",
       "    </tr>\n",
       "    <tr>\n",
       "      <th>63</th>\n",
       "      <td>2019-01-06</td>\n",
       "      <td>670.516443</td>\n",
       "    </tr>\n",
       "    <tr>\n",
       "      <th>64</th>\n",
       "      <td>2019-01-07</td>\n",
       "      <td>529.087509</td>\n",
       "    </tr>\n",
       "    <tr>\n",
       "      <th>65</th>\n",
       "      <td>2019-01-08</td>\n",
       "      <td>1056.785270</td>\n",
       "    </tr>\n",
       "    <tr>\n",
       "      <th>66</th>\n",
       "      <td>2019-01-09</td>\n",
       "      <td>638.268850</td>\n",
       "    </tr>\n",
       "    <tr>\n",
       "      <th>67</th>\n",
       "      <td>2019-01-10</td>\n",
       "      <td>665.919459</td>\n",
       "    </tr>\n",
       "    <tr>\n",
       "      <th>68</th>\n",
       "      <td>2019-01-11</td>\n",
       "      <td>856.582967</td>\n",
       "    </tr>\n",
       "    <tr>\n",
       "      <th>69</th>\n",
       "      <td>2019-01-12</td>\n",
       "      <td>463.509759</td>\n",
       "    </tr>\n",
       "    <tr>\n",
       "      <th>70</th>\n",
       "      <td>2019-01-13</td>\n",
       "      <td>670.056731</td>\n",
       "    </tr>\n",
       "    <tr>\n",
       "      <th>71</th>\n",
       "      <td>2019-01-14</td>\n",
       "      <td>528.627797</td>\n",
       "    </tr>\n",
       "    <tr>\n",
       "      <th>72</th>\n",
       "      <td>2019-01-15</td>\n",
       "      <td>1056.325558</td>\n",
       "    </tr>\n",
       "    <tr>\n",
       "      <th>73</th>\n",
       "      <td>2019-01-16</td>\n",
       "      <td>637.809138</td>\n",
       "    </tr>\n",
       "    <tr>\n",
       "      <th>74</th>\n",
       "      <td>2019-01-17</td>\n",
       "      <td>665.459747</td>\n",
       "    </tr>\n",
       "    <tr>\n",
       "      <th>75</th>\n",
       "      <td>2019-01-18</td>\n",
       "      <td>856.123255</td>\n",
       "    </tr>\n",
       "    <tr>\n",
       "      <th>76</th>\n",
       "      <td>2019-01-19</td>\n",
       "      <td>463.050048</td>\n",
       "    </tr>\n",
       "    <tr>\n",
       "      <th>77</th>\n",
       "      <td>2019-01-20</td>\n",
       "      <td>669.597019</td>\n",
       "    </tr>\n",
       "    <tr>\n",
       "      <th>78</th>\n",
       "      <td>2019-01-21</td>\n",
       "      <td>528.168086</td>\n",
       "    </tr>\n",
       "    <tr>\n",
       "      <th>79</th>\n",
       "      <td>2019-01-22</td>\n",
       "      <td>1055.865846</td>\n",
       "    </tr>\n",
       "    <tr>\n",
       "      <th>80</th>\n",
       "      <td>2019-01-23</td>\n",
       "      <td>637.349426</td>\n",
       "    </tr>\n",
       "    <tr>\n",
       "      <th>81</th>\n",
       "      <td>2019-01-24</td>\n",
       "      <td>665.000036</td>\n",
       "    </tr>\n",
       "    <tr>\n",
       "      <th>82</th>\n",
       "      <td>2019-01-25</td>\n",
       "      <td>855.663544</td>\n",
       "    </tr>\n",
       "    <tr>\n",
       "      <th>83</th>\n",
       "      <td>2019-01-26</td>\n",
       "      <td>462.590336</td>\n",
       "    </tr>\n",
       "    <tr>\n",
       "      <th>84</th>\n",
       "      <td>2019-01-27</td>\n",
       "      <td>669.137307</td>\n",
       "    </tr>\n",
       "    <tr>\n",
       "      <th>85</th>\n",
       "      <td>2019-01-28</td>\n",
       "      <td>527.708374</td>\n",
       "    </tr>\n",
       "    <tr>\n",
       "      <th>86</th>\n",
       "      <td>2019-01-29</td>\n",
       "      <td>1055.406134</td>\n",
       "    </tr>\n",
       "    <tr>\n",
       "      <th>87</th>\n",
       "      <td>2019-01-30</td>\n",
       "      <td>636.889715</td>\n",
       "    </tr>\n",
       "  </tbody>\n",
       "</table>\n",
       "</div>"
      ],
      "text/plain": [
       "           ds         yhat\n",
       "57 2018-12-31   529.547221\n",
       "58 2019-01-01  1057.244981\n",
       "59 2019-01-02   638.728562\n",
       "60 2019-01-03   666.379171\n",
       "61 2019-01-04   857.042679\n",
       "62 2019-01-05   463.969471\n",
       "63 2019-01-06   670.516443\n",
       "64 2019-01-07   529.087509\n",
       "65 2019-01-08  1056.785270\n",
       "66 2019-01-09   638.268850\n",
       "67 2019-01-10   665.919459\n",
       "68 2019-01-11   856.582967\n",
       "69 2019-01-12   463.509759\n",
       "70 2019-01-13   670.056731\n",
       "71 2019-01-14   528.627797\n",
       "72 2019-01-15  1056.325558\n",
       "73 2019-01-16   637.809138\n",
       "74 2019-01-17   665.459747\n",
       "75 2019-01-18   856.123255\n",
       "76 2019-01-19   463.050048\n",
       "77 2019-01-20   669.597019\n",
       "78 2019-01-21   528.168086\n",
       "79 2019-01-22  1055.865846\n",
       "80 2019-01-23   637.349426\n",
       "81 2019-01-24   665.000036\n",
       "82 2019-01-25   855.663544\n",
       "83 2019-01-26   462.590336\n",
       "84 2019-01-27   669.137307\n",
       "85 2019-01-28   527.708374\n",
       "86 2019-01-29  1055.406134\n",
       "87 2019-01-30   636.889715"
      ]
     },
     "execution_count": 32,
     "metadata": {},
     "output_type": "execute_result"
    }
   ],
   "source": [
    "real_forecast"
   ]
  },
  {
   "cell_type": "code",
   "execution_count": 21,
   "metadata": {},
   "outputs": [
    {
     "data": {
      "text/plain": [
       "matplotlib.figure.Figure"
      ]
     },
     "execution_count": 21,
     "metadata": {},
     "output_type": "execute_result"
    }
   ],
   "source": [
    "type(fig1)"
   ]
  },
  {
   "cell_type": "markdown",
   "metadata": {},
   "source": [
    "## here we visualize the predictions"
   ]
  },
  {
   "cell_type": "code",
   "execution_count": 19,
   "metadata": {},
   "outputs": [
    {
     "name": "stderr",
     "output_type": "stream",
     "text": [
      "/Users/lordskyzw/Desktop/ZNA/app/zna/lib/python3.9/site-packages/prophet/plot.py:228: FutureWarning: The behavior of DatetimeProperties.to_pydatetime is deprecated, in a future version this will return a Series containing python datetime objects instead of an ndarray. To retain the old behavior, call `np.array` on the result\n",
      "  fcst_t = fcst['ds'].dt.to_pydatetime()\n"
     ]
    },
    {
     "data": {
      "image/png": "[encoded data removed]",
      "text/plain": [
       "<Figure size 900x600 with 2 Axes>"
      ]
     },
     "metadata": {},
     "output_type": "display_data"
    }
   ],
   "source": [
    "fig2 = m.plot_components(forecast)"
   ]
  },
  {
   "cell_type": "code",
   "execution_count": 20,
   "metadata": {},
   "outputs": [
    {
     "ename": "ValueError",
     "evalue": "Mime type rendering requires nbformat>=4.2.0 but it is not installed",
     "output_type": "error",
     "traceback": [
      "\u001b[0;31m---------------------------------------------------------------------------\u001b[0m",
      "\u001b[0;31mValueError\u001b[0m                                Traceback (most recent call last)",
      "File \u001b[0;32m~/Desktop/ZNA/app/zna/lib/python3.9/site-packages/IPython/core/formatters.py:922\u001b[0m, in \u001b[0;36mIPythonDisplayFormatter.__call__\u001b[0;34m(self, obj)\u001b[0m\n\u001b[1;32m    920\u001b[0m method \u001b[38;5;241m=\u001b[39m get_real_method(obj, \u001b[38;5;28mself\u001b[39m\u001b[38;5;241m.\u001b[39mprint_method)\n\u001b[1;32m    921\u001b[0m \u001b[38;5;28;01mif\u001b[39;00m method \u001b[38;5;129;01mis\u001b[39;00m \u001b[38;5;129;01mnot\u001b[39;00m \u001b[38;5;28;01mNone\u001b[39;00m:\n\u001b[0;32m--> 922\u001b[0m     \u001b[43mmethod\u001b[49m\u001b[43m(\u001b[49m\u001b[43m)\u001b[49m\n\u001b[1;32m    923\u001b[0m     \u001b[38;5;28;01mreturn\u001b[39;00m \u001b[38;5;28;01mTrue\u001b[39;00m\n",
      "File \u001b[0;32m~/Desktop/ZNA/app/zna/lib/python3.9/site-packages/plotly/basedatatypes.py:832\u001b[0m, in \u001b[0;36mBaseFigure._ipython_display_\u001b[0;34m(self)\u001b[0m\n\u001b[1;32m    829\u001b[0m \u001b[38;5;28;01mimport\u001b[39;00m \u001b[38;5;21;01mplotly\u001b[39;00m\u001b[38;5;21;01m.\u001b[39;00m\u001b[38;5;21;01mio\u001b[39;00m \u001b[38;5;28;01mas\u001b[39;00m \u001b[38;5;21;01mpio\u001b[39;00m\n\u001b[1;32m    831\u001b[0m \u001b[38;5;28;01mif\u001b[39;00m pio\u001b[38;5;241m.\u001b[39mrenderers\u001b[38;5;241m.\u001b[39mrender_on_display \u001b[38;5;129;01mand\u001b[39;00m pio\u001b[38;5;241m.\u001b[39mrenderers\u001b[38;5;241m.\u001b[39mdefault:\n\u001b[0;32m--> 832\u001b[0m     \u001b[43mpio\u001b[49m\u001b[38;5;241;43m.\u001b[39;49m\u001b[43mshow\u001b[49m\u001b[43m(\u001b[49m\u001b[38;5;28;43mself\u001b[39;49m\u001b[43m)\u001b[49m\n\u001b[1;32m    833\u001b[0m \u001b[38;5;28;01melse\u001b[39;00m:\n\u001b[1;32m    834\u001b[0m     \u001b[38;5;28mprint\u001b[39m(\u001b[38;5;28mrepr\u001b[39m(\u001b[38;5;28mself\u001b[39m))\n",
      "File \u001b[0;32m~/Desktop/ZNA/app/zna/lib/python3.9/site-packages/plotly/io/_renderers.py:394\u001b[0m, in \u001b[0;36mshow\u001b[0;34m(fig, renderer, validate, **kwargs)\u001b[0m\n\u001b[1;32m    389\u001b[0m         \u001b[38;5;28;01mraise\u001b[39;00m \u001b[38;5;167;01mValueError\u001b[39;00m(\n\u001b[1;32m    390\u001b[0m             \u001b[38;5;124m\"\u001b[39m\u001b[38;5;124mMime type rendering requires ipython but it is not installed\u001b[39m\u001b[38;5;124m\"\u001b[39m\n\u001b[1;32m    391\u001b[0m         )\n\u001b[1;32m    393\u001b[0m     \u001b[38;5;28;01mif\u001b[39;00m \u001b[38;5;129;01mnot\u001b[39;00m nbformat \u001b[38;5;129;01mor\u001b[39;00m Version(nbformat\u001b[38;5;241m.\u001b[39m__version__) \u001b[38;5;241m<\u001b[39m Version(\u001b[38;5;124m\"\u001b[39m\u001b[38;5;124m4.2.0\u001b[39m\u001b[38;5;124m\"\u001b[39m):\n\u001b[0;32m--> 394\u001b[0m         \u001b[38;5;28;01mraise\u001b[39;00m \u001b[38;5;167;01mValueError\u001b[39;00m(\n\u001b[1;32m    395\u001b[0m             \u001b[38;5;124m\"\u001b[39m\u001b[38;5;124mMime type rendering requires nbformat>=4.2.0 but it is not installed\u001b[39m\u001b[38;5;124m\"\u001b[39m\n\u001b[1;32m    396\u001b[0m         )\n\u001b[1;32m    398\u001b[0m     ipython_display\u001b[38;5;241m.\u001b[39mdisplay(bundle, raw\u001b[38;5;241m=\u001b[39m\u001b[38;5;28;01mTrue\u001b[39;00m)\n\u001b[1;32m    400\u001b[0m \u001b[38;5;66;03m# external renderers\u001b[39;00m\n",
      "\u001b[0;31mValueError\u001b[0m: Mime type rendering requires nbformat>=4.2.0 but it is not installed"
     ]
    },
    {
     "data": {
      "application/vnd.plotly.v1+json": {
       "config": {
        "plotlyServerURL": "https://plot.ly"
       },
       "data": [
        {
         "marker": {
          "color": "black",
          "size": 4
         },
         "mode": "markers",
         "name": "Actual",
         "type": "scatter",
         "x": [
          "2018-10-22T00:00:00",
          "2018-10-23T00:00:00",
          "2018-10-24T00:00:00",
          "2018-10-25T00:00:00",
          "2018-10-26T00:00:00",
          "2018-10-27T00:00:00",
          "2018-10-28T00:00:00",
          "2018-10-29T00:00:00",
          "2018-10-30T00:00:00",
          "2018-10-31T00:00:00",
          "2018-11-03T00:00:00",
          "2018-11-04T00:00:00",
          "2018-11-05T00:00:00",
          "2018-11-06T00:00:00",
          "2018-11-07T00:00:00",
          "2018-11-08T00:00:00",
          "2018-11-09T00:00:00",
          "2018-11-10T00:00:00",
          "2018-11-12T00:00:00",
          "2018-11-13T00:00:00",
          "2018-11-15T00:00:00",
          "2018-11-16T00:00:00",
          "2018-11-17T00:00:00",
          "2018-11-18T00:00:00",
          "2018-11-19T00:00:00",
          "2018-11-20T00:00:00",
          "2018-11-21T00:00:00",
          "2018-11-22T00:00:00",
          "2018-11-23T00:00:00",
          "2018-11-25T00:00:00",
          "2018-11-27T00:00:00",
          "2018-11-28T00:00:00",
          "2018-11-29T00:00:00",
          "2018-11-30T00:00:00",
          "2018-12-02T00:00:00",
          "2018-12-03T00:00:00",
          "2018-12-04T00:00:00",
          "2018-12-05T00:00:00",
          "2018-12-06T00:00:00",
          "2018-12-07T00:00:00",
          "2018-12-08T00:00:00",
          "2018-12-09T00:00:00",
          "2018-12-10T00:00:00",
          "2018-12-13T00:00:00",
          "2018-12-14T00:00:00",
          "2018-12-15T00:00:00",
          "2018-12-16T00:00:00",
          "2018-12-17T00:00:00",
          "2018-12-18T00:00:00",
          "2018-12-19T00:00:00",
          "2018-12-20T00:00:00",
          "2018-12-23T00:00:00",
          "2018-12-24T00:00:00",
          "2018-12-26T00:00:00",
          "2018-12-27T00:00:00",
          "2018-12-29T00:00:00",
          "2018-12-30T00:00:00",
          "2018-12-31T00:00:00"
         ],
         "y": [
          1920.98,
          668.82,
          847.04,
          1170.35,
          674.92,
          185.18,
          29.66,
          518.2,
          519.42,
          17.44,
          146.28,
          2127.85,
          357.76,
          1261.76,
          420.18,
          662.95,
          0,
          852.81,
          0,
          451.19,
          807.81,
          938.15,
          758.46,
          782.48,
          236.73,
          1329.49,
          914.73,
          670.11,
          1297.2,
          403.56,
          2239.46,
          888.52,
          555.96,
          1241.64,
          837.6500000000001,
          654.68,
          1123.19,
          630.22,
          109.41,
          589.81,
          0,
          35.91,
          0,
          0,
          1277.62,
          475.07,
          286.44,
          413.67,
          888.38,
          369.6,
          2042.24,
          809.65,
          877.95,
          1043.0700000000002,
          0,
          849.56,
          743.31,
          338.81
         ]
        },
        {
         "hoverinfo": "skip",
         "line": {
          "width": 0
         },
         "mode": "lines",
         "type": "scatter",
         "x": [
          "2018-10-22T00:00:00",
          "2018-10-23T00:00:00",
          "2018-10-24T00:00:00",
          "2018-10-25T00:00:00",
          "2018-10-26T00:00:00",
          "2018-10-27T00:00:00",
          "2018-10-28T00:00:00",
          "2018-10-29T00:00:00",
          "2018-10-30T00:00:00",
          "2018-10-31T00:00:00",
          "2018-11-03T00:00:00",
          "2018-11-04T00:00:00",
          "2018-11-05T00:00:00",
          "2018-11-06T00:00:00",
          "2018-11-07T00:00:00",
          "2018-11-08T00:00:00",
          "2018-11-09T00:00:00",
          "2018-11-10T00:00:00",
          "2018-11-12T00:00:00",
          "2018-11-13T00:00:00",
          "2018-11-15T00:00:00",
          "2018-11-16T00:00:00",
          "2018-11-17T00:00:00",
          "2018-11-18T00:00:00",
          "2018-11-19T00:00:00",
          "2018-11-20T00:00:00",
          "2018-11-21T00:00:00",
          "2018-11-22T00:00:00",
          "2018-11-23T00:00:00",
          "2018-11-25T00:00:00",
          "2018-11-27T00:00:00",
          "2018-11-28T00:00:00",
          "2018-11-29T00:00:00",
          "2018-11-30T00:00:00",
          "2018-12-02T00:00:00",
          "2018-12-03T00:00:00",
          "2018-12-04T00:00:00",
          "2018-12-05T00:00:00",
          "2018-12-06T00:00:00",
          "2018-12-07T00:00:00",
          "2018-12-08T00:00:00",
          "2018-12-09T00:00:00",
          "2018-12-10T00:00:00",
          "2018-12-13T00:00:00",
          "2018-12-14T00:00:00",
          "2018-12-15T00:00:00",
          "2018-12-16T00:00:00",
          "2018-12-17T00:00:00",
          "2018-12-18T00:00:00",
          "2018-12-19T00:00:00",
          "2018-12-20T00:00:00",
          "2018-12-23T00:00:00",
          "2018-12-24T00:00:00",
          "2018-12-26T00:00:00",
          "2018-12-27T00:00:00",
          "2018-12-29T00:00:00",
          "2018-12-30T00:00:00",
          "2018-12-31T00:00:00",
          "2019-01-01T00:00:00",
          "2019-01-02T00:00:00",
          "2019-01-03T00:00:00",
          "2019-01-04T00:00:00",
          "2019-01-05T00:00:00",
          "2019-01-06T00:00:00",
          "2019-01-07T00:00:00",
          "2019-01-08T00:00:00",
          "2019-01-09T00:00:00",
          "2019-01-10T00:00:00",
          "2019-01-11T00:00:00",
          "2019-01-12T00:00:00",
          "2019-01-13T00:00:00",
          "2019-01-14T00:00:00",
          "2019-01-15T00:00:00",
          "2019-01-16T00:00:00",
          "2019-01-17T00:00:00",
          "2019-01-18T00:00:00",
          "2019-01-19T00:00:00",
          "2019-01-20T00:00:00",
          "2019-01-21T00:00:00",
          "2019-01-22T00:00:00",
          "2019-01-23T00:00:00",
          "2019-01-24T00:00:00",
          "2019-01-25T00:00:00",
          "2019-01-26T00:00:00",
          "2019-01-27T00:00:00",
          "2019-01-28T00:00:00",
          "2019-01-29T00:00:00",
          "2019-01-30T00:00:00"
         ],
         "y": [
          -83.0090580757187,
          460.95082292789533,
          -5.54274494450133,
          20.38073418433397,
          246.61276402191223,
          -186.4939410892584,
          12.405181898946063,
          -59.29205279704914,
          445.92840400132934,
          62.45578094491415,
          -149.6106887564572,
          17.95992731362274,
          -86.28297660840528,
          423.2085894831879,
          -0.8545393308680043,
          -17.040896033409098,
          211.19877143581945,
          -157.42031292659712,
          -103.77603868201987,
          424.4329056676611,
          -0.027202102341041756,
          227.27370267492304,
          -201.63481733223878,
          51.37839666359794,
          -82.61573689596747,
          373.2565312428429,
          12.125594835675583,
          47.12438919765269,
          192.522368782479,
          -9.648938231257471,
          455.5239349557419,
          16.671317811387542,
          7.699547322201451,
          231.0821402100193,
          82.85369830703625,
          -150.41333206027136,
          412.32002110274124,
          25.759619213448907,
          -6.6736661577762595,
          181.51159626825262,
          -187.03936742560305,
          59.19318188739642,
          -118.9620402269248,
          18.99441079731099,
          186.19680691046955,
          -157.3492391272475,
          11.441829104438282,
          -120.1312770886817,
          418.6829979470783,
          -29.607336591308563,
          38.11721723688813,
          48.489129631633254,
          -117.38502149050032,
          29.445433976302045,
          42.711598155879706,
          -203.3069269386565,
          61.95599136728758,
          -113.6561540273734,
          401.8409967641174,
          15.086132586148668,
          -12.613021707878966,
          202.86785356573213,
          -228.8411632996215,
          -24.14353310225865,
          -93.40101397515237,
          412.61555512421074,
          -17.11596285025543,
          57.26692469473732,
          213.27195104952187,
          -130.2952310972949,
          3.1251715924789076,
          -133.53203379386392,
          391.363744008495,
          -24.360283904230762,
          51.44887727899567,
          195.5150760058204,
          -151.6610958550076,
          30.424896131479915,
          -178.23656593780717,
          401.9212648744031,
          -18.492763391235812,
          3.0488488207658975,
          208.10606497379396,
          -164.06876187964173,
          17.81879736803642,
          -166.39440201807298,
          433.8793621052984,
          15.481367760413526
         ]
        },
        {
         "fill": "tonexty",
         "fillcolor": "rgba(0, 114, 178, 0.2)",
         "line": {
          "color": "#0072B2",
          "width": 2
         },
         "mode": "lines",
         "name": "Predicted",
         "type": "scatter",
         "x": [
          "2018-10-22T00:00:00",
          "2018-10-23T00:00:00",
          "2018-10-24T00:00:00",
          "2018-10-25T00:00:00",
          "2018-10-26T00:00:00",
          "2018-10-27T00:00:00",
          "2018-10-28T00:00:00",
          "2018-10-29T00:00:00",
          "2018-10-30T00:00:00",
          "2018-10-31T00:00:00",
          "2018-11-03T00:00:00",
          "2018-11-04T00:00:00",
          "2018-11-05T00:00:00",
          "2018-11-06T00:00:00",
          "2018-11-07T00:00:00",
          "2018-11-08T00:00:00",
          "2018-11-09T00:00:00",
          "2018-11-10T00:00:00",
          "2018-11-12T00:00:00",
          "2018-11-13T00:00:00",
          "2018-11-15T00:00:00",
          "2018-11-16T00:00:00",
          "2018-11-17T00:00:00",
          "2018-11-18T00:00:00",
          "2018-11-19T00:00:00",
          "2018-11-20T00:00:00",
          "2018-11-21T00:00:00",
          "2018-11-22T00:00:00",
          "2018-11-23T00:00:00",
          "2018-11-25T00:00:00",
          "2018-11-27T00:00:00",
          "2018-11-28T00:00:00",
          "2018-11-29T00:00:00",
          "2018-11-30T00:00:00",
          "2018-12-02T00:00:00",
          "2018-12-03T00:00:00",
          "2018-12-04T00:00:00",
          "2018-12-05T00:00:00",
          "2018-12-06T00:00:00",
          "2018-12-07T00:00:00",
          "2018-12-08T00:00:00",
          "2018-12-09T00:00:00",
          "2018-12-10T00:00:00",
          "2018-12-13T00:00:00",
          "2018-12-14T00:00:00",
          "2018-12-15T00:00:00",
          "2018-12-16T00:00:00",
          "2018-12-17T00:00:00",
          "2018-12-18T00:00:00",
          "2018-12-19T00:00:00",
          "2018-12-20T00:00:00",
          "2018-12-23T00:00:00",
          "2018-12-24T00:00:00",
          "2018-12-26T00:00:00",
          "2018-12-27T00:00:00",
          "2018-12-29T00:00:00",
          "2018-12-30T00:00:00",
          "2018-12-31T00:00:00",
          "2019-01-01T00:00:00",
          "2019-01-02T00:00:00",
          "2019-01-03T00:00:00",
          "2019-01-04T00:00:00",
          "2019-01-05T00:00:00",
          "2019-01-06T00:00:00",
          "2019-01-07T00:00:00",
          "2019-01-08T00:00:00",
          "2019-01-09T00:00:00",
          "2019-01-10T00:00:00",
          "2019-01-11T00:00:00",
          "2019-01-12T00:00:00",
          "2019-01-13T00:00:00",
          "2019-01-14T00:00:00",
          "2019-01-15T00:00:00",
          "2019-01-16T00:00:00",
          "2019-01-17T00:00:00",
          "2019-01-18T00:00:00",
          "2019-01-19T00:00:00",
          "2019-01-20T00:00:00",
          "2019-01-21T00:00:00",
          "2019-01-22T00:00:00",
          "2019-01-23T00:00:00",
          "2019-01-24T00:00:00",
          "2019-01-25T00:00:00",
          "2019-01-26T00:00:00",
          "2019-01-27T00:00:00",
          "2019-01-28T00:00:00",
          "2019-01-29T00:00:00",
          "2019-01-30T00:00:00"
         ],
         "y": [
          534.144338975365,
          1061.842099316968,
          643.3256796697839,
          670.9762889705053,
          861.6397968145837,
          468.5665890583611,
          675.1135605921329,
          533.6846271232306,
          1061.382387471087,
          642.8659678328044,
          468.10687723793194,
          674.6538487757803,
          533.2249153089722,
          1060.9226756569897,
          642.4062560167032,
          670.0568653218066,
          860.7203731717058,
          467.6471654238441,
          532.7652034994367,
          1060.4629638523586,
          669.597153526505,
          860.2606613772102,
          467.1874536310247,
          673.7344251733305,
          532.3054917123445,
          1060.003252065982,
          641.486832432718,
          669.137441743537,
          859.8009496006564,
          673.274713398483,
          1059.5435402916776,
          641.027120657832,
          668.6777299695892,
          859.3412378262726,
          672.8150016245546,
          531.3860681623293,
          1059.0838285143232,
          640.5674088811909,
          668.2180181912667,
          858.8815260451563,
          465.80831829707904,
          672.3552898365004,
          530.9263563759941,
          667.7583064099277,
          858.4218142620274,
          465.3486065140979,
          671.8955780557756,
          530.4666445935939,
          1058.1644049462552,
          639.6479853116042,
          667.298594622526,
          671.4358662699636,
          530.0069328069897,
          639.1882735271254,
          666.838882836338,
          464.42918294235574,
          670.9761544837094,
          529.5472210213774,
          1057.244981375812,
          638.7285617400387,
          666.3791710485089,
          857.0426789033194,
          463.9694711574539,
          670.5164426982199,
          529.0875092357652,
          1056.7852695887482,
          638.2688499542558,
          665.9194592635743,
          856.5829671176964,
          463.50975937203407,
          670.0567309119655,
          528.6277974501529,
          1056.3255578035642,
          637.8091381675843,
          665.4597474773864,
          856.1232553320732,
          463.050047584809,
          669.597019126356,
          528.1680856635487,
          1055.8658460174024,
          637.3494263804976,
          665.000035692646,
          855.66354354645,
          462.59033579990717,
          669.1373073402217,
          527.7083738779365,
          1055.4061342312407,
          636.8897145977377
         ]
        },
        {
         "fill": "tonexty",
         "fillcolor": "rgba(0, 114, 178, 0.2)",
         "hoverinfo": "skip",
         "line": {
          "width": 0
         },
         "mode": "lines",
         "type": "scatter",
         "x": [
          "2018-10-22T00:00:00",
          "2018-10-23T00:00:00",
          "2018-10-24T00:00:00",
          "2018-10-25T00:00:00",
          "2018-10-26T00:00:00",
          "2018-10-27T00:00:00",
          "2018-10-28T00:00:00",
          "2018-10-29T00:00:00",
          "2018-10-30T00:00:00",
          "2018-10-31T00:00:00",
          "2018-11-03T00:00:00",
          "2018-11-04T00:00:00",
          "2018-11-05T00:00:00",
          "2018-11-06T00:00:00",
          "2018-11-07T00:00:00",
          "2018-11-08T00:00:00",
          "2018-11-09T00:00:00",
          "2018-11-10T00:00:00",
          "2018-11-12T00:00:00",
          "2018-11-13T00:00:00",
          "2018-11-15T00:00:00",
          "2018-11-16T00:00:00",
          "2018-11-17T00:00:00",
          "2018-11-18T00:00:00",
          "2018-11-19T00:00:00",
          "2018-11-20T00:00:00",
          "2018-11-21T00:00:00",
          "2018-11-22T00:00:00",
          "2018-11-23T00:00:00",
          "2018-11-25T00:00:00",
          "2018-11-27T00:00:00",
          "2018-11-28T00:00:00",
          "2018-11-29T00:00:00",
          "2018-11-30T00:00:00",
          "2018-12-02T00:00:00",
          "2018-12-03T00:00:00",
          "2018-12-04T00:00:00",
          "2018-12-05T00:00:00",
          "2018-12-06T00:00:00",
          "2018-12-07T00:00:00",
          "2018-12-08T00:00:00",
          "2018-12-09T00:00:00",
          "2018-12-10T00:00:00",
          "2018-12-13T00:00:00",
          "2018-12-14T00:00:00",
          "2018-12-15T00:00:00",
          "2018-12-16T00:00:00",
          "2018-12-17T00:00:00",
          "2018-12-18T00:00:00",
          "2018-12-19T00:00:00",
          "2018-12-20T00:00:00",
          "2018-12-23T00:00:00",
          "2018-12-24T00:00:00",
          "2018-12-26T00:00:00",
          "2018-12-27T00:00:00",
          "2018-12-29T00:00:00",
          "2018-12-30T00:00:00",
          "2018-12-31T00:00:00",
          "2019-01-01T00:00:00",
          "2019-01-02T00:00:00",
          "2019-01-03T00:00:00",
          "2019-01-04T00:00:00",
          "2019-01-05T00:00:00",
          "2019-01-06T00:00:00",
          "2019-01-07T00:00:00",
          "2019-01-08T00:00:00",
          "2019-01-09T00:00:00",
          "2019-01-10T00:00:00",
          "2019-01-11T00:00:00",
          "2019-01-12T00:00:00",
          "2019-01-13T00:00:00",
          "2019-01-14T00:00:00",
          "2019-01-15T00:00:00",
          "2019-01-16T00:00:00",
          "2019-01-17T00:00:00",
          "2019-01-18T00:00:00",
          "2019-01-19T00:00:00",
          "2019-01-20T00:00:00",
          "2019-01-21T00:00:00",
          "2019-01-22T00:00:00",
          "2019-01-23T00:00:00",
          "2019-01-24T00:00:00",
          "2019-01-25T00:00:00",
          "2019-01-26T00:00:00",
          "2019-01-27T00:00:00",
          "2019-01-28T00:00:00",
          "2019-01-29T00:00:00",
          "2019-01-30T00:00:00"
         ],
         "y": [
          1202.7592208018152,
          1707.4996524270941,
          1293.608566605406,
          1272.4568470152199,
          1564.8840488348224,
          1098.4893731268976,
          1338.3614556279595,
          1232.0903841643994,
          1732.4587563214889,
          1358.1848561759175,
          1096.346024844119,
          1279.9935826323008,
          1179.3282652291657,
          1739.7977313131962,
          1235.0484300152486,
          1263.94548496571,
          1519.563192814686,
          1101.3876268663996,
          1166.9726752295153,
          1675.7010442341978,
          1250.96662654587,
          1505.3869293876216,
          1123.27927598081,
          1278.2619202799563,
          1188.714595957481,
          1696.8522919769146,
          1284.2798385657868,
          1333.932857959006,
          1543.8129527819083,
          1307.6055947378718,
          1727.548488208293,
          1321.5455020446996,
          1345.057180037591,
          1502.0705010725947,
          1305.3197608680834,
          1149.6660184395423,
          1706.224187024531,
          1271.368471305871,
          1336.6968559865068,
          1549.1180809953478,
          1106.384377159254,
          1317.3711120994387,
          1194.022322838902,
          1351.2549034881633,
          1483.9701034497457,
          1150.875906531129,
          1299.7619093621681,
          1205.172014976105,
          1675.2335089561598,
          1255.8711388300635,
          1332.94908306109,
          1276.0198875949038,
          1142.8981360155465,
          1259.1861462279317,
          1277.996990987984,
          1089.212901435158,
          1306.423566592405,
          1182.3467142886054,
          1742.6528432821988,
          1292.4384450470902,
          1310.4395142646854,
          1470.3589584336048,
          1086.0042406732066,
          1262.7561242001102,
          1186.7075563548183,
          1704.6833473098745,
          1242.2284292735378,
          1331.0400839113724,
          1505.9434958973093,
          1089.6559081784262,
          1311.6216668874824,
          1146.3805603737637,
          1707.410687833908,
          1236.6997041866482,
          1351.3456114808637,
          1503.0512244249394,
          1120.829367607702,
          1329.119371532369,
          1125.93582380122,
          1691.6862071333655,
          1283.976025667097,
          1357.2222031849635,
          1473.3702257662217,
          1120.7885390250974,
          1325.3039707128949,
          1192.2840240326948,
          1756.5152371626552,
          1318.2360130451104
         ]
        }
       ],
       "layout": {
        "height": 600,
        "showlegend": false,
        "template": {
         "data": {
          "bar": [
           {
            "error_x": {
             "color": "#2a3f5f"
            },
            "error_y": {
             "color": "#2a3f5f"
            },
            "marker": {
             "line": {
              "color": "#E5ECF6",
              "width": 0.5
             },
             "pattern": {
              "fillmode": "overlay",
              "size": 10,
              "solidity": 0.2
             }
            },
            "type": "bar"
           }
          ],
          "barpolar": [
           {
            "marker": {
             "line": {
              "color": "#E5ECF6",
              "width": 0.5
             },
             "pattern": {
              "fillmode": "overlay",
              "size": 10,
              "solidity": 0.2
             }
            },
            "type": "barpolar"
           }
          ],
          "carpet": [
           {
            "aaxis": {
             "endlinecolor": "#2a3f5f",
             "gridcolor": "white",
             "linecolor": "white",
             "minorgridcolor": "white",
             "startlinecolor": "#2a3f5f"
            },
            "baxis": {
             "endlinecolor": "#2a3f5f",
             "gridcolor": "white",
             "linecolor": "white",
             "minorgridcolor": "white",
             "startlinecolor": "#2a3f5f"
            },
            "type": "carpet"
           }
          ],
          "choropleth": [
           {
            "colorbar": {
             "outlinewidth": 0,
             "ticks": ""
            },
            "type": "choropleth"
           }
          ],
          "contour": [
           {
            "colorbar": {
             "outlinewidth": 0,
             "ticks": ""
            },
            "colorscale": [
             [
              0,
              "#0d0887"
             ],
             [
              0.1111111111111111,
              "#46039f"
             ],
             [
              0.2222222222222222,
              "#7201a8"
             ],
             [
              0.3333333333333333,
              "#9c179e"
             ],
             [
              0.4444444444444444,
              "#bd3786"
             ],
             [
              0.5555555555555556,
              "#d8576b"
             ],
             [
              0.6666666666666666,
              "#ed7953"
             ],
             [
              0.7777777777777778,
              "#fb9f3a"
             ],
             [
              0.8888888888888888,
              "#fdca26"
             ],
             [
              1,
              "#f0f921"
             ]
            ],
            "type": "contour"
           }
          ],
          "contourcarpet": [
           {
            "colorbar": {
             "outlinewidth": 0,
             "ticks": ""
            },
            "type": "contourcarpet"
           }
          ],
          "heatmap": [
           {
            "colorbar": {
             "outlinewidth": 0,
             "ticks": ""
            },
            "colorscale": [
             [
              0,
              "#0d0887"
             ],
             [
              0.1111111111111111,
              "#46039f"
             ],
             [
              0.2222222222222222,
              "#7201a8"
             ],
             [
              0.3333333333333333,
              "#9c179e"
             ],
             [
              0.4444444444444444,
              "#bd3786"
             ],
             [
              0.5555555555555556,
              "#d8576b"
             ],
             [
              0.6666666666666666,
              "#ed7953"
             ],
             [
              0.7777777777777778,
              "#fb9f3a"
             ],
             [
              0.8888888888888888,
              "#fdca26"
             ],
             [
              1,
              "#f0f921"
             ]
            ],
            "type": "heatmap"
           }
          ],
          "heatmapgl": [
           {
            "colorbar": {
             "outlinewidth": 0,
             "ticks": ""
            },
            "colorscale": [
             [
              0,
              "#0d0887"
             ],
             [
              0.1111111111111111,
              "#46039f"
             ],
             [
              0.2222222222222222,
              "#7201a8"
             ],
             [
              0.3333333333333333,
              "#9c179e"
             ],
             [
              0.4444444444444444,
              "#bd3786"
             ],
             [
              0.5555555555555556,
              "#d8576b"
             ],
             [
              0.6666666666666666,
              "#ed7953"
             ],
             [
              0.7777777777777778,
              "#fb9f3a"
             ],
             [
              0.8888888888888888,
              "#fdca26"
             ],
             [
              1,
              "#f0f921"
             ]
            ],
            "type": "heatmapgl"
           }
          ],
          "histogram": [
           {
            "marker": {
             "pattern": {
              "fillmode": "overlay",
              "size": 10,
              "solidity": 0.2
             }
            },
            "type": "histogram"
           }
          ],
          "histogram2d": [
           {
            "colorbar": {
             "outlinewidth": 0,
             "ticks": ""
            },
            "colorscale": [
             [
              0,
              "#0d0887"
             ],
             [
              0.1111111111111111,
              "#46039f"
             ],
             [
              0.2222222222222222,
              "#7201a8"
             ],
             [
              0.3333333333333333,
              "#9c179e"
             ],
             [
              0.4444444444444444,
              "#bd3786"
             ],
             [
              0.5555555555555556,
              "#d8576b"
             ],
             [
              0.6666666666666666,
              "#ed7953"
             ],
             [
              0.7777777777777778,
              "#fb9f3a"
             ],
             [
              0.8888888888888888,
              "#fdca26"
             ],
             [
              1,
              "#f0f921"
             ]
            ],
            "type": "histogram2d"
           }
          ],
          "histogram2dcontour": [
           {
            "colorbar": {
             "outlinewidth": 0,
             "ticks": ""
            },
            "colorscale": [
             [
              0,
              "#0d0887"
             ],
             [
              0.1111111111111111,
              "#46039f"
             ],
             [
              0.2222222222222222,
              "#7201a8"
             ],
             [
              0.3333333333333333,
              "#9c179e"
             ],
             [
              0.4444444444444444,
              "#bd3786"
             ],
             [
              0.5555555555555556,
              "#d8576b"
             ],
             [
              0.6666666666666666,
              "#ed7953"
             ],
             [
              0.7777777777777778,
              "#fb9f3a"
             ],
             [
              0.8888888888888888,
              "#fdca26"
             ],
             [
              1,
              "#f0f921"
             ]
            ],
            "type": "histogram2dcontour"
           }
          ],
          "mesh3d": [
           {
            "colorbar": {
             "outlinewidth": 0,
             "ticks": ""
            },
            "type": "mesh3d"
           }
          ],
          "parcoords": [
           {
            "line": {
             "colorbar": {
              "outlinewidth": 0,
              "ticks": ""
             }
            },
            "type": "parcoords"
           }
          ],
          "pie": [
           {
            "automargin": true,
            "type": "pie"
           }
          ],
          "scatter": [
           {
            "fillpattern": {
             "fillmode": "overlay",
             "size": 10,
             "solidity": 0.2
            },
            "type": "scatter"
           }
          ],
          "scatter3d": [
           {
            "line": {
             "colorbar": {
              "outlinewidth": 0,
              "ticks": ""
             }
            },
            "marker": {
             "colorbar": {
              "outlinewidth": 0,
              "ticks": ""
             }
            },
            "type": "scatter3d"
           }
          ],
          "scattercarpet": [
           {
            "marker": {
             "colorbar": {
              "outlinewidth": 0,
              "ticks": ""
             }
            },
            "type": "scattercarpet"
           }
          ],
          "scattergeo": [
           {
            "marker": {
             "colorbar": {
              "outlinewidth": 0,
              "ticks": ""
             }
            },
            "type": "scattergeo"
           }
          ],
          "scattergl": [
           {
            "marker": {
             "colorbar": {
              "outlinewidth": 0,
              "ticks": ""
             }
            },
            "type": "scattergl"
           }
          ],
          "scattermapbox": [
           {
            "marker": {
             "colorbar": {
              "outlinewidth": 0,
              "ticks": ""
             }
            },
            "type": "scattermapbox"
           }
          ],
          "scatterpolar": [
           {
            "marker": {
             "colorbar": {
              "outlinewidth": 0,
              "ticks": ""
             }
            },
            "type": "scatterpolar"
           }
          ],
          "scatterpolargl": [
           {
            "marker": {
             "colorbar": {
              "outlinewidth": 0,
              "ticks": ""
             }
            },
            "type": "scatterpolargl"
           }
          ],
          "scatterternary": [
           {
            "marker": {
             "colorbar": {
              "outlinewidth": 0,
              "ticks": ""
             }
            },
            "type": "scatterternary"
           }
          ],
          "surface": [
           {
            "colorbar": {
             "outlinewidth": 0,
             "ticks": ""
            },
            "colorscale": [
             [
              0,
              "#0d0887"
             ],
             [
              0.1111111111111111,
              "#46039f"
             ],
             [
              0.2222222222222222,
              "#7201a8"
             ],
             [
              0.3333333333333333,
              "#9c179e"
             ],
             [
              0.4444444444444444,
              "#bd3786"
             ],
             [
              0.5555555555555556,
              "#d8576b"
             ],
             [
              0.6666666666666666,
              "#ed7953"
             ],
             [
              0.7777777777777778,
              "#fb9f3a"
             ],
             [
              0.8888888888888888,
              "#fdca26"
             ],
             [
              1,
              "#f0f921"
             ]
            ],
            "type": "surface"
           }
          ],
          "table": [
           {
            "cells": {
             "fill": {
              "color": "#EBF0F8"
             },
             "line": {
              "color": "white"
             }
            },
            "header": {
             "fill": {
              "color": "#C8D4E3"
             },
             "line": {
              "color": "white"
             }
            },
            "type": "table"
           }
          ]
         },
         "layout": {
          "annotationdefaults": {
           "arrowcolor": "#2a3f5f",
           "arrowhead": 0,
           "arrowwidth": 1
          },
          "autotypenumbers": "strict",
          "coloraxis": {
           "colorbar": {
            "outlinewidth": 0,
            "ticks": ""
           }
          },
          "colorscale": {
           "diverging": [
            [
             0,
             "#8e0152"
            ],
            [
             0.1,
             "#c51b7d"
            ],
            [
             0.2,
             "#de77ae"
            ],
            [
             0.3,
             "#f1b6da"
            ],
            [
             0.4,
             "#fde0ef"
            ],
            [
             0.5,
             "#f7f7f7"
            ],
            [
             0.6,
             "#e6f5d0"
            ],
            [
             0.7,
             "#b8e186"
            ],
            [
             0.8,
             "#7fbc41"
            ],
            [
             0.9,
             "#4d9221"
            ],
            [
             1,
             "#276419"
            ]
           ],
           "sequential": [
            [
             0,
             "#0d0887"
            ],
            [
             0.1111111111111111,
             "#46039f"
            ],
            [
             0.2222222222222222,
             "#7201a8"
            ],
            [
             0.3333333333333333,
             "#9c179e"
            ],
            [
             0.4444444444444444,
             "#bd3786"
            ],
            [
             0.5555555555555556,
             "#d8576b"
            ],
            [
             0.6666666666666666,
             "#ed7953"
            ],
            [
             0.7777777777777778,
             "#fb9f3a"
            ],
            [
             0.8888888888888888,
             "#fdca26"
            ],
            [
             1,
             "#f0f921"
            ]
           ],
           "sequentialminus": [
            [
             0,
             "#0d0887"
            ],
            [
             0.1111111111111111,
             "#46039f"
            ],
            [
             0.2222222222222222,
             "#7201a8"
            ],
            [
             0.3333333333333333,
             "#9c179e"
            ],
            [
             0.4444444444444444,
             "#bd3786"
            ],
            [
             0.5555555555555556,
             "#d8576b"
            ],
            [
             0.6666666666666666,
             "#ed7953"
            ],
            [
             0.7777777777777778,
             "#fb9f3a"
            ],
            [
             0.8888888888888888,
             "#fdca26"
            ],
            [
             1,
             "#f0f921"
            ]
           ]
          },
          "colorway": [
           "#636efa",
           "#EF553B",
           "#00cc96",
           "#ab63fa",
           "#FFA15A",
           "#19d3f3",
           "#FF6692",
           "#B6E880",
           "#FF97FF",
           "#FECB52"
          ],
          "font": {
           "color": "#2a3f5f"
          },
          "geo": {
           "bgcolor": "white",
           "lakecolor": "white",
           "landcolor": "#E5ECF6",
           "showlakes": true,
           "showland": true,
           "subunitcolor": "white"
          },
          "hoverlabel": {
           "align": "left"
          },
          "hovermode": "closest",
          "mapbox": {
           "style": "light"
          },
          "paper_bgcolor": "white",
          "plot_bgcolor": "#E5ECF6",
          "polar": {
           "angularaxis": {
            "gridcolor": "white",
            "linecolor": "white",
            "ticks": ""
           },
           "bgcolor": "#E5ECF6",
           "radialaxis": {
            "gridcolor": "white",
            "linecolor": "white",
            "ticks": ""
           }
          },
          "scene": {
           "xaxis": {
            "backgroundcolor": "#E5ECF6",
            "gridcolor": "white",
            "gridwidth": 2,
            "linecolor": "white",
            "showbackground": true,
            "ticks": "",
            "zerolinecolor": "white"
           },
           "yaxis": {
            "backgroundcolor": "#E5ECF6",
            "gridcolor": "white",
            "gridwidth": 2,
            "linecolor": "white",
            "showbackground": true,
            "ticks": "",
            "zerolinecolor": "white"
           },
           "zaxis": {
            "backgroundcolor": "#E5ECF6",
            "gridcolor": "white",
            "gridwidth": 2,
            "linecolor": "white",
            "showbackground": true,
            "ticks": "",
            "zerolinecolor": "white"
           }
          },
          "shapedefaults": {
           "line": {
            "color": "#2a3f5f"
           }
          },
          "ternary": {
           "aaxis": {
            "gridcolor": "white",
            "linecolor": "white",
            "ticks": ""
           },
           "baxis": {
            "gridcolor": "white",
            "linecolor": "white",
            "ticks": ""
           },
           "bgcolor": "#E5ECF6",
           "caxis": {
            "gridcolor": "white",
            "linecolor": "white",
            "ticks": ""
           }
          },
          "title": {
           "x": 0.05
          },
          "xaxis": {
           "automargin": true,
           "gridcolor": "white",
           "linecolor": "white",
           "ticks": "",
           "title": {
            "standoff": 15
           },
           "zerolinecolor": "white",
           "zerolinewidth": 2
          },
          "yaxis": {
           "automargin": true,
           "gridcolor": "white",
           "linecolor": "white",
           "ticks": "",
           "title": {
            "standoff": 15
           },
           "zerolinecolor": "white",
           "zerolinewidth": 2
          }
         }
        },
        "width": 900,
        "xaxis": {
         "rangeselector": {
          "buttons": [
           {
            "count": 7,
            "label": "1w",
            "step": "day",
            "stepmode": "backward"
           },
           {
            "count": 1,
            "label": "1m",
            "step": "month",
            "stepmode": "backward"
           },
           {
            "count": 6,
            "label": "6m",
            "step": "month",
            "stepmode": "backward"
           },
           {
            "count": 1,
            "label": "1y",
            "step": "year",
            "stepmode": "backward"
           },
           {
            "step": "all"
           }
          ]
         },
         "rangeslider": {
          "visible": true
         },
         "title": {
          "text": "ds"
         },
         "type": "date"
        },
        "yaxis": {
         "title": {
          "text": "y"
         }
        }
       }
      },
      "text/html": [
       "<div>                        <script type=\"text/javascript\">window.PlotlyConfig = {MathJaxConfig: 'local'};</script>\n",
       "        <script charset=\"utf-8\" src=\"https://cdn.plot.ly/plotly-2.32.0.min.js\"></script>                <div id=\"8f73c601-4b6e-46ad-9f48-342590787274\" class=\"plotly-graph-div\" style=\"height:600px; width:900px;\"></div>            <script type=\"text/javascript\">                                    window.PLOTLYENV=window.PLOTLYENV || {};                                    if (document.getElementById(\"8f73c601-4b6e-46ad-9f48-342590787274\")) {                    Plotly.newPlot(                        \"8f73c601-4b6e-46ad-9f48-342590787274\",                        [{\"marker\":{\"color\":\"black\",\"size\":4},\"mode\":\"markers\",\"name\":\"Actual\",\"x\":[\"2018-10-22T00:00:00\",\"2018-10-23T00:00:00\",\"2018-10-24T00:00:00\",\"2018-10-25T00:00:00\",\"2018-10-26T00:00:00\",\"2018-10-27T00:00:00\",\"2018-10-28T00:00:00\",\"2018-10-29T00:00:00\",\"2018-10-30T00:00:00\",\"2018-10-31T00:00:00\",\"2018-11-03T00:00:00\",\"2018-11-04T00:00:00\",\"2018-11-05T00:00:00\",\"2018-11-06T00:00:00\",\"2018-11-07T00:00:00\",\"2018-11-08T00:00:00\",\"2018-11-09T00:00:00\",\"2018-11-10T00:00:00\",\"2018-11-12T00:00:00\",\"2018-11-13T00:00:00\",\"2018-11-15T00:00:00\",\"2018-11-16T00:00:00\",\"2018-11-17T00:00:00\",\"2018-11-18T00:00:00\",\"2018-11-19T00:00:00\",\"2018-11-20T00:00:00\",\"2018-11-21T00:00:00\",\"2018-11-22T00:00:00\",\"2018-11-23T00:00:00\",\"2018-11-25T00:00:00\",\"2018-11-27T00:00:00\",\"2018-11-28T00:00:00\",\"2018-11-29T00:00:00\",\"2018-11-30T00:00:00\",\"2018-12-02T00:00:00\",\"2018-12-03T00:00:00\",\"2018-12-04T00:00:00\",\"2018-12-05T00:00:00\",\"2018-12-06T00:00:00\",\"2018-12-07T00:00:00\",\"2018-12-08T00:00:00\",\"2018-12-09T00:00:00\",\"2018-12-10T00:00:00\",\"2018-12-13T00:00:00\",\"2018-12-14T00:00:00\",\"2018-12-15T00:00:00\",\"2018-12-16T00:00:00\",\"2018-12-17T00:00:00\",\"2018-12-18T00:00:00\",\"2018-12-19T00:00:00\",\"2018-12-20T00:00:00\",\"2018-12-23T00:00:00\",\"2018-12-24T00:00:00\",\"2018-12-26T00:00:00\",\"2018-12-27T00:00:00\",\"2018-12-29T00:00:00\",\"2018-12-30T00:00:00\",\"2018-12-31T00:00:00\"],\"y\":[1920.98,668.82,847.04,1170.35,674.92,185.18,29.66,518.2,519.42,17.44,146.28,2127.85,357.76,1261.76,420.18,662.95,0.0,852.81,0.0,451.19,807.81,938.15,758.46,782.48,236.73,1329.49,914.73,670.11,1297.2,403.56,2239.46,888.52,555.96,1241.64,837.6500000000001,654.68,1123.19,630.22,109.41,589.81,0.0,35.91,0.0,0.0,1277.62,475.07,286.44,413.67,888.38,369.6,2042.24,809.65,877.95,1043.0700000000002,0.0,849.56,743.31,338.81],\"type\":\"scatter\"},{\"hoverinfo\":\"skip\",\"line\":{\"width\":0},\"mode\":\"lines\",\"x\":[\"2018-10-22T00:00:00\",\"2018-10-23T00:00:00\",\"2018-10-24T00:00:00\",\"2018-10-25T00:00:00\",\"2018-10-26T00:00:00\",\"2018-10-27T00:00:00\",\"2018-10-28T00:00:00\",\"2018-10-29T00:00:00\",\"2018-10-30T00:00:00\",\"2018-10-31T00:00:00\",\"2018-11-03T00:00:00\",\"2018-11-04T00:00:00\",\"2018-11-05T00:00:00\",\"2018-11-06T00:00:00\",\"2018-11-07T00:00:00\",\"2018-11-08T00:00:00\",\"2018-11-09T00:00:00\",\"2018-11-10T00:00:00\",\"2018-11-12T00:00:00\",\"2018-11-13T00:00:00\",\"2018-11-15T00:00:00\",\"2018-11-16T00:00:00\",\"2018-11-17T00:00:00\",\"2018-11-18T00:00:00\",\"2018-11-19T00:00:00\",\"2018-11-20T00:00:00\",\"2018-11-21T00:00:00\",\"2018-11-22T00:00:00\",\"2018-11-23T00:00:00\",\"2018-11-25T00:00:00\",\"2018-11-27T00:00:00\",\"2018-11-28T00:00:00\",\"2018-11-29T00:00:00\",\"2018-11-30T00:00:00\",\"2018-12-02T00:00:00\",\"2018-12-03T00:00:00\",\"2018-12-04T00:00:00\",\"2018-12-05T00:00:00\",\"2018-12-06T00:00:00\",\"2018-12-07T00:00:00\",\"2018-12-08T00:00:00\",\"2018-12-09T00:00:00\",\"2018-12-10T00:00:00\",\"2018-12-13T00:00:00\",\"2018-12-14T00:00:00\",\"2018-12-15T00:00:00\",\"2018-12-16T00:00:00\",\"2018-12-17T00:00:00\",\"2018-12-18T00:00:00\",\"2018-12-19T00:00:00\",\"2018-12-20T00:00:00\",\"2018-12-23T00:00:00\",\"2018-12-24T00:00:00\",\"2018-12-26T00:00:00\",\"2018-12-27T00:00:00\",\"2018-12-29T00:00:00\",\"2018-12-30T00:00:00\",\"2018-12-31T00:00:00\",\"2019-01-01T00:00:00\",\"2019-01-02T00:00:00\",\"2019-01-03T00:00:00\",\"2019-01-04T00:00:00\",\"2019-01-05T00:00:00\",\"2019-01-06T00:00:00\",\"2019-01-07T00:00:00\",\"2019-01-08T00:00:00\",\"2019-01-09T00:00:00\",\"2019-01-10T00:00:00\",\"2019-01-11T00:00:00\",\"2019-01-12T00:00:00\",\"2019-01-13T00:00:00\",\"2019-01-14T00:00:00\",\"2019-01-15T00:00:00\",\"2019-01-16T00:00:00\",\"2019-01-17T00:00:00\",\"2019-01-18T00:00:00\",\"2019-01-19T00:00:00\",\"2019-01-20T00:00:00\",\"2019-01-21T00:00:00\",\"2019-01-22T00:00:00\",\"2019-01-23T00:00:00\",\"2019-01-24T00:00:00\",\"2019-01-25T00:00:00\",\"2019-01-26T00:00:00\",\"2019-01-27T00:00:00\",\"2019-01-28T00:00:00\",\"2019-01-29T00:00:00\",\"2019-01-30T00:00:00\"],\"y\":[-83.0090580757187,460.95082292789533,-5.54274494450133,20.38073418433397,246.61276402191223,-186.4939410892584,12.405181898946063,-59.29205279704914,445.92840400132934,62.45578094491415,-149.6106887564572,17.95992731362274,-86.28297660840528,423.2085894831879,-0.8545393308680043,-17.040896033409098,211.19877143581945,-157.42031292659712,-103.77603868201987,424.4329056676611,-0.027202102341041756,227.27370267492304,-201.63481733223878,51.37839666359794,-82.61573689596747,373.2565312428429,12.125594835675583,47.12438919765269,192.522368782479,-9.648938231257471,455.5239349557419,16.671317811387542,7.699547322201451,231.0821402100193,82.85369830703625,-150.41333206027136,412.32002110274124,25.759619213448907,-6.6736661577762595,181.51159626825262,-187.03936742560305,59.19318188739642,-118.9620402269248,18.99441079731099,186.19680691046955,-157.3492391272475,11.441829104438282,-120.1312770886817,418.6829979470783,-29.607336591308563,38.11721723688813,48.489129631633254,-117.38502149050032,29.445433976302045,42.711598155879706,-203.3069269386565,61.95599136728758,-113.6561540273734,401.8409967641174,15.086132586148668,-12.613021707878966,202.86785356573213,-228.8411632996215,-24.14353310225865,-93.40101397515237,412.61555512421074,-17.11596285025543,57.26692469473732,213.27195104952187,-130.2952310972949,3.1251715924789076,-133.53203379386392,391.363744008495,-24.360283904230762,51.44887727899567,195.5150760058204,-151.6610958550076,30.424896131479915,-178.23656593780717,401.9212648744031,-18.492763391235812,3.0488488207658975,208.10606497379396,-164.06876187964173,17.81879736803642,-166.39440201807298,433.8793621052984,15.481367760413526],\"type\":\"scatter\"},{\"fill\":\"tonexty\",\"fillcolor\":\"rgba(0, 114, 178, 0.2)\",\"line\":{\"color\":\"#0072B2\",\"width\":2},\"mode\":\"lines\",\"name\":\"Predicted\",\"x\":[\"2018-10-22T00:00:00\",\"2018-10-23T00:00:00\",\"2018-10-24T00:00:00\",\"2018-10-25T00:00:00\",\"2018-10-26T00:00:00\",\"2018-10-27T00:00:00\",\"2018-10-28T00:00:00\",\"2018-10-29T00:00:00\",\"2018-10-30T00:00:00\",\"2018-10-31T00:00:00\",\"2018-11-03T00:00:00\",\"2018-11-04T00:00:00\",\"2018-11-05T00:00:00\",\"2018-11-06T00:00:00\",\"2018-11-07T00:00:00\",\"2018-11-08T00:00:00\",\"2018-11-09T00:00:00\",\"2018-11-10T00:00:00\",\"2018-11-12T00:00:00\",\"2018-11-13T00:00:00\",\"2018-11-15T00:00:00\",\"2018-11-16T00:00:00\",\"2018-11-17T00:00:00\",\"2018-11-18T00:00:00\",\"2018-11-19T00:00:00\",\"2018-11-20T00:00:00\",\"2018-11-21T00:00:00\",\"2018-11-22T00:00:00\",\"2018-11-23T00:00:00\",\"2018-11-25T00:00:00\",\"2018-11-27T00:00:00\",\"2018-11-28T00:00:00\",\"2018-11-29T00:00:00\",\"2018-11-30T00:00:00\",\"2018-12-02T00:00:00\",\"2018-12-03T00:00:00\",\"2018-12-04T00:00:00\",\"2018-12-05T00:00:00\",\"2018-12-06T00:00:00\",\"2018-12-07T00:00:00\",\"2018-12-08T00:00:00\",\"2018-12-09T00:00:00\",\"2018-12-10T00:00:00\",\"2018-12-13T00:00:00\",\"2018-12-14T00:00:00\",\"2018-12-15T00:00:00\",\"2018-12-16T00:00:00\",\"2018-12-17T00:00:00\",\"2018-12-18T00:00:00\",\"2018-12-19T00:00:00\",\"2018-12-20T00:00:00\",\"2018-12-23T00:00:00\",\"2018-12-24T00:00:00\",\"2018-12-26T00:00:00\",\"2018-12-27T00:00:00\",\"2018-12-29T00:00:00\",\"2018-12-30T00:00:00\",\"2018-12-31T00:00:00\",\"2019-01-01T00:00:00\",\"2019-01-02T00:00:00\",\"2019-01-03T00:00:00\",\"2019-01-04T00:00:00\",\"2019-01-05T00:00:00\",\"2019-01-06T00:00:00\",\"2019-01-07T00:00:00\",\"2019-01-08T00:00:00\",\"2019-01-09T00:00:00\",\"2019-01-10T00:00:00\",\"2019-01-11T00:00:00\",\"2019-01-12T00:00:00\",\"2019-01-13T00:00:00\",\"2019-01-14T00:00:00\",\"2019-01-15T00:00:00\",\"2019-01-16T00:00:00\",\"2019-01-17T00:00:00\",\"2019-01-18T00:00:00\",\"2019-01-19T00:00:00\",\"2019-01-20T00:00:00\",\"2019-01-21T00:00:00\",\"2019-01-22T00:00:00\",\"2019-01-23T00:00:00\",\"2019-01-24T00:00:00\",\"2019-01-25T00:00:00\",\"2019-01-26T00:00:00\",\"2019-01-27T00:00:00\",\"2019-01-28T00:00:00\",\"2019-01-29T00:00:00\",\"2019-01-30T00:00:00\"],\"y\":[534.144338975365,1061.842099316968,643.3256796697839,670.9762889705053,861.6397968145837,468.5665890583611,675.1135605921329,533.6846271232306,1061.382387471087,642.8659678328044,468.10687723793194,674.6538487757803,533.2249153089722,1060.9226756569897,642.4062560167032,670.0568653218066,860.7203731717058,467.6471654238441,532.7652034994367,1060.4629638523586,669.597153526505,860.2606613772102,467.1874536310247,673.7344251733305,532.3054917123445,1060.003252065982,641.486832432718,669.137441743537,859.8009496006564,673.274713398483,1059.5435402916776,641.027120657832,668.6777299695892,859.3412378262726,672.8150016245546,531.3860681623293,1059.0838285143232,640.5674088811909,668.2180181912667,858.8815260451563,465.80831829707904,672.3552898365004,530.9263563759941,667.7583064099277,858.4218142620274,465.3486065140979,671.8955780557756,530.4666445935939,1058.1644049462552,639.6479853116042,667.298594622526,671.4358662699636,530.0069328069897,639.1882735271254,666.838882836338,464.42918294235574,670.9761544837094,529.5472210213774,1057.244981375812,638.7285617400387,666.3791710485089,857.0426789033194,463.9694711574539,670.5164426982199,529.0875092357652,1056.7852695887482,638.2688499542558,665.9194592635743,856.5829671176964,463.50975937203407,670.0567309119655,528.6277974501529,1056.3255578035642,637.8091381675843,665.4597474773864,856.1232553320732,463.050047584809,669.597019126356,528.1680856635487,1055.8658460174024,637.3494263804976,665.000035692646,855.66354354645,462.59033579990717,669.1373073402217,527.7083738779365,1055.4061342312407,636.8897145977377],\"type\":\"scatter\"},{\"fill\":\"tonexty\",\"fillcolor\":\"rgba(0, 114, 178, 0.2)\",\"hoverinfo\":\"skip\",\"line\":{\"width\":0},\"mode\":\"lines\",\"x\":[\"2018-10-22T00:00:00\",\"2018-10-23T00:00:00\",\"2018-10-24T00:00:00\",\"2018-10-25T00:00:00\",\"2018-10-26T00:00:00\",\"2018-10-27T00:00:00\",\"2018-10-28T00:00:00\",\"2018-10-29T00:00:00\",\"2018-10-30T00:00:00\",\"2018-10-31T00:00:00\",\"2018-11-03T00:00:00\",\"2018-11-04T00:00:00\",\"2018-11-05T00:00:00\",\"2018-11-06T00:00:00\",\"2018-11-07T00:00:00\",\"2018-11-08T00:00:00\",\"2018-11-09T00:00:00\",\"2018-11-10T00:00:00\",\"2018-11-12T00:00:00\",\"2018-11-13T00:00:00\",\"2018-11-15T00:00:00\",\"2018-11-16T00:00:00\",\"2018-11-17T00:00:00\",\"2018-11-18T00:00:00\",\"2018-11-19T00:00:00\",\"2018-11-20T00:00:00\",\"2018-11-21T00:00:00\",\"2018-11-22T00:00:00\",\"2018-11-23T00:00:00\",\"2018-11-25T00:00:00\",\"2018-11-27T00:00:00\",\"2018-11-28T00:00:00\",\"2018-11-29T00:00:00\",\"2018-11-30T00:00:00\",\"2018-12-02T00:00:00\",\"2018-12-03T00:00:00\",\"2018-12-04T00:00:00\",\"2018-12-05T00:00:00\",\"2018-12-06T00:00:00\",\"2018-12-07T00:00:00\",\"2018-12-08T00:00:00\",\"2018-12-09T00:00:00\",\"2018-12-10T00:00:00\",\"2018-12-13T00:00:00\",\"2018-12-14T00:00:00\",\"2018-12-15T00:00:00\",\"2018-12-16T00:00:00\",\"2018-12-17T00:00:00\",\"2018-12-18T00:00:00\",\"2018-12-19T00:00:00\",\"2018-12-20T00:00:00\",\"2018-12-23T00:00:00\",\"2018-12-24T00:00:00\",\"2018-12-26T00:00:00\",\"2018-12-27T00:00:00\",\"2018-12-29T00:00:00\",\"2018-12-30T00:00:00\",\"2018-12-31T00:00:00\",\"2019-01-01T00:00:00\",\"2019-01-02T00:00:00\",\"2019-01-03T00:00:00\",\"2019-01-04T00:00:00\",\"2019-01-05T00:00:00\",\"2019-01-06T00:00:00\",\"2019-01-07T00:00:00\",\"2019-01-08T00:00:00\",\"2019-01-09T00:00:00\",\"2019-01-10T00:00:00\",\"2019-01-11T00:00:00\",\"2019-01-12T00:00:00\",\"2019-01-13T00:00:00\",\"2019-01-14T00:00:00\",\"2019-01-15T00:00:00\",\"2019-01-16T00:00:00\",\"2019-01-17T00:00:00\",\"2019-01-18T00:00:00\",\"2019-01-19T00:00:00\",\"2019-01-20T00:00:00\",\"2019-01-21T00:00:00\",\"2019-01-22T00:00:00\",\"2019-01-23T00:00:00\",\"2019-01-24T00:00:00\",\"2019-01-25T00:00:00\",\"2019-01-26T00:00:00\",\"2019-01-27T00:00:00\",\"2019-01-28T00:00:00\",\"2019-01-29T00:00:00\",\"2019-01-30T00:00:00\"],\"y\":[1202.7592208018152,1707.4996524270941,1293.608566605406,1272.4568470152199,1564.8840488348224,1098.4893731268976,1338.3614556279595,1232.0903841643994,1732.4587563214889,1358.1848561759175,1096.346024844119,1279.9935826323008,1179.3282652291657,1739.7977313131962,1235.0484300152486,1263.94548496571,1519.563192814686,1101.3876268663996,1166.9726752295153,1675.7010442341978,1250.96662654587,1505.3869293876216,1123.27927598081,1278.2619202799563,1188.714595957481,1696.8522919769146,1284.2798385657868,1333.932857959006,1543.8129527819083,1307.6055947378718,1727.548488208293,1321.5455020446996,1345.057180037591,1502.0705010725947,1305.3197608680834,1149.6660184395423,1706.224187024531,1271.368471305871,1336.6968559865068,1549.1180809953478,1106.384377159254,1317.3711120994387,1194.022322838902,1351.2549034881633,1483.9701034497457,1150.875906531129,1299.7619093621681,1205.172014976105,1675.2335089561598,1255.8711388300635,1332.94908306109,1276.0198875949038,1142.8981360155465,1259.1861462279317,1277.996990987984,1089.212901435158,1306.423566592405,1182.3467142886054,1742.6528432821988,1292.4384450470902,1310.4395142646854,1470.3589584336048,1086.0042406732066,1262.7561242001102,1186.7075563548183,1704.6833473098745,1242.2284292735378,1331.0400839113724,1505.9434958973093,1089.6559081784262,1311.6216668874824,1146.3805603737637,1707.410687833908,1236.6997041866482,1351.3456114808637,1503.0512244249394,1120.829367607702,1329.119371532369,1125.93582380122,1691.6862071333655,1283.976025667097,1357.2222031849635,1473.3702257662217,1120.7885390250974,1325.3039707128949,1192.2840240326948,1756.5152371626552,1318.2360130451104],\"type\":\"scatter\"}],                        {\"height\":600,\"showlegend\":false,\"width\":900,\"xaxis\":{\"rangeselector\":{\"buttons\":[{\"count\":7,\"label\":\"1w\",\"step\":\"day\",\"stepmode\":\"backward\"},{\"count\":1,\"label\":\"1m\",\"step\":\"month\",\"stepmode\":\"backward\"},{\"count\":6,\"label\":\"6m\",\"step\":\"month\",\"stepmode\":\"backward\"},{\"count\":1,\"label\":\"1y\",\"step\":\"year\",\"stepmode\":\"backward\"},{\"step\":\"all\"}]},\"rangeslider\":{\"visible\":true},\"title\":{\"text\":\"ds\"},\"type\":\"date\"},\"yaxis\":{\"title\":{\"text\":\"y\"}},\"template\":{\"data\":{\"histogram2dcontour\":[{\"type\":\"histogram2dcontour\",\"colorbar\":{\"outlinewidth\":0,\"ticks\":\"\"},\"colorscale\":[[0.0,\"#0d0887\"],[0.1111111111111111,\"#46039f\"],[0.2222222222222222,\"#7201a8\"],[0.3333333333333333,\"#9c179e\"],[0.4444444444444444,\"#bd3786\"],[0.5555555555555556,\"#d8576b\"],[0.6666666666666666,\"#ed7953\"],[0.7777777777777778,\"#fb9f3a\"],[0.8888888888888888,\"#fdca26\"],[1.0,\"#f0f921\"]]}],\"choropleth\":[{\"type\":\"choropleth\",\"colorbar\":{\"outlinewidth\":0,\"ticks\":\"\"}}],\"histogram2d\":[{\"type\":\"histogram2d\",\"colorbar\":{\"outlinewidth\":0,\"ticks\":\"\"},\"colorscale\":[[0.0,\"#0d0887\"],[0.1111111111111111,\"#46039f\"],[0.2222222222222222,\"#7201a8\"],[0.3333333333333333,\"#9c179e\"],[0.4444444444444444,\"#bd3786\"],[0.5555555555555556,\"#d8576b\"],[0.6666666666666666,\"#ed7953\"],[0.7777777777777778,\"#fb9f3a\"],[0.8888888888888888,\"#fdca26\"],[1.0,\"#f0f921\"]]}],\"heatmap\":[{\"type\":\"heatmap\",\"colorbar\":{\"outlinewidth\":0,\"ticks\":\"\"},\"colorscale\":[[0.0,\"#0d0887\"],[0.1111111111111111,\"#46039f\"],[0.2222222222222222,\"#7201a8\"],[0.3333333333333333,\"#9c179e\"],[0.4444444444444444,\"#bd3786\"],[0.5555555555555556,\"#d8576b\"],[0.6666666666666666,\"#ed7953\"],[0.7777777777777778,\"#fb9f3a\"],[0.8888888888888888,\"#fdca26\"],[1.0,\"#f0f921\"]]}],\"heatmapgl\":[{\"type\":\"heatmapgl\",\"colorbar\":{\"outlinewidth\":0,\"ticks\":\"\"},\"colorscale\":[[0.0,\"#0d0887\"],[0.1111111111111111,\"#46039f\"],[0.2222222222222222,\"#7201a8\"],[0.3333333333333333,\"#9c179e\"],[0.4444444444444444,\"#bd3786\"],[0.5555555555555556,\"#d8576b\"],[0.6666666666666666,\"#ed7953\"],[0.7777777777777778,\"#fb9f3a\"],[0.8888888888888888,\"#fdca26\"],[1.0,\"#f0f921\"]]}],\"contourcarpet\":[{\"type\":\"contourcarpet\",\"colorbar\":{\"outlinewidth\":0,\"ticks\":\"\"}}],\"contour\":[{\"type\":\"contour\",\"colorbar\":{\"outlinewidth\":0,\"ticks\":\"\"},\"colorscale\":[[0.0,\"#0d0887\"],[0.1111111111111111,\"#46039f\"],[0.2222222222222222,\"#7201a8\"],[0.3333333333333333,\"#9c179e\"],[0.4444444444444444,\"#bd3786\"],[0.5555555555555556,\"#d8576b\"],[0.6666666666666666,\"#ed7953\"],[0.7777777777777778,\"#fb9f3a\"],[0.8888888888888888,\"#fdca26\"],[1.0,\"#f0f921\"]]}],\"surface\":[{\"type\":\"surface\",\"colorbar\":{\"outlinewidth\":0,\"ticks\":\"\"},\"colorscale\":[[0.0,\"#0d0887\"],[0.1111111111111111,\"#46039f\"],[0.2222222222222222,\"#7201a8\"],[0.3333333333333333,\"#9c179e\"],[0.4444444444444444,\"#bd3786\"],[0.5555555555555556,\"#d8576b\"],[0.6666666666666666,\"#ed7953\"],[0.7777777777777778,\"#fb9f3a\"],[0.8888888888888888,\"#fdca26\"],[1.0,\"#f0f921\"]]}],\"mesh3d\":[{\"type\":\"mesh3d\",\"colorbar\":{\"outlinewidth\":0,\"ticks\":\"\"}}],\"scatter\":[{\"fillpattern\":{\"fillmode\":\"overlay\",\"size\":10,\"solidity\":0.2},\"type\":\"scatter\"}],\"parcoords\":[{\"type\":\"parcoords\",\"line\":{\"colorbar\":{\"outlinewidth\":0,\"ticks\":\"\"}}}],\"scatterpolargl\":[{\"type\":\"scatterpolargl\",\"marker\":{\"colorbar\":{\"outlinewidth\":0,\"ticks\":\"\"}}}],\"bar\":[{\"error_x\":{\"color\":\"#2a3f5f\"},\"error_y\":{\"color\":\"#2a3f5f\"},\"marker\":{\"line\":{\"color\":\"#E5ECF6\",\"width\":0.5},\"pattern\":{\"fillmode\":\"overlay\",\"size\":10,\"solidity\":0.2}},\"type\":\"bar\"}],\"scattergeo\":[{\"type\":\"scattergeo\",\"marker\":{\"colorbar\":{\"outlinewidth\":0,\"ticks\":\"\"}}}],\"scatterpolar\":[{\"type\":\"scatterpolar\",\"marker\":{\"colorbar\":{\"outlinewidth\":0,\"ticks\":\"\"}}}],\"histogram\":[{\"marker\":{\"pattern\":{\"fillmode\":\"overlay\",\"size\":10,\"solidity\":0.2}},\"type\":\"histogram\"}],\"scattergl\":[{\"type\":\"scattergl\",\"marker\":{\"colorbar\":{\"outlinewidth\":0,\"ticks\":\"\"}}}],\"scatter3d\":[{\"type\":\"scatter3d\",\"line\":{\"colorbar\":{\"outlinewidth\":0,\"ticks\":\"\"}},\"marker\":{\"colorbar\":{\"outlinewidth\":0,\"ticks\":\"\"}}}],\"scattermapbox\":[{\"type\":\"scattermapbox\",\"marker\":{\"colorbar\":{\"outlinewidth\":0,\"ticks\":\"\"}}}],\"scatterternary\":[{\"type\":\"scatterternary\",\"marker\":{\"colorbar\":{\"outlinewidth\":0,\"ticks\":\"\"}}}],\"scattercarpet\":[{\"type\":\"scattercarpet\",\"marker\":{\"colorbar\":{\"outlinewidth\":0,\"ticks\":\"\"}}}],\"carpet\":[{\"aaxis\":{\"endlinecolor\":\"#2a3f5f\",\"gridcolor\":\"white\",\"linecolor\":\"white\",\"minorgridcolor\":\"white\",\"startlinecolor\":\"#2a3f5f\"},\"baxis\":{\"endlinecolor\":\"#2a3f5f\",\"gridcolor\":\"white\",\"linecolor\":\"white\",\"minorgridcolor\":\"white\",\"startlinecolor\":\"#2a3f5f\"},\"type\":\"carpet\"}],\"table\":[{\"cells\":{\"fill\":{\"color\":\"#EBF0F8\"},\"line\":{\"color\":\"white\"}},\"header\":{\"fill\":{\"color\":\"#C8D4E3\"},\"line\":{\"color\":\"white\"}},\"type\":\"table\"}],\"barpolar\":[{\"marker\":{\"line\":{\"color\":\"#E5ECF6\",\"width\":0.5},\"pattern\":{\"fillmode\":\"overlay\",\"size\":10,\"solidity\":0.2}},\"type\":\"barpolar\"}],\"pie\":[{\"automargin\":true,\"type\":\"pie\"}]},\"layout\":{\"autotypenumbers\":\"strict\",\"colorway\":[\"#636efa\",\"#EF553B\",\"#00cc96\",\"#ab63fa\",\"#FFA15A\",\"#19d3f3\",\"#FF6692\",\"#B6E880\",\"#FF97FF\",\"#FECB52\"],\"font\":{\"color\":\"#2a3f5f\"},\"hovermode\":\"closest\",\"hoverlabel\":{\"align\":\"left\"},\"paper_bgcolor\":\"white\",\"plot_bgcolor\":\"#E5ECF6\",\"polar\":{\"bgcolor\":\"#E5ECF6\",\"angularaxis\":{\"gridcolor\":\"white\",\"linecolor\":\"white\",\"ticks\":\"\"},\"radialaxis\":{\"gridcolor\":\"white\",\"linecolor\":\"white\",\"ticks\":\"\"}},\"ternary\":{\"bgcolor\":\"#E5ECF6\",\"aaxis\":{\"gridcolor\":\"white\",\"linecolor\":\"white\",\"ticks\":\"\"},\"baxis\":{\"gridcolor\":\"white\",\"linecolor\":\"white\",\"ticks\":\"\"},\"caxis\":{\"gridcolor\":\"white\",\"linecolor\":\"white\",\"ticks\":\"\"}},\"coloraxis\":{\"colorbar\":{\"outlinewidth\":0,\"ticks\":\"\"}},\"colorscale\":{\"sequential\":[[0.0,\"#0d0887\"],[0.1111111111111111,\"#46039f\"],[0.2222222222222222,\"#7201a8\"],[0.3333333333333333,\"#9c179e\"],[0.4444444444444444,\"#bd3786\"],[0.5555555555555556,\"#d8576b\"],[0.6666666666666666,\"#ed7953\"],[0.7777777777777778,\"#fb9f3a\"],[0.8888888888888888,\"#fdca26\"],[1.0,\"#f0f921\"]],\"sequentialminus\":[[0.0,\"#0d0887\"],[0.1111111111111111,\"#46039f\"],[0.2222222222222222,\"#7201a8\"],[0.3333333333333333,\"#9c179e\"],[0.4444444444444444,\"#bd3786\"],[0.5555555555555556,\"#d8576b\"],[0.6666666666666666,\"#ed7953\"],[0.7777777777777778,\"#fb9f3a\"],[0.8888888888888888,\"#fdca26\"],[1.0,\"#f0f921\"]],\"diverging\":[[0,\"#8e0152\"],[0.1,\"#c51b7d\"],[0.2,\"#de77ae\"],[0.3,\"#f1b6da\"],[0.4,\"#fde0ef\"],[0.5,\"#f7f7f7\"],[0.6,\"#e6f5d0\"],[0.7,\"#b8e186\"],[0.8,\"#7fbc41\"],[0.9,\"#4d9221\"],[1,\"#276419\"]]},\"xaxis\":{\"gridcolor\":\"white\",\"linecolor\":\"white\",\"ticks\":\"\",\"title\":{\"standoff\":15},\"zerolinecolor\":\"white\",\"automargin\":true,\"zerolinewidth\":2},\"yaxis\":{\"gridcolor\":\"white\",\"linecolor\":\"white\",\"ticks\":\"\",\"title\":{\"standoff\":15},\"zerolinecolor\":\"white\",\"automargin\":true,\"zerolinewidth\":2},\"scene\":{\"xaxis\":{\"backgroundcolor\":\"#E5ECF6\",\"gridcolor\":\"white\",\"linecolor\":\"white\",\"showbackground\":true,\"ticks\":\"\",\"zerolinecolor\":\"white\",\"gridwidth\":2},\"yaxis\":{\"backgroundcolor\":\"#E5ECF6\",\"gridcolor\":\"white\",\"linecolor\":\"white\",\"showbackground\":true,\"ticks\":\"\",\"zerolinecolor\":\"white\",\"gridwidth\":2},\"zaxis\":{\"backgroundcolor\":\"#E5ECF6\",\"gridcolor\":\"white\",\"linecolor\":\"white\",\"showbackground\":true,\"ticks\":\"\",\"zerolinecolor\":\"white\",\"gridwidth\":2}},\"shapedefaults\":{\"line\":{\"color\":\"#2a3f5f\"}},\"annotationdefaults\":{\"arrowcolor\":\"#2a3f5f\",\"arrowhead\":0,\"arrowwidth\":1},\"geo\":{\"bgcolor\":\"white\",\"landcolor\":\"#E5ECF6\",\"subunitcolor\":\"white\",\"showland\":true,\"showlakes\":true,\"lakecolor\":\"white\"},\"title\":{\"x\":0.05},\"mapbox\":{\"style\":\"light\"}}}},                        {\"responsive\": true}                    )                };                            </script>        </div>"
      ],
      "text/plain": [
       "Figure({\n",
       "    'data': [{'marker': {'color': 'black', 'size': 4},\n",
       "              'mode': 'markers',\n",
       "              'name': 'Actual',\n",
       "              'type': 'scatter',\n",
       "              'x': array([datetime.datetime(2018, 10, 22, 0, 0),\n",
       "                          datetime.datetime(2018, 10, 23, 0, 0),\n",
       "                          datetime.datetime(2018, 10, 24, 0, 0),\n",
       "                          datetime.datetime(2018, 10, 25, 0, 0),\n",
       "                          datetime.datetime(2018, 10, 26, 0, 0),\n",
       "                          datetime.datetime(2018, 10, 27, 0, 0),\n",
       "                          datetime.datetime(2018, 10, 28, 0, 0),\n",
       "                          datetime.datetime(2018, 10, 29, 0, 0),\n",
       "                          datetime.datetime(2018, 10, 30, 0, 0),\n",
       "                          datetime.datetime(2018, 10, 31, 0, 0),\n",
       "                          datetime.datetime(2018, 11, 3, 0, 0),\n",
       "                          datetime.datetime(2018, 11, 4, 0, 0),\n",
       "                          datetime.datetime(2018, 11, 5, 0, 0),\n",
       "                          datetime.datetime(2018, 11, 6, 0, 0),\n",
       "                          datetime.datetime(2018, 11, 7, 0, 0),\n",
       "                          datetime.datetime(2018, 11, 8, 0, 0),\n",
       "                          datetime.datetime(2018, 11, 9, 0, 0),\n",
       "                          datetime.datetime(2018, 11, 10, 0, 0),\n",
       "                          datetime.datetime(2018, 11, 12, 0, 0),\n",
       "                          datetime.datetime(2018, 11, 13, 0, 0),\n",
       "                          datetime.datetime(2018, 11, 15, 0, 0),\n",
       "                          datetime.datetime(2018, 11, 16, 0, 0),\n",
       "                          datetime.datetime(2018, 11, 17, 0, 0),\n",
       "                          datetime.datetime(2018, 11, 18, 0, 0),\n",
       "                          datetime.datetime(2018, 11, 19, 0, 0),\n",
       "                          datetime.datetime(2018, 11, 20, 0, 0),\n",
       "                          datetime.datetime(2018, 11, 21, 0, 0),\n",
       "                          datetime.datetime(2018, 11, 22, 0, 0),\n",
       "                          datetime.datetime(2018, 11, 23, 0, 0),\n",
       "                          datetime.datetime(2018, 11, 25, 0, 0),\n",
       "                          datetime.datetime(2018, 11, 27, 0, 0),\n",
       "                          datetime.datetime(2018, 11, 28, 0, 0),\n",
       "                          datetime.datetime(2018, 11, 29, 0, 0),\n",
       "                          datetime.datetime(2018, 11, 30, 0, 0),\n",
       "                          datetime.datetime(2018, 12, 2, 0, 0),\n",
       "                          datetime.datetime(2018, 12, 3, 0, 0),\n",
       "                          datetime.datetime(2018, 12, 4, 0, 0),\n",
       "                          datetime.datetime(2018, 12, 5, 0, 0),\n",
       "                          datetime.datetime(2018, 12, 6, 0, 0),\n",
       "                          datetime.datetime(2018, 12, 7, 0, 0),\n",
       "                          datetime.datetime(2018, 12, 8, 0, 0),\n",
       "                          datetime.datetime(2018, 12, 9, 0, 0),\n",
       "                          datetime.datetime(2018, 12, 10, 0, 0),\n",
       "                          datetime.datetime(2018, 12, 13, 0, 0),\n",
       "                          datetime.datetime(2018, 12, 14, 0, 0),\n",
       "                          datetime.datetime(2018, 12, 15, 0, 0),\n",
       "                          datetime.datetime(2018, 12, 16, 0, 0),\n",
       "                          datetime.datetime(2018, 12, 17, 0, 0),\n",
       "                          datetime.datetime(2018, 12, 18, 0, 0),\n",
       "                          datetime.datetime(2018, 12, 19, 0, 0),\n",
       "                          datetime.datetime(2018, 12, 20, 0, 0),\n",
       "                          datetime.datetime(2018, 12, 23, 0, 0),\n",
       "                          datetime.datetime(2018, 12, 24, 0, 0),\n",
       "                          datetime.datetime(2018, 12, 26, 0, 0),\n",
       "                          datetime.datetime(2018, 12, 27, 0, 0),\n",
       "                          datetime.datetime(2018, 12, 29, 0, 0),\n",
       "                          datetime.datetime(2018, 12, 30, 0, 0),\n",
       "                          datetime.datetime(2018, 12, 31, 0, 0)], dtype=object),\n",
       "              'y': array([1920.98,  668.82,  847.04, 1170.35,  674.92,  185.18,   29.66,  518.2 ,\n",
       "                           519.42,   17.44,  146.28, 2127.85,  357.76, 1261.76,  420.18,  662.95,\n",
       "                             0.  ,  852.81,    0.  ,  451.19,  807.81,  938.15,  758.46,  782.48,\n",
       "                           236.73, 1329.49,  914.73,  670.11, 1297.2 ,  403.56, 2239.46,  888.52,\n",
       "                           555.96, 1241.64,  837.65,  654.68, 1123.19,  630.22,  109.41,  589.81,\n",
       "                             0.  ,   35.91,    0.  ,    0.  , 1277.62,  475.07,  286.44,  413.67,\n",
       "                           888.38,  369.6 , 2042.24,  809.65,  877.95, 1043.07,    0.  ,  849.56,\n",
       "                           743.31,  338.81])},\n",
       "             {'hoverinfo': 'skip',\n",
       "              'line': {'width': 0},\n",
       "              'mode': 'lines',\n",
       "              'type': 'scatter',\n",
       "              'x': array([datetime.datetime(2018, 10, 22, 0, 0),\n",
       "                          datetime.datetime(2018, 10, 23, 0, 0),\n",
       "                          datetime.datetime(2018, 10, 24, 0, 0),\n",
       "                          datetime.datetime(2018, 10, 25, 0, 0),\n",
       "                          datetime.datetime(2018, 10, 26, 0, 0),\n",
       "                          datetime.datetime(2018, 10, 27, 0, 0),\n",
       "                          datetime.datetime(2018, 10, 28, 0, 0),\n",
       "                          datetime.datetime(2018, 10, 29, 0, 0),\n",
       "                          datetime.datetime(2018, 10, 30, 0, 0),\n",
       "                          datetime.datetime(2018, 10, 31, 0, 0),\n",
       "                          datetime.datetime(2018, 11, 3, 0, 0),\n",
       "                          datetime.datetime(2018, 11, 4, 0, 0),\n",
       "                          datetime.datetime(2018, 11, 5, 0, 0),\n",
       "                          datetime.datetime(2018, 11, 6, 0, 0),\n",
       "                          datetime.datetime(2018, 11, 7, 0, 0),\n",
       "                          datetime.datetime(2018, 11, 8, 0, 0),\n",
       "                          datetime.datetime(2018, 11, 9, 0, 0),\n",
       "                          datetime.datetime(2018, 11, 10, 0, 0),\n",
       "                          datetime.datetime(2018, 11, 12, 0, 0),\n",
       "                          datetime.datetime(2018, 11, 13, 0, 0),\n",
       "                          datetime.datetime(2018, 11, 15, 0, 0),\n",
       "                          datetime.datetime(2018, 11, 16, 0, 0),\n",
       "                          datetime.datetime(2018, 11, 17, 0, 0),\n",
       "                          datetime.datetime(2018, 11, 18, 0, 0),\n",
       "                          datetime.datetime(2018, 11, 19, 0, 0),\n",
       "                          datetime.datetime(2018, 11, 20, 0, 0),\n",
       "                          datetime.datetime(2018, 11, 21, 0, 0),\n",
       "                          datetime.datetime(2018, 11, 22, 0, 0),\n",
       "                          datetime.datetime(2018, 11, 23, 0, 0),\n",
       "                          datetime.datetime(2018, 11, 25, 0, 0),\n",
       "                          datetime.datetime(2018, 11, 27, 0, 0),\n",
       "                          datetime.datetime(2018, 11, 28, 0, 0),\n",
       "                          datetime.datetime(2018, 11, 29, 0, 0),\n",
       "                          datetime.datetime(2018, 11, 30, 0, 0),\n",
       "                          datetime.datetime(2018, 12, 2, 0, 0),\n",
       "                          datetime.datetime(2018, 12, 3, 0, 0),\n",
       "                          datetime.datetime(2018, 12, 4, 0, 0),\n",
       "                          datetime.datetime(2018, 12, 5, 0, 0),\n",
       "                          datetime.datetime(2018, 12, 6, 0, 0),\n",
       "                          datetime.datetime(2018, 12, 7, 0, 0),\n",
       "                          datetime.datetime(2018, 12, 8, 0, 0),\n",
       "                          datetime.datetime(2018, 12, 9, 0, 0),\n",
       "                          datetime.datetime(2018, 12, 10, 0, 0),\n",
       "                          datetime.datetime(2018, 12, 13, 0, 0),\n",
       "                          datetime.datetime(2018, 12, 14, 0, 0),\n",
       "                          datetime.datetime(2018, 12, 15, 0, 0),\n",
       "                          datetime.datetime(2018, 12, 16, 0, 0),\n",
       "                          datetime.datetime(2018, 12, 17, 0, 0),\n",
       "                          datetime.datetime(2018, 12, 18, 0, 0),\n",
       "                          datetime.datetime(2018, 12, 19, 0, 0),\n",
       "                          datetime.datetime(2018, 12, 20, 0, 0),\n",
       "                          datetime.datetime(2018, 12, 23, 0, 0),\n",
       "                          datetime.datetime(2018, 12, 24, 0, 0),\n",
       "                          datetime.datetime(2018, 12, 26, 0, 0),\n",
       "                          datetime.datetime(2018, 12, 27, 0, 0),\n",
       "                          datetime.datetime(2018, 12, 29, 0, 0),\n",
       "                          datetime.datetime(2018, 12, 30, 0, 0),\n",
       "                          datetime.datetime(2018, 12, 31, 0, 0),\n",
       "                          datetime.datetime(2019, 1, 1, 0, 0),\n",
       "                          datetime.datetime(2019, 1, 2, 0, 0),\n",
       "                          datetime.datetime(2019, 1, 3, 0, 0),\n",
       "                          datetime.datetime(2019, 1, 4, 0, 0),\n",
       "                          datetime.datetime(2019, 1, 5, 0, 0),\n",
       "                          datetime.datetime(2019, 1, 6, 0, 0),\n",
       "                          datetime.datetime(2019, 1, 7, 0, 0),\n",
       "                          datetime.datetime(2019, 1, 8, 0, 0),\n",
       "                          datetime.datetime(2019, 1, 9, 0, 0),\n",
       "                          datetime.datetime(2019, 1, 10, 0, 0),\n",
       "                          datetime.datetime(2019, 1, 11, 0, 0),\n",
       "                          datetime.datetime(2019, 1, 12, 0, 0),\n",
       "                          datetime.datetime(2019, 1, 13, 0, 0),\n",
       "                          datetime.datetime(2019, 1, 14, 0, 0),\n",
       "                          datetime.datetime(2019, 1, 15, 0, 0),\n",
       "                          datetime.datetime(2019, 1, 16, 0, 0),\n",
       "                          datetime.datetime(2019, 1, 17, 0, 0),\n",
       "                          datetime.datetime(2019, 1, 18, 0, 0),\n",
       "                          datetime.datetime(2019, 1, 19, 0, 0),\n",
       "                          datetime.datetime(2019, 1, 20, 0, 0),\n",
       "                          datetime.datetime(2019, 1, 21, 0, 0),\n",
       "                          datetime.datetime(2019, 1, 22, 0, 0),\n",
       "                          datetime.datetime(2019, 1, 23, 0, 0),\n",
       "                          datetime.datetime(2019, 1, 24, 0, 0),\n",
       "                          datetime.datetime(2019, 1, 25, 0, 0),\n",
       "                          datetime.datetime(2019, 1, 26, 0, 0),\n",
       "                          datetime.datetime(2019, 1, 27, 0, 0),\n",
       "                          datetime.datetime(2019, 1, 28, 0, 0),\n",
       "                          datetime.datetime(2019, 1, 29, 0, 0),\n",
       "                          datetime.datetime(2019, 1, 30, 0, 0)], dtype=object),\n",
       "              'y': array([-8.30090581e+01,  4.60950823e+02, -5.54274494e+00,  2.03807342e+01,\n",
       "                           2.46612764e+02, -1.86493941e+02,  1.24051819e+01, -5.92920528e+01,\n",
       "                           4.45928404e+02,  6.24557809e+01, -1.49610689e+02,  1.79599273e+01,\n",
       "                          -8.62829766e+01,  4.23208589e+02, -8.54539331e-01, -1.70408960e+01,\n",
       "                           2.11198771e+02, -1.57420313e+02, -1.03776039e+02,  4.24432906e+02,\n",
       "                          -2.72021023e-02,  2.27273703e+02, -2.01634817e+02,  5.13783967e+01,\n",
       "                          -8.26157369e+01,  3.73256531e+02,  1.21255948e+01,  4.71243892e+01,\n",
       "                           1.92522369e+02, -9.64893823e+00,  4.55523935e+02,  1.66713178e+01,\n",
       "                           7.69954732e+00,  2.31082140e+02,  8.28536983e+01, -1.50413332e+02,\n",
       "                           4.12320021e+02,  2.57596192e+01, -6.67366616e+00,  1.81511596e+02,\n",
       "                          -1.87039367e+02,  5.91931819e+01, -1.18962040e+02,  1.89944108e+01,\n",
       "                           1.86196807e+02, -1.57349239e+02,  1.14418291e+01, -1.20131277e+02,\n",
       "                           4.18682998e+02, -2.96073366e+01,  3.81172172e+01,  4.84891296e+01,\n",
       "                          -1.17385021e+02,  2.94454340e+01,  4.27115982e+01, -2.03306927e+02,\n",
       "                           6.19559914e+01, -1.13656154e+02,  4.01840997e+02,  1.50861326e+01,\n",
       "                          -1.26130217e+01,  2.02867854e+02, -2.28841163e+02, -2.41435331e+01,\n",
       "                          -9.34010140e+01,  4.12615555e+02, -1.71159629e+01,  5.72669247e+01,\n",
       "                           2.13271951e+02, -1.30295231e+02,  3.12517159e+00, -1.33532034e+02,\n",
       "                           3.91363744e+02, -2.43602839e+01,  5.14488773e+01,  1.95515076e+02,\n",
       "                          -1.51661096e+02,  3.04248961e+01, -1.78236566e+02,  4.01921265e+02,\n",
       "                          -1.84927634e+01,  3.04884882e+00,  2.08106065e+02, -1.64068762e+02,\n",
       "                           1.78187974e+01, -1.66394402e+02,  4.33879362e+02,  1.54813678e+01])},\n",
       "             {'fill': 'tonexty',\n",
       "              'fillcolor': 'rgba(0, 114, 178, 0.2)',\n",
       "              'line': {'color': '#0072B2', 'width': 2},\n",
       "              'mode': 'lines',\n",
       "              'name': 'Predicted',\n",
       "              'type': 'scatter',\n",
       "              'x': array([datetime.datetime(2018, 10, 22, 0, 0),\n",
       "                          datetime.datetime(2018, 10, 23, 0, 0),\n",
       "                          datetime.datetime(2018, 10, 24, 0, 0),\n",
       "                          datetime.datetime(2018, 10, 25, 0, 0),\n",
       "                          datetime.datetime(2018, 10, 26, 0, 0),\n",
       "                          datetime.datetime(2018, 10, 27, 0, 0),\n",
       "                          datetime.datetime(2018, 10, 28, 0, 0),\n",
       "                          datetime.datetime(2018, 10, 29, 0, 0),\n",
       "                          datetime.datetime(2018, 10, 30, 0, 0),\n",
       "                          datetime.datetime(2018, 10, 31, 0, 0),\n",
       "                          datetime.datetime(2018, 11, 3, 0, 0),\n",
       "                          datetime.datetime(2018, 11, 4, 0, 0),\n",
       "                          datetime.datetime(2018, 11, 5, 0, 0),\n",
       "                          datetime.datetime(2018, 11, 6, 0, 0),\n",
       "                          datetime.datetime(2018, 11, 7, 0, 0),\n",
       "                          datetime.datetime(2018, 11, 8, 0, 0),\n",
       "                          datetime.datetime(2018, 11, 9, 0, 0),\n",
       "                          datetime.datetime(2018, 11, 10, 0, 0),\n",
       "                          datetime.datetime(2018, 11, 12, 0, 0),\n",
       "                          datetime.datetime(2018, 11, 13, 0, 0),\n",
       "                          datetime.datetime(2018, 11, 15, 0, 0),\n",
       "                          datetime.datetime(2018, 11, 16, 0, 0),\n",
       "                          datetime.datetime(2018, 11, 17, 0, 0),\n",
       "                          datetime.datetime(2018, 11, 18, 0, 0),\n",
       "                          datetime.datetime(2018, 11, 19, 0, 0),\n",
       "                          datetime.datetime(2018, 11, 20, 0, 0),\n",
       "                          datetime.datetime(2018, 11, 21, 0, 0),\n",
       "                          datetime.datetime(2018, 11, 22, 0, 0),\n",
       "                          datetime.datetime(2018, 11, 23, 0, 0),\n",
       "                          datetime.datetime(2018, 11, 25, 0, 0),\n",
       "                          datetime.datetime(2018, 11, 27, 0, 0),\n",
       "                          datetime.datetime(2018, 11, 28, 0, 0),\n",
       "                          datetime.datetime(2018, 11, 29, 0, 0),\n",
       "                          datetime.datetime(2018, 11, 30, 0, 0),\n",
       "                          datetime.datetime(2018, 12, 2, 0, 0),\n",
       "                          datetime.datetime(2018, 12, 3, 0, 0),\n",
       "                          datetime.datetime(2018, 12, 4, 0, 0),\n",
       "                          datetime.datetime(2018, 12, 5, 0, 0),\n",
       "                          datetime.datetime(2018, 12, 6, 0, 0),\n",
       "                          datetime.datetime(2018, 12, 7, 0, 0),\n",
       "                          datetime.datetime(2018, 12, 8, 0, 0),\n",
       "                          datetime.datetime(2018, 12, 9, 0, 0),\n",
       "                          datetime.datetime(2018, 12, 10, 0, 0),\n",
       "                          datetime.datetime(2018, 12, 13, 0, 0),\n",
       "                          datetime.datetime(2018, 12, 14, 0, 0),\n",
       "                          datetime.datetime(2018, 12, 15, 0, 0),\n",
       "                          datetime.datetime(2018, 12, 16, 0, 0),\n",
       "                          datetime.datetime(2018, 12, 17, 0, 0),\n",
       "                          datetime.datetime(2018, 12, 18, 0, 0),\n",
       "                          datetime.datetime(2018, 12, 19, 0, 0),\n",
       "                          datetime.datetime(2018, 12, 20, 0, 0),\n",
       "                          datetime.datetime(2018, 12, 23, 0, 0),\n",
       "                          datetime.datetime(2018, 12, 24, 0, 0),\n",
       "                          datetime.datetime(2018, 12, 26, 0, 0),\n",
       "                          datetime.datetime(2018, 12, 27, 0, 0),\n",
       "                          datetime.datetime(2018, 12, 29, 0, 0),\n",
       "                          datetime.datetime(2018, 12, 30, 0, 0),\n",
       "                          datetime.datetime(2018, 12, 31, 0, 0),\n",
       "                          datetime.datetime(2019, 1, 1, 0, 0),\n",
       "                          datetime.datetime(2019, 1, 2, 0, 0),\n",
       "                          datetime.datetime(2019, 1, 3, 0, 0),\n",
       "                          datetime.datetime(2019, 1, 4, 0, 0),\n",
       "                          datetime.datetime(2019, 1, 5, 0, 0),\n",
       "                          datetime.datetime(2019, 1, 6, 0, 0),\n",
       "                          datetime.datetime(2019, 1, 7, 0, 0),\n",
       "                          datetime.datetime(2019, 1, 8, 0, 0),\n",
       "                          datetime.datetime(2019, 1, 9, 0, 0),\n",
       "                          datetime.datetime(2019, 1, 10, 0, 0),\n",
       "                          datetime.datetime(2019, 1, 11, 0, 0),\n",
       "                          datetime.datetime(2019, 1, 12, 0, 0),\n",
       "                          datetime.datetime(2019, 1, 13, 0, 0),\n",
       "                          datetime.datetime(2019, 1, 14, 0, 0),\n",
       "                          datetime.datetime(2019, 1, 15, 0, 0),\n",
       "                          datetime.datetime(2019, 1, 16, 0, 0),\n",
       "                          datetime.datetime(2019, 1, 17, 0, 0),\n",
       "                          datetime.datetime(2019, 1, 18, 0, 0),\n",
       "                          datetime.datetime(2019, 1, 19, 0, 0),\n",
       "                          datetime.datetime(2019, 1, 20, 0, 0),\n",
       "                          datetime.datetime(2019, 1, 21, 0, 0),\n",
       "                          datetime.datetime(2019, 1, 22, 0, 0),\n",
       "                          datetime.datetime(2019, 1, 23, 0, 0),\n",
       "                          datetime.datetime(2019, 1, 24, 0, 0),\n",
       "                          datetime.datetime(2019, 1, 25, 0, 0),\n",
       "                          datetime.datetime(2019, 1, 26, 0, 0),\n",
       "                          datetime.datetime(2019, 1, 27, 0, 0),\n",
       "                          datetime.datetime(2019, 1, 28, 0, 0),\n",
       "                          datetime.datetime(2019, 1, 29, 0, 0),\n",
       "                          datetime.datetime(2019, 1, 30, 0, 0)], dtype=object),\n",
       "              'y': array([ 534.14433898, 1061.84209932,  643.32567967,  670.97628897,\n",
       "                           861.63979681,  468.56658906,  675.11356059,  533.68462712,\n",
       "                          1061.38238747,  642.86596783,  468.10687724,  674.65384878,\n",
       "                           533.22491531, 1060.92267566,  642.40625602,  670.05686532,\n",
       "                           860.72037317,  467.64716542,  532.7652035 , 1060.46296385,\n",
       "                           669.59715353,  860.26066138,  467.18745363,  673.73442517,\n",
       "                           532.30549171, 1060.00325207,  641.48683243,  669.13744174,\n",
       "                           859.8009496 ,  673.2747134 , 1059.54354029,  641.02712066,\n",
       "                           668.67772997,  859.34123783,  672.81500162,  531.38606816,\n",
       "                          1059.08382851,  640.56740888,  668.21801819,  858.88152605,\n",
       "                           465.8083183 ,  672.35528984,  530.92635638,  667.75830641,\n",
       "                           858.42181426,  465.34860651,  671.89557806,  530.46664459,\n",
       "                          1058.16440495,  639.64798531,  667.29859462,  671.43586627,\n",
       "                           530.00693281,  639.18827353,  666.83888284,  464.42918294,\n",
       "                           670.97615448,  529.54722102, 1057.24498138,  638.72856174,\n",
       "                           666.37917105,  857.0426789 ,  463.96947116,  670.5164427 ,\n",
       "                           529.08750924, 1056.78526959,  638.26884995,  665.91945926,\n",
       "                           856.58296712,  463.50975937,  670.05673091,  528.62779745,\n",
       "                          1056.3255578 ,  637.80913817,  665.45974748,  856.12325533,\n",
       "                           463.05004758,  669.59701913,  528.16808566, 1055.86584602,\n",
       "                           637.34942638,  665.00003569,  855.66354355,  462.5903358 ,\n",
       "                           669.13730734,  527.70837388, 1055.40613423,  636.8897146 ])},\n",
       "             {'fill': 'tonexty',\n",
       "              'fillcolor': 'rgba(0, 114, 178, 0.2)',\n",
       "              'hoverinfo': 'skip',\n",
       "              'line': {'width': 0},\n",
       "              'mode': 'lines',\n",
       "              'type': 'scatter',\n",
       "              'x': array([datetime.datetime(2018, 10, 22, 0, 0),\n",
       "                          datetime.datetime(2018, 10, 23, 0, 0),\n",
       "                          datetime.datetime(2018, 10, 24, 0, 0),\n",
       "                          datetime.datetime(2018, 10, 25, 0, 0),\n",
       "                          datetime.datetime(2018, 10, 26, 0, 0),\n",
       "                          datetime.datetime(2018, 10, 27, 0, 0),\n",
       "                          datetime.datetime(2018, 10, 28, 0, 0),\n",
       "                          datetime.datetime(2018, 10, 29, 0, 0),\n",
       "                          datetime.datetime(2018, 10, 30, 0, 0),\n",
       "                          datetime.datetime(2018, 10, 31, 0, 0),\n",
       "                          datetime.datetime(2018, 11, 3, 0, 0),\n",
       "                          datetime.datetime(2018, 11, 4, 0, 0),\n",
       "                          datetime.datetime(2018, 11, 5, 0, 0),\n",
       "                          datetime.datetime(2018, 11, 6, 0, 0),\n",
       "                          datetime.datetime(2018, 11, 7, 0, 0),\n",
       "                          datetime.datetime(2018, 11, 8, 0, 0),\n",
       "                          datetime.datetime(2018, 11, 9, 0, 0),\n",
       "                          datetime.datetime(2018, 11, 10, 0, 0),\n",
       "                          datetime.datetime(2018, 11, 12, 0, 0),\n",
       "                          datetime.datetime(2018, 11, 13, 0, 0),\n",
       "                          datetime.datetime(2018, 11, 15, 0, 0),\n",
       "                          datetime.datetime(2018, 11, 16, 0, 0),\n",
       "                          datetime.datetime(2018, 11, 17, 0, 0),\n",
       "                          datetime.datetime(2018, 11, 18, 0, 0),\n",
       "                          datetime.datetime(2018, 11, 19, 0, 0),\n",
       "                          datetime.datetime(2018, 11, 20, 0, 0),\n",
       "                          datetime.datetime(2018, 11, 21, 0, 0),\n",
       "                          datetime.datetime(2018, 11, 22, 0, 0),\n",
       "                          datetime.datetime(2018, 11, 23, 0, 0),\n",
       "                          datetime.datetime(2018, 11, 25, 0, 0),\n",
       "                          datetime.datetime(2018, 11, 27, 0, 0),\n",
       "                          datetime.datetime(2018, 11, 28, 0, 0),\n",
       "                          datetime.datetime(2018, 11, 29, 0, 0),\n",
       "                          datetime.datetime(2018, 11, 30, 0, 0),\n",
       "                          datetime.datetime(2018, 12, 2, 0, 0),\n",
       "                          datetime.datetime(2018, 12, 3, 0, 0),\n",
       "                          datetime.datetime(2018, 12, 4, 0, 0),\n",
       "                          datetime.datetime(2018, 12, 5, 0, 0),\n",
       "                          datetime.datetime(2018, 12, 6, 0, 0),\n",
       "                          datetime.datetime(2018, 12, 7, 0, 0),\n",
       "                          datetime.datetime(2018, 12, 8, 0, 0),\n",
       "                          datetime.datetime(2018, 12, 9, 0, 0),\n",
       "                          datetime.datetime(2018, 12, 10, 0, 0),\n",
       "                          datetime.datetime(2018, 12, 13, 0, 0),\n",
       "                          datetime.datetime(2018, 12, 14, 0, 0),\n",
       "                          datetime.datetime(2018, 12, 15, 0, 0),\n",
       "                          datetime.datetime(2018, 12, 16, 0, 0),\n",
       "                          datetime.datetime(2018, 12, 17, 0, 0),\n",
       "                          datetime.datetime(2018, 12, 18, 0, 0),\n",
       "                          datetime.datetime(2018, 12, 19, 0, 0),\n",
       "                          datetime.datetime(2018, 12, 20, 0, 0),\n",
       "                          datetime.datetime(2018, 12, 23, 0, 0),\n",
       "                          datetime.datetime(2018, 12, 24, 0, 0),\n",
       "                          datetime.datetime(2018, 12, 26, 0, 0),\n",
       "                          datetime.datetime(2018, 12, 27, 0, 0),\n",
       "                          datetime.datetime(2018, 12, 29, 0, 0),\n",
       "                          datetime.datetime(2018, 12, 30, 0, 0),\n",
       "                          datetime.datetime(2018, 12, 31, 0, 0),\n",
       "                          datetime.datetime(2019, 1, 1, 0, 0),\n",
       "                          datetime.datetime(2019, 1, 2, 0, 0),\n",
       "                          datetime.datetime(2019, 1, 3, 0, 0),\n",
       "                          datetime.datetime(2019, 1, 4, 0, 0),\n",
       "                          datetime.datetime(2019, 1, 5, 0, 0),\n",
       "                          datetime.datetime(2019, 1, 6, 0, 0),\n",
       "                          datetime.datetime(2019, 1, 7, 0, 0),\n",
       "                          datetime.datetime(2019, 1, 8, 0, 0),\n",
       "                          datetime.datetime(2019, 1, 9, 0, 0),\n",
       "                          datetime.datetime(2019, 1, 10, 0, 0),\n",
       "                          datetime.datetime(2019, 1, 11, 0, 0),\n",
       "                          datetime.datetime(2019, 1, 12, 0, 0),\n",
       "                          datetime.datetime(2019, 1, 13, 0, 0),\n",
       "                          datetime.datetime(2019, 1, 14, 0, 0),\n",
       "                          datetime.datetime(2019, 1, 15, 0, 0),\n",
       "                          datetime.datetime(2019, 1, 16, 0, 0),\n",
       "                          datetime.datetime(2019, 1, 17, 0, 0),\n",
       "                          datetime.datetime(2019, 1, 18, 0, 0),\n",
       "                          datetime.datetime(2019, 1, 19, 0, 0),\n",
       "                          datetime.datetime(2019, 1, 20, 0, 0),\n",
       "                          datetime.datetime(2019, 1, 21, 0, 0),\n",
       "                          datetime.datetime(2019, 1, 22, 0, 0),\n",
       "                          datetime.datetime(2019, 1, 23, 0, 0),\n",
       "                          datetime.datetime(2019, 1, 24, 0, 0),\n",
       "                          datetime.datetime(2019, 1, 25, 0, 0),\n",
       "                          datetime.datetime(2019, 1, 26, 0, 0),\n",
       "                          datetime.datetime(2019, 1, 27, 0, 0),\n",
       "                          datetime.datetime(2019, 1, 28, 0, 0),\n",
       "                          datetime.datetime(2019, 1, 29, 0, 0),\n",
       "                          datetime.datetime(2019, 1, 30, 0, 0)], dtype=object),\n",
       "              'y': array([1202.7592208 , 1707.49965243, 1293.60856661, 1272.45684702,\n",
       "                          1564.88404883, 1098.48937313, 1338.36145563, 1232.09038416,\n",
       "                          1732.45875632, 1358.18485618, 1096.34602484, 1279.99358263,\n",
       "                          1179.32826523, 1739.79773131, 1235.04843002, 1263.94548497,\n",
       "                          1519.56319281, 1101.38762687, 1166.97267523, 1675.70104423,\n",
       "                          1250.96662655, 1505.38692939, 1123.27927598, 1278.26192028,\n",
       "                          1188.71459596, 1696.85229198, 1284.27983857, 1333.93285796,\n",
       "                          1543.81295278, 1307.60559474, 1727.54848821, 1321.54550204,\n",
       "                          1345.05718004, 1502.07050107, 1305.31976087, 1149.66601844,\n",
       "                          1706.22418702, 1271.36847131, 1336.69685599, 1549.118081  ,\n",
       "                          1106.38437716, 1317.3711121 , 1194.02232284, 1351.25490349,\n",
       "                          1483.97010345, 1150.87590653, 1299.76190936, 1205.17201498,\n",
       "                          1675.23350896, 1255.87113883, 1332.94908306, 1276.01988759,\n",
       "                          1142.89813602, 1259.18614623, 1277.99699099, 1089.21290144,\n",
       "                          1306.42356659, 1182.34671429, 1742.65284328, 1292.43844505,\n",
       "                          1310.43951426, 1470.35895843, 1086.00424067, 1262.7561242 ,\n",
       "                          1186.70755635, 1704.68334731, 1242.22842927, 1331.04008391,\n",
       "                          1505.9434959 , 1089.65590818, 1311.62166689, 1146.38056037,\n",
       "                          1707.41068783, 1236.69970419, 1351.34561148, 1503.05122442,\n",
       "                          1120.82936761, 1329.11937153, 1125.9358238 , 1691.68620713,\n",
       "                          1283.97602567, 1357.22220318, 1473.37022577, 1120.78853903,\n",
       "                          1325.30397071, 1192.28402403, 1756.51523716, 1318.23601305])}],\n",
       "    'layout': {'height': 600,\n",
       "               'showlegend': False,\n",
       "               'template': '...',\n",
       "               'width': 900,\n",
       "               'xaxis': {'rangeselector': {'buttons': [{'count': 7, 'label': '1w', 'step': 'day', 'stepmode': 'backward'},\n",
       "                                                       {'count': 1,\n",
       "                                                        'label': '1m',\n",
       "                                                        'step': 'month',\n",
       "                                                        'stepmode': 'backward'},\n",
       "                                                       {'count': 6,\n",
       "                                                        'label': '6m',\n",
       "                                                        'step': 'month',\n",
       "                                                        'stepmode': 'backward'},\n",
       "                                                       {'count': 1, 'label': '1y', 'step': 'year', 'stepmode': 'backward'},\n",
       "                                                       {'step': 'all'}]},\n",
       "                         'rangeslider': {'visible': True},\n",
       "                         'title': {'text': 'ds'},\n",
       "                         'type': 'date'},\n",
       "               'yaxis': {'title': {'text': 'y'}}}\n",
       "})"
      ]
     },
     "execution_count": 20,
     "metadata": {},
     "output_type": "execute_result"
    }
   ],
   "source": [
    "from prophet.plot import plot_plotly, plot_components_plotly\n",
    "\n",
    "plot_plotly(m, forecast)\n"
   ]
  },
  {
   "cell_type": "code",
   "execution_count": 11,
   "metadata": {},
   "outputs": [
    {
     "ename": "ValueError",
     "evalue": "Mime type rendering requires nbformat>=4.2.0 but it is not installed",
     "output_type": "error",
     "traceback": [
      "\u001b[0;31m---------------------------------------------------------------------------\u001b[0m",
      "\u001b[0;31mValueError\u001b[0m                                Traceback (most recent call last)",
      "File \u001b[0;32m~/Desktop/ZNA/app/zna/lib/python3.9/site-packages/IPython/core/formatters.py:922\u001b[0m, in \u001b[0;36mIPythonDisplayFormatter.__call__\u001b[0;34m(self, obj)\u001b[0m\n\u001b[1;32m    920\u001b[0m method \u001b[38;5;241m=\u001b[39m get_real_method(obj, \u001b[38;5;28mself\u001b[39m\u001b[38;5;241m.\u001b[39mprint_method)\n\u001b[1;32m    921\u001b[0m \u001b[38;5;28;01mif\u001b[39;00m method \u001b[38;5;129;01mis\u001b[39;00m \u001b[38;5;129;01mnot\u001b[39;00m \u001b[38;5;28;01mNone\u001b[39;00m:\n\u001b[0;32m--> 922\u001b[0m     \u001b[43mmethod\u001b[49m\u001b[43m(\u001b[49m\u001b[43m)\u001b[49m\n\u001b[1;32m    923\u001b[0m     \u001b[38;5;28;01mreturn\u001b[39;00m \u001b[38;5;28;01mTrue\u001b[39;00m\n",
      "File \u001b[0;32m~/Desktop/ZNA/app/zna/lib/python3.9/site-packages/plotly/basedatatypes.py:832\u001b[0m, in \u001b[0;36mBaseFigure._ipython_display_\u001b[0;34m(self)\u001b[0m\n\u001b[1;32m    829\u001b[0m \u001b[38;5;28;01mimport\u001b[39;00m \u001b[38;5;21;01mplotly\u001b[39;00m\u001b[38;5;21;01m.\u001b[39;00m\u001b[38;5;21;01mio\u001b[39;00m \u001b[38;5;28;01mas\u001b[39;00m \u001b[38;5;21;01mpio\u001b[39;00m\n\u001b[1;32m    831\u001b[0m \u001b[38;5;28;01mif\u001b[39;00m pio\u001b[38;5;241m.\u001b[39mrenderers\u001b[38;5;241m.\u001b[39mrender_on_display \u001b[38;5;129;01mand\u001b[39;00m pio\u001b[38;5;241m.\u001b[39mrenderers\u001b[38;5;241m.\u001b[39mdefault:\n\u001b[0;32m--> 832\u001b[0m     \u001b[43mpio\u001b[49m\u001b[38;5;241;43m.\u001b[39;49m\u001b[43mshow\u001b[49m\u001b[43m(\u001b[49m\u001b[38;5;28;43mself\u001b[39;49m\u001b[43m)\u001b[49m\n\u001b[1;32m    833\u001b[0m \u001b[38;5;28;01melse\u001b[39;00m:\n\u001b[1;32m    834\u001b[0m     \u001b[38;5;28mprint\u001b[39m(\u001b[38;5;28mrepr\u001b[39m(\u001b[38;5;28mself\u001b[39m))\n",
      "File \u001b[0;32m~/Desktop/ZNA/app/zna/lib/python3.9/site-packages/plotly/io/_renderers.py:394\u001b[0m, in \u001b[0;36mshow\u001b[0;34m(fig, renderer, validate, **kwargs)\u001b[0m\n\u001b[1;32m    389\u001b[0m         \u001b[38;5;28;01mraise\u001b[39;00m \u001b[38;5;167;01mValueError\u001b[39;00m(\n\u001b[1;32m    390\u001b[0m             \u001b[38;5;124m\"\u001b[39m\u001b[38;5;124mMime type rendering requires ipython but it is not installed\u001b[39m\u001b[38;5;124m\"\u001b[39m\n\u001b[1;32m    391\u001b[0m         )\n\u001b[1;32m    393\u001b[0m     \u001b[38;5;28;01mif\u001b[39;00m \u001b[38;5;129;01mnot\u001b[39;00m nbformat \u001b[38;5;129;01mor\u001b[39;00m Version(nbformat\u001b[38;5;241m.\u001b[39m__version__) \u001b[38;5;241m<\u001b[39m Version(\u001b[38;5;124m\"\u001b[39m\u001b[38;5;124m4.2.0\u001b[39m\u001b[38;5;124m\"\u001b[39m):\n\u001b[0;32m--> 394\u001b[0m         \u001b[38;5;28;01mraise\u001b[39;00m \u001b[38;5;167;01mValueError\u001b[39;00m(\n\u001b[1;32m    395\u001b[0m             \u001b[38;5;124m\"\u001b[39m\u001b[38;5;124mMime type rendering requires nbformat>=4.2.0 but it is not installed\u001b[39m\u001b[38;5;124m\"\u001b[39m\n\u001b[1;32m    396\u001b[0m         )\n\u001b[1;32m    398\u001b[0m     ipython_display\u001b[38;5;241m.\u001b[39mdisplay(bundle, raw\u001b[38;5;241m=\u001b[39m\u001b[38;5;28;01mTrue\u001b[39;00m)\n\u001b[1;32m    400\u001b[0m \u001b[38;5;66;03m# external renderers\u001b[39;00m\n",
      "\u001b[0;31mValueError\u001b[0m: Mime type rendering requires nbformat>=4.2.0 but it is not installed"
     ]
    },
    {
     "data": {
      "application/vnd.plotly.v1+json": {
       "config": {
        "plotlyServerURL": "https://plot.ly"
       },
       "data": [
        {
         "line": {
          "color": "#0072B2",
          "width": 2
         },
         "mode": "lines",
         "name": "trend",
         "type": "scatter",
         "x": [
          "2018-08-15T00:00:00",
          "2018-08-16T00:00:00",
          "2018-08-17T00:00:00",
          "2018-08-18T00:00:00",
          "2018-08-19T00:00:00",
          "2018-08-20T00:00:00",
          "2018-08-21T00:00:00",
          "2018-08-22T00:00:00",
          "2018-08-23T00:00:00",
          "2018-08-24T00:00:00",
          "2018-08-25T00:00:00",
          "2018-08-27T00:00:00",
          "2018-08-28T00:00:00",
          "2018-08-29T00:00:00",
          "2018-08-30T00:00:00",
          "2018-08-31T00:00:00",
          "2018-09-01T00:00:00",
          "2018-09-02T00:00:00",
          "2018-09-04T00:00:00",
          "2018-09-05T00:00:00",
          "2018-09-06T00:00:00",
          "2018-09-07T00:00:00",
          "2018-09-08T00:00:00",
          "2018-09-09T00:00:00",
          "2018-09-11T00:00:00",
          "2018-09-12T00:00:00",
          "2018-09-13T00:00:00",
          "2018-09-16T00:00:00",
          "2018-09-17T00:00:00",
          "2018-09-18T00:00:00",
          "2018-09-19T00:00:00",
          "2018-09-20T00:00:00",
          "2018-09-21T00:00:00",
          "2018-09-22T00:00:00",
          "2018-09-23T00:00:00",
          "2018-09-24T00:00:00",
          "2018-09-25T00:00:00",
          "2018-09-27T00:00:00",
          "2018-09-28T00:00:00",
          "2018-09-29T00:00:00",
          "2018-09-30T00:00:00",
          "2018-10-01T00:00:00",
          "2018-10-02T00:00:00",
          "2018-10-03T00:00:00",
          "2018-10-04T00:00:00",
          "2018-10-05T00:00:00",
          "2018-10-06T00:00:00",
          "2018-10-08T00:00:00",
          "2018-10-09T00:00:00",
          "2018-10-10T00:00:00",
          "2018-10-11T00:00:00",
          "2018-10-12T00:00:00",
          "2018-10-13T00:00:00",
          "2018-10-14T00:00:00",
          "2018-10-16T00:00:00",
          "2018-10-17T00:00:00",
          "2018-10-18T00:00:00",
          "2018-10-19T00:00:00",
          "2018-10-21T00:00:00",
          "2018-10-22T00:00:00",
          "2018-10-23T00:00:00",
          "2018-10-24T00:00:00",
          "2018-10-26T00:00:00",
          "2018-10-27T00:00:00",
          "2018-10-28T00:00:00",
          "2018-10-31T00:00:00",
          "2018-11-01T00:00:00",
          "2018-11-02T00:00:00",
          "2018-11-03T00:00:00",
          "2018-11-04T00:00:00",
          "2018-11-05T00:00:00",
          "2018-11-06T00:00:00",
          "2018-11-07T00:00:00",
          "2018-11-09T00:00:00",
          "2018-11-10T00:00:00",
          "2018-11-11T00:00:00",
          "2018-11-12T00:00:00",
          "2018-11-14T00:00:00",
          "2018-11-15T00:00:00",
          "2018-11-16T00:00:00",
          "2018-11-17T00:00:00",
          "2018-11-18T00:00:00",
          "2018-11-19T00:00:00",
          "2018-11-20T00:00:00",
          "2018-11-21T00:00:00",
          "2018-11-22T00:00:00",
          "2018-11-23T00:00:00",
          "2018-11-24T00:00:00",
          "2018-11-25T00:00:00",
          "2018-11-26T00:00:00",
          "2018-11-27T00:00:00",
          "2018-11-28T00:00:00",
          "2018-11-29T00:00:00",
          "2018-11-30T00:00:00",
          "2018-12-02T00:00:00",
          "2018-12-03T00:00:00",
          "2018-12-04T00:00:00",
          "2018-12-05T00:00:00",
          "2018-12-07T00:00:00",
          "2018-12-08T00:00:00",
          "2018-12-09T00:00:00",
          "2018-12-10T00:00:00",
          "2018-12-11T00:00:00",
          "2018-12-12T00:00:00",
          "2018-12-13T00:00:00",
          "2018-12-14T00:00:00",
          "2018-12-15T00:00:00",
          "2018-12-16T00:00:00",
          "2018-12-17T00:00:00",
          "2018-12-18T00:00:00",
          "2018-12-20T00:00:00",
          "2018-12-21T00:00:00",
          "2018-12-23T00:00:00",
          "2018-12-24T00:00:00",
          "2018-12-25T00:00:00",
          "2018-12-26T00:00:00",
          "2018-12-27T00:00:00",
          "2018-12-28T00:00:00",
          "2018-12-29T00:00:00",
          "2018-12-30T00:00:00",
          "2018-12-31T00:00:00",
          "2019-01-01T00:00:00",
          "2019-01-02T00:00:00",
          "2019-01-03T00:00:00",
          "2019-01-04T00:00:00",
          "2019-01-05T00:00:00",
          "2019-01-06T00:00:00",
          "2019-01-07T00:00:00",
          "2019-01-08T00:00:00",
          "2019-01-09T00:00:00",
          "2019-01-10T00:00:00",
          "2019-01-11T00:00:00",
          "2019-01-12T00:00:00",
          "2019-01-13T00:00:00",
          "2019-01-14T00:00:00",
          "2019-01-15T00:00:00",
          "2019-01-16T00:00:00",
          "2019-01-17T00:00:00",
          "2019-01-18T00:00:00",
          "2019-01-19T00:00:00",
          "2019-01-20T00:00:00",
          "2019-01-21T00:00:00",
          "2019-01-22T00:00:00",
          "2019-01-23T00:00:00",
          "2019-01-24T00:00:00",
          "2019-01-25T00:00:00",
          "2019-01-26T00:00:00",
          "2019-01-27T00:00:00",
          "2019-01-28T00:00:00",
          "2019-01-29T00:00:00",
          "2019-01-30T00:00:00"
         ],
         "xaxis": "x",
         "y": [
          276.69472947,
          277.4041020980507,
          278.11347472610146,
          278.82284735415215,
          279.5322199822029,
          280.24159261025363,
          280.95096520313183,
          281.66033779601,
          282.3697103888882,
          283.0790829817664,
          283.7884555746446,
          285.207200760401,
          285.91657333650613,
          286.62594591261126,
          287.3353184887163,
          288.04469106482145,
          288.7540635707736,
          289.46343607672577,
          290.88218108863015,
          291.59155359458236,
          292.30092602703127,
          293.01029845948017,
          293.71967089192907,
          294.42904338088067,
          295.84778835878393,
          296.55716084773553,
          297.26653333402476,
          299.3946507928923,
          300.1040232791815,
          300.8133957654707,
          301.52276824507175,
          302.2321407246728,
          302.9415132042738,
          303.65088568387483,
          304.36025816347586,
          305.0696305567487,
          305.77900295002155,
          307.1977477365672,
          307.9071200842466,
          308.6164924319261,
          309.3258647796056,
          310.03523712728503,
          310.7445737063938,
          311.4539102855027,
          312.16324686461155,
          312.87256871260615,
          313.58189056060075,
          315.0005342565901,
          315.69034077477164,
          316.3801472929532,
          317.0699538111348,
          317.75976032931635,
          318.449566847498,
          319.1393733286416,
          320.51898629092886,
          321.2087927720725,
          321.8985992532161,
          322.58840570663483,
          323.9680186134722,
          324.65782506689095,
          325.347530511406,
          326.0372359559211,
          327.4166468449512,
          328.10635223936663,
          328.79605763378214,
          330.86517381702845,
          331.55487918446613,
          332.24458455190387,
          332.9342899193415,
          333.62399528677923,
          334.313700654217,
          335.0034059871085,
          335.69311131999996,
          337.072521985783,
          337.76222731867455,
          338.45193232521245,
          339.14163733175036,
          340.52104734482623,
          341.2107523298691,
          341.900457314912,
          342.5901622999549,
          343.2798672849978,
          343.96957227004066,
          344.6592772879418,
          345.3489823058429,
          346.03868732374406,
          346.7283923416452,
          347.4180973595463,
          348.1078023019554,
          348.7975072443644,
          349.4872121867735,
          350.17691711505125,
          350.86662204332896,
          351.55632697160667,
          352.93573682816213,
          353.6254417564399,
          354.3151467264326,
          355.0048516964254,
          356.3842616364109,
          357.0739666126096,
          357.7636715888083,
          358.453376565007,
          359.1430815412057,
          359.83278651740443,
          360.52249149360307,
          361.21219646980177,
          361.9019014460005,
          362.59160642219916,
          363.28131139839786,
          363.9710163745966,
          365.350426326994,
          366.0401313031927,
          367.4195412555901,
          368.1092462317888,
          368.79895120798756,
          369.4886561841862,
          370.1783611603849,
          370.86806613658365,
          371.55777111278235,
          372.247476088981,
          372.93718106517974,
          373.62688604137844,
          374.3165910175771,
          375.00629599377584,
          375.69600096997453,
          376.3857059461732,
          377.07541092237193,
          377.7651158985706,
          378.4548208747694,
          379.144525850968,
          379.8342308271668,
          380.5239358033655,
          381.2136407795641,
          381.90334575576287,
          382.59305073196157,
          383.28275570816027,
          383.97246068435896,
          384.66216566055766,
          385.35187063675636,
          386.04157561295506,
          386.73128058915376,
          387.42098556535245,
          388.1106905415512,
          388.8003955177499,
          389.4901004939486,
          390.1798054701473,
          390.86951044634594,
          391.5592154225447,
          392.2489203987434,
          392.93862537494215,
          393.6283303511408
         ],
         "yaxis": "y"
        },
        {
         "line": {
          "color": "rgba(0, 114, 178, 0.2)",
          "width": 0
         },
         "mode": "lines",
         "name": "trend_upper",
         "type": "scatter",
         "x": [
          "2018-08-15T00:00:00",
          "2018-08-16T00:00:00",
          "2018-08-17T00:00:00",
          "2018-08-18T00:00:00",
          "2018-08-19T00:00:00",
          "2018-08-20T00:00:00",
          "2018-08-21T00:00:00",
          "2018-08-22T00:00:00",
          "2018-08-23T00:00:00",
          "2018-08-24T00:00:00",
          "2018-08-25T00:00:00",
          "2018-08-27T00:00:00",
          "2018-08-28T00:00:00",
          "2018-08-29T00:00:00",
          "2018-08-30T00:00:00",
          "2018-08-31T00:00:00",
          "2018-09-01T00:00:00",
          "2018-09-02T00:00:00",
          "2018-09-04T00:00:00",
          "2018-09-05T00:00:00",
          "2018-09-06T00:00:00",
          "2018-09-07T00:00:00",
          "2018-09-08T00:00:00",
          "2018-09-09T00:00:00",
          "2018-09-11T00:00:00",
          "2018-09-12T00:00:00",
          "2018-09-13T00:00:00",
          "2018-09-16T00:00:00",
          "2018-09-17T00:00:00",
          "2018-09-18T00:00:00",
          "2018-09-19T00:00:00",
          "2018-09-20T00:00:00",
          "2018-09-21T00:00:00",
          "2018-09-22T00:00:00",
          "2018-09-23T00:00:00",
          "2018-09-24T00:00:00",
          "2018-09-25T00:00:00",
          "2018-09-27T00:00:00",
          "2018-09-28T00:00:00",
          "2018-09-29T00:00:00",
          "2018-09-30T00:00:00",
          "2018-10-01T00:00:00",
          "2018-10-02T00:00:00",
          "2018-10-03T00:00:00",
          "2018-10-04T00:00:00",
          "2018-10-05T00:00:00",
          "2018-10-06T00:00:00",
          "2018-10-08T00:00:00",
          "2018-10-09T00:00:00",
          "2018-10-10T00:00:00",
          "2018-10-11T00:00:00",
          "2018-10-12T00:00:00",
          "2018-10-13T00:00:00",
          "2018-10-14T00:00:00",
          "2018-10-16T00:00:00",
          "2018-10-17T00:00:00",
          "2018-10-18T00:00:00",
          "2018-10-19T00:00:00",
          "2018-10-21T00:00:00",
          "2018-10-22T00:00:00",
          "2018-10-23T00:00:00",
          "2018-10-24T00:00:00",
          "2018-10-26T00:00:00",
          "2018-10-27T00:00:00",
          "2018-10-28T00:00:00",
          "2018-10-31T00:00:00",
          "2018-11-01T00:00:00",
          "2018-11-02T00:00:00",
          "2018-11-03T00:00:00",
          "2018-11-04T00:00:00",
          "2018-11-05T00:00:00",
          "2018-11-06T00:00:00",
          "2018-11-07T00:00:00",
          "2018-11-09T00:00:00",
          "2018-11-10T00:00:00",
          "2018-11-11T00:00:00",
          "2018-11-12T00:00:00",
          "2018-11-14T00:00:00",
          "2018-11-15T00:00:00",
          "2018-11-16T00:00:00",
          "2018-11-17T00:00:00",
          "2018-11-18T00:00:00",
          "2018-11-19T00:00:00",
          "2018-11-20T00:00:00",
          "2018-11-21T00:00:00",
          "2018-11-22T00:00:00",
          "2018-11-23T00:00:00",
          "2018-11-24T00:00:00",
          "2018-11-25T00:00:00",
          "2018-11-26T00:00:00",
          "2018-11-27T00:00:00",
          "2018-11-28T00:00:00",
          "2018-11-29T00:00:00",
          "2018-11-30T00:00:00",
          "2018-12-02T00:00:00",
          "2018-12-03T00:00:00",
          "2018-12-04T00:00:00",
          "2018-12-05T00:00:00",
          "2018-12-07T00:00:00",
          "2018-12-08T00:00:00",
          "2018-12-09T00:00:00",
          "2018-12-10T00:00:00",
          "2018-12-11T00:00:00",
          "2018-12-12T00:00:00",
          "2018-12-13T00:00:00",
          "2018-12-14T00:00:00",
          "2018-12-15T00:00:00",
          "2018-12-16T00:00:00",
          "2018-12-17T00:00:00",
          "2018-12-18T00:00:00",
          "2018-12-20T00:00:00",
          "2018-12-21T00:00:00",
          "2018-12-23T00:00:00",
          "2018-12-24T00:00:00",
          "2018-12-25T00:00:00",
          "2018-12-26T00:00:00",
          "2018-12-27T00:00:00",
          "2018-12-28T00:00:00",
          "2018-12-29T00:00:00",
          "2018-12-30T00:00:00",
          "2018-12-31T00:00:00",
          "2019-01-01T00:00:00",
          "2019-01-02T00:00:00",
          "2019-01-03T00:00:00",
          "2019-01-04T00:00:00",
          "2019-01-05T00:00:00",
          "2019-01-06T00:00:00",
          "2019-01-07T00:00:00",
          "2019-01-08T00:00:00",
          "2019-01-09T00:00:00",
          "2019-01-10T00:00:00",
          "2019-01-11T00:00:00",
          "2019-01-12T00:00:00",
          "2019-01-13T00:00:00",
          "2019-01-14T00:00:00",
          "2019-01-15T00:00:00",
          "2019-01-16T00:00:00",
          "2019-01-17T00:00:00",
          "2019-01-18T00:00:00",
          "2019-01-19T00:00:00",
          "2019-01-20T00:00:00",
          "2019-01-21T00:00:00",
          "2019-01-22T00:00:00",
          "2019-01-23T00:00:00",
          "2019-01-24T00:00:00",
          "2019-01-25T00:00:00",
          "2019-01-26T00:00:00",
          "2019-01-27T00:00:00",
          "2019-01-28T00:00:00",
          "2019-01-29T00:00:00",
          "2019-01-30T00:00:00"
         ],
         "xaxis": "x",
         "y": [
          276.69472947,
          277.4041020980507,
          278.11347472610146,
          278.82284735415215,
          279.5322199822029,
          280.24159261025363,
          280.95096520313183,
          281.66033779601,
          282.3697103888882,
          283.0790829817664,
          283.7884555746446,
          285.207200760401,
          285.91657333650613,
          286.62594591261126,
          287.3353184887163,
          288.04469106482145,
          288.7540635707736,
          289.46343607672577,
          290.88218108863015,
          291.59155359458236,
          292.30092602703127,
          293.01029845948017,
          293.71967089192907,
          294.42904338088067,
          295.84778835878393,
          296.55716084773553,
          297.26653333402476,
          299.3946507928923,
          300.1040232791815,
          300.8133957654707,
          301.52276824507175,
          302.2321407246728,
          302.9415132042738,
          303.65088568387483,
          304.36025816347586,
          305.0696305567487,
          305.77900295002155,
          307.1977477365672,
          307.9071200842466,
          308.6164924319261,
          309.3258647796056,
          310.03523712728503,
          310.7445737063938,
          311.4539102855027,
          312.16324686461155,
          312.87256871260615,
          313.58189056060075,
          315.0005342565901,
          315.69034077477164,
          316.3801472929532,
          317.0699538111348,
          317.75976032931635,
          318.449566847498,
          319.1393733286416,
          320.51898629092886,
          321.2087927720725,
          321.8985992532161,
          322.58840570663483,
          323.9680186134722,
          324.65782506689095,
          325.347530511406,
          326.0372359559211,
          327.4166468449512,
          328.10635223936663,
          328.79605763378214,
          330.86517381702845,
          331.55487918446613,
          332.24458455190387,
          332.9342899193415,
          333.62399528677923,
          334.313700654217,
          335.0034059871085,
          335.69311131999996,
          337.072521985783,
          337.76222731867455,
          338.45193232521245,
          339.14163733175036,
          340.52104734482623,
          341.2107523298691,
          341.900457314912,
          342.5901622999549,
          343.2798672849978,
          343.96957227004066,
          344.6592772879418,
          345.3489823058429,
          346.03868732374406,
          346.7283923416452,
          347.4180973595463,
          348.1078023019554,
          348.7975072443644,
          349.4872121867735,
          350.17691711505125,
          350.86662204332896,
          351.55632697160667,
          352.93573682816213,
          353.6254417564399,
          354.3151467264326,
          355.0048516964254,
          356.3842616364109,
          357.0739666126096,
          357.7636715888083,
          358.453376565007,
          359.1430815412057,
          359.83278651740443,
          360.52249149360307,
          361.21219646980177,
          361.9019014460005,
          362.59160642219916,
          363.28131139839786,
          363.9710163745966,
          365.350426326994,
          366.0401313031927,
          367.4195412555901,
          368.1092462317888,
          368.79895120798756,
          369.4886561841862,
          370.1783611603849,
          370.86806613658365,
          371.55777111278235,
          372.247476088981,
          372.93718106517974,
          373.6268860710695,
          374.3170247040497,
          375.00727276841405,
          375.6977983678532,
          376.3885362011505,
          377.0793457584214,
          377.7703551766902,
          378.46145826666526,
          379.15247162856133,
          379.843550912636,
          380.53479096746173,
          381.226297590204,
          381.91794362960513,
          382.6095730876504,
          383.30155878030337,
          383.9926668057905,
          384.6844404106134,
          385.3759765517454,
          386.0689340532455,
          386.76022139455773,
          387.4525531616183,
          388.1454331377964,
          388.83725669228176,
          389.5294108803484,
          390.22285950841535,
          390.91547149302085,
          391.60845975748106,
          392.300618280465,
          392.99389332484014,
          393.6862350642813
         ],
         "yaxis": "y"
        },
        {
         "fill": "tonexty",
         "fillcolor": "rgba(0, 114, 178, 0.2)",
         "line": {
          "color": "rgba(0, 114, 178, 0.2)",
          "width": 0
         },
         "mode": "lines",
         "name": "trend_lower",
         "type": "scatter",
         "x": [
          "2018-08-15T00:00:00",
          "2018-08-16T00:00:00",
          "2018-08-17T00:00:00",
          "2018-08-18T00:00:00",
          "2018-08-19T00:00:00",
          "2018-08-20T00:00:00",
          "2018-08-21T00:00:00",
          "2018-08-22T00:00:00",
          "2018-08-23T00:00:00",
          "2018-08-24T00:00:00",
          "2018-08-25T00:00:00",
          "2018-08-27T00:00:00",
          "2018-08-28T00:00:00",
          "2018-08-29T00:00:00",
          "2018-08-30T00:00:00",
          "2018-08-31T00:00:00",
          "2018-09-01T00:00:00",
          "2018-09-02T00:00:00",
          "2018-09-04T00:00:00",
          "2018-09-05T00:00:00",
          "2018-09-06T00:00:00",
          "2018-09-07T00:00:00",
          "2018-09-08T00:00:00",
          "2018-09-09T00:00:00",
          "2018-09-11T00:00:00",
          "2018-09-12T00:00:00",
          "2018-09-13T00:00:00",
          "2018-09-16T00:00:00",
          "2018-09-17T00:00:00",
          "2018-09-18T00:00:00",
          "2018-09-19T00:00:00",
          "2018-09-20T00:00:00",
          "2018-09-21T00:00:00",
          "2018-09-22T00:00:00",
          "2018-09-23T00:00:00",
          "2018-09-24T00:00:00",
          "2018-09-25T00:00:00",
          "2018-09-27T00:00:00",
          "2018-09-28T00:00:00",
          "2018-09-29T00:00:00",
          "2018-09-30T00:00:00",
          "2018-10-01T00:00:00",
          "2018-10-02T00:00:00",
          "2018-10-03T00:00:00",
          "2018-10-04T00:00:00",
          "2018-10-05T00:00:00",
          "2018-10-06T00:00:00",
          "2018-10-08T00:00:00",
          "2018-10-09T00:00:00",
          "2018-10-10T00:00:00",
          "2018-10-11T00:00:00",
          "2018-10-12T00:00:00",
          "2018-10-13T00:00:00",
          "2018-10-14T00:00:00",
          "2018-10-16T00:00:00",
          "2018-10-17T00:00:00",
          "2018-10-18T00:00:00",
          "2018-10-19T00:00:00",
          "2018-10-21T00:00:00",
          "2018-10-22T00:00:00",
          "2018-10-23T00:00:00",
          "2018-10-24T00:00:00",
          "2018-10-26T00:00:00",
          "2018-10-27T00:00:00",
          "2018-10-28T00:00:00",
          "2018-10-31T00:00:00",
          "2018-11-01T00:00:00",
          "2018-11-02T00:00:00",
          "2018-11-03T00:00:00",
          "2018-11-04T00:00:00",
          "2018-11-05T00:00:00",
          "2018-11-06T00:00:00",
          "2018-11-07T00:00:00",
          "2018-11-09T00:00:00",
          "2018-11-10T00:00:00",
          "2018-11-11T00:00:00",
          "2018-11-12T00:00:00",
          "2018-11-14T00:00:00",
          "2018-11-15T00:00:00",
          "2018-11-16T00:00:00",
          "2018-11-17T00:00:00",
          "2018-11-18T00:00:00",
          "2018-11-19T00:00:00",
          "2018-11-20T00:00:00",
          "2018-11-21T00:00:00",
          "2018-11-22T00:00:00",
          "2018-11-23T00:00:00",
          "2018-11-24T00:00:00",
          "2018-11-25T00:00:00",
          "2018-11-26T00:00:00",
          "2018-11-27T00:00:00",
          "2018-11-28T00:00:00",
          "2018-11-29T00:00:00",
          "2018-11-30T00:00:00",
          "2018-12-02T00:00:00",
          "2018-12-03T00:00:00",
          "2018-12-04T00:00:00",
          "2018-12-05T00:00:00",
          "2018-12-07T00:00:00",
          "2018-12-08T00:00:00",
          "2018-12-09T00:00:00",
          "2018-12-10T00:00:00",
          "2018-12-11T00:00:00",
          "2018-12-12T00:00:00",
          "2018-12-13T00:00:00",
          "2018-12-14T00:00:00",
          "2018-12-15T00:00:00",
          "2018-12-16T00:00:00",
          "2018-12-17T00:00:00",
          "2018-12-18T00:00:00",
          "2018-12-20T00:00:00",
          "2018-12-21T00:00:00",
          "2018-12-23T00:00:00",
          "2018-12-24T00:00:00",
          "2018-12-25T00:00:00",
          "2018-12-26T00:00:00",
          "2018-12-27T00:00:00",
          "2018-12-28T00:00:00",
          "2018-12-29T00:00:00",
          "2018-12-30T00:00:00",
          "2018-12-31T00:00:00",
          "2019-01-01T00:00:00",
          "2019-01-02T00:00:00",
          "2019-01-03T00:00:00",
          "2019-01-04T00:00:00",
          "2019-01-05T00:00:00",
          "2019-01-06T00:00:00",
          "2019-01-07T00:00:00",
          "2019-01-08T00:00:00",
          "2019-01-09T00:00:00",
          "2019-01-10T00:00:00",
          "2019-01-11T00:00:00",
          "2019-01-12T00:00:00",
          "2019-01-13T00:00:00",
          "2019-01-14T00:00:00",
          "2019-01-15T00:00:00",
          "2019-01-16T00:00:00",
          "2019-01-17T00:00:00",
          "2019-01-18T00:00:00",
          "2019-01-19T00:00:00",
          "2019-01-20T00:00:00",
          "2019-01-21T00:00:00",
          "2019-01-22T00:00:00",
          "2019-01-23T00:00:00",
          "2019-01-24T00:00:00",
          "2019-01-25T00:00:00",
          "2019-01-26T00:00:00",
          "2019-01-27T00:00:00",
          "2019-01-28T00:00:00",
          "2019-01-29T00:00:00",
          "2019-01-30T00:00:00"
         ],
         "xaxis": "x",
         "y": [
          276.69472947,
          277.4041020980507,
          278.11347472610146,
          278.82284735415215,
          279.5322199822029,
          280.24159261025363,
          280.95096520313183,
          281.66033779601,
          282.3697103888882,
          283.0790829817664,
          283.7884555746446,
          285.207200760401,
          285.91657333650613,
          286.62594591261126,
          287.3353184887163,
          288.04469106482145,
          288.7540635707736,
          289.46343607672577,
          290.88218108863015,
          291.59155359458236,
          292.30092602703127,
          293.01029845948017,
          293.71967089192907,
          294.42904338088067,
          295.84778835878393,
          296.55716084773553,
          297.26653333402476,
          299.3946507928923,
          300.1040232791815,
          300.8133957654707,
          301.52276824507175,
          302.2321407246728,
          302.9415132042738,
          303.65088568387483,
          304.36025816347586,
          305.0696305567487,
          305.77900295002155,
          307.1977477365672,
          307.9071200842466,
          308.6164924319261,
          309.3258647796056,
          310.03523712728503,
          310.7445737063938,
          311.4539102855027,
          312.16324686461155,
          312.87256871260615,
          313.58189056060075,
          315.0005342565901,
          315.69034077477164,
          316.3801472929532,
          317.0699538111348,
          317.75976032931635,
          318.449566847498,
          319.1393733286416,
          320.51898629092886,
          321.2087927720725,
          321.8985992532161,
          322.58840570663483,
          323.9680186134722,
          324.65782506689095,
          325.347530511406,
          326.0372359559211,
          327.4166468449512,
          328.10635223936663,
          328.79605763378214,
          330.86517381702845,
          331.55487918446613,
          332.24458455190387,
          332.9342899193415,
          333.62399528677923,
          334.313700654217,
          335.0034059871085,
          335.69311131999996,
          337.072521985783,
          337.76222731867455,
          338.45193232521245,
          339.14163733175036,
          340.52104734482623,
          341.2107523298691,
          341.900457314912,
          342.5901622999549,
          343.2798672849978,
          343.96957227004066,
          344.6592772879418,
          345.3489823058429,
          346.03868732374406,
          346.7283923416452,
          347.4180973595463,
          348.1078023019554,
          348.7975072443644,
          349.4872121867735,
          350.17691711505125,
          350.86662204332896,
          351.55632697160667,
          352.93573682816213,
          353.6254417564399,
          354.3151467264326,
          355.0048516964254,
          356.3842616364109,
          357.0739666126096,
          357.7636715888083,
          358.453376565007,
          359.1430815412057,
          359.83278651740443,
          360.52249149360307,
          361.21219646980177,
          361.9019014460005,
          362.59160642219916,
          363.28131139839786,
          363.9710163745966,
          365.350426326994,
          366.0401313031927,
          367.4195412555901,
          368.1092462317888,
          368.79895120798756,
          369.4886561841862,
          370.1783611603849,
          370.86806613658365,
          371.55777111278235,
          372.247476088981,
          372.93718106517974,
          373.62688604137844,
          374.31628719188564,
          375.0053832018307,
          375.69433084773925,
          376.3831150452337,
          377.0717399515357,
          377.7604084768727,
          378.44913496845305,
          379.13740222061546,
          379.8258828783411,
          380.51403173594,
          381.2017905845076,
          381.89014505264356,
          382.5781677299261,
          383.26589227533947,
          383.95371617757417,
          384.6414559469319,
          385.32906046551153,
          386.01690104741493,
          386.7045660864607,
          387.3926240968367,
          388.0801706106199,
          388.76665785005787,
          389.4541026314721,
          390.14128695760235,
          390.8280806356839,
          391.51551707977467,
          392.20293555628575,
          392.8902001651253,
          393.57746746202105
         ],
         "yaxis": "y"
        },
        {
         "line": {
          "color": "#0072B2",
          "width": 2
         },
         "mode": "lines",
         "name": "weekly",
         "type": "scatter",
         "x": [
          "2017-01-01T00:00:00",
          "2017-01-02T00:00:00",
          "2017-01-03T00:00:00",
          "2017-01-04T00:00:00",
          "2017-01-05T00:00:00",
          "2017-01-06T00:00:00",
          "2017-01-07T00:00:00"
         ],
         "xaxis": "x2",
         "y": [
          -32.44851634374124,
          -5.882237117387727,
          5.0990138316450455,
          68.15319071682742,
          -6.597647846289268,
          23.636695680103113,
          -51.960498920933496
         ],
         "yaxis": "y2"
        }
       ],
       "layout": {
        "height": 400,
        "showlegend": false,
        "template": {
         "data": {
          "bar": [
           {
            "error_x": {
             "color": "#2a3f5f"
            },
            "error_y": {
             "color": "#2a3f5f"
            },
            "marker": {
             "line": {
              "color": "#E5ECF6",
              "width": 0.5
             },
             "pattern": {
              "fillmode": "overlay",
              "size": 10,
              "solidity": 0.2
             }
            },
            "type": "bar"
           }
          ],
          "barpolar": [
           {
            "marker": {
             "line": {
              "color": "#E5ECF6",
              "width": 0.5
             },
             "pattern": {
              "fillmode": "overlay",
              "size": 10,
              "solidity": 0.2
             }
            },
            "type": "barpolar"
           }
          ],
          "carpet": [
           {
            "aaxis": {
             "endlinecolor": "#2a3f5f",
             "gridcolor": "white",
             "linecolor": "white",
             "minorgridcolor": "white",
             "startlinecolor": "#2a3f5f"
            },
            "baxis": {
             "endlinecolor": "#2a3f5f",
             "gridcolor": "white",
             "linecolor": "white",
             "minorgridcolor": "white",
             "startlinecolor": "#2a3f5f"
            },
            "type": "carpet"
           }
          ],
          "choropleth": [
           {
            "colorbar": {
             "outlinewidth": 0,
             "ticks": ""
            },
            "type": "choropleth"
           }
          ],
          "contour": [
           {
            "colorbar": {
             "outlinewidth": 0,
             "ticks": ""
            },
            "colorscale": [
             [
              0,
              "#0d0887"
             ],
             [
              0.1111111111111111,
              "#46039f"
             ],
             [
              0.2222222222222222,
              "#7201a8"
             ],
             [
              0.3333333333333333,
              "#9c179e"
             ],
             [
              0.4444444444444444,
              "#bd3786"
             ],
             [
              0.5555555555555556,
              "#d8576b"
             ],
             [
              0.6666666666666666,
              "#ed7953"
             ],
             [
              0.7777777777777778,
              "#fb9f3a"
             ],
             [
              0.8888888888888888,
              "#fdca26"
             ],
             [
              1,
              "#f0f921"
             ]
            ],
            "type": "contour"
           }
          ],
          "contourcarpet": [
           {
            "colorbar": {
             "outlinewidth": 0,
             "ticks": ""
            },
            "type": "contourcarpet"
           }
          ],
          "heatmap": [
           {
            "colorbar": {
             "outlinewidth": 0,
             "ticks": ""
            },
            "colorscale": [
             [
              0,
              "#0d0887"
             ],
             [
              0.1111111111111111,
              "#46039f"
             ],
             [
              0.2222222222222222,
              "#7201a8"
             ],
             [
              0.3333333333333333,
              "#9c179e"
             ],
             [
              0.4444444444444444,
              "#bd3786"
             ],
             [
              0.5555555555555556,
              "#d8576b"
             ],
             [
              0.6666666666666666,
              "#ed7953"
             ],
             [
              0.7777777777777778,
              "#fb9f3a"
             ],
             [
              0.8888888888888888,
              "#fdca26"
             ],
             [
              1,
              "#f0f921"
             ]
            ],
            "type": "heatmap"
           }
          ],
          "heatmapgl": [
           {
            "colorbar": {
             "outlinewidth": 0,
             "ticks": ""
            },
            "colorscale": [
             [
              0,
              "#0d0887"
             ],
             [
              0.1111111111111111,
              "#46039f"
             ],
             [
              0.2222222222222222,
              "#7201a8"
             ],
             [
              0.3333333333333333,
              "#9c179e"
             ],
             [
              0.4444444444444444,
              "#bd3786"
             ],
             [
              0.5555555555555556,
              "#d8576b"
             ],
             [
              0.6666666666666666,
              "#ed7953"
             ],
             [
              0.7777777777777778,
              "#fb9f3a"
             ],
             [
              0.8888888888888888,
              "#fdca26"
             ],
             [
              1,
              "#f0f921"
             ]
            ],
            "type": "heatmapgl"
           }
          ],
          "histogram": [
           {
            "marker": {
             "pattern": {
              "fillmode": "overlay",
              "size": 10,
              "solidity": 0.2
             }
            },
            "type": "histogram"
           }
          ],
          "histogram2d": [
           {
            "colorbar": {
             "outlinewidth": 0,
             "ticks": ""
            },
            "colorscale": [
             [
              0,
              "#0d0887"
             ],
             [
              0.1111111111111111,
              "#46039f"
             ],
             [
              0.2222222222222222,
              "#7201a8"
             ],
             [
              0.3333333333333333,
              "#9c179e"
             ],
             [
              0.4444444444444444,
              "#bd3786"
             ],
             [
              0.5555555555555556,
              "#d8576b"
             ],
             [
              0.6666666666666666,
              "#ed7953"
             ],
             [
              0.7777777777777778,
              "#fb9f3a"
             ],
             [
              0.8888888888888888,
              "#fdca26"
             ],
             [
              1,
              "#f0f921"
             ]
            ],
            "type": "histogram2d"
           }
          ],
          "histogram2dcontour": [
           {
            "colorbar": {
             "outlinewidth": 0,
             "ticks": ""
            },
            "colorscale": [
             [
              0,
              "#0d0887"
             ],
             [
              0.1111111111111111,
              "#46039f"
             ],
             [
              0.2222222222222222,
              "#7201a8"
             ],
             [
              0.3333333333333333,
              "#9c179e"
             ],
             [
              0.4444444444444444,
              "#bd3786"
             ],
             [
              0.5555555555555556,
              "#d8576b"
             ],
             [
              0.6666666666666666,
              "#ed7953"
             ],
             [
              0.7777777777777778,
              "#fb9f3a"
             ],
             [
              0.8888888888888888,
              "#fdca26"
             ],
             [
              1,
              "#f0f921"
             ]
            ],
            "type": "histogram2dcontour"
           }
          ],
          "mesh3d": [
           {
            "colorbar": {
             "outlinewidth": 0,
             "ticks": ""
            },
            "type": "mesh3d"
           }
          ],
          "parcoords": [
           {
            "line": {
             "colorbar": {
              "outlinewidth": 0,
              "ticks": ""
             }
            },
            "type": "parcoords"
           }
          ],
          "pie": [
           {
            "automargin": true,
            "type": "pie"
           }
          ],
          "scatter": [
           {
            "fillpattern": {
             "fillmode": "overlay",
             "size": 10,
             "solidity": 0.2
            },
            "type": "scatter"
           }
          ],
          "scatter3d": [
           {
            "line": {
             "colorbar": {
              "outlinewidth": 0,
              "ticks": ""
             }
            },
            "marker": {
             "colorbar": {
              "outlinewidth": 0,
              "ticks": ""
             }
            },
            "type": "scatter3d"
           }
          ],
          "scattercarpet": [
           {
            "marker": {
             "colorbar": {
              "outlinewidth": 0,
              "ticks": ""
             }
            },
            "type": "scattercarpet"
           }
          ],
          "scattergeo": [
           {
            "marker": {
             "colorbar": {
              "outlinewidth": 0,
              "ticks": ""
             }
            },
            "type": "scattergeo"
           }
          ],
          "scattergl": [
           {
            "marker": {
             "colorbar": {
              "outlinewidth": 0,
              "ticks": ""
             }
            },
            "type": "scattergl"
           }
          ],
          "scattermapbox": [
           {
            "marker": {
             "colorbar": {
              "outlinewidth": 0,
              "ticks": ""
             }
            },
            "type": "scattermapbox"
           }
          ],
          "scatterpolar": [
           {
            "marker": {
             "colorbar": {
              "outlinewidth": 0,
              "ticks": ""
             }
            },
            "type": "scatterpolar"
           }
          ],
          "scatterpolargl": [
           {
            "marker": {
             "colorbar": {
              "outlinewidth": 0,
              "ticks": ""
             }
            },
            "type": "scatterpolargl"
           }
          ],
          "scatterternary": [
           {
            "marker": {
             "colorbar": {
              "outlinewidth": 0,
              "ticks": ""
             }
            },
            "type": "scatterternary"
           }
          ],
          "surface": [
           {
            "colorbar": {
             "outlinewidth": 0,
             "ticks": ""
            },
            "colorscale": [
             [
              0,
              "#0d0887"
             ],
             [
              0.1111111111111111,
              "#46039f"
             ],
             [
              0.2222222222222222,
              "#7201a8"
             ],
             [
              0.3333333333333333,
              "#9c179e"
             ],
             [
              0.4444444444444444,
              "#bd3786"
             ],
             [
              0.5555555555555556,
              "#d8576b"
             ],
             [
              0.6666666666666666,
              "#ed7953"
             ],
             [
              0.7777777777777778,
              "#fb9f3a"
             ],
             [
              0.8888888888888888,
              "#fdca26"
             ],
             [
              1,
              "#f0f921"
             ]
            ],
            "type": "surface"
           }
          ],
          "table": [
           {
            "cells": {
             "fill": {
              "color": "#EBF0F8"
             },
             "line": {
              "color": "white"
             }
            },
            "header": {
             "fill": {
              "color": "#C8D4E3"
             },
             "line": {
              "color": "white"
             }
            },
            "type": "table"
           }
          ]
         },
         "layout": {
          "annotationdefaults": {
           "arrowcolor": "#2a3f5f",
           "arrowhead": 0,
           "arrowwidth": 1
          },
          "autotypenumbers": "strict",
          "coloraxis": {
           "colorbar": {
            "outlinewidth": 0,
            "ticks": ""
           }
          },
          "colorscale": {
           "diverging": [
            [
             0,
             "#8e0152"
            ],
            [
             0.1,
             "#c51b7d"
            ],
            [
             0.2,
             "#de77ae"
            ],
            [
             0.3,
             "#f1b6da"
            ],
            [
             0.4,
             "#fde0ef"
            ],
            [
             0.5,
             "#f7f7f7"
            ],
            [
             0.6,
             "#e6f5d0"
            ],
            [
             0.7,
             "#b8e186"
            ],
            [
             0.8,
             "#7fbc41"
            ],
            [
             0.9,
             "#4d9221"
            ],
            [
             1,
             "#276419"
            ]
           ],
           "sequential": [
            [
             0,
             "#0d0887"
            ],
            [
             0.1111111111111111,
             "#46039f"
            ],
            [
             0.2222222222222222,
             "#7201a8"
            ],
            [
             0.3333333333333333,
             "#9c179e"
            ],
            [
             0.4444444444444444,
             "#bd3786"
            ],
            [
             0.5555555555555556,
             "#d8576b"
            ],
            [
             0.6666666666666666,
             "#ed7953"
            ],
            [
             0.7777777777777778,
             "#fb9f3a"
            ],
            [
             0.8888888888888888,
             "#fdca26"
            ],
            [
             1,
             "#f0f921"
            ]
           ],
           "sequentialminus": [
            [
             0,
             "#0d0887"
            ],
            [
             0.1111111111111111,
             "#46039f"
            ],
            [
             0.2222222222222222,
             "#7201a8"
            ],
            [
             0.3333333333333333,
             "#9c179e"
            ],
            [
             0.4444444444444444,
             "#bd3786"
            ],
            [
             0.5555555555555556,
             "#d8576b"
            ],
            [
             0.6666666666666666,
             "#ed7953"
            ],
            [
             0.7777777777777778,
             "#fb9f3a"
            ],
            [
             0.8888888888888888,
             "#fdca26"
            ],
            [
             1,
             "#f0f921"
            ]
           ]
          },
          "colorway": [
           "#636efa",
           "#EF553B",
           "#00cc96",
           "#ab63fa",
           "#FFA15A",
           "#19d3f3",
           "#FF6692",
           "#B6E880",
           "#FF97FF",
           "#FECB52"
          ],
          "font": {
           "color": "#2a3f5f"
          },
          "geo": {
           "bgcolor": "white",
           "lakecolor": "white",
           "landcolor": "#E5ECF6",
           "showlakes": true,
           "showland": true,
           "subunitcolor": "white"
          },
          "hoverlabel": {
           "align": "left"
          },
          "hovermode": "closest",
          "mapbox": {
           "style": "light"
          },
          "paper_bgcolor": "white",
          "plot_bgcolor": "#E5ECF6",
          "polar": {
           "angularaxis": {
            "gridcolor": "white",
            "linecolor": "white",
            "ticks": ""
           },
           "bgcolor": "#E5ECF6",
           "radialaxis": {
            "gridcolor": "white",
            "linecolor": "white",
            "ticks": ""
           }
          },
          "scene": {
           "xaxis": {
            "backgroundcolor": "#E5ECF6",
            "gridcolor": "white",
            "gridwidth": 2,
            "linecolor": "white",
            "showbackground": true,
            "ticks": "",
            "zerolinecolor": "white"
           },
           "yaxis": {
            "backgroundcolor": "#E5ECF6",
            "gridcolor": "white",
            "gridwidth": 2,
            "linecolor": "white",
            "showbackground": true,
            "ticks": "",
            "zerolinecolor": "white"
           },
           "zaxis": {
            "backgroundcolor": "#E5ECF6",
            "gridcolor": "white",
            "gridwidth": 2,
            "linecolor": "white",
            "showbackground": true,
            "ticks": "",
            "zerolinecolor": "white"
           }
          },
          "shapedefaults": {
           "line": {
            "color": "#2a3f5f"
           }
          },
          "ternary": {
           "aaxis": {
            "gridcolor": "white",
            "linecolor": "white",
            "ticks": ""
           },
           "baxis": {
            "gridcolor": "white",
            "linecolor": "white",
            "ticks": ""
           },
           "bgcolor": "#E5ECF6",
           "caxis": {
            "gridcolor": "white",
            "linecolor": "white",
            "ticks": ""
           }
          },
          "title": {
           "x": 0.05
          },
          "xaxis": {
           "automargin": true,
           "gridcolor": "white",
           "linecolor": "white",
           "ticks": "",
           "title": {
            "standoff": 15
           },
           "zerolinecolor": "white",
           "zerolinewidth": 2
          },
          "yaxis": {
           "automargin": true,
           "gridcolor": "white",
           "linecolor": "white",
           "ticks": "",
           "title": {
            "standoff": 15
           },
           "zerolinecolor": "white",
           "zerolinewidth": 2
          }
         }
        },
        "width": 900,
        "xaxis": {
         "anchor": "y",
         "domain": [
          0,
          1
         ],
         "range": [
          "2018-08-06T14:24:00",
          "2019-02-07T09:36:00"
         ],
         "type": "date"
        },
        "xaxis2": {
         "anchor": "y2",
         "domain": [
          0,
          1
         ],
         "range": [
          "2016-12-31T16:48:00",
          "2017-01-07T07:12:00"
         ],
         "tickformat": "%A",
         "type": "date"
        },
        "yaxis": {
         "anchor": "x",
         "domain": [
          0.575,
          1
         ],
         "rangemode": "normal",
         "title": {
          "text": "trend"
         },
         "zerolinecolor": "#AAA"
        },
        "yaxis2": {
         "anchor": "x2",
         "domain": [
          0,
          0.425
         ],
         "title": {
          "text": "weekly"
         },
         "zerolinecolor": "#AAA"
        }
       }
      },
      "text/html": [
       "<div>                        <script type=\"text/javascript\">window.PlotlyConfig = {MathJaxConfig: 'local'};</script>\n",
       "        <script charset=\"utf-8\" src=\"https://cdn.plot.ly/plotly-2.32.0.min.js\"></script>                <div id=\"1a9ecb08-0423-4ebe-b0e2-c00a301974d5\" class=\"plotly-graph-div\" style=\"height:400px; width:900px;\"></div>            <script type=\"text/javascript\">                                    window.PLOTLYENV=window.PLOTLYENV || {};                                    if (document.getElementById(\"1a9ecb08-0423-4ebe-b0e2-c00a301974d5\")) {                    Plotly.newPlot(                        \"1a9ecb08-0423-4ebe-b0e2-c00a301974d5\",                        [{\"line\":{\"color\":\"#0072B2\",\"width\":2},\"mode\":\"lines\",\"name\":\"trend\",\"x\":[\"2018-08-15T00:00:00\",\"2018-08-16T00:00:00\",\"2018-08-17T00:00:00\",\"2018-08-18T00:00:00\",\"2018-08-19T00:00:00\",\"2018-08-20T00:00:00\",\"2018-08-21T00:00:00\",\"2018-08-22T00:00:00\",\"2018-08-23T00:00:00\",\"2018-08-24T00:00:00\",\"2018-08-25T00:00:00\",\"2018-08-27T00:00:00\",\"2018-08-28T00:00:00\",\"2018-08-29T00:00:00\",\"2018-08-30T00:00:00\",\"2018-08-31T00:00:00\",\"2018-09-01T00:00:00\",\"2018-09-02T00:00:00\",\"2018-09-04T00:00:00\",\"2018-09-05T00:00:00\",\"2018-09-06T00:00:00\",\"2018-09-07T00:00:00\",\"2018-09-08T00:00:00\",\"2018-09-09T00:00:00\",\"2018-09-11T00:00:00\",\"2018-09-12T00:00:00\",\"2018-09-13T00:00:00\",\"2018-09-16T00:00:00\",\"2018-09-17T00:00:00\",\"2018-09-18T00:00:00\",\"2018-09-19T00:00:00\",\"2018-09-20T00:00:00\",\"2018-09-21T00:00:00\",\"2018-09-22T00:00:00\",\"2018-09-23T00:00:00\",\"2018-09-24T00:00:00\",\"2018-09-25T00:00:00\",\"2018-09-27T00:00:00\",\"2018-09-28T00:00:00\",\"2018-09-29T00:00:00\",\"2018-09-30T00:00:00\",\"2018-10-01T00:00:00\",\"2018-10-02T00:00:00\",\"2018-10-03T00:00:00\",\"2018-10-04T00:00:00\",\"2018-10-05T00:00:00\",\"2018-10-06T00:00:00\",\"2018-10-08T00:00:00\",\"2018-10-09T00:00:00\",\"2018-10-10T00:00:00\",\"2018-10-11T00:00:00\",\"2018-10-12T00:00:00\",\"2018-10-13T00:00:00\",\"2018-10-14T00:00:00\",\"2018-10-16T00:00:00\",\"2018-10-17T00:00:00\",\"2018-10-18T00:00:00\",\"2018-10-19T00:00:00\",\"2018-10-21T00:00:00\",\"2018-10-22T00:00:00\",\"2018-10-23T00:00:00\",\"2018-10-24T00:00:00\",\"2018-10-26T00:00:00\",\"2018-10-27T00:00:00\",\"2018-10-28T00:00:00\",\"2018-10-31T00:00:00\",\"2018-11-01T00:00:00\",\"2018-11-02T00:00:00\",\"2018-11-03T00:00:00\",\"2018-11-04T00:00:00\",\"2018-11-05T00:00:00\",\"2018-11-06T00:00:00\",\"2018-11-07T00:00:00\",\"2018-11-09T00:00:00\",\"2018-11-10T00:00:00\",\"2018-11-11T00:00:00\",\"2018-11-12T00:00:00\",\"2018-11-14T00:00:00\",\"2018-11-15T00:00:00\",\"2018-11-16T00:00:00\",\"2018-11-17T00:00:00\",\"2018-11-18T00:00:00\",\"2018-11-19T00:00:00\",\"2018-11-20T00:00:00\",\"2018-11-21T00:00:00\",\"2018-11-22T00:00:00\",\"2018-11-23T00:00:00\",\"2018-11-24T00:00:00\",\"2018-11-25T00:00:00\",\"2018-11-26T00:00:00\",\"2018-11-27T00:00:00\",\"2018-11-28T00:00:00\",\"2018-11-29T00:00:00\",\"2018-11-30T00:00:00\",\"2018-12-02T00:00:00\",\"2018-12-03T00:00:00\",\"2018-12-04T00:00:00\",\"2018-12-05T00:00:00\",\"2018-12-07T00:00:00\",\"2018-12-08T00:00:00\",\"2018-12-09T00:00:00\",\"2018-12-10T00:00:00\",\"2018-12-11T00:00:00\",\"2018-12-12T00:00:00\",\"2018-12-13T00:00:00\",\"2018-12-14T00:00:00\",\"2018-12-15T00:00:00\",\"2018-12-16T00:00:00\",\"2018-12-17T00:00:00\",\"2018-12-18T00:00:00\",\"2018-12-20T00:00:00\",\"2018-12-21T00:00:00\",\"2018-12-23T00:00:00\",\"2018-12-24T00:00:00\",\"2018-12-25T00:00:00\",\"2018-12-26T00:00:00\",\"2018-12-27T00:00:00\",\"2018-12-28T00:00:00\",\"2018-12-29T00:00:00\",\"2018-12-30T00:00:00\",\"2018-12-31T00:00:00\",\"2019-01-01T00:00:00\",\"2019-01-02T00:00:00\",\"2019-01-03T00:00:00\",\"2019-01-04T00:00:00\",\"2019-01-05T00:00:00\",\"2019-01-06T00:00:00\",\"2019-01-07T00:00:00\",\"2019-01-08T00:00:00\",\"2019-01-09T00:00:00\",\"2019-01-10T00:00:00\",\"2019-01-11T00:00:00\",\"2019-01-12T00:00:00\",\"2019-01-13T00:00:00\",\"2019-01-14T00:00:00\",\"2019-01-15T00:00:00\",\"2019-01-16T00:00:00\",\"2019-01-17T00:00:00\",\"2019-01-18T00:00:00\",\"2019-01-19T00:00:00\",\"2019-01-20T00:00:00\",\"2019-01-21T00:00:00\",\"2019-01-22T00:00:00\",\"2019-01-23T00:00:00\",\"2019-01-24T00:00:00\",\"2019-01-25T00:00:00\",\"2019-01-26T00:00:00\",\"2019-01-27T00:00:00\",\"2019-01-28T00:00:00\",\"2019-01-29T00:00:00\",\"2019-01-30T00:00:00\"],\"y\":[276.69472947,277.4041020980507,278.11347472610146,278.82284735415215,279.5322199822029,280.24159261025363,280.95096520313183,281.66033779601,282.3697103888882,283.0790829817664,283.7884555746446,285.207200760401,285.91657333650613,286.62594591261126,287.3353184887163,288.04469106482145,288.7540635707736,289.46343607672577,290.88218108863015,291.59155359458236,292.30092602703127,293.01029845948017,293.71967089192907,294.42904338088067,295.84778835878393,296.55716084773553,297.26653333402476,299.3946507928923,300.1040232791815,300.8133957654707,301.52276824507175,302.2321407246728,302.9415132042738,303.65088568387483,304.36025816347586,305.0696305567487,305.77900295002155,307.1977477365672,307.9071200842466,308.6164924319261,309.3258647796056,310.03523712728503,310.7445737063938,311.4539102855027,312.16324686461155,312.87256871260615,313.58189056060075,315.0005342565901,315.69034077477164,316.3801472929532,317.0699538111348,317.75976032931635,318.449566847498,319.1393733286416,320.51898629092886,321.2087927720725,321.8985992532161,322.58840570663483,323.9680186134722,324.65782506689095,325.347530511406,326.0372359559211,327.4166468449512,328.10635223936663,328.79605763378214,330.86517381702845,331.55487918446613,332.24458455190387,332.9342899193415,333.62399528677923,334.313700654217,335.0034059871085,335.69311131999996,337.072521985783,337.76222731867455,338.45193232521245,339.14163733175036,340.52104734482623,341.2107523298691,341.900457314912,342.5901622999549,343.2798672849978,343.96957227004066,344.6592772879418,345.3489823058429,346.03868732374406,346.7283923416452,347.4180973595463,348.1078023019554,348.7975072443644,349.4872121867735,350.17691711505125,350.86662204332896,351.55632697160667,352.93573682816213,353.6254417564399,354.3151467264326,355.0048516964254,356.3842616364109,357.0739666126096,357.7636715888083,358.453376565007,359.1430815412057,359.83278651740443,360.52249149360307,361.21219646980177,361.9019014460005,362.59160642219916,363.28131139839786,363.9710163745966,365.350426326994,366.0401313031927,367.4195412555901,368.1092462317888,368.79895120798756,369.4886561841862,370.1783611603849,370.86806613658365,371.55777111278235,372.247476088981,372.93718106517974,373.62688604137844,374.3165910175771,375.00629599377584,375.69600096997453,376.3857059461732,377.07541092237193,377.7651158985706,378.4548208747694,379.144525850968,379.8342308271668,380.5239358033655,381.2136407795641,381.90334575576287,382.59305073196157,383.28275570816027,383.97246068435896,384.66216566055766,385.35187063675636,386.04157561295506,386.73128058915376,387.42098556535245,388.1106905415512,388.8003955177499,389.4901004939486,390.1798054701473,390.86951044634594,391.5592154225447,392.2489203987434,392.93862537494215,393.6283303511408],\"type\":\"scatter\",\"xaxis\":\"x\",\"yaxis\":\"y\"},{\"line\":{\"color\":\"rgba(0, 114, 178, 0.2)\",\"width\":0},\"mode\":\"lines\",\"name\":\"trend_upper\",\"x\":[\"2018-08-15T00:00:00\",\"2018-08-16T00:00:00\",\"2018-08-17T00:00:00\",\"2018-08-18T00:00:00\",\"2018-08-19T00:00:00\",\"2018-08-20T00:00:00\",\"2018-08-21T00:00:00\",\"2018-08-22T00:00:00\",\"2018-08-23T00:00:00\",\"2018-08-24T00:00:00\",\"2018-08-25T00:00:00\",\"2018-08-27T00:00:00\",\"2018-08-28T00:00:00\",\"2018-08-29T00:00:00\",\"2018-08-30T00:00:00\",\"2018-08-31T00:00:00\",\"2018-09-01T00:00:00\",\"2018-09-02T00:00:00\",\"2018-09-04T00:00:00\",\"2018-09-05T00:00:00\",\"2018-09-06T00:00:00\",\"2018-09-07T00:00:00\",\"2018-09-08T00:00:00\",\"2018-09-09T00:00:00\",\"2018-09-11T00:00:00\",\"2018-09-12T00:00:00\",\"2018-09-13T00:00:00\",\"2018-09-16T00:00:00\",\"2018-09-17T00:00:00\",\"2018-09-18T00:00:00\",\"2018-09-19T00:00:00\",\"2018-09-20T00:00:00\",\"2018-09-21T00:00:00\",\"2018-09-22T00:00:00\",\"2018-09-23T00:00:00\",\"2018-09-24T00:00:00\",\"2018-09-25T00:00:00\",\"2018-09-27T00:00:00\",\"2018-09-28T00:00:00\",\"2018-09-29T00:00:00\",\"2018-09-30T00:00:00\",\"2018-10-01T00:00:00\",\"2018-10-02T00:00:00\",\"2018-10-03T00:00:00\",\"2018-10-04T00:00:00\",\"2018-10-05T00:00:00\",\"2018-10-06T00:00:00\",\"2018-10-08T00:00:00\",\"2018-10-09T00:00:00\",\"2018-10-10T00:00:00\",\"2018-10-11T00:00:00\",\"2018-10-12T00:00:00\",\"2018-10-13T00:00:00\",\"2018-10-14T00:00:00\",\"2018-10-16T00:00:00\",\"2018-10-17T00:00:00\",\"2018-10-18T00:00:00\",\"2018-10-19T00:00:00\",\"2018-10-21T00:00:00\",\"2018-10-22T00:00:00\",\"2018-10-23T00:00:00\",\"2018-10-24T00:00:00\",\"2018-10-26T00:00:00\",\"2018-10-27T00:00:00\",\"2018-10-28T00:00:00\",\"2018-10-31T00:00:00\",\"2018-11-01T00:00:00\",\"2018-11-02T00:00:00\",\"2018-11-03T00:00:00\",\"2018-11-04T00:00:00\",\"2018-11-05T00:00:00\",\"2018-11-06T00:00:00\",\"2018-11-07T00:00:00\",\"2018-11-09T00:00:00\",\"2018-11-10T00:00:00\",\"2018-11-11T00:00:00\",\"2018-11-12T00:00:00\",\"2018-11-14T00:00:00\",\"2018-11-15T00:00:00\",\"2018-11-16T00:00:00\",\"2018-11-17T00:00:00\",\"2018-11-18T00:00:00\",\"2018-11-19T00:00:00\",\"2018-11-20T00:00:00\",\"2018-11-21T00:00:00\",\"2018-11-22T00:00:00\",\"2018-11-23T00:00:00\",\"2018-11-24T00:00:00\",\"2018-11-25T00:00:00\",\"2018-11-26T00:00:00\",\"2018-11-27T00:00:00\",\"2018-11-28T00:00:00\",\"2018-11-29T00:00:00\",\"2018-11-30T00:00:00\",\"2018-12-02T00:00:00\",\"2018-12-03T00:00:00\",\"2018-12-04T00:00:00\",\"2018-12-05T00:00:00\",\"2018-12-07T00:00:00\",\"2018-12-08T00:00:00\",\"2018-12-09T00:00:00\",\"2018-12-10T00:00:00\",\"2018-12-11T00:00:00\",\"2018-12-12T00:00:00\",\"2018-12-13T00:00:00\",\"2018-12-14T00:00:00\",\"2018-12-15T00:00:00\",\"2018-12-16T00:00:00\",\"2018-12-17T00:00:00\",\"2018-12-18T00:00:00\",\"2018-12-20T00:00:00\",\"2018-12-21T00:00:00\",\"2018-12-23T00:00:00\",\"2018-12-24T00:00:00\",\"2018-12-25T00:00:00\",\"2018-12-26T00:00:00\",\"2018-12-27T00:00:00\",\"2018-12-28T00:00:00\",\"2018-12-29T00:00:00\",\"2018-12-30T00:00:00\",\"2018-12-31T00:00:00\",\"2019-01-01T00:00:00\",\"2019-01-02T00:00:00\",\"2019-01-03T00:00:00\",\"2019-01-04T00:00:00\",\"2019-01-05T00:00:00\",\"2019-01-06T00:00:00\",\"2019-01-07T00:00:00\",\"2019-01-08T00:00:00\",\"2019-01-09T00:00:00\",\"2019-01-10T00:00:00\",\"2019-01-11T00:00:00\",\"2019-01-12T00:00:00\",\"2019-01-13T00:00:00\",\"2019-01-14T00:00:00\",\"2019-01-15T00:00:00\",\"2019-01-16T00:00:00\",\"2019-01-17T00:00:00\",\"2019-01-18T00:00:00\",\"2019-01-19T00:00:00\",\"2019-01-20T00:00:00\",\"2019-01-21T00:00:00\",\"2019-01-22T00:00:00\",\"2019-01-23T00:00:00\",\"2019-01-24T00:00:00\",\"2019-01-25T00:00:00\",\"2019-01-26T00:00:00\",\"2019-01-27T00:00:00\",\"2019-01-28T00:00:00\",\"2019-01-29T00:00:00\",\"2019-01-30T00:00:00\"],\"y\":[276.69472947,277.4041020980507,278.11347472610146,278.82284735415215,279.5322199822029,280.24159261025363,280.95096520313183,281.66033779601,282.3697103888882,283.0790829817664,283.7884555746446,285.207200760401,285.91657333650613,286.62594591261126,287.3353184887163,288.04469106482145,288.7540635707736,289.46343607672577,290.88218108863015,291.59155359458236,292.30092602703127,293.01029845948017,293.71967089192907,294.42904338088067,295.84778835878393,296.55716084773553,297.26653333402476,299.3946507928923,300.1040232791815,300.8133957654707,301.52276824507175,302.2321407246728,302.9415132042738,303.65088568387483,304.36025816347586,305.0696305567487,305.77900295002155,307.1977477365672,307.9071200842466,308.6164924319261,309.3258647796056,310.03523712728503,310.7445737063938,311.4539102855027,312.16324686461155,312.87256871260615,313.58189056060075,315.0005342565901,315.69034077477164,316.3801472929532,317.0699538111348,317.75976032931635,318.449566847498,319.1393733286416,320.51898629092886,321.2087927720725,321.8985992532161,322.58840570663483,323.9680186134722,324.65782506689095,325.347530511406,326.0372359559211,327.4166468449512,328.10635223936663,328.79605763378214,330.86517381702845,331.55487918446613,332.24458455190387,332.9342899193415,333.62399528677923,334.313700654217,335.0034059871085,335.69311131999996,337.072521985783,337.76222731867455,338.45193232521245,339.14163733175036,340.52104734482623,341.2107523298691,341.900457314912,342.5901622999549,343.2798672849978,343.96957227004066,344.6592772879418,345.3489823058429,346.03868732374406,346.7283923416452,347.4180973595463,348.1078023019554,348.7975072443644,349.4872121867735,350.17691711505125,350.86662204332896,351.55632697160667,352.93573682816213,353.6254417564399,354.3151467264326,355.0048516964254,356.3842616364109,357.0739666126096,357.7636715888083,358.453376565007,359.1430815412057,359.83278651740443,360.52249149360307,361.21219646980177,361.9019014460005,362.59160642219916,363.28131139839786,363.9710163745966,365.350426326994,366.0401313031927,367.4195412555901,368.1092462317888,368.79895120798756,369.4886561841862,370.1783611603849,370.86806613658365,371.55777111278235,372.247476088981,372.93718106517974,373.6268860710695,374.3170247040497,375.00727276841405,375.6977983678532,376.3885362011505,377.0793457584214,377.7703551766902,378.46145826666526,379.15247162856133,379.843550912636,380.53479096746173,381.226297590204,381.91794362960513,382.6095730876504,383.30155878030337,383.9926668057905,384.6844404106134,385.3759765517454,386.0689340532455,386.76022139455773,387.4525531616183,388.1454331377964,388.83725669228176,389.5294108803484,390.22285950841535,390.91547149302085,391.60845975748106,392.300618280465,392.99389332484014,393.6862350642813],\"type\":\"scatter\",\"xaxis\":\"x\",\"yaxis\":\"y\"},{\"fill\":\"tonexty\",\"fillcolor\":\"rgba(0, 114, 178, 0.2)\",\"line\":{\"color\":\"rgba(0, 114, 178, 0.2)\",\"width\":0},\"mode\":\"lines\",\"name\":\"trend_lower\",\"x\":[\"2018-08-15T00:00:00\",\"2018-08-16T00:00:00\",\"2018-08-17T00:00:00\",\"2018-08-18T00:00:00\",\"2018-08-19T00:00:00\",\"2018-08-20T00:00:00\",\"2018-08-21T00:00:00\",\"2018-08-22T00:00:00\",\"2018-08-23T00:00:00\",\"2018-08-24T00:00:00\",\"2018-08-25T00:00:00\",\"2018-08-27T00:00:00\",\"2018-08-28T00:00:00\",\"2018-08-29T00:00:00\",\"2018-08-30T00:00:00\",\"2018-08-31T00:00:00\",\"2018-09-01T00:00:00\",\"2018-09-02T00:00:00\",\"2018-09-04T00:00:00\",\"2018-09-05T00:00:00\",\"2018-09-06T00:00:00\",\"2018-09-07T00:00:00\",\"2018-09-08T00:00:00\",\"2018-09-09T00:00:00\",\"2018-09-11T00:00:00\",\"2018-09-12T00:00:00\",\"2018-09-13T00:00:00\",\"2018-09-16T00:00:00\",\"2018-09-17T00:00:00\",\"2018-09-18T00:00:00\",\"2018-09-19T00:00:00\",\"2018-09-20T00:00:00\",\"2018-09-21T00:00:00\",\"2018-09-22T00:00:00\",\"2018-09-23T00:00:00\",\"2018-09-24T00:00:00\",\"2018-09-25T00:00:00\",\"2018-09-27T00:00:00\",\"2018-09-28T00:00:00\",\"2018-09-29T00:00:00\",\"2018-09-30T00:00:00\",\"2018-10-01T00:00:00\",\"2018-10-02T00:00:00\",\"2018-10-03T00:00:00\",\"2018-10-04T00:00:00\",\"2018-10-05T00:00:00\",\"2018-10-06T00:00:00\",\"2018-10-08T00:00:00\",\"2018-10-09T00:00:00\",\"2018-10-10T00:00:00\",\"2018-10-11T00:00:00\",\"2018-10-12T00:00:00\",\"2018-10-13T00:00:00\",\"2018-10-14T00:00:00\",\"2018-10-16T00:00:00\",\"2018-10-17T00:00:00\",\"2018-10-18T00:00:00\",\"2018-10-19T00:00:00\",\"2018-10-21T00:00:00\",\"2018-10-22T00:00:00\",\"2018-10-23T00:00:00\",\"2018-10-24T00:00:00\",\"2018-10-26T00:00:00\",\"2018-10-27T00:00:00\",\"2018-10-28T00:00:00\",\"2018-10-31T00:00:00\",\"2018-11-01T00:00:00\",\"2018-11-02T00:00:00\",\"2018-11-03T00:00:00\",\"2018-11-04T00:00:00\",\"2018-11-05T00:00:00\",\"2018-11-06T00:00:00\",\"2018-11-07T00:00:00\",\"2018-11-09T00:00:00\",\"2018-11-10T00:00:00\",\"2018-11-11T00:00:00\",\"2018-11-12T00:00:00\",\"2018-11-14T00:00:00\",\"2018-11-15T00:00:00\",\"2018-11-16T00:00:00\",\"2018-11-17T00:00:00\",\"2018-11-18T00:00:00\",\"2018-11-19T00:00:00\",\"2018-11-20T00:00:00\",\"2018-11-21T00:00:00\",\"2018-11-22T00:00:00\",\"2018-11-23T00:00:00\",\"2018-11-24T00:00:00\",\"2018-11-25T00:00:00\",\"2018-11-26T00:00:00\",\"2018-11-27T00:00:00\",\"2018-11-28T00:00:00\",\"2018-11-29T00:00:00\",\"2018-11-30T00:00:00\",\"2018-12-02T00:00:00\",\"2018-12-03T00:00:00\",\"2018-12-04T00:00:00\",\"2018-12-05T00:00:00\",\"2018-12-07T00:00:00\",\"2018-12-08T00:00:00\",\"2018-12-09T00:00:00\",\"2018-12-10T00:00:00\",\"2018-12-11T00:00:00\",\"2018-12-12T00:00:00\",\"2018-12-13T00:00:00\",\"2018-12-14T00:00:00\",\"2018-12-15T00:00:00\",\"2018-12-16T00:00:00\",\"2018-12-17T00:00:00\",\"2018-12-18T00:00:00\",\"2018-12-20T00:00:00\",\"2018-12-21T00:00:00\",\"2018-12-23T00:00:00\",\"2018-12-24T00:00:00\",\"2018-12-25T00:00:00\",\"2018-12-26T00:00:00\",\"2018-12-27T00:00:00\",\"2018-12-28T00:00:00\",\"2018-12-29T00:00:00\",\"2018-12-30T00:00:00\",\"2018-12-31T00:00:00\",\"2019-01-01T00:00:00\",\"2019-01-02T00:00:00\",\"2019-01-03T00:00:00\",\"2019-01-04T00:00:00\",\"2019-01-05T00:00:00\",\"2019-01-06T00:00:00\",\"2019-01-07T00:00:00\",\"2019-01-08T00:00:00\",\"2019-01-09T00:00:00\",\"2019-01-10T00:00:00\",\"2019-01-11T00:00:00\",\"2019-01-12T00:00:00\",\"2019-01-13T00:00:00\",\"2019-01-14T00:00:00\",\"2019-01-15T00:00:00\",\"2019-01-16T00:00:00\",\"2019-01-17T00:00:00\",\"2019-01-18T00:00:00\",\"2019-01-19T00:00:00\",\"2019-01-20T00:00:00\",\"2019-01-21T00:00:00\",\"2019-01-22T00:00:00\",\"2019-01-23T00:00:00\",\"2019-01-24T00:00:00\",\"2019-01-25T00:00:00\",\"2019-01-26T00:00:00\",\"2019-01-27T00:00:00\",\"2019-01-28T00:00:00\",\"2019-01-29T00:00:00\",\"2019-01-30T00:00:00\"],\"y\":[276.69472947,277.4041020980507,278.11347472610146,278.82284735415215,279.5322199822029,280.24159261025363,280.95096520313183,281.66033779601,282.3697103888882,283.0790829817664,283.7884555746446,285.207200760401,285.91657333650613,286.62594591261126,287.3353184887163,288.04469106482145,288.7540635707736,289.46343607672577,290.88218108863015,291.59155359458236,292.30092602703127,293.01029845948017,293.71967089192907,294.42904338088067,295.84778835878393,296.55716084773553,297.26653333402476,299.3946507928923,300.1040232791815,300.8133957654707,301.52276824507175,302.2321407246728,302.9415132042738,303.65088568387483,304.36025816347586,305.0696305567487,305.77900295002155,307.1977477365672,307.9071200842466,308.6164924319261,309.3258647796056,310.03523712728503,310.7445737063938,311.4539102855027,312.16324686461155,312.87256871260615,313.58189056060075,315.0005342565901,315.69034077477164,316.3801472929532,317.0699538111348,317.75976032931635,318.449566847498,319.1393733286416,320.51898629092886,321.2087927720725,321.8985992532161,322.58840570663483,323.9680186134722,324.65782506689095,325.347530511406,326.0372359559211,327.4166468449512,328.10635223936663,328.79605763378214,330.86517381702845,331.55487918446613,332.24458455190387,332.9342899193415,333.62399528677923,334.313700654217,335.0034059871085,335.69311131999996,337.072521985783,337.76222731867455,338.45193232521245,339.14163733175036,340.52104734482623,341.2107523298691,341.900457314912,342.5901622999549,343.2798672849978,343.96957227004066,344.6592772879418,345.3489823058429,346.03868732374406,346.7283923416452,347.4180973595463,348.1078023019554,348.7975072443644,349.4872121867735,350.17691711505125,350.86662204332896,351.55632697160667,352.93573682816213,353.6254417564399,354.3151467264326,355.0048516964254,356.3842616364109,357.0739666126096,357.7636715888083,358.453376565007,359.1430815412057,359.83278651740443,360.52249149360307,361.21219646980177,361.9019014460005,362.59160642219916,363.28131139839786,363.9710163745966,365.350426326994,366.0401313031927,367.4195412555901,368.1092462317888,368.79895120798756,369.4886561841862,370.1783611603849,370.86806613658365,371.55777111278235,372.247476088981,372.93718106517974,373.62688604137844,374.31628719188564,375.0053832018307,375.69433084773925,376.3831150452337,377.0717399515357,377.7604084768727,378.44913496845305,379.13740222061546,379.8258828783411,380.51403173594,381.2017905845076,381.89014505264356,382.5781677299261,383.26589227533947,383.95371617757417,384.6414559469319,385.32906046551153,386.01690104741493,386.7045660864607,387.3926240968367,388.0801706106199,388.76665785005787,389.4541026314721,390.14128695760235,390.8280806356839,391.51551707977467,392.20293555628575,392.8902001651253,393.57746746202105],\"type\":\"scatter\",\"xaxis\":\"x\",\"yaxis\":\"y\"},{\"line\":{\"color\":\"#0072B2\",\"width\":2},\"mode\":\"lines\",\"name\":\"weekly\",\"x\":[\"2017-01-01T00:00:00\",\"2017-01-02T00:00:00\",\"2017-01-03T00:00:00\",\"2017-01-04T00:00:00\",\"2017-01-05T00:00:00\",\"2017-01-06T00:00:00\",\"2017-01-07T00:00:00\"],\"y\":[-32.44851634374124,-5.882237117387727,5.0990138316450455,68.15319071682742,-6.597647846289268,23.636695680103113,-51.960498920933496],\"type\":\"scatter\",\"xaxis\":\"x2\",\"yaxis\":\"y2\"}],                        {\"template\":{\"data\":{\"histogram2dcontour\":[{\"type\":\"histogram2dcontour\",\"colorbar\":{\"outlinewidth\":0,\"ticks\":\"\"},\"colorscale\":[[0.0,\"#0d0887\"],[0.1111111111111111,\"#46039f\"],[0.2222222222222222,\"#7201a8\"],[0.3333333333333333,\"#9c179e\"],[0.4444444444444444,\"#bd3786\"],[0.5555555555555556,\"#d8576b\"],[0.6666666666666666,\"#ed7953\"],[0.7777777777777778,\"#fb9f3a\"],[0.8888888888888888,\"#fdca26\"],[1.0,\"#f0f921\"]]}],\"choropleth\":[{\"type\":\"choropleth\",\"colorbar\":{\"outlinewidth\":0,\"ticks\":\"\"}}],\"histogram2d\":[{\"type\":\"histogram2d\",\"colorbar\":{\"outlinewidth\":0,\"ticks\":\"\"},\"colorscale\":[[0.0,\"#0d0887\"],[0.1111111111111111,\"#46039f\"],[0.2222222222222222,\"#7201a8\"],[0.3333333333333333,\"#9c179e\"],[0.4444444444444444,\"#bd3786\"],[0.5555555555555556,\"#d8576b\"],[0.6666666666666666,\"#ed7953\"],[0.7777777777777778,\"#fb9f3a\"],[0.8888888888888888,\"#fdca26\"],[1.0,\"#f0f921\"]]}],\"heatmap\":[{\"type\":\"heatmap\",\"colorbar\":{\"outlinewidth\":0,\"ticks\":\"\"},\"colorscale\":[[0.0,\"#0d0887\"],[0.1111111111111111,\"#46039f\"],[0.2222222222222222,\"#7201a8\"],[0.3333333333333333,\"#9c179e\"],[0.4444444444444444,\"#bd3786\"],[0.5555555555555556,\"#d8576b\"],[0.6666666666666666,\"#ed7953\"],[0.7777777777777778,\"#fb9f3a\"],[0.8888888888888888,\"#fdca26\"],[1.0,\"#f0f921\"]]}],\"heatmapgl\":[{\"type\":\"heatmapgl\",\"colorbar\":{\"outlinewidth\":0,\"ticks\":\"\"},\"colorscale\":[[0.0,\"#0d0887\"],[0.1111111111111111,\"#46039f\"],[0.2222222222222222,\"#7201a8\"],[0.3333333333333333,\"#9c179e\"],[0.4444444444444444,\"#bd3786\"],[0.5555555555555556,\"#d8576b\"],[0.6666666666666666,\"#ed7953\"],[0.7777777777777778,\"#fb9f3a\"],[0.8888888888888888,\"#fdca26\"],[1.0,\"#f0f921\"]]}],\"contourcarpet\":[{\"type\":\"contourcarpet\",\"colorbar\":{\"outlinewidth\":0,\"ticks\":\"\"}}],\"contour\":[{\"type\":\"contour\",\"colorbar\":{\"outlinewidth\":0,\"ticks\":\"\"},\"colorscale\":[[0.0,\"#0d0887\"],[0.1111111111111111,\"#46039f\"],[0.2222222222222222,\"#7201a8\"],[0.3333333333333333,\"#9c179e\"],[0.4444444444444444,\"#bd3786\"],[0.5555555555555556,\"#d8576b\"],[0.6666666666666666,\"#ed7953\"],[0.7777777777777778,\"#fb9f3a\"],[0.8888888888888888,\"#fdca26\"],[1.0,\"#f0f921\"]]}],\"surface\":[{\"type\":\"surface\",\"colorbar\":{\"outlinewidth\":0,\"ticks\":\"\"},\"colorscale\":[[0.0,\"#0d0887\"],[0.1111111111111111,\"#46039f\"],[0.2222222222222222,\"#7201a8\"],[0.3333333333333333,\"#9c179e\"],[0.4444444444444444,\"#bd3786\"],[0.5555555555555556,\"#d8576b\"],[0.6666666666666666,\"#ed7953\"],[0.7777777777777778,\"#fb9f3a\"],[0.8888888888888888,\"#fdca26\"],[1.0,\"#f0f921\"]]}],\"mesh3d\":[{\"type\":\"mesh3d\",\"colorbar\":{\"outlinewidth\":0,\"ticks\":\"\"}}],\"scatter\":[{\"fillpattern\":{\"fillmode\":\"overlay\",\"size\":10,\"solidity\":0.2},\"type\":\"scatter\"}],\"parcoords\":[{\"type\":\"parcoords\",\"line\":{\"colorbar\":{\"outlinewidth\":0,\"ticks\":\"\"}}}],\"scatterpolargl\":[{\"type\":\"scatterpolargl\",\"marker\":{\"colorbar\":{\"outlinewidth\":0,\"ticks\":\"\"}}}],\"bar\":[{\"error_x\":{\"color\":\"#2a3f5f\"},\"error_y\":{\"color\":\"#2a3f5f\"},\"marker\":{\"line\":{\"color\":\"#E5ECF6\",\"width\":0.5},\"pattern\":{\"fillmode\":\"overlay\",\"size\":10,\"solidity\":0.2}},\"type\":\"bar\"}],\"scattergeo\":[{\"type\":\"scattergeo\",\"marker\":{\"colorbar\":{\"outlinewidth\":0,\"ticks\":\"\"}}}],\"scatterpolar\":[{\"type\":\"scatterpolar\",\"marker\":{\"colorbar\":{\"outlinewidth\":0,\"ticks\":\"\"}}}],\"histogram\":[{\"marker\":{\"pattern\":{\"fillmode\":\"overlay\",\"size\":10,\"solidity\":0.2}},\"type\":\"histogram\"}],\"scattergl\":[{\"type\":\"scattergl\",\"marker\":{\"colorbar\":{\"outlinewidth\":0,\"ticks\":\"\"}}}],\"scatter3d\":[{\"type\":\"scatter3d\",\"line\":{\"colorbar\":{\"outlinewidth\":0,\"ticks\":\"\"}},\"marker\":{\"colorbar\":{\"outlinewidth\":0,\"ticks\":\"\"}}}],\"scattermapbox\":[{\"type\":\"scattermapbox\",\"marker\":{\"colorbar\":{\"outlinewidth\":0,\"ticks\":\"\"}}}],\"scatterternary\":[{\"type\":\"scatterternary\",\"marker\":{\"colorbar\":{\"outlinewidth\":0,\"ticks\":\"\"}}}],\"scattercarpet\":[{\"type\":\"scattercarpet\",\"marker\":{\"colorbar\":{\"outlinewidth\":0,\"ticks\":\"\"}}}],\"carpet\":[{\"aaxis\":{\"endlinecolor\":\"#2a3f5f\",\"gridcolor\":\"white\",\"linecolor\":\"white\",\"minorgridcolor\":\"white\",\"startlinecolor\":\"#2a3f5f\"},\"baxis\":{\"endlinecolor\":\"#2a3f5f\",\"gridcolor\":\"white\",\"linecolor\":\"white\",\"minorgridcolor\":\"white\",\"startlinecolor\":\"#2a3f5f\"},\"type\":\"carpet\"}],\"table\":[{\"cells\":{\"fill\":{\"color\":\"#EBF0F8\"},\"line\":{\"color\":\"white\"}},\"header\":{\"fill\":{\"color\":\"#C8D4E3\"},\"line\":{\"color\":\"white\"}},\"type\":\"table\"}],\"barpolar\":[{\"marker\":{\"line\":{\"color\":\"#E5ECF6\",\"width\":0.5},\"pattern\":{\"fillmode\":\"overlay\",\"size\":10,\"solidity\":0.2}},\"type\":\"barpolar\"}],\"pie\":[{\"automargin\":true,\"type\":\"pie\"}]},\"layout\":{\"autotypenumbers\":\"strict\",\"colorway\":[\"#636efa\",\"#EF553B\",\"#00cc96\",\"#ab63fa\",\"#FFA15A\",\"#19d3f3\",\"#FF6692\",\"#B6E880\",\"#FF97FF\",\"#FECB52\"],\"font\":{\"color\":\"#2a3f5f\"},\"hovermode\":\"closest\",\"hoverlabel\":{\"align\":\"left\"},\"paper_bgcolor\":\"white\",\"plot_bgcolor\":\"#E5ECF6\",\"polar\":{\"bgcolor\":\"#E5ECF6\",\"angularaxis\":{\"gridcolor\":\"white\",\"linecolor\":\"white\",\"ticks\":\"\"},\"radialaxis\":{\"gridcolor\":\"white\",\"linecolor\":\"white\",\"ticks\":\"\"}},\"ternary\":{\"bgcolor\":\"#E5ECF6\",\"aaxis\":{\"gridcolor\":\"white\",\"linecolor\":\"white\",\"ticks\":\"\"},\"baxis\":{\"gridcolor\":\"white\",\"linecolor\":\"white\",\"ticks\":\"\"},\"caxis\":{\"gridcolor\":\"white\",\"linecolor\":\"white\",\"ticks\":\"\"}},\"coloraxis\":{\"colorbar\":{\"outlinewidth\":0,\"ticks\":\"\"}},\"colorscale\":{\"sequential\":[[0.0,\"#0d0887\"],[0.1111111111111111,\"#46039f\"],[0.2222222222222222,\"#7201a8\"],[0.3333333333333333,\"#9c179e\"],[0.4444444444444444,\"#bd3786\"],[0.5555555555555556,\"#d8576b\"],[0.6666666666666666,\"#ed7953\"],[0.7777777777777778,\"#fb9f3a\"],[0.8888888888888888,\"#fdca26\"],[1.0,\"#f0f921\"]],\"sequentialminus\":[[0.0,\"#0d0887\"],[0.1111111111111111,\"#46039f\"],[0.2222222222222222,\"#7201a8\"],[0.3333333333333333,\"#9c179e\"],[0.4444444444444444,\"#bd3786\"],[0.5555555555555556,\"#d8576b\"],[0.6666666666666666,\"#ed7953\"],[0.7777777777777778,\"#fb9f3a\"],[0.8888888888888888,\"#fdca26\"],[1.0,\"#f0f921\"]],\"diverging\":[[0,\"#8e0152\"],[0.1,\"#c51b7d\"],[0.2,\"#de77ae\"],[0.3,\"#f1b6da\"],[0.4,\"#fde0ef\"],[0.5,\"#f7f7f7\"],[0.6,\"#e6f5d0\"],[0.7,\"#b8e186\"],[0.8,\"#7fbc41\"],[0.9,\"#4d9221\"],[1,\"#276419\"]]},\"xaxis\":{\"gridcolor\":\"white\",\"linecolor\":\"white\",\"ticks\":\"\",\"title\":{\"standoff\":15},\"zerolinecolor\":\"white\",\"automargin\":true,\"zerolinewidth\":2},\"yaxis\":{\"gridcolor\":\"white\",\"linecolor\":\"white\",\"ticks\":\"\",\"title\":{\"standoff\":15},\"zerolinecolor\":\"white\",\"automargin\":true,\"zerolinewidth\":2},\"scene\":{\"xaxis\":{\"backgroundcolor\":\"#E5ECF6\",\"gridcolor\":\"white\",\"linecolor\":\"white\",\"showbackground\":true,\"ticks\":\"\",\"zerolinecolor\":\"white\",\"gridwidth\":2},\"yaxis\":{\"backgroundcolor\":\"#E5ECF6\",\"gridcolor\":\"white\",\"linecolor\":\"white\",\"showbackground\":true,\"ticks\":\"\",\"zerolinecolor\":\"white\",\"gridwidth\":2},\"zaxis\":{\"backgroundcolor\":\"#E5ECF6\",\"gridcolor\":\"white\",\"linecolor\":\"white\",\"showbackground\":true,\"ticks\":\"\",\"zerolinecolor\":\"white\",\"gridwidth\":2}},\"shapedefaults\":{\"line\":{\"color\":\"#2a3f5f\"}},\"annotationdefaults\":{\"arrowcolor\":\"#2a3f5f\",\"arrowhead\":0,\"arrowwidth\":1},\"geo\":{\"bgcolor\":\"white\",\"landcolor\":\"#E5ECF6\",\"subunitcolor\":\"white\",\"showland\":true,\"showlakes\":true,\"lakecolor\":\"white\"},\"title\":{\"x\":0.05},\"mapbox\":{\"style\":\"light\"}}},\"xaxis\":{\"anchor\":\"y\",\"domain\":[0.0,1.0],\"range\":[\"2018-08-06T14:24:00\",\"2019-02-07T09:36:00\"],\"type\":\"date\"},\"yaxis\":{\"anchor\":\"x\",\"domain\":[0.575,1.0],\"title\":{\"text\":\"trend\"},\"rangemode\":\"normal\",\"zerolinecolor\":\"#AAA\"},\"xaxis2\":{\"anchor\":\"y2\",\"domain\":[0.0,1.0],\"range\":[\"2016-12-31T16:48:00\",\"2017-01-07T07:12:00\"],\"tickformat\":\"%A\",\"type\":\"date\"},\"yaxis2\":{\"anchor\":\"x2\",\"domain\":[0.0,0.425],\"title\":{\"text\":\"weekly\"},\"zerolinecolor\":\"#AAA\"},\"height\":400,\"showlegend\":false,\"width\":900},                        {\"responsive\": true}                    )                };                            </script>        </div>"
      ],
      "text/plain": [
       "Figure({\n",
       "    'data': [{'line': {'color': '#0072B2', 'width': 2},\n",
       "              'mode': 'lines',\n",
       "              'name': 'trend',\n",
       "              'type': 'scatter',\n",
       "              'x': array([datetime.datetime(2018, 8, 15, 0, 0),\n",
       "                          datetime.datetime(2018, 8, 16, 0, 0),\n",
       "                          datetime.datetime(2018, 8, 17, 0, 0),\n",
       "                          datetime.datetime(2018, 8, 18, 0, 0),\n",
       "                          datetime.datetime(2018, 8, 19, 0, 0),\n",
       "                          datetime.datetime(2018, 8, 20, 0, 0),\n",
       "                          datetime.datetime(2018, 8, 21, 0, 0),\n",
       "                          datetime.datetime(2018, 8, 22, 0, 0),\n",
       "                          datetime.datetime(2018, 8, 23, 0, 0),\n",
       "                          datetime.datetime(2018, 8, 24, 0, 0),\n",
       "                          datetime.datetime(2018, 8, 25, 0, 0),\n",
       "                          datetime.datetime(2018, 8, 27, 0, 0),\n",
       "                          datetime.datetime(2018, 8, 28, 0, 0),\n",
       "                          datetime.datetime(2018, 8, 29, 0, 0),\n",
       "                          datetime.datetime(2018, 8, 30, 0, 0),\n",
       "                          datetime.datetime(2018, 8, 31, 0, 0),\n",
       "                          datetime.datetime(2018, 9, 1, 0, 0),\n",
       "                          datetime.datetime(2018, 9, 2, 0, 0),\n",
       "                          datetime.datetime(2018, 9, 4, 0, 0),\n",
       "                          datetime.datetime(2018, 9, 5, 0, 0),\n",
       "                          datetime.datetime(2018, 9, 6, 0, 0),\n",
       "                          datetime.datetime(2018, 9, 7, 0, 0),\n",
       "                          datetime.datetime(2018, 9, 8, 0, 0),\n",
       "                          datetime.datetime(2018, 9, 9, 0, 0),\n",
       "                          datetime.datetime(2018, 9, 11, 0, 0),\n",
       "                          datetime.datetime(2018, 9, 12, 0, 0),\n",
       "                          datetime.datetime(2018, 9, 13, 0, 0),\n",
       "                          datetime.datetime(2018, 9, 16, 0, 0),\n",
       "                          datetime.datetime(2018, 9, 17, 0, 0),\n",
       "                          datetime.datetime(2018, 9, 18, 0, 0),\n",
       "                          datetime.datetime(2018, 9, 19, 0, 0),\n",
       "                          datetime.datetime(2018, 9, 20, 0, 0),\n",
       "                          datetime.datetime(2018, 9, 21, 0, 0),\n",
       "                          datetime.datetime(2018, 9, 22, 0, 0),\n",
       "                          datetime.datetime(2018, 9, 23, 0, 0),\n",
       "                          datetime.datetime(2018, 9, 24, 0, 0),\n",
       "                          datetime.datetime(2018, 9, 25, 0, 0),\n",
       "                          datetime.datetime(2018, 9, 27, 0, 0),\n",
       "                          datetime.datetime(2018, 9, 28, 0, 0),\n",
       "                          datetime.datetime(2018, 9, 29, 0, 0),\n",
       "                          datetime.datetime(2018, 9, 30, 0, 0),\n",
       "                          datetime.datetime(2018, 10, 1, 0, 0),\n",
       "                          datetime.datetime(2018, 10, 2, 0, 0),\n",
       "                          datetime.datetime(2018, 10, 3, 0, 0),\n",
       "                          datetime.datetime(2018, 10, 4, 0, 0),\n",
       "                          datetime.datetime(2018, 10, 5, 0, 0),\n",
       "                          datetime.datetime(2018, 10, 6, 0, 0),\n",
       "                          datetime.datetime(2018, 10, 8, 0, 0),\n",
       "                          datetime.datetime(2018, 10, 9, 0, 0),\n",
       "                          datetime.datetime(2018, 10, 10, 0, 0),\n",
       "                          datetime.datetime(2018, 10, 11, 0, 0),\n",
       "                          datetime.datetime(2018, 10, 12, 0, 0),\n",
       "                          datetime.datetime(2018, 10, 13, 0, 0),\n",
       "                          datetime.datetime(2018, 10, 14, 0, 0),\n",
       "                          datetime.datetime(2018, 10, 16, 0, 0),\n",
       "                          datetime.datetime(2018, 10, 17, 0, 0),\n",
       "                          datetime.datetime(2018, 10, 18, 0, 0),\n",
       "                          datetime.datetime(2018, 10, 19, 0, 0),\n",
       "                          datetime.datetime(2018, 10, 21, 0, 0),\n",
       "                          datetime.datetime(2018, 10, 22, 0, 0),\n",
       "                          datetime.datetime(2018, 10, 23, 0, 0),\n",
       "                          datetime.datetime(2018, 10, 24, 0, 0),\n",
       "                          datetime.datetime(2018, 10, 26, 0, 0),\n",
       "                          datetime.datetime(2018, 10, 27, 0, 0),\n",
       "                          datetime.datetime(2018, 10, 28, 0, 0),\n",
       "                          datetime.datetime(2018, 10, 31, 0, 0),\n",
       "                          datetime.datetime(2018, 11, 1, 0, 0),\n",
       "                          datetime.datetime(2018, 11, 2, 0, 0),\n",
       "                          datetime.datetime(2018, 11, 3, 0, 0),\n",
       "                          datetime.datetime(2018, 11, 4, 0, 0),\n",
       "                          datetime.datetime(2018, 11, 5, 0, 0),\n",
       "                          datetime.datetime(2018, 11, 6, 0, 0),\n",
       "                          datetime.datetime(2018, 11, 7, 0, 0),\n",
       "                          datetime.datetime(2018, 11, 9, 0, 0),\n",
       "                          datetime.datetime(2018, 11, 10, 0, 0),\n",
       "                          datetime.datetime(2018, 11, 11, 0, 0),\n",
       "                          datetime.datetime(2018, 11, 12, 0, 0),\n",
       "                          datetime.datetime(2018, 11, 14, 0, 0),\n",
       "                          datetime.datetime(2018, 11, 15, 0, 0),\n",
       "                          datetime.datetime(2018, 11, 16, 0, 0),\n",
       "                          datetime.datetime(2018, 11, 17, 0, 0),\n",
       "                          datetime.datetime(2018, 11, 18, 0, 0),\n",
       "                          datetime.datetime(2018, 11, 19, 0, 0),\n",
       "                          datetime.datetime(2018, 11, 20, 0, 0),\n",
       "                          datetime.datetime(2018, 11, 21, 0, 0),\n",
       "                          datetime.datetime(2018, 11, 22, 0, 0),\n",
       "                          datetime.datetime(2018, 11, 23, 0, 0),\n",
       "                          datetime.datetime(2018, 11, 24, 0, 0),\n",
       "                          datetime.datetime(2018, 11, 25, 0, 0),\n",
       "                          datetime.datetime(2018, 11, 26, 0, 0),\n",
       "                          datetime.datetime(2018, 11, 27, 0, 0),\n",
       "                          datetime.datetime(2018, 11, 28, 0, 0),\n",
       "                          datetime.datetime(2018, 11, 29, 0, 0),\n",
       "                          datetime.datetime(2018, 11, 30, 0, 0),\n",
       "                          datetime.datetime(2018, 12, 2, 0, 0),\n",
       "                          datetime.datetime(2018, 12, 3, 0, 0),\n",
       "                          datetime.datetime(2018, 12, 4, 0, 0),\n",
       "                          datetime.datetime(2018, 12, 5, 0, 0),\n",
       "                          datetime.datetime(2018, 12, 7, 0, 0),\n",
       "                          datetime.datetime(2018, 12, 8, 0, 0),\n",
       "                          datetime.datetime(2018, 12, 9, 0, 0),\n",
       "                          datetime.datetime(2018, 12, 10, 0, 0),\n",
       "                          datetime.datetime(2018, 12, 11, 0, 0),\n",
       "                          datetime.datetime(2018, 12, 12, 0, 0),\n",
       "                          datetime.datetime(2018, 12, 13, 0, 0),\n",
       "                          datetime.datetime(2018, 12, 14, 0, 0),\n",
       "                          datetime.datetime(2018, 12, 15, 0, 0),\n",
       "                          datetime.datetime(2018, 12, 16, 0, 0),\n",
       "                          datetime.datetime(2018, 12, 17, 0, 0),\n",
       "                          datetime.datetime(2018, 12, 18, 0, 0),\n",
       "                          datetime.datetime(2018, 12, 20, 0, 0),\n",
       "                          datetime.datetime(2018, 12, 21, 0, 0),\n",
       "                          datetime.datetime(2018, 12, 23, 0, 0),\n",
       "                          datetime.datetime(2018, 12, 24, 0, 0),\n",
       "                          datetime.datetime(2018, 12, 25, 0, 0),\n",
       "                          datetime.datetime(2018, 12, 26, 0, 0),\n",
       "                          datetime.datetime(2018, 12, 27, 0, 0),\n",
       "                          datetime.datetime(2018, 12, 28, 0, 0),\n",
       "                          datetime.datetime(2018, 12, 29, 0, 0),\n",
       "                          datetime.datetime(2018, 12, 30, 0, 0),\n",
       "                          datetime.datetime(2018, 12, 31, 0, 0),\n",
       "                          datetime.datetime(2019, 1, 1, 0, 0),\n",
       "                          datetime.datetime(2019, 1, 2, 0, 0),\n",
       "                          datetime.datetime(2019, 1, 3, 0, 0),\n",
       "                          datetime.datetime(2019, 1, 4, 0, 0),\n",
       "                          datetime.datetime(2019, 1, 5, 0, 0),\n",
       "                          datetime.datetime(2019, 1, 6, 0, 0),\n",
       "                          datetime.datetime(2019, 1, 7, 0, 0),\n",
       "                          datetime.datetime(2019, 1, 8, 0, 0),\n",
       "                          datetime.datetime(2019, 1, 9, 0, 0),\n",
       "                          datetime.datetime(2019, 1, 10, 0, 0),\n",
       "                          datetime.datetime(2019, 1, 11, 0, 0),\n",
       "                          datetime.datetime(2019, 1, 12, 0, 0),\n",
       "                          datetime.datetime(2019, 1, 13, 0, 0),\n",
       "                          datetime.datetime(2019, 1, 14, 0, 0),\n",
       "                          datetime.datetime(2019, 1, 15, 0, 0),\n",
       "                          datetime.datetime(2019, 1, 16, 0, 0),\n",
       "                          datetime.datetime(2019, 1, 17, 0, 0),\n",
       "                          datetime.datetime(2019, 1, 18, 0, 0),\n",
       "                          datetime.datetime(2019, 1, 19, 0, 0),\n",
       "                          datetime.datetime(2019, 1, 20, 0, 0),\n",
       "                          datetime.datetime(2019, 1, 21, 0, 0),\n",
       "                          datetime.datetime(2019, 1, 22, 0, 0),\n",
       "                          datetime.datetime(2019, 1, 23, 0, 0),\n",
       "                          datetime.datetime(2019, 1, 24, 0, 0),\n",
       "                          datetime.datetime(2019, 1, 25, 0, 0),\n",
       "                          datetime.datetime(2019, 1, 26, 0, 0),\n",
       "                          datetime.datetime(2019, 1, 27, 0, 0),\n",
       "                          datetime.datetime(2019, 1, 28, 0, 0),\n",
       "                          datetime.datetime(2019, 1, 29, 0, 0),\n",
       "                          datetime.datetime(2019, 1, 30, 0, 0)], dtype=object),\n",
       "              'xaxis': 'x',\n",
       "              'y': array([276.69472947, 277.4041021 , 278.11347473, 278.82284735, 279.53221998,\n",
       "                          280.24159261, 280.9509652 , 281.6603378 , 282.36971039, 283.07908298,\n",
       "                          283.78845557, 285.20720076, 285.91657334, 286.62594591, 287.33531849,\n",
       "                          288.04469106, 288.75406357, 289.46343608, 290.88218109, 291.59155359,\n",
       "                          292.30092603, 293.01029846, 293.71967089, 294.42904338, 295.84778836,\n",
       "                          296.55716085, 297.26653333, 299.39465079, 300.10402328, 300.81339577,\n",
       "                          301.52276825, 302.23214072, 302.9415132 , 303.65088568, 304.36025816,\n",
       "                          305.06963056, 305.77900295, 307.19774774, 307.90712008, 308.61649243,\n",
       "                          309.32586478, 310.03523713, 310.74457371, 311.45391029, 312.16324686,\n",
       "                          312.87256871, 313.58189056, 315.00053426, 315.69034077, 316.38014729,\n",
       "                          317.06995381, 317.75976033, 318.44956685, 319.13937333, 320.51898629,\n",
       "                          321.20879277, 321.89859925, 322.58840571, 323.96801861, 324.65782507,\n",
       "                          325.34753051, 326.03723596, 327.41664684, 328.10635224, 328.79605763,\n",
       "                          330.86517382, 331.55487918, 332.24458455, 332.93428992, 333.62399529,\n",
       "                          334.31370065, 335.00340599, 335.69311132, 337.07252199, 337.76222732,\n",
       "                          338.45193233, 339.14163733, 340.52104734, 341.21075233, 341.90045731,\n",
       "                          342.5901623 , 343.27986728, 343.96957227, 344.65927729, 345.34898231,\n",
       "                          346.03868732, 346.72839234, 347.41809736, 348.1078023 , 348.79750724,\n",
       "                          349.48721219, 350.17691712, 350.86662204, 351.55632697, 352.93573683,\n",
       "                          353.62544176, 354.31514673, 355.0048517 , 356.38426164, 357.07396661,\n",
       "                          357.76367159, 358.45337657, 359.14308154, 359.83278652, 360.52249149,\n",
       "                          361.21219647, 361.90190145, 362.59160642, 363.2813114 , 363.97101637,\n",
       "                          365.35042633, 366.0401313 , 367.41954126, 368.10924623, 368.79895121,\n",
       "                          369.48865618, 370.17836116, 370.86806614, 371.55777111, 372.24747609,\n",
       "                          372.93718107, 373.62688604, 374.31659102, 375.00629599, 375.69600097,\n",
       "                          376.38570595, 377.07541092, 377.7651159 , 378.45482087, 379.14452585,\n",
       "                          379.83423083, 380.5239358 , 381.21364078, 381.90334576, 382.59305073,\n",
       "                          383.28275571, 383.97246068, 384.66216566, 385.35187064, 386.04157561,\n",
       "                          386.73128059, 387.42098557, 388.11069054, 388.80039552, 389.49010049,\n",
       "                          390.17980547, 390.86951045, 391.55921542, 392.2489204 , 392.93862537,\n",
       "                          393.62833035]),\n",
       "              'yaxis': 'y'},\n",
       "             {'line': {'color': 'rgba(0, 114, 178, 0.2)', 'width': 0},\n",
       "              'mode': 'lines',\n",
       "              'name': 'trend_upper',\n",
       "              'type': 'scatter',\n",
       "              'x': array([datetime.datetime(2018, 8, 15, 0, 0),\n",
       "                          datetime.datetime(2018, 8, 16, 0, 0),\n",
       "                          datetime.datetime(2018, 8, 17, 0, 0),\n",
       "                          datetime.datetime(2018, 8, 18, 0, 0),\n",
       "                          datetime.datetime(2018, 8, 19, 0, 0),\n",
       "                          datetime.datetime(2018, 8, 20, 0, 0),\n",
       "                          datetime.datetime(2018, 8, 21, 0, 0),\n",
       "                          datetime.datetime(2018, 8, 22, 0, 0),\n",
       "                          datetime.datetime(2018, 8, 23, 0, 0),\n",
       "                          datetime.datetime(2018, 8, 24, 0, 0),\n",
       "                          datetime.datetime(2018, 8, 25, 0, 0),\n",
       "                          datetime.datetime(2018, 8, 27, 0, 0),\n",
       "                          datetime.datetime(2018, 8, 28, 0, 0),\n",
       "                          datetime.datetime(2018, 8, 29, 0, 0),\n",
       "                          datetime.datetime(2018, 8, 30, 0, 0),\n",
       "                          datetime.datetime(2018, 8, 31, 0, 0),\n",
       "                          datetime.datetime(2018, 9, 1, 0, 0),\n",
       "                          datetime.datetime(2018, 9, 2, 0, 0),\n",
       "                          datetime.datetime(2018, 9, 4, 0, 0),\n",
       "                          datetime.datetime(2018, 9, 5, 0, 0),\n",
       "                          datetime.datetime(2018, 9, 6, 0, 0),\n",
       "                          datetime.datetime(2018, 9, 7, 0, 0),\n",
       "                          datetime.datetime(2018, 9, 8, 0, 0),\n",
       "                          datetime.datetime(2018, 9, 9, 0, 0),\n",
       "                          datetime.datetime(2018, 9, 11, 0, 0),\n",
       "                          datetime.datetime(2018, 9, 12, 0, 0),\n",
       "                          datetime.datetime(2018, 9, 13, 0, 0),\n",
       "                          datetime.datetime(2018, 9, 16, 0, 0),\n",
       "                          datetime.datetime(2018, 9, 17, 0, 0),\n",
       "                          datetime.datetime(2018, 9, 18, 0, 0),\n",
       "                          datetime.datetime(2018, 9, 19, 0, 0),\n",
       "                          datetime.datetime(2018, 9, 20, 0, 0),\n",
       "                          datetime.datetime(2018, 9, 21, 0, 0),\n",
       "                          datetime.datetime(2018, 9, 22, 0, 0),\n",
       "                          datetime.datetime(2018, 9, 23, 0, 0),\n",
       "                          datetime.datetime(2018, 9, 24, 0, 0),\n",
       "                          datetime.datetime(2018, 9, 25, 0, 0),\n",
       "                          datetime.datetime(2018, 9, 27, 0, 0),\n",
       "                          datetime.datetime(2018, 9, 28, 0, 0),\n",
       "                          datetime.datetime(2018, 9, 29, 0, 0),\n",
       "                          datetime.datetime(2018, 9, 30, 0, 0),\n",
       "                          datetime.datetime(2018, 10, 1, 0, 0),\n",
       "                          datetime.datetime(2018, 10, 2, 0, 0),\n",
       "                          datetime.datetime(2018, 10, 3, 0, 0),\n",
       "                          datetime.datetime(2018, 10, 4, 0, 0),\n",
       "                          datetime.datetime(2018, 10, 5, 0, 0),\n",
       "                          datetime.datetime(2018, 10, 6, 0, 0),\n",
       "                          datetime.datetime(2018, 10, 8, 0, 0),\n",
       "                          datetime.datetime(2018, 10, 9, 0, 0),\n",
       "                          datetime.datetime(2018, 10, 10, 0, 0),\n",
       "                          datetime.datetime(2018, 10, 11, 0, 0),\n",
       "                          datetime.datetime(2018, 10, 12, 0, 0),\n",
       "                          datetime.datetime(2018, 10, 13, 0, 0),\n",
       "                          datetime.datetime(2018, 10, 14, 0, 0),\n",
       "                          datetime.datetime(2018, 10, 16, 0, 0),\n",
       "                          datetime.datetime(2018, 10, 17, 0, 0),\n",
       "                          datetime.datetime(2018, 10, 18, 0, 0),\n",
       "                          datetime.datetime(2018, 10, 19, 0, 0),\n",
       "                          datetime.datetime(2018, 10, 21, 0, 0),\n",
       "                          datetime.datetime(2018, 10, 22, 0, 0),\n",
       "                          datetime.datetime(2018, 10, 23, 0, 0),\n",
       "                          datetime.datetime(2018, 10, 24, 0, 0),\n",
       "                          datetime.datetime(2018, 10, 26, 0, 0),\n",
       "                          datetime.datetime(2018, 10, 27, 0, 0),\n",
       "                          datetime.datetime(2018, 10, 28, 0, 0),\n",
       "                          datetime.datetime(2018, 10, 31, 0, 0),\n",
       "                          datetime.datetime(2018, 11, 1, 0, 0),\n",
       "                          datetime.datetime(2018, 11, 2, 0, 0),\n",
       "                          datetime.datetime(2018, 11, 3, 0, 0),\n",
       "                          datetime.datetime(2018, 11, 4, 0, 0),\n",
       "                          datetime.datetime(2018, 11, 5, 0, 0),\n",
       "                          datetime.datetime(2018, 11, 6, 0, 0),\n",
       "                          datetime.datetime(2018, 11, 7, 0, 0),\n",
       "                          datetime.datetime(2018, 11, 9, 0, 0),\n",
       "                          datetime.datetime(2018, 11, 10, 0, 0),\n",
       "                          datetime.datetime(2018, 11, 11, 0, 0),\n",
       "                          datetime.datetime(2018, 11, 12, 0, 0),\n",
       "                          datetime.datetime(2018, 11, 14, 0, 0),\n",
       "                          datetime.datetime(2018, 11, 15, 0, 0),\n",
       "                          datetime.datetime(2018, 11, 16, 0, 0),\n",
       "                          datetime.datetime(2018, 11, 17, 0, 0),\n",
       "                          datetime.datetime(2018, 11, 18, 0, 0),\n",
       "                          datetime.datetime(2018, 11, 19, 0, 0),\n",
       "                          datetime.datetime(2018, 11, 20, 0, 0),\n",
       "                          datetime.datetime(2018, 11, 21, 0, 0),\n",
       "                          datetime.datetime(2018, 11, 22, 0, 0),\n",
       "                          datetime.datetime(2018, 11, 23, 0, 0),\n",
       "                          datetime.datetime(2018, 11, 24, 0, 0),\n",
       "                          datetime.datetime(2018, 11, 25, 0, 0),\n",
       "                          datetime.datetime(2018, 11, 26, 0, 0),\n",
       "                          datetime.datetime(2018, 11, 27, 0, 0),\n",
       "                          datetime.datetime(2018, 11, 28, 0, 0),\n",
       "                          datetime.datetime(2018, 11, 29, 0, 0),\n",
       "                          datetime.datetime(2018, 11, 30, 0, 0),\n",
       "                          datetime.datetime(2018, 12, 2, 0, 0),\n",
       "                          datetime.datetime(2018, 12, 3, 0, 0),\n",
       "                          datetime.datetime(2018, 12, 4, 0, 0),\n",
       "                          datetime.datetime(2018, 12, 5, 0, 0),\n",
       "                          datetime.datetime(2018, 12, 7, 0, 0),\n",
       "                          datetime.datetime(2018, 12, 8, 0, 0),\n",
       "                          datetime.datetime(2018, 12, 9, 0, 0),\n",
       "                          datetime.datetime(2018, 12, 10, 0, 0),\n",
       "                          datetime.datetime(2018, 12, 11, 0, 0),\n",
       "                          datetime.datetime(2018, 12, 12, 0, 0),\n",
       "                          datetime.datetime(2018, 12, 13, 0, 0),\n",
       "                          datetime.datetime(2018, 12, 14, 0, 0),\n",
       "                          datetime.datetime(2018, 12, 15, 0, 0),\n",
       "                          datetime.datetime(2018, 12, 16, 0, 0),\n",
       "                          datetime.datetime(2018, 12, 17, 0, 0),\n",
       "                          datetime.datetime(2018, 12, 18, 0, 0),\n",
       "                          datetime.datetime(2018, 12, 20, 0, 0),\n",
       "                          datetime.datetime(2018, 12, 21, 0, 0),\n",
       "                          datetime.datetime(2018, 12, 23, 0, 0),\n",
       "                          datetime.datetime(2018, 12, 24, 0, 0),\n",
       "                          datetime.datetime(2018, 12, 25, 0, 0),\n",
       "                          datetime.datetime(2018, 12, 26, 0, 0),\n",
       "                          datetime.datetime(2018, 12, 27, 0, 0),\n",
       "                          datetime.datetime(2018, 12, 28, 0, 0),\n",
       "                          datetime.datetime(2018, 12, 29, 0, 0),\n",
       "                          datetime.datetime(2018, 12, 30, 0, 0),\n",
       "                          datetime.datetime(2018, 12, 31, 0, 0),\n",
       "                          datetime.datetime(2019, 1, 1, 0, 0),\n",
       "                          datetime.datetime(2019, 1, 2, 0, 0),\n",
       "                          datetime.datetime(2019, 1, 3, 0, 0),\n",
       "                          datetime.datetime(2019, 1, 4, 0, 0),\n",
       "                          datetime.datetime(2019, 1, 5, 0, 0),\n",
       "                          datetime.datetime(2019, 1, 6, 0, 0),\n",
       "                          datetime.datetime(2019, 1, 7, 0, 0),\n",
       "                          datetime.datetime(2019, 1, 8, 0, 0),\n",
       "                          datetime.datetime(2019, 1, 9, 0, 0),\n",
       "                          datetime.datetime(2019, 1, 10, 0, 0),\n",
       "                          datetime.datetime(2019, 1, 11, 0, 0),\n",
       "                          datetime.datetime(2019, 1, 12, 0, 0),\n",
       "                          datetime.datetime(2019, 1, 13, 0, 0),\n",
       "                          datetime.datetime(2019, 1, 14, 0, 0),\n",
       "                          datetime.datetime(2019, 1, 15, 0, 0),\n",
       "                          datetime.datetime(2019, 1, 16, 0, 0),\n",
       "                          datetime.datetime(2019, 1, 17, 0, 0),\n",
       "                          datetime.datetime(2019, 1, 18, 0, 0),\n",
       "                          datetime.datetime(2019, 1, 19, 0, 0),\n",
       "                          datetime.datetime(2019, 1, 20, 0, 0),\n",
       "                          datetime.datetime(2019, 1, 21, 0, 0),\n",
       "                          datetime.datetime(2019, 1, 22, 0, 0),\n",
       "                          datetime.datetime(2019, 1, 23, 0, 0),\n",
       "                          datetime.datetime(2019, 1, 24, 0, 0),\n",
       "                          datetime.datetime(2019, 1, 25, 0, 0),\n",
       "                          datetime.datetime(2019, 1, 26, 0, 0),\n",
       "                          datetime.datetime(2019, 1, 27, 0, 0),\n",
       "                          datetime.datetime(2019, 1, 28, 0, 0),\n",
       "                          datetime.datetime(2019, 1, 29, 0, 0),\n",
       "                          datetime.datetime(2019, 1, 30, 0, 0)], dtype=object),\n",
       "              'xaxis': 'x',\n",
       "              'y': array([276.69472947, 277.4041021 , 278.11347473, 278.82284735, 279.53221998,\n",
       "                          280.24159261, 280.9509652 , 281.6603378 , 282.36971039, 283.07908298,\n",
       "                          283.78845557, 285.20720076, 285.91657334, 286.62594591, 287.33531849,\n",
       "                          288.04469106, 288.75406357, 289.46343608, 290.88218109, 291.59155359,\n",
       "                          292.30092603, 293.01029846, 293.71967089, 294.42904338, 295.84778836,\n",
       "                          296.55716085, 297.26653333, 299.39465079, 300.10402328, 300.81339577,\n",
       "                          301.52276825, 302.23214072, 302.9415132 , 303.65088568, 304.36025816,\n",
       "                          305.06963056, 305.77900295, 307.19774774, 307.90712008, 308.61649243,\n",
       "                          309.32586478, 310.03523713, 310.74457371, 311.45391029, 312.16324686,\n",
       "                          312.87256871, 313.58189056, 315.00053426, 315.69034077, 316.38014729,\n",
       "                          317.06995381, 317.75976033, 318.44956685, 319.13937333, 320.51898629,\n",
       "                          321.20879277, 321.89859925, 322.58840571, 323.96801861, 324.65782507,\n",
       "                          325.34753051, 326.03723596, 327.41664684, 328.10635224, 328.79605763,\n",
       "                          330.86517382, 331.55487918, 332.24458455, 332.93428992, 333.62399529,\n",
       "                          334.31370065, 335.00340599, 335.69311132, 337.07252199, 337.76222732,\n",
       "                          338.45193233, 339.14163733, 340.52104734, 341.21075233, 341.90045731,\n",
       "                          342.5901623 , 343.27986728, 343.96957227, 344.65927729, 345.34898231,\n",
       "                          346.03868732, 346.72839234, 347.41809736, 348.1078023 , 348.79750724,\n",
       "                          349.48721219, 350.17691712, 350.86662204, 351.55632697, 352.93573683,\n",
       "                          353.62544176, 354.31514673, 355.0048517 , 356.38426164, 357.07396661,\n",
       "                          357.76367159, 358.45337657, 359.14308154, 359.83278652, 360.52249149,\n",
       "                          361.21219647, 361.90190145, 362.59160642, 363.2813114 , 363.97101637,\n",
       "                          365.35042633, 366.0401313 , 367.41954126, 368.10924623, 368.79895121,\n",
       "                          369.48865618, 370.17836116, 370.86806614, 371.55777111, 372.24747609,\n",
       "                          372.93718107, 373.62688607, 374.3170247 , 375.00727277, 375.69779837,\n",
       "                          376.3885362 , 377.07934576, 377.77035518, 378.46145827, 379.15247163,\n",
       "                          379.84355091, 380.53479097, 381.22629759, 381.91794363, 382.60957309,\n",
       "                          383.30155878, 383.99266681, 384.68444041, 385.37597655, 386.06893405,\n",
       "                          386.76022139, 387.45255316, 388.14543314, 388.83725669, 389.52941088,\n",
       "                          390.22285951, 390.91547149, 391.60845976, 392.30061828, 392.99389332,\n",
       "                          393.68623506]),\n",
       "              'yaxis': 'y'},\n",
       "             {'fill': 'tonexty',\n",
       "              'fillcolor': 'rgba(0, 114, 178, 0.2)',\n",
       "              'line': {'color': 'rgba(0, 114, 178, 0.2)', 'width': 0},\n",
       "              'mode': 'lines',\n",
       "              'name': 'trend_lower',\n",
       "              'type': 'scatter',\n",
       "              'x': array([datetime.datetime(2018, 8, 15, 0, 0),\n",
       "                          datetime.datetime(2018, 8, 16, 0, 0),\n",
       "                          datetime.datetime(2018, 8, 17, 0, 0),\n",
       "                          datetime.datetime(2018, 8, 18, 0, 0),\n",
       "                          datetime.datetime(2018, 8, 19, 0, 0),\n",
       "                          datetime.datetime(2018, 8, 20, 0, 0),\n",
       "                          datetime.datetime(2018, 8, 21, 0, 0),\n",
       "                          datetime.datetime(2018, 8, 22, 0, 0),\n",
       "                          datetime.datetime(2018, 8, 23, 0, 0),\n",
       "                          datetime.datetime(2018, 8, 24, 0, 0),\n",
       "                          datetime.datetime(2018, 8, 25, 0, 0),\n",
       "                          datetime.datetime(2018, 8, 27, 0, 0),\n",
       "                          datetime.datetime(2018, 8, 28, 0, 0),\n",
       "                          datetime.datetime(2018, 8, 29, 0, 0),\n",
       "                          datetime.datetime(2018, 8, 30, 0, 0),\n",
       "                          datetime.datetime(2018, 8, 31, 0, 0),\n",
       "                          datetime.datetime(2018, 9, 1, 0, 0),\n",
       "                          datetime.datetime(2018, 9, 2, 0, 0),\n",
       "                          datetime.datetime(2018, 9, 4, 0, 0),\n",
       "                          datetime.datetime(2018, 9, 5, 0, 0),\n",
       "                          datetime.datetime(2018, 9, 6, 0, 0),\n",
       "                          datetime.datetime(2018, 9, 7, 0, 0),\n",
       "                          datetime.datetime(2018, 9, 8, 0, 0),\n",
       "                          datetime.datetime(2018, 9, 9, 0, 0),\n",
       "                          datetime.datetime(2018, 9, 11, 0, 0),\n",
       "                          datetime.datetime(2018, 9, 12, 0, 0),\n",
       "                          datetime.datetime(2018, 9, 13, 0, 0),\n",
       "                          datetime.datetime(2018, 9, 16, 0, 0),\n",
       "                          datetime.datetime(2018, 9, 17, 0, 0),\n",
       "                          datetime.datetime(2018, 9, 18, 0, 0),\n",
       "                          datetime.datetime(2018, 9, 19, 0, 0),\n",
       "                          datetime.datetime(2018, 9, 20, 0, 0),\n",
       "                          datetime.datetime(2018, 9, 21, 0, 0),\n",
       "                          datetime.datetime(2018, 9, 22, 0, 0),\n",
       "                          datetime.datetime(2018, 9, 23, 0, 0),\n",
       "                          datetime.datetime(2018, 9, 24, 0, 0),\n",
       "                          datetime.datetime(2018, 9, 25, 0, 0),\n",
       "                          datetime.datetime(2018, 9, 27, 0, 0),\n",
       "                          datetime.datetime(2018, 9, 28, 0, 0),\n",
       "                          datetime.datetime(2018, 9, 29, 0, 0),\n",
       "                          datetime.datetime(2018, 9, 30, 0, 0),\n",
       "                          datetime.datetime(2018, 10, 1, 0, 0),\n",
       "                          datetime.datetime(2018, 10, 2, 0, 0),\n",
       "                          datetime.datetime(2018, 10, 3, 0, 0),\n",
       "                          datetime.datetime(2018, 10, 4, 0, 0),\n",
       "                          datetime.datetime(2018, 10, 5, 0, 0),\n",
       "                          datetime.datetime(2018, 10, 6, 0, 0),\n",
       "                          datetime.datetime(2018, 10, 8, 0, 0),\n",
       "                          datetime.datetime(2018, 10, 9, 0, 0),\n",
       "                          datetime.datetime(2018, 10, 10, 0, 0),\n",
       "                          datetime.datetime(2018, 10, 11, 0, 0),\n",
       "                          datetime.datetime(2018, 10, 12, 0, 0),\n",
       "                          datetime.datetime(2018, 10, 13, 0, 0),\n",
       "                          datetime.datetime(2018, 10, 14, 0, 0),\n",
       "                          datetime.datetime(2018, 10, 16, 0, 0),\n",
       "                          datetime.datetime(2018, 10, 17, 0, 0),\n",
       "                          datetime.datetime(2018, 10, 18, 0, 0),\n",
       "                          datetime.datetime(2018, 10, 19, 0, 0),\n",
       "                          datetime.datetime(2018, 10, 21, 0, 0),\n",
       "                          datetime.datetime(2018, 10, 22, 0, 0),\n",
       "                          datetime.datetime(2018, 10, 23, 0, 0),\n",
       "                          datetime.datetime(2018, 10, 24, 0, 0),\n",
       "                          datetime.datetime(2018, 10, 26, 0, 0),\n",
       "                          datetime.datetime(2018, 10, 27, 0, 0),\n",
       "                          datetime.datetime(2018, 10, 28, 0, 0),\n",
       "                          datetime.datetime(2018, 10, 31, 0, 0),\n",
       "                          datetime.datetime(2018, 11, 1, 0, 0),\n",
       "                          datetime.datetime(2018, 11, 2, 0, 0),\n",
       "                          datetime.datetime(2018, 11, 3, 0, 0),\n",
       "                          datetime.datetime(2018, 11, 4, 0, 0),\n",
       "                          datetime.datetime(2018, 11, 5, 0, 0),\n",
       "                          datetime.datetime(2018, 11, 6, 0, 0),\n",
       "                          datetime.datetime(2018, 11, 7, 0, 0),\n",
       "                          datetime.datetime(2018, 11, 9, 0, 0),\n",
       "                          datetime.datetime(2018, 11, 10, 0, 0),\n",
       "                          datetime.datetime(2018, 11, 11, 0, 0),\n",
       "                          datetime.datetime(2018, 11, 12, 0, 0),\n",
       "                          datetime.datetime(2018, 11, 14, 0, 0),\n",
       "                          datetime.datetime(2018, 11, 15, 0, 0),\n",
       "                          datetime.datetime(2018, 11, 16, 0, 0),\n",
       "                          datetime.datetime(2018, 11, 17, 0, 0),\n",
       "                          datetime.datetime(2018, 11, 18, 0, 0),\n",
       "                          datetime.datetime(2018, 11, 19, 0, 0),\n",
       "                          datetime.datetime(2018, 11, 20, 0, 0),\n",
       "                          datetime.datetime(2018, 11, 21, 0, 0),\n",
       "                          datetime.datetime(2018, 11, 22, 0, 0),\n",
       "                          datetime.datetime(2018, 11, 23, 0, 0),\n",
       "                          datetime.datetime(2018, 11, 24, 0, 0),\n",
       "                          datetime.datetime(2018, 11, 25, 0, 0),\n",
       "                          datetime.datetime(2018, 11, 26, 0, 0),\n",
       "                          datetime.datetime(2018, 11, 27, 0, 0),\n",
       "                          datetime.datetime(2018, 11, 28, 0, 0),\n",
       "                          datetime.datetime(2018, 11, 29, 0, 0),\n",
       "                          datetime.datetime(2018, 11, 30, 0, 0),\n",
       "                          datetime.datetime(2018, 12, 2, 0, 0),\n",
       "                          datetime.datetime(2018, 12, 3, 0, 0),\n",
       "                          datetime.datetime(2018, 12, 4, 0, 0),\n",
       "                          datetime.datetime(2018, 12, 5, 0, 0),\n",
       "                          datetime.datetime(2018, 12, 7, 0, 0),\n",
       "                          datetime.datetime(2018, 12, 8, 0, 0),\n",
       "                          datetime.datetime(2018, 12, 9, 0, 0),\n",
       "                          datetime.datetime(2018, 12, 10, 0, 0),\n",
       "                          datetime.datetime(2018, 12, 11, 0, 0),\n",
       "                          datetime.datetime(2018, 12, 12, 0, 0),\n",
       "                          datetime.datetime(2018, 12, 13, 0, 0),\n",
       "                          datetime.datetime(2018, 12, 14, 0, 0),\n",
       "                          datetime.datetime(2018, 12, 15, 0, 0),\n",
       "                          datetime.datetime(2018, 12, 16, 0, 0),\n",
       "                          datetime.datetime(2018, 12, 17, 0, 0),\n",
       "                          datetime.datetime(2018, 12, 18, 0, 0),\n",
       "                          datetime.datetime(2018, 12, 20, 0, 0),\n",
       "                          datetime.datetime(2018, 12, 21, 0, 0),\n",
       "                          datetime.datetime(2018, 12, 23, 0, 0),\n",
       "                          datetime.datetime(2018, 12, 24, 0, 0),\n",
       "                          datetime.datetime(2018, 12, 25, 0, 0),\n",
       "                          datetime.datetime(2018, 12, 26, 0, 0),\n",
       "                          datetime.datetime(2018, 12, 27, 0, 0),\n",
       "                          datetime.datetime(2018, 12, 28, 0, 0),\n",
       "                          datetime.datetime(2018, 12, 29, 0, 0),\n",
       "                          datetime.datetime(2018, 12, 30, 0, 0),\n",
       "                          datetime.datetime(2018, 12, 31, 0, 0),\n",
       "                          datetime.datetime(2019, 1, 1, 0, 0),\n",
       "                          datetime.datetime(2019, 1, 2, 0, 0),\n",
       "                          datetime.datetime(2019, 1, 3, 0, 0),\n",
       "                          datetime.datetime(2019, 1, 4, 0, 0),\n",
       "                          datetime.datetime(2019, 1, 5, 0, 0),\n",
       "                          datetime.datetime(2019, 1, 6, 0, 0),\n",
       "                          datetime.datetime(2019, 1, 7, 0, 0),\n",
       "                          datetime.datetime(2019, 1, 8, 0, 0),\n",
       "                          datetime.datetime(2019, 1, 9, 0, 0),\n",
       "                          datetime.datetime(2019, 1, 10, 0, 0),\n",
       "                          datetime.datetime(2019, 1, 11, 0, 0),\n",
       "                          datetime.datetime(2019, 1, 12, 0, 0),\n",
       "                          datetime.datetime(2019, 1, 13, 0, 0),\n",
       "                          datetime.datetime(2019, 1, 14, 0, 0),\n",
       "                          datetime.datetime(2019, 1, 15, 0, 0),\n",
       "                          datetime.datetime(2019, 1, 16, 0, 0),\n",
       "                          datetime.datetime(2019, 1, 17, 0, 0),\n",
       "                          datetime.datetime(2019, 1, 18, 0, 0),\n",
       "                          datetime.datetime(2019, 1, 19, 0, 0),\n",
       "                          datetime.datetime(2019, 1, 20, 0, 0),\n",
       "                          datetime.datetime(2019, 1, 21, 0, 0),\n",
       "                          datetime.datetime(2019, 1, 22, 0, 0),\n",
       "                          datetime.datetime(2019, 1, 23, 0, 0),\n",
       "                          datetime.datetime(2019, 1, 24, 0, 0),\n",
       "                          datetime.datetime(2019, 1, 25, 0, 0),\n",
       "                          datetime.datetime(2019, 1, 26, 0, 0),\n",
       "                          datetime.datetime(2019, 1, 27, 0, 0),\n",
       "                          datetime.datetime(2019, 1, 28, 0, 0),\n",
       "                          datetime.datetime(2019, 1, 29, 0, 0),\n",
       "                          datetime.datetime(2019, 1, 30, 0, 0)], dtype=object),\n",
       "              'xaxis': 'x',\n",
       "              'y': array([276.69472947, 277.4041021 , 278.11347473, 278.82284735, 279.53221998,\n",
       "                          280.24159261, 280.9509652 , 281.6603378 , 282.36971039, 283.07908298,\n",
       "                          283.78845557, 285.20720076, 285.91657334, 286.62594591, 287.33531849,\n",
       "                          288.04469106, 288.75406357, 289.46343608, 290.88218109, 291.59155359,\n",
       "                          292.30092603, 293.01029846, 293.71967089, 294.42904338, 295.84778836,\n",
       "                          296.55716085, 297.26653333, 299.39465079, 300.10402328, 300.81339577,\n",
       "                          301.52276825, 302.23214072, 302.9415132 , 303.65088568, 304.36025816,\n",
       "                          305.06963056, 305.77900295, 307.19774774, 307.90712008, 308.61649243,\n",
       "                          309.32586478, 310.03523713, 310.74457371, 311.45391029, 312.16324686,\n",
       "                          312.87256871, 313.58189056, 315.00053426, 315.69034077, 316.38014729,\n",
       "                          317.06995381, 317.75976033, 318.44956685, 319.13937333, 320.51898629,\n",
       "                          321.20879277, 321.89859925, 322.58840571, 323.96801861, 324.65782507,\n",
       "                          325.34753051, 326.03723596, 327.41664684, 328.10635224, 328.79605763,\n",
       "                          330.86517382, 331.55487918, 332.24458455, 332.93428992, 333.62399529,\n",
       "                          334.31370065, 335.00340599, 335.69311132, 337.07252199, 337.76222732,\n",
       "                          338.45193233, 339.14163733, 340.52104734, 341.21075233, 341.90045731,\n",
       "                          342.5901623 , 343.27986728, 343.96957227, 344.65927729, 345.34898231,\n",
       "                          346.03868732, 346.72839234, 347.41809736, 348.1078023 , 348.79750724,\n",
       "                          349.48721219, 350.17691712, 350.86662204, 351.55632697, 352.93573683,\n",
       "                          353.62544176, 354.31514673, 355.0048517 , 356.38426164, 357.07396661,\n",
       "                          357.76367159, 358.45337657, 359.14308154, 359.83278652, 360.52249149,\n",
       "                          361.21219647, 361.90190145, 362.59160642, 363.2813114 , 363.97101637,\n",
       "                          365.35042633, 366.0401313 , 367.41954126, 368.10924623, 368.79895121,\n",
       "                          369.48865618, 370.17836116, 370.86806614, 371.55777111, 372.24747609,\n",
       "                          372.93718107, 373.62688604, 374.31628719, 375.0053832 , 375.69433085,\n",
       "                          376.38311505, 377.07173995, 377.76040848, 378.44913497, 379.13740222,\n",
       "                          379.82588288, 380.51403174, 381.20179058, 381.89014505, 382.57816773,\n",
       "                          383.26589228, 383.95371618, 384.64145595, 385.32906047, 386.01690105,\n",
       "                          386.70456609, 387.3926241 , 388.08017061, 388.76665785, 389.45410263,\n",
       "                          390.14128696, 390.82808064, 391.51551708, 392.20293556, 392.89020017,\n",
       "                          393.57746746]),\n",
       "              'yaxis': 'y'},\n",
       "             {'line': {'color': '#0072B2', 'width': 2},\n",
       "              'mode': 'lines',\n",
       "              'name': 'weekly',\n",
       "              'type': 'scatter',\n",
       "              'x': array([datetime.datetime(2017, 1, 1, 0, 0),\n",
       "                          datetime.datetime(2017, 1, 2, 0, 0),\n",
       "                          datetime.datetime(2017, 1, 3, 0, 0),\n",
       "                          datetime.datetime(2017, 1, 4, 0, 0),\n",
       "                          datetime.datetime(2017, 1, 5, 0, 0),\n",
       "                          datetime.datetime(2017, 1, 6, 0, 0),\n",
       "                          datetime.datetime(2017, 1, 7, 0, 0)], dtype=object),\n",
       "              'xaxis': 'x2',\n",
       "              'y': array([-32.44851634,  -5.88223712,   5.09901383,  68.15319072,  -6.59764785,\n",
       "                           23.63669568, -51.96049892]),\n",
       "              'yaxis': 'y2'}],\n",
       "    'layout': {'height': 400,\n",
       "               'showlegend': False,\n",
       "               'template': '...',\n",
       "               'width': 900,\n",
       "               'xaxis': {'anchor': 'y',\n",
       "                         'domain': [0.0, 1.0],\n",
       "                         'range': [2018-08-06 14:24:00, 2019-02-07 09:36:00],\n",
       "                         'type': 'date'},\n",
       "               'xaxis2': {'anchor': 'y2',\n",
       "                          'domain': [0.0, 1.0],\n",
       "                          'range': [2016-12-31 16:48:00, 2017-01-07 07:12:00],\n",
       "                          'tickformat': '%A',\n",
       "                          'type': 'date'},\n",
       "               'yaxis': {'anchor': 'x',\n",
       "                         'domain': [0.575, 1.0],\n",
       "                         'rangemode': 'normal',\n",
       "                         'title': {'text': 'trend'},\n",
       "                         'zerolinecolor': '#AAA'},\n",
       "               'yaxis2': {'anchor': 'x2', 'domain': [0.0, 0.425], 'title': {'text': 'weekly'}, 'zerolinecolor': '#AAA'}}\n",
       "})"
      ]
     },
     "execution_count": 11,
     "metadata": {},
     "output_type": "execute_result"
    }
   ],
   "source": [
    "\n",
    "plot_components_plotly(m, forecast)"
   ]
  },
  {
   "cell_type": "markdown",
   "metadata": {},
   "source": [
    "## in the following cells, the model is trained on the entire dataset and the predictions are made for the next 30 days merging all the cells above\n",
    "\n",
    "```"
   ]
  },
  {
   "cell_type": "markdown",
   "metadata": {},
   "source": [
    "### the output of the prepared dataset shall be saved to updated_merged_dataset2.csv"
   ]
  },
  {
   "cell_type": "code",
   "execution_count": 1,
   "metadata": {},
   "outputs": [
    {
     "name": "stdout",
     "output_type": "stream",
     "text": [
      "Data processing complete. Updated file saved as 'updated_merged_dataset2.csv'.\n"
     ]
    }
   ],
   "source": [
    "import pandas as pd\n",
    "\n",
    "# Load the datasets\n",
    "megaline_messages = pd.read_csv('megaline_messages.csv')\n",
    "merged_dataset2 = pd.read_csv('merged_dataset2.csv')\n",
    "\n",
    "# Step 1: Drop the 'id' column\n",
    "megaline_messages.drop(columns=['id'], inplace=True)\n",
    "\n",
    "# Step 2: Sort the entries by 'user_id' and 'message_date'\n",
    "megaline_messages.sort_values(by=['user_id', 'message_date'], inplace=True)\n",
    "\n",
    "# Step 3: Count the number of messages per 'user_id' and 'message_date'\n",
    "message_counts = megaline_messages.groupby(['user_id', 'message_date']).size().reset_index(name='total_messages_used')\n",
    "\n",
    "# Step 4: Merge the counts back into the merged dataset\n",
    "# First, we need to ensure the date columns match in format\n",
    "merged_dataset2['session_date'] = pd.to_datetime(merged_dataset2['session_date'])\n",
    "message_counts['message_date'] = pd.to_datetime(message_counts['message_date'])\n",
    "\n",
    "# Perform the merge operation to update the 'total_messages_used'\n",
    "merged_dataset2 = merged_dataset2.merge(message_counts, left_on=['user_id', 'session_date'], right_on=['user_id', 'message_date'], how='left')\n",
    "\n",
    "# Replace the 'total_messages_used' in merged_dataset2 with the new counts, filling NaN values with 0\n",
    "merged_dataset2['total_messages_used'] = merged_dataset2['total_messages_used_y'].fillna(0)\n",
    "\n",
    "# Drop the redundant columns created during the merge\n",
    "merged_dataset2.drop(columns=['total_messages_used_x', 'total_messages_used_y', 'message_date'], inplace=True)\n",
    "\n",
    "# Save the updated merged dataset to a new CSV file\n",
    "merged_dataset2.to_csv('updated_merged_dataset2.csv', index=False)\n",
    "\n",
    "print(\"Data processing complete. Updated file saved as 'updated_merged_dataset2.csv'.\")\n"
   ]
  },
  {
   "cell_type": "code",
   "execution_count": 2,
   "metadata": {},
   "outputs": [
    {
     "name": "stdout",
     "output_type": "stream",
     "text": [
      "Data processing complete. Updated file saved as 'updated_merged_dataset2_with_calls.csv'.\n"
     ]
    }
   ],
   "source": [
    "import pandas as pd\n",
    "\n",
    "# Load the calls dataset\n",
    "megaline_calls = pd.read_csv('megaline_calls.csv')\n",
    "\n",
    "# Step 1: Drop the 'id' column\n",
    "megaline_calls.drop(columns=['id'], inplace=True)\n",
    "\n",
    "# Step 2: Sort the entries by 'user_id' and 'call_date'\n",
    "megaline_calls.sort_values(by=['user_id', 'call_date'], inplace=True)\n",
    "\n",
    "# Step 3: Sum the call durations per 'user_id' and 'call_date'\n",
    "call_durations = megaline_calls.groupby(['user_id', 'call_date'])['duration'].sum().reset_index(name='total_minutes')\n",
    "\n",
    "# Step 4: Merge the call durations back into the merged dataset\n",
    "# Ensure the date columns match in format\n",
    "merged_dataset2['session_date'] = pd.to_datetime(merged_dataset2['session_date'])\n",
    "call_durations['call_date'] = pd.to_datetime(call_durations['call_date'])\n",
    "\n",
    "# Perform the merge operation to update the 'total_minutes'\n",
    "merged_dataset2 = merged_dataset2.merge(call_durations, left_on=['user_id', 'session_date'], right_on=['user_id', 'call_date'], how='left')\n",
    "\n",
    "# Replace the 'total_minutes' in merged_dataset2 with the new sums, filling NaN values with 0\n",
    "merged_dataset2['total_minutes'] = merged_dataset2['total_minutes_y'].fillna(0)\n",
    "\n",
    "# Drop the redundant columns created during the merge\n",
    "merged_dataset2.drop(columns=['total_minutes_x', 'total_minutes_y', 'call_date'], inplace=True)\n",
    "\n",
    "# Save the updated merged dataset to a new CSV file\n",
    "merged_dataset2.to_csv('updated_merged_dataset2_with_calls.csv', index=False)\n",
    "\n",
    "print(\"Data processing complete. Updated file saved as 'updated_merged_dataset2_with_calls.csv'.\")\n"
   ]
  },
  {
   "cell_type": "markdown",
   "metadata": {},
   "source": [
    "## following the same logic used to predict the data usage, we do the same for call duration and sms count accross users of our choosing in a scalable manner for development of the software product"
   ]
  },
  {
   "cell_type": "code",
   "execution_count": 33,
   "metadata": {},
   "outputs": [
    {
     "name": "stdout",
     "output_type": "stream",
     "text": [
      "file found\n",
      "   user_id      plan session_date  mb_used  total_messages_used  total_minutes\n",
      "0     1000  ultimate   2018-12-26   270.99                  1.0          14.36\n",
      "1     1000  ultimate   2018-12-27   880.22                  3.0          48.26\n",
      "2     1000  ultimate   2018-12-28   660.40                  1.0          29.00\n",
      "3     1000  ultimate   2018-12-29    89.86                  1.0           1.70\n",
      "4     1000  ultimate   2018-12-31     0.00                  3.0          19.29\n"
     ]
    },
    {
     "name": "stderr",
     "output_type": "stream",
     "text": [
      "19:26:11 - cmdstanpy - INFO - Chain [1] start processing\n",
      "19:26:12 - cmdstanpy - INFO - Chain [1] done processing\n",
      "19:26:12 - cmdstanpy - INFO - Chain [1] start processing\n",
      "19:26:12 - cmdstanpy - INFO - Chain [1] done processing\n",
      "19:26:12 - cmdstanpy - INFO - Chain [1] start processing\n",
      "19:26:12 - cmdstanpy - INFO - Chain [1] done processing\n"
     ]
    },
    {
     "name": "stdout",
     "output_type": "stream",
     "text": [
      "Internet Predictions: [{'ds': Timestamp('2018-12-31 00:00:00'), 'yhat': 59.29602128551051}, {'ds': Timestamp('2019-01-01 00:00:00'), 'yhat': -55.61476313171275}, {'ds': Timestamp('2019-01-02 00:00:00'), 'yhat': -170.525547548936}, {'ds': Timestamp('2019-01-03 00:00:00'), 'yhat': -285.43633196615946}, {'ds': Timestamp('2019-01-04 00:00:00'), 'yhat': -400.34711638338274}, {'ds': Timestamp('2019-01-05 00:00:00'), 'yhat': -515.257900800606}, {'ds': Timestamp('2019-01-06 00:00:00'), 'yhat': -630.1686852178294}, {'ds': Timestamp('2019-01-07 00:00:00'), 'yhat': -745.0794696350525}, {'ds': Timestamp('2019-01-08 00:00:00'), 'yhat': -859.990254052276}, {'ds': Timestamp('2019-01-09 00:00:00'), 'yhat': -974.901038469499}, {'ds': Timestamp('2019-01-10 00:00:00'), 'yhat': -1089.8118228867227}, {'ds': Timestamp('2019-01-11 00:00:00'), 'yhat': -1204.7226073039458}, {'ds': Timestamp('2019-01-12 00:00:00'), 'yhat': -1319.6333917211691}, {'ds': Timestamp('2019-01-13 00:00:00'), 'yhat': -1434.5441761383925}]\n",
      "Messages Predictions: [{'ds': Timestamp('2018-12-31 00:00:00'), 'yhat': 2.397588001061904}, {'ds': Timestamp('2019-01-01 00:00:00'), 'yhat': 2.6116128006063843}, {'ds': Timestamp('2019-01-02 00:00:00'), 'yhat': 2.825637600150864}, {'ds': Timestamp('2019-01-03 00:00:00'), 'yhat': 3.039662399695344}, {'ds': Timestamp('2019-01-04 00:00:00'), 'yhat': 3.253687199239824}, {'ds': Timestamp('2019-01-05 00:00:00'), 'yhat': 3.4677119987843046}, {'ds': Timestamp('2019-01-06 00:00:00'), 'yhat': 3.6817367983287843}, {'ds': Timestamp('2019-01-07 00:00:00'), 'yhat': 3.895761597873264}, {'ds': Timestamp('2019-01-08 00:00:00'), 'yhat': 4.109786397417745}, {'ds': Timestamp('2019-01-09 00:00:00'), 'yhat': 4.323811196962224}, {'ds': Timestamp('2019-01-10 00:00:00'), 'yhat': 4.537835996506704}, {'ds': Timestamp('2019-01-11 00:00:00'), 'yhat': 4.751860796051185}, {'ds': Timestamp('2019-01-12 00:00:00'), 'yhat': 4.9658855955956644}, {'ds': Timestamp('2019-01-13 00:00:00'), 'yhat': 5.179910395140144}]\n",
      "Calls Predictions: [{'ds': Timestamp('2018-12-31 00:00:00'), 'yhat': 15.04119410212829}, {'ds': Timestamp('2019-01-01 00:00:00'), 'yhat': 12.367590083313203}, {'ds': Timestamp('2019-01-02 00:00:00'), 'yhat': 9.693986064498116}, {'ds': Timestamp('2019-01-03 00:00:00'), 'yhat': 7.020382045683027}, {'ds': Timestamp('2019-01-04 00:00:00'), 'yhat': 4.3467780268679395}, {'ds': Timestamp('2019-01-05 00:00:00'), 'yhat': 1.6731740080528519}, {'ds': Timestamp('2019-01-06 00:00:00'), 'yhat': -1.0004300107622381}, {'ds': Timestamp('2019-01-07 00:00:00'), 'yhat': -3.6740340295773226}, {'ds': Timestamp('2019-01-08 00:00:00'), 'yhat': -6.347638048392413}, {'ds': Timestamp('2019-01-09 00:00:00'), 'yhat': -9.021242067207497}, {'ds': Timestamp('2019-01-10 00:00:00'), 'yhat': -11.694846086022588}, {'ds': Timestamp('2019-01-11 00:00:00'), 'yhat': -14.368450104837677}, {'ds': Timestamp('2019-01-12 00:00:00'), 'yhat': -17.04205412365276}, {'ds': Timestamp('2019-01-13 00:00:00'), 'yhat': -19.715658142467852}]\n"
     ]
    }
   ],
   "source": [
    "import pandas as pd\n",
    "from prophet import Prophet\n",
    "\n",
    "def find_file(filename):\n",
    "    # This function should be defined to find the file in your system\n",
    "    # For example, it could look like this:\n",
    "    import os\n",
    "    for root, dirs, files in os.walk('.'):\n",
    "        if filename in files:\n",
    "            return os.path.join(root, filename)\n",
    "    return None\n",
    "\n",
    "def get_predictions(user_id, days_ahead):\n",
    "    # Use Prophet to predict the next days of data of all 3: internet, messages, and calls\n",
    "    file_path = find_file('updated_merged_dataset2_with_calls.csv')\n",
    "    if file_path:\n",
    "        df = pd.read_csv(file_path)\n",
    "        print('file found')\n",
    "        print(df.head())\n",
    "    else:\n",
    "        raise FileNotFoundError('updated_merged_dataset2_with_calls.csv not found')\n",
    "    \n",
    "    # Get internet usage predictions from the last day of the dataset\n",
    "    df_internet = df.drop(columns=['plan', 'total_messages_used', 'total_minutes'])\n",
    "    filtered_internet = df_internet[df_internet['user_id'] == user_id]\n",
    "    prepped_internet = filtered_internet.drop(columns='user_id')\n",
    "    prepped_internet = prepped_internet.rename(columns={'session_date': 'ds', 'mb_used': 'y'})\n",
    "    last_date_internet = prepped_internet['ds'].max()\n",
    "    model_internet = Prophet()\n",
    "    model_internet.fit(prepped_internet)\n",
    "    future_internet = model_internet.make_future_dataframe(periods=days_ahead)\n",
    "    forecast_internet = model_internet.predict(future_internet)\n",
    "    # Filter the forecast to start from the last date\n",
    "    forecast_internet_from_last_date = forecast_internet[forecast_internet['ds'] >= last_date_internet]\n",
    "    # Extract the required columns\n",
    "    full_data_internet = forecast_internet_from_last_date[['ds', 'yhat']]\n",
    "    # Get the last n days of the forecast\n",
    "    internet_prediction = full_data_internet.head(days_ahead).to_dict(orient='records')\n",
    "    \n",
    "    # Get messages usage predictions from the last day of the dataset\n",
    "    df_messages = df.drop(columns=['plan', 'mb_used', 'total_minutes'])\n",
    "    filtered_messages = df_messages[df_messages['user_id'] == user_id]\n",
    "    prepped_messages = filtered_messages.drop(columns='user_id')\n",
    "    prepped_messages = prepped_messages.rename(columns={'session_date': 'ds', 'total_messages_used': 'y'})\n",
    "    last_date_messages = prepped_messages['ds'].max()\n",
    "    model_messages = Prophet()\n",
    "    model_messages.fit(prepped_messages)\n",
    "    future_messages = model_messages.make_future_dataframe(periods=days_ahead)\n",
    "    forecast_messages = model_messages.predict(future_messages)\n",
    "    # Filter the forecast to start from the last date\n",
    "    forecast_messages_from_last_date = forecast_messages[forecast_messages['ds'] >= last_date_messages]\n",
    "    # Extract the required columns\n",
    "    full_data_messages = forecast_messages_from_last_date[['ds', 'yhat']]\n",
    "    # Get the last n days of the forecast\n",
    "    messages_prediction = full_data_messages.head(days_ahead).to_dict(orient='records')\n",
    "    \n",
    "    # Get calls usage predictions from the last day of the dataset\n",
    "    df_calls = df.drop(columns=['plan', 'mb_used', 'total_messages_used'])\n",
    "    filtered_calls = df_calls[df_calls['user_id'] == user_id]\n",
    "    prepped_calls = filtered_calls.drop(columns='user_id')\n",
    "    prepped_calls = prepped_calls.rename(columns={'session_date': 'ds', 'total_minutes': 'y'})\n",
    "    last_date_calls = prepped_calls['ds'].max()\n",
    "    model_calls = Prophet()\n",
    "    model_calls.fit(prepped_calls)\n",
    "    future_calls = model_calls.make_future_dataframe(periods=days_ahead)\n",
    "    forecast_calls = model_calls.predict(future_calls)\n",
    "    # Filter the forecast to start from the last date\n",
    "    forecast_calls_from_last_date = forecast_calls[forecast_calls['ds'] >= last_date_calls]\n",
    "    # Extract the required columns\n",
    "    full_data_calls = forecast_calls_from_last_date[['ds', 'yhat']]\n",
    "    # Get the last n days of the forecast\n",
    "    calls_prediction = full_data_calls.head(days_ahead).to_dict(orient='records')\n",
    "    \n",
    "    return internet_prediction, messages_prediction, calls_prediction\n",
    "\n",
    "# Example usage\n",
    "user_id = 1000\n",
    "days_ahead = 14\n",
    "internet_pred, messages_pred, calls_pred = get_predictions(user_id, days_ahead)\n",
    "print(\"Internet Predictions:\", internet_pred)\n",
    "print(\"Messages Predictions:\", messages_pred)\n",
    "print(\"Calls Predictions:\", calls_pred)\n"
   ]
  }
 ],
 "metadata": {
  "kernelspec": {
   "display_name": "Python 3",
   "language": "python",
   "name": "python3"
  },
  "language_info": {
   "codemirror_mode": {
    "name": "ipython",
    "version": 3
   },
   "file_extension": ".py",
   "mimetype": "text/x-python",
   "name": "python",
   "nbconvert_exporter": "python",
   "pygments_lexer": "ipython3",
   "version": "3.9.6"
  }
 },
 "nbformat": 4,
 "nbformat_minor": 2
}
